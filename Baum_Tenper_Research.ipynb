{
  "cells": [
    {
      "cell_type": "markdown",
      "metadata": {
        "id": "view-in-github",
        "colab_type": "text"
      },
      "source": [
        "<a href=\"https://colab.research.google.com/github/Eminent01/Baum-Tenpers-Research/blob/main/Baum_Tenper_Research.ipynb\" target=\"_parent\"><img src=\"https://colab.research.google.com/assets/colab-badge.svg\" alt=\"Open In Colab\"/></a>"
      ]
    },
    {
      "cell_type": "markdown",
      "metadata": {
        "id": "3wQo_R6YTbNf"
      },
      "source": [
        "These colab notebook is for the algorithm implimentation of the GARCH Neural network, Linear,LASSO, Ridge and Elastic net regression"
      ]
    },
    {
      "cell_type": "markdown",
      "metadata": {
        "id": "lp1-fUsXT8SP"
      },
      "source": [
        "Let's first call out all the required package for the algorithm"
      ]
    },
    {
      "cell_type": "code",
      "source": [
        "from google.colab import drive\n",
        "drive.mount('/content/drive')"
      ],
      "metadata": {
        "id": "LnPLHeIlFAw3",
        "colab": {
          "base_uri": "https://localhost:8080/"
        },
        "outputId": "05da21b2-b1c3-45a6-9b1d-b80b7f79cf72"
      },
      "execution_count": null,
      "outputs": [
        {
          "output_type": "stream",
          "name": "stdout",
          "text": [
            "Mounted at /content/drive\n"
          ]
        }
      ]
    },
    {
      "cell_type": "code",
      "execution_count": null,
      "metadata": {
        "id": "l4XBKtwzUHEA"
      },
      "outputs": [],
      "source": [
        "#Importing neccesary libraries\n",
        "import pandas as pd\n",
        "import matplotlib.pyplot as plt\n",
        "import seaborn as sns\n",
        "import numpy as np\n",
        "import datetime as date\n",
        "from sklearn.linear_model import LinearRegression"
      ]
    },
    {
      "cell_type": "markdown",
      "metadata": {
        "id": "B4mX6xyVdM1_"
      },
      "source": [
        "Importing the Data set from the local Drive"
      ]
    },
    {
      "cell_type": "code",
      "source": [
        "# data = pd.read_csv(\"/content/NSE 30 Historical Data.csv\" , thousands =',')"
      ],
      "metadata": {
        "id": "GotRD2wNGunr"
      },
      "execution_count": null,
      "outputs": []
    },
    {
      "cell_type": "code",
      "source": [
        "# data = pd.read_csv(\"/content/NSE All Share Historical Data.csv\" , thousands =',')"
      ],
      "metadata": {
        "id": "DPK23gr5MsdL"
      },
      "execution_count": null,
      "outputs": []
    },
    {
      "cell_type": "code",
      "source": [
        "#Import the dataset for the analysis \n",
        "# data = pd.read_csv(\"/content/drive/MyDrive/NSE 30 Historical Data.csv\" , thousands =',')"
      ],
      "metadata": {
        "id": "MoT-miUjFVKN"
      },
      "execution_count": null,
      "outputs": []
    },
    {
      "cell_type": "code",
      "execution_count": null,
      "metadata": {
        "id": "NZNOPF2yHJlP"
      },
      "outputs": [],
      "source": [
        "# # # Import the dataset for the analysis \n",
        "data = pd.read_csv(\"/content/drive/MyDrive/NSE All Share Historical Data.csv\" , thousands =',')"
      ]
    },
    {
      "cell_type": "code",
      "execution_count": null,
      "metadata": {
        "id": "t_yOeVQlc9vQ"
      },
      "outputs": [],
      "source": [
        "# Data engineering \n",
        "data['Vol.'] = data['Vol.'].str.replace('M', \"\")\n",
        "data['Change %'] = data['Change %'].str.replace('%', \"\")\n",
        "data['Date'] = pd.to_datetime(data['Date'])"
      ]
    },
    {
      "cell_type": "code",
      "execution_count": null,
      "metadata": {
        "id": "hHc2VCy7fDxG"
      },
      "outputs": [],
      "source": [
        "data['Vol.'] = pd.to_numeric(data['Vol.'], errors ='coerce')\n",
        "data['Change %'] = pd.to_numeric(data['Change %'], errors ='coerce')"
      ]
    },
    {
      "cell_type": "code",
      "execution_count": null,
      "metadata": {
        "colab": {
          "base_uri": "https://localhost:8080/"
        },
        "id": "JNRUi_wrH0Fu",
        "outputId": "e16586f6-189a-49cd-c7b9-926db8d97c2c"
      },
      "outputs": [
        {
          "output_type": "execute_result",
          "data": {
            "text/plain": [
              "(2457, 7)"
            ]
          },
          "metadata": {},
          "execution_count": 65
        }
      ],
      "source": [
        "#Checking the dimension of the dataset\n",
        "data.shape"
      ]
    },
    {
      "cell_type": "code",
      "execution_count": null,
      "metadata": {
        "colab": {
          "base_uri": "https://localhost:8080/",
          "height": 201
        },
        "id": "tZhjsxphIV5t",
        "outputId": "715a095a-aee6-4ea8-fd72-c356f175be8a"
      },
      "outputs": [
        {
          "output_type": "execute_result",
          "data": {
            "text/plain": [
              "        Date    Price     Open     High      Low    Vol.  Change %\n",
              "0 2021-12-31  1722.30  1677.94  1723.30  1675.71  268.50      2.67\n",
              "1 2021-12-30  1677.48  1677.67  1678.33  1674.86  123.11     -0.01\n",
              "2 2021-12-29  1677.67  1700.61  1702.19  1674.41   75.89     -1.35\n",
              "3 2021-12-24  1700.61  1699.87  1700.99  1698.59   63.63      0.13\n",
              "4 2021-12-23  1698.44  1699.38  1700.27  1697.25   63.39     -0.06"
            ],
            "text/html": [
              "\n",
              "  <div id=\"df-bc6c767f-3159-41d1-804f-3995fa4316e1\">\n",
              "    <div class=\"colab-df-container\">\n",
              "      <div>\n",
              "<style scoped>\n",
              "    .dataframe tbody tr th:only-of-type {\n",
              "        vertical-align: middle;\n",
              "    }\n",
              "\n",
              "    .dataframe tbody tr th {\n",
              "        vertical-align: top;\n",
              "    }\n",
              "\n",
              "    .dataframe thead th {\n",
              "        text-align: right;\n",
              "    }\n",
              "</style>\n",
              "<table border=\"1\" class=\"dataframe\">\n",
              "  <thead>\n",
              "    <tr style=\"text-align: right;\">\n",
              "      <th></th>\n",
              "      <th>Date</th>\n",
              "      <th>Price</th>\n",
              "      <th>Open</th>\n",
              "      <th>High</th>\n",
              "      <th>Low</th>\n",
              "      <th>Vol.</th>\n",
              "      <th>Change %</th>\n",
              "    </tr>\n",
              "  </thead>\n",
              "  <tbody>\n",
              "    <tr>\n",
              "      <th>0</th>\n",
              "      <td>2021-12-31</td>\n",
              "      <td>1722.30</td>\n",
              "      <td>1677.94</td>\n",
              "      <td>1723.30</td>\n",
              "      <td>1675.71</td>\n",
              "      <td>268.50</td>\n",
              "      <td>2.67</td>\n",
              "    </tr>\n",
              "    <tr>\n",
              "      <th>1</th>\n",
              "      <td>2021-12-30</td>\n",
              "      <td>1677.48</td>\n",
              "      <td>1677.67</td>\n",
              "      <td>1678.33</td>\n",
              "      <td>1674.86</td>\n",
              "      <td>123.11</td>\n",
              "      <td>-0.01</td>\n",
              "    </tr>\n",
              "    <tr>\n",
              "      <th>2</th>\n",
              "      <td>2021-12-29</td>\n",
              "      <td>1677.67</td>\n",
              "      <td>1700.61</td>\n",
              "      <td>1702.19</td>\n",
              "      <td>1674.41</td>\n",
              "      <td>75.89</td>\n",
              "      <td>-1.35</td>\n",
              "    </tr>\n",
              "    <tr>\n",
              "      <th>3</th>\n",
              "      <td>2021-12-24</td>\n",
              "      <td>1700.61</td>\n",
              "      <td>1699.87</td>\n",
              "      <td>1700.99</td>\n",
              "      <td>1698.59</td>\n",
              "      <td>63.63</td>\n",
              "      <td>0.13</td>\n",
              "    </tr>\n",
              "    <tr>\n",
              "      <th>4</th>\n",
              "      <td>2021-12-23</td>\n",
              "      <td>1698.44</td>\n",
              "      <td>1699.38</td>\n",
              "      <td>1700.27</td>\n",
              "      <td>1697.25</td>\n",
              "      <td>63.39</td>\n",
              "      <td>-0.06</td>\n",
              "    </tr>\n",
              "  </tbody>\n",
              "</table>\n",
              "</div>\n",
              "      <button class=\"colab-df-convert\" onclick=\"convertToInteractive('df-bc6c767f-3159-41d1-804f-3995fa4316e1')\"\n",
              "              title=\"Convert this dataframe to an interactive table.\"\n",
              "              style=\"display:none;\">\n",
              "        \n",
              "  <svg xmlns=\"http://www.w3.org/2000/svg\" height=\"24px\"viewBox=\"0 0 24 24\"\n",
              "       width=\"24px\">\n",
              "    <path d=\"M0 0h24v24H0V0z\" fill=\"none\"/>\n",
              "    <path d=\"M18.56 5.44l.94 2.06.94-2.06 2.06-.94-2.06-.94-.94-2.06-.94 2.06-2.06.94zm-11 1L8.5 8.5l.94-2.06 2.06-.94-2.06-.94L8.5 2.5l-.94 2.06-2.06.94zm10 10l.94 2.06.94-2.06 2.06-.94-2.06-.94-.94-2.06-.94 2.06-2.06.94z\"/><path d=\"M17.41 7.96l-1.37-1.37c-.4-.4-.92-.59-1.43-.59-.52 0-1.04.2-1.43.59L10.3 9.45l-7.72 7.72c-.78.78-.78 2.05 0 2.83L4 21.41c.39.39.9.59 1.41.59.51 0 1.02-.2 1.41-.59l7.78-7.78 2.81-2.81c.8-.78.8-2.07 0-2.86zM5.41 20L4 18.59l7.72-7.72 1.47 1.35L5.41 20z\"/>\n",
              "  </svg>\n",
              "      </button>\n",
              "      \n",
              "  <style>\n",
              "    .colab-df-container {\n",
              "      display:flex;\n",
              "      flex-wrap:wrap;\n",
              "      gap: 12px;\n",
              "    }\n",
              "\n",
              "    .colab-df-convert {\n",
              "      background-color: #E8F0FE;\n",
              "      border: none;\n",
              "      border-radius: 50%;\n",
              "      cursor: pointer;\n",
              "      display: none;\n",
              "      fill: #1967D2;\n",
              "      height: 32px;\n",
              "      padding: 0 0 0 0;\n",
              "      width: 32px;\n",
              "    }\n",
              "\n",
              "    .colab-df-convert:hover {\n",
              "      background-color: #E2EBFA;\n",
              "      box-shadow: 0px 1px 2px rgba(60, 64, 67, 0.3), 0px 1px 3px 1px rgba(60, 64, 67, 0.15);\n",
              "      fill: #174EA6;\n",
              "    }\n",
              "\n",
              "    [theme=dark] .colab-df-convert {\n",
              "      background-color: #3B4455;\n",
              "      fill: #D2E3FC;\n",
              "    }\n",
              "\n",
              "    [theme=dark] .colab-df-convert:hover {\n",
              "      background-color: #434B5C;\n",
              "      box-shadow: 0px 1px 3px 1px rgba(0, 0, 0, 0.15);\n",
              "      filter: drop-shadow(0px 1px 2px rgba(0, 0, 0, 0.3));\n",
              "      fill: #FFFFFF;\n",
              "    }\n",
              "  </style>\n",
              "\n",
              "      <script>\n",
              "        const buttonEl =\n",
              "          document.querySelector('#df-bc6c767f-3159-41d1-804f-3995fa4316e1 button.colab-df-convert');\n",
              "        buttonEl.style.display =\n",
              "          google.colab.kernel.accessAllowed ? 'block' : 'none';\n",
              "\n",
              "        async function convertToInteractive(key) {\n",
              "          const element = document.querySelector('#df-bc6c767f-3159-41d1-804f-3995fa4316e1');\n",
              "          const dataTable =\n",
              "            await google.colab.kernel.invokeFunction('convertToInteractive',\n",
              "                                                     [key], {});\n",
              "          if (!dataTable) return;\n",
              "\n",
              "          const docLinkHtml = 'Like what you see? Visit the ' +\n",
              "            '<a target=\"_blank\" href=https://colab.research.google.com/notebooks/data_table.ipynb>data table notebook</a>'\n",
              "            + ' to learn more about interactive tables.';\n",
              "          element.innerHTML = '';\n",
              "          dataTable['output_type'] = 'display_data';\n",
              "          await google.colab.output.renderOutput(dataTable, element);\n",
              "          const docLink = document.createElement('div');\n",
              "          docLink.innerHTML = docLinkHtml;\n",
              "          element.appendChild(docLink);\n",
              "        }\n",
              "      </script>\n",
              "    </div>\n",
              "  </div>\n",
              "  "
            ]
          },
          "metadata": {},
          "execution_count": 66
        }
      ],
      "source": [
        "#Printing the first 5 rows of the dataset \n",
        "data.head(5)"
      ]
    },
    {
      "cell_type": "code",
      "source": [
        "#Summary statistics of the data\n",
        "data.describe()"
      ],
      "metadata": {
        "colab": {
          "base_uri": "https://localhost:8080/",
          "height": 291
        },
        "id": "W-GWsgsgs8DV",
        "outputId": "8035ca88-dc14-43e3-82de-d1a8c8384b52"
      },
      "execution_count": null,
      "outputs": [
        {
          "output_type": "execute_result",
          "data": {
            "text/plain": [
              "             Price         Open         High          Low         Vol.  \\\n",
              "count  2457.000000  2457.000000  2457.000000  2457.000000  1156.000000   \n",
              "mean   1432.597570  1432.248433  1439.576675  1424.337566   193.019464   \n",
              "std     285.008179   285.073439   286.068201   283.587090   124.748674   \n",
              "min     871.260000   871.960000   884.640000   870.340000    38.030000   \n",
              "25%    1178.550000  1178.020000  1184.190000  1172.850000   109.785000   \n",
              "50%    1424.600000  1421.800000  1433.640000  1415.660000   159.710000   \n",
              "75%    1683.720000  1682.940000  1689.430000  1675.440000   238.182500   \n",
              "max    2062.610000  2062.610000  2073.000000  2038.690000   970.690000   \n",
              "\n",
              "          Change %  \n",
              "count  2457.000000  \n",
              "mean      0.030077  \n",
              "std       1.031463  \n",
              "min      -5.540000  \n",
              "25%      -0.450000  \n",
              "50%      -0.010000  \n",
              "75%       0.480000  \n",
              "max       8.790000  "
            ],
            "text/html": [
              "\n",
              "  <div id=\"df-f667afa6-3d03-4679-82d6-a66923a3bffe\">\n",
              "    <div class=\"colab-df-container\">\n",
              "      <div>\n",
              "<style scoped>\n",
              "    .dataframe tbody tr th:only-of-type {\n",
              "        vertical-align: middle;\n",
              "    }\n",
              "\n",
              "    .dataframe tbody tr th {\n",
              "        vertical-align: top;\n",
              "    }\n",
              "\n",
              "    .dataframe thead th {\n",
              "        text-align: right;\n",
              "    }\n",
              "</style>\n",
              "<table border=\"1\" class=\"dataframe\">\n",
              "  <thead>\n",
              "    <tr style=\"text-align: right;\">\n",
              "      <th></th>\n",
              "      <th>Price</th>\n",
              "      <th>Open</th>\n",
              "      <th>High</th>\n",
              "      <th>Low</th>\n",
              "      <th>Vol.</th>\n",
              "      <th>Change %</th>\n",
              "    </tr>\n",
              "  </thead>\n",
              "  <tbody>\n",
              "    <tr>\n",
              "      <th>count</th>\n",
              "      <td>2457.000000</td>\n",
              "      <td>2457.000000</td>\n",
              "      <td>2457.000000</td>\n",
              "      <td>2457.000000</td>\n",
              "      <td>1156.000000</td>\n",
              "      <td>2457.000000</td>\n",
              "    </tr>\n",
              "    <tr>\n",
              "      <th>mean</th>\n",
              "      <td>1432.597570</td>\n",
              "      <td>1432.248433</td>\n",
              "      <td>1439.576675</td>\n",
              "      <td>1424.337566</td>\n",
              "      <td>193.019464</td>\n",
              "      <td>0.030077</td>\n",
              "    </tr>\n",
              "    <tr>\n",
              "      <th>std</th>\n",
              "      <td>285.008179</td>\n",
              "      <td>285.073439</td>\n",
              "      <td>286.068201</td>\n",
              "      <td>283.587090</td>\n",
              "      <td>124.748674</td>\n",
              "      <td>1.031463</td>\n",
              "    </tr>\n",
              "    <tr>\n",
              "      <th>min</th>\n",
              "      <td>871.260000</td>\n",
              "      <td>871.960000</td>\n",
              "      <td>884.640000</td>\n",
              "      <td>870.340000</td>\n",
              "      <td>38.030000</td>\n",
              "      <td>-5.540000</td>\n",
              "    </tr>\n",
              "    <tr>\n",
              "      <th>25%</th>\n",
              "      <td>1178.550000</td>\n",
              "      <td>1178.020000</td>\n",
              "      <td>1184.190000</td>\n",
              "      <td>1172.850000</td>\n",
              "      <td>109.785000</td>\n",
              "      <td>-0.450000</td>\n",
              "    </tr>\n",
              "    <tr>\n",
              "      <th>50%</th>\n",
              "      <td>1424.600000</td>\n",
              "      <td>1421.800000</td>\n",
              "      <td>1433.640000</td>\n",
              "      <td>1415.660000</td>\n",
              "      <td>159.710000</td>\n",
              "      <td>-0.010000</td>\n",
              "    </tr>\n",
              "    <tr>\n",
              "      <th>75%</th>\n",
              "      <td>1683.720000</td>\n",
              "      <td>1682.940000</td>\n",
              "      <td>1689.430000</td>\n",
              "      <td>1675.440000</td>\n",
              "      <td>238.182500</td>\n",
              "      <td>0.480000</td>\n",
              "    </tr>\n",
              "    <tr>\n",
              "      <th>max</th>\n",
              "      <td>2062.610000</td>\n",
              "      <td>2062.610000</td>\n",
              "      <td>2073.000000</td>\n",
              "      <td>2038.690000</td>\n",
              "      <td>970.690000</td>\n",
              "      <td>8.790000</td>\n",
              "    </tr>\n",
              "  </tbody>\n",
              "</table>\n",
              "</div>\n",
              "      <button class=\"colab-df-convert\" onclick=\"convertToInteractive('df-f667afa6-3d03-4679-82d6-a66923a3bffe')\"\n",
              "              title=\"Convert this dataframe to an interactive table.\"\n",
              "              style=\"display:none;\">\n",
              "        \n",
              "  <svg xmlns=\"http://www.w3.org/2000/svg\" height=\"24px\"viewBox=\"0 0 24 24\"\n",
              "       width=\"24px\">\n",
              "    <path d=\"M0 0h24v24H0V0z\" fill=\"none\"/>\n",
              "    <path d=\"M18.56 5.44l.94 2.06.94-2.06 2.06-.94-2.06-.94-.94-2.06-.94 2.06-2.06.94zm-11 1L8.5 8.5l.94-2.06 2.06-.94-2.06-.94L8.5 2.5l-.94 2.06-2.06.94zm10 10l.94 2.06.94-2.06 2.06-.94-2.06-.94-.94-2.06-.94 2.06-2.06.94z\"/><path d=\"M17.41 7.96l-1.37-1.37c-.4-.4-.92-.59-1.43-.59-.52 0-1.04.2-1.43.59L10.3 9.45l-7.72 7.72c-.78.78-.78 2.05 0 2.83L4 21.41c.39.39.9.59 1.41.59.51 0 1.02-.2 1.41-.59l7.78-7.78 2.81-2.81c.8-.78.8-2.07 0-2.86zM5.41 20L4 18.59l7.72-7.72 1.47 1.35L5.41 20z\"/>\n",
              "  </svg>\n",
              "      </button>\n",
              "      \n",
              "  <style>\n",
              "    .colab-df-container {\n",
              "      display:flex;\n",
              "      flex-wrap:wrap;\n",
              "      gap: 12px;\n",
              "    }\n",
              "\n",
              "    .colab-df-convert {\n",
              "      background-color: #E8F0FE;\n",
              "      border: none;\n",
              "      border-radius: 50%;\n",
              "      cursor: pointer;\n",
              "      display: none;\n",
              "      fill: #1967D2;\n",
              "      height: 32px;\n",
              "      padding: 0 0 0 0;\n",
              "      width: 32px;\n",
              "    }\n",
              "\n",
              "    .colab-df-convert:hover {\n",
              "      background-color: #E2EBFA;\n",
              "      box-shadow: 0px 1px 2px rgba(60, 64, 67, 0.3), 0px 1px 3px 1px rgba(60, 64, 67, 0.15);\n",
              "      fill: #174EA6;\n",
              "    }\n",
              "\n",
              "    [theme=dark] .colab-df-convert {\n",
              "      background-color: #3B4455;\n",
              "      fill: #D2E3FC;\n",
              "    }\n",
              "\n",
              "    [theme=dark] .colab-df-convert:hover {\n",
              "      background-color: #434B5C;\n",
              "      box-shadow: 0px 1px 3px 1px rgba(0, 0, 0, 0.15);\n",
              "      filter: drop-shadow(0px 1px 2px rgba(0, 0, 0, 0.3));\n",
              "      fill: #FFFFFF;\n",
              "    }\n",
              "  </style>\n",
              "\n",
              "      <script>\n",
              "        const buttonEl =\n",
              "          document.querySelector('#df-f667afa6-3d03-4679-82d6-a66923a3bffe button.colab-df-convert');\n",
              "        buttonEl.style.display =\n",
              "          google.colab.kernel.accessAllowed ? 'block' : 'none';\n",
              "\n",
              "        async function convertToInteractive(key) {\n",
              "          const element = document.querySelector('#df-f667afa6-3d03-4679-82d6-a66923a3bffe');\n",
              "          const dataTable =\n",
              "            await google.colab.kernel.invokeFunction('convertToInteractive',\n",
              "                                                     [key], {});\n",
              "          if (!dataTable) return;\n",
              "\n",
              "          const docLinkHtml = 'Like what you see? Visit the ' +\n",
              "            '<a target=\"_blank\" href=https://colab.research.google.com/notebooks/data_table.ipynb>data table notebook</a>'\n",
              "            + ' to learn more about interactive tables.';\n",
              "          element.innerHTML = '';\n",
              "          dataTable['output_type'] = 'display_data';\n",
              "          await google.colab.output.renderOutput(dataTable, element);\n",
              "          const docLink = document.createElement('div');\n",
              "          docLink.innerHTML = docLinkHtml;\n",
              "          element.appendChild(docLink);\n",
              "        }\n",
              "      </script>\n",
              "    </div>\n",
              "  </div>\n",
              "  "
            ]
          },
          "metadata": {},
          "execution_count": 69
        }
      ]
    },
    {
      "cell_type": "markdown",
      "source": [
        "##Exploratory Data Analysis"
      ],
      "metadata": {
        "id": "MzdGHR-Bp6TR"
      }
    },
    {
      "cell_type": "code",
      "execution_count": null,
      "metadata": {
        "colab": {
          "base_uri": "https://localhost:8080/",
          "height": 231
        },
        "id": "qaQUb9m3Im4L",
        "outputId": "ab66c19d-c32f-455a-d5a4-d0e65a5e6aba"
      },
      "outputs": [
        {
          "output_type": "execute_result",
          "data": {
            "text/plain": [
              "             Price      Open      High       Low      Vol.  Change %\n",
              "Price     1.000000  0.998730  0.999504  0.999393  0.145302  0.012553\n",
              "Open      0.998730  1.000000  0.999403  0.999381  0.135238 -0.036340\n",
              "High      0.999504  0.999403  1.000000  0.999155  0.149434 -0.009854\n",
              "Low       0.999393  0.999381  0.999155  1.000000  0.131777 -0.011766\n",
              "Vol.      0.145302  0.135238  0.149434  0.131777  1.000000  0.200179\n",
              "Change %  0.012553 -0.036340 -0.009854 -0.011766  0.200179  1.000000"
            ],
            "text/html": [
              "\n",
              "  <div id=\"df-fcde8105-3290-45d2-ab16-76decb388e23\">\n",
              "    <div class=\"colab-df-container\">\n",
              "      <div>\n",
              "<style scoped>\n",
              "    .dataframe tbody tr th:only-of-type {\n",
              "        vertical-align: middle;\n",
              "    }\n",
              "\n",
              "    .dataframe tbody tr th {\n",
              "        vertical-align: top;\n",
              "    }\n",
              "\n",
              "    .dataframe thead th {\n",
              "        text-align: right;\n",
              "    }\n",
              "</style>\n",
              "<table border=\"1\" class=\"dataframe\">\n",
              "  <thead>\n",
              "    <tr style=\"text-align: right;\">\n",
              "      <th></th>\n",
              "      <th>Price</th>\n",
              "      <th>Open</th>\n",
              "      <th>High</th>\n",
              "      <th>Low</th>\n",
              "      <th>Vol.</th>\n",
              "      <th>Change %</th>\n",
              "    </tr>\n",
              "  </thead>\n",
              "  <tbody>\n",
              "    <tr>\n",
              "      <th>Price</th>\n",
              "      <td>1.000000</td>\n",
              "      <td>0.998730</td>\n",
              "      <td>0.999504</td>\n",
              "      <td>0.999393</td>\n",
              "      <td>0.145302</td>\n",
              "      <td>0.012553</td>\n",
              "    </tr>\n",
              "    <tr>\n",
              "      <th>Open</th>\n",
              "      <td>0.998730</td>\n",
              "      <td>1.000000</td>\n",
              "      <td>0.999403</td>\n",
              "      <td>0.999381</td>\n",
              "      <td>0.135238</td>\n",
              "      <td>-0.036340</td>\n",
              "    </tr>\n",
              "    <tr>\n",
              "      <th>High</th>\n",
              "      <td>0.999504</td>\n",
              "      <td>0.999403</td>\n",
              "      <td>1.000000</td>\n",
              "      <td>0.999155</td>\n",
              "      <td>0.149434</td>\n",
              "      <td>-0.009854</td>\n",
              "    </tr>\n",
              "    <tr>\n",
              "      <th>Low</th>\n",
              "      <td>0.999393</td>\n",
              "      <td>0.999381</td>\n",
              "      <td>0.999155</td>\n",
              "      <td>1.000000</td>\n",
              "      <td>0.131777</td>\n",
              "      <td>-0.011766</td>\n",
              "    </tr>\n",
              "    <tr>\n",
              "      <th>Vol.</th>\n",
              "      <td>0.145302</td>\n",
              "      <td>0.135238</td>\n",
              "      <td>0.149434</td>\n",
              "      <td>0.131777</td>\n",
              "      <td>1.000000</td>\n",
              "      <td>0.200179</td>\n",
              "    </tr>\n",
              "    <tr>\n",
              "      <th>Change %</th>\n",
              "      <td>0.012553</td>\n",
              "      <td>-0.036340</td>\n",
              "      <td>-0.009854</td>\n",
              "      <td>-0.011766</td>\n",
              "      <td>0.200179</td>\n",
              "      <td>1.000000</td>\n",
              "    </tr>\n",
              "  </tbody>\n",
              "</table>\n",
              "</div>\n",
              "      <button class=\"colab-df-convert\" onclick=\"convertToInteractive('df-fcde8105-3290-45d2-ab16-76decb388e23')\"\n",
              "              title=\"Convert this dataframe to an interactive table.\"\n",
              "              style=\"display:none;\">\n",
              "        \n",
              "  <svg xmlns=\"http://www.w3.org/2000/svg\" height=\"24px\"viewBox=\"0 0 24 24\"\n",
              "       width=\"24px\">\n",
              "    <path d=\"M0 0h24v24H0V0z\" fill=\"none\"/>\n",
              "    <path d=\"M18.56 5.44l.94 2.06.94-2.06 2.06-.94-2.06-.94-.94-2.06-.94 2.06-2.06.94zm-11 1L8.5 8.5l.94-2.06 2.06-.94-2.06-.94L8.5 2.5l-.94 2.06-2.06.94zm10 10l.94 2.06.94-2.06 2.06-.94-2.06-.94-.94-2.06-.94 2.06-2.06.94z\"/><path d=\"M17.41 7.96l-1.37-1.37c-.4-.4-.92-.59-1.43-.59-.52 0-1.04.2-1.43.59L10.3 9.45l-7.72 7.72c-.78.78-.78 2.05 0 2.83L4 21.41c.39.39.9.59 1.41.59.51 0 1.02-.2 1.41-.59l7.78-7.78 2.81-2.81c.8-.78.8-2.07 0-2.86zM5.41 20L4 18.59l7.72-7.72 1.47 1.35L5.41 20z\"/>\n",
              "  </svg>\n",
              "      </button>\n",
              "      \n",
              "  <style>\n",
              "    .colab-df-container {\n",
              "      display:flex;\n",
              "      flex-wrap:wrap;\n",
              "      gap: 12px;\n",
              "    }\n",
              "\n",
              "    .colab-df-convert {\n",
              "      background-color: #E8F0FE;\n",
              "      border: none;\n",
              "      border-radius: 50%;\n",
              "      cursor: pointer;\n",
              "      display: none;\n",
              "      fill: #1967D2;\n",
              "      height: 32px;\n",
              "      padding: 0 0 0 0;\n",
              "      width: 32px;\n",
              "    }\n",
              "\n",
              "    .colab-df-convert:hover {\n",
              "      background-color: #E2EBFA;\n",
              "      box-shadow: 0px 1px 2px rgba(60, 64, 67, 0.3), 0px 1px 3px 1px rgba(60, 64, 67, 0.15);\n",
              "      fill: #174EA6;\n",
              "    }\n",
              "\n",
              "    [theme=dark] .colab-df-convert {\n",
              "      background-color: #3B4455;\n",
              "      fill: #D2E3FC;\n",
              "    }\n",
              "\n",
              "    [theme=dark] .colab-df-convert:hover {\n",
              "      background-color: #434B5C;\n",
              "      box-shadow: 0px 1px 3px 1px rgba(0, 0, 0, 0.15);\n",
              "      filter: drop-shadow(0px 1px 2px rgba(0, 0, 0, 0.3));\n",
              "      fill: #FFFFFF;\n",
              "    }\n",
              "  </style>\n",
              "\n",
              "      <script>\n",
              "        const buttonEl =\n",
              "          document.querySelector('#df-fcde8105-3290-45d2-ab16-76decb388e23 button.colab-df-convert');\n",
              "        buttonEl.style.display =\n",
              "          google.colab.kernel.accessAllowed ? 'block' : 'none';\n",
              "\n",
              "        async function convertToInteractive(key) {\n",
              "          const element = document.querySelector('#df-fcde8105-3290-45d2-ab16-76decb388e23');\n",
              "          const dataTable =\n",
              "            await google.colab.kernel.invokeFunction('convertToInteractive',\n",
              "                                                     [key], {});\n",
              "          if (!dataTable) return;\n",
              "\n",
              "          const docLinkHtml = 'Like what you see? Visit the ' +\n",
              "            '<a target=\"_blank\" href=https://colab.research.google.com/notebooks/data_table.ipynb>data table notebook</a>'\n",
              "            + ' to learn more about interactive tables.';\n",
              "          element.innerHTML = '';\n",
              "          dataTable['output_type'] = 'display_data';\n",
              "          await google.colab.output.renderOutput(dataTable, element);\n",
              "          const docLink = document.createElement('div');\n",
              "          docLink.innerHTML = docLinkHtml;\n",
              "          element.appendChild(docLink);\n",
              "        }\n",
              "      </script>\n",
              "    </div>\n",
              "  </div>\n",
              "  "
            ]
          },
          "metadata": {},
          "execution_count": 70
        }
      ],
      "source": [
        "#Correlation of the variables to check the importance of all the variables with thenprice variable\n",
        "data.corr()"
      ]
    },
    {
      "cell_type": "code",
      "execution_count": null,
      "metadata": {
        "colab": {
          "base_uri": "https://localhost:8080/",
          "height": 269
        },
        "id": "oqdAoSwCKULB",
        "outputId": "45a681a8-745f-42cb-c422-712b9f7862f6"
      },
      "outputs": [
        {
          "output_type": "display_data",
          "data": {
            "text/plain": [
              "<Figure size 432x288 with 2 Axes>"
            ],
            "image/png": "[encoded data removed]"
          },
          "metadata": {
            "needs_background": "light"
          }
        }
      ],
      "source": [
        "#Heatmap plot \n",
        "corrmap=sns.heatmap(data.corr())"
      ]
    },
    {
      "cell_type": "code",
      "execution_count": null,
      "metadata": {
        "colab": {
          "base_uri": "https://localhost:8080/",
          "height": 32
        },
        "id": "Li2R-nGLN99S",
        "outputId": "98939b63-57ce-4564-e92f-907592c165c8"
      },
      "outputs": [
        {
          "output_type": "display_data",
          "data": {
            "text/plain": [
              "<Figure size 432x288 with 0 Axes>"
            ]
          },
          "metadata": {}
        }
      ],
      "source": [
        "## Saving the heatmap plot\n",
        "plt.savefig('corrmap.jpeg')"
      ]
    },
    {
      "cell_type": "code",
      "execution_count": null,
      "metadata": {
        "colab": {
          "base_uri": "https://localhost:8080/"
        },
        "id": "jHnwvZmIgpdk",
        "outputId": "ad6e1aaf-e498-4c72-ced3-384304100414"
      },
      "outputs": [
        {
          "output_type": "stream",
          "name": "stdout",
          "text": [
            "<class 'pandas.core.frame.DataFrame'>\n",
            "RangeIndex: 2457 entries, 0 to 2456\n",
            "Data columns (total 7 columns):\n",
            " #   Column    Non-Null Count  Dtype         \n",
            "---  ------    --------------  -----         \n",
            " 0   Date      2457 non-null   datetime64[ns]\n",
            " 1   Price     2457 non-null   float64       \n",
            " 2   Open      2457 non-null   float64       \n",
            " 3   High      2457 non-null   float64       \n",
            " 4   Low       2457 non-null   float64       \n",
            " 5   Vol.      1156 non-null   float64       \n",
            " 6   Change %  2457 non-null   float64       \n",
            "dtypes: datetime64[ns](1), float64(6)\n",
            "memory usage: 134.5 KB\n"
          ]
        }
      ],
      "source": [
        "#Data information\n",
        "data.info()"
      ]
    },
    {
      "cell_type": "markdown",
      "source": [
        "#Histogram for the price"
      ],
      "metadata": {
        "id": "W3rYtpOCqG2i"
      }
    },
    {
      "cell_type": "code",
      "execution_count": null,
      "metadata": {
        "colab": {
          "base_uri": "https://localhost:8080/",
          "height": 330
        },
        "id": "OCQGBQmf5SvH",
        "outputId": "f9406c79-10e7-4d90-d667-94b2bd9e62e2"
      },
      "outputs": [
        {
          "output_type": "execute_result",
          "data": {
            "text/plain": [
              "(array([111., 286., 346., 317., 254., 258., 362., 294., 187.,  42.]),\n",
              " array([ 871.26 ,  990.395, 1109.53 , 1228.665, 1347.8  , 1466.935,\n",
              "        1586.07 , 1705.205, 1824.34 , 1943.475, 2062.61 ]),\n",
              " <a list of 10 Patch objects>)"
            ]
          },
          "metadata": {},
          "execution_count": 71
        },
        {
          "output_type": "display_data",
          "data": {
            "text/plain": [
              "<Figure size 432x288 with 1 Axes>"
            ],
            "image/png": "[encoded data removed]"
          },
          "metadata": {
            "needs_background": "light"
          }
        }
      ],
      "source": [
        "plt.hist(data['Price'])"
      ]
    },
    {
      "cell_type": "markdown",
      "source": [
        "#Stock price series plot"
      ],
      "metadata": {
        "id": "DM5x87Acqxxa"
      }
    },
    {
      "cell_type": "markdown",
      "source": [
        "###Data Visualization"
      ],
      "metadata": {
        "id": "xoRHn_8w8Zfd"
      }
    },
    {
      "cell_type": "code",
      "source": [
        "plt.plot(data['Date'], data[\"Price\"])\n",
        "plt.xlabel(\" Year \")\n",
        "plt.ylabel(\"Stock Price\")"
      ],
      "metadata": {
        "colab": {
          "base_uri": "https://localhost:8080/",
          "height": 295
        },
        "id": "FAu9TjC8v342",
        "outputId": "724b6744-b2dd-4c39-8de0-f0c05b619263"
      },
      "execution_count": null,
      "outputs": [
        {
          "output_type": "execute_result",
          "data": {
            "text/plain": [
              "Text(0, 0.5, 'Stock Price')"
            ]
          },
          "metadata": {},
          "execution_count": 72
        },
        {
          "output_type": "display_data",
          "data": {
            "text/plain": [
              "<Figure size 432x288 with 1 Axes>"
            ],
            "image/png": "[encoded data removed]"
          },
          "metadata": {
            "needs_background": "light"
          }
        }
      ]
    },
    {
      "cell_type": "code",
      "source": [
        "sns.distplot(data['Price'])"
      ],
      "metadata": {
        "colab": {
          "base_uri": "https://localhost:8080/",
          "height": 351
        },
        "id": "anCKWyZn_yoH",
        "outputId": "4c4bc340-ef7c-4290-f45b-884d5c8d3ca8"
      },
      "execution_count": null,
      "outputs": [
        {
          "output_type": "stream",
          "name": "stderr",
          "text": [
            "/usr/local/lib/python3.7/dist-packages/seaborn/distributions.py:2619: FutureWarning: `distplot` is a deprecated function and will be removed in a future version. Please adapt your code to use either `displot` (a figure-level function with similar flexibility) or `histplot` (an axes-level function for histograms).\n",
            "  warnings.warn(msg, FutureWarning)\n"
          ]
        },
        {
          "output_type": "execute_result",
          "data": {
            "text/plain": [
              "<matplotlib.axes._subplots.AxesSubplot at 0x7f547c610650>"
            ]
          },
          "metadata": {},
          "execution_count": 73
        },
        {
          "output_type": "display_data",
          "data": {
            "text/plain": [
              "<Figure size 432x288 with 1 Axes>"
            ],
            "image/png": "[encoded data removed]"
          },
          "metadata": {
            "needs_background": "light"
          }
        }
      ]
    },
    {
      "cell_type": "markdown",
      "source": [
        "#Price autocorrelation plot"
      ],
      "metadata": {
        "id": "h2xgA8Weq5Rt"
      }
    },
    {
      "cell_type": "code",
      "source": [
        "# create an autocorrelation plot\n",
        "from pandas.plotting import autocorrelation_plot\n",
        "\n",
        "autocorrelation_plot(data['Price'])"
      ],
      "metadata": {
        "colab": {
          "base_uri": "https://localhost:8080/",
          "height": 300
        },
        "id": "5MUwJI1NwIPw",
        "outputId": "5d6d53a9-d2e2-4cd6-8d5a-004e42fb7d4f"
      },
      "execution_count": null,
      "outputs": [
        {
          "output_type": "execute_result",
          "data": {
            "text/plain": [
              "<matplotlib.axes._subplots.AxesSubplot at 0x7f547ca96150>"
            ]
          },
          "metadata": {},
          "execution_count": 31
        },
        {
          "output_type": "display_data",
          "data": {
            "text/plain": [
              "<Figure size 432x288 with 1 Axes>"
            ],
            "image/png": "[encoded data removed]"
          },
          "metadata": {
            "needs_background": "light"
          }
        }
      ]
    },
    {
      "cell_type": "markdown",
      "metadata": {
        "id": "OMdDPMGj5OM6"
      },
      "source": [
        "#Transformation of the data"
      ]
    },
    {
      "cell_type": "code",
      "source": [
        ""
      ],
      "metadata": {
        "id": "FNtsWjdE4RLq"
      },
      "execution_count": null,
      "outputs": []
    },
    {
      "cell_type": "code",
      "execution_count": null,
      "metadata": {
        "id": "k8aOYXmuJ_5X"
      },
      "outputs": [],
      "source": [
        "# X = data.iloc[:, 2:7]\n",
        "# del X['Vol.']\n",
        "# #X del (labels = 'Vol.', axis =0)\n",
        "# y = data.iloc[:, 1]"
      ]
    },
    {
      "cell_type": "code",
      "source": [
        "# data = data.drop(['Date', 'Vol.'], axis= 1)"
      ],
      "metadata": {
        "id": "K4Mqt0lbrDT7"
      },
      "execution_count": null,
      "outputs": []
    },
    {
      "cell_type": "code",
      "source": [
        "# data2 = data[\"Price\"].pct_change().dropna()"
      ],
      "metadata": {
        "id": "NgKrr1AQqwS3"
      },
      "execution_count": null,
      "outputs": []
    },
    {
      "cell_type": "code",
      "execution_count": null,
      "metadata": {
        "id": "dcDR9LiA8bMW"
      },
      "outputs": [],
      "source": [
        "# def Logreturns(data):\n",
        "#   data.loc[: , \"Price\"] = np.log(data.Price) - np.log(data.Price.shift(1))\n",
        "#   return data"
      ]
    },
    {
      "cell_type": "code",
      "source": [
        "# np.log10(data['Price']/data['Price'].shift(1))"
      ],
      "metadata": {
        "id": "GZVnxTmQu-q6"
      },
      "execution_count": null,
      "outputs": []
    },
    {
      "cell_type": "code",
      "source": [
        "def Logreturns(data):\n",
        "  data['Price'] = np.log10(data['Price']/data['Price'].shift(1))\n",
        "  return data"
      ],
      "metadata": {
        "id": "OOBMWy9j9jUO"
      },
      "execution_count": null,
      "outputs": []
    },
    {
      "cell_type": "code",
      "source": [
        "data2=Logreturns(data)"
      ],
      "metadata": {
        "id": "qBoBXEuD_fkO"
      },
      "execution_count": null,
      "outputs": []
    },
    {
      "cell_type": "code",
      "source": [
        "data2.head(3)"
      ],
      "metadata": {
        "colab": {
          "base_uri": "https://localhost:8080/",
          "height": 140
        },
        "id": "sPpXsXmQmZRo",
        "outputId": "dc42516a-ac5e-41f3-cf06-afb37fe492c5"
      },
      "execution_count": null,
      "outputs": [
        {
          "output_type": "execute_result",
          "data": {
            "text/plain": [
              "        Date     Price     Open     High      Low    Vol.  Change %\n",
              "0 2021-12-31       NaN  1677.94  1723.30  1675.71  268.50      2.67\n",
              "1 2021-12-30 -0.011451  1677.67  1678.33  1674.86  123.11     -0.01\n",
              "2 2021-12-29  0.000049  1700.61  1702.19  1674.41   75.89     -1.35"
            ],
            "text/html": [
              "\n",
              "  <div id=\"df-9799ffc3-4931-41f7-91df-b197310aca39\">\n",
              "    <div class=\"colab-df-container\">\n",
              "      <div>\n",
              "<style scoped>\n",
              "    .dataframe tbody tr th:only-of-type {\n",
              "        vertical-align: middle;\n",
              "    }\n",
              "\n",
              "    .dataframe tbody tr th {\n",
              "        vertical-align: top;\n",
              "    }\n",
              "\n",
              "    .dataframe thead th {\n",
              "        text-align: right;\n",
              "    }\n",
              "</style>\n",
              "<table border=\"1\" class=\"dataframe\">\n",
              "  <thead>\n",
              "    <tr style=\"text-align: right;\">\n",
              "      <th></th>\n",
              "      <th>Date</th>\n",
              "      <th>Price</th>\n",
              "      <th>Open</th>\n",
              "      <th>High</th>\n",
              "      <th>Low</th>\n",
              "      <th>Vol.</th>\n",
              "      <th>Change %</th>\n",
              "    </tr>\n",
              "  </thead>\n",
              "  <tbody>\n",
              "    <tr>\n",
              "      <th>0</th>\n",
              "      <td>2021-12-31</td>\n",
              "      <td>NaN</td>\n",
              "      <td>1677.94</td>\n",
              "      <td>1723.30</td>\n",
              "      <td>1675.71</td>\n",
              "      <td>268.50</td>\n",
              "      <td>2.67</td>\n",
              "    </tr>\n",
              "    <tr>\n",
              "      <th>1</th>\n",
              "      <td>2021-12-30</td>\n",
              "      <td>-0.011451</td>\n",
              "      <td>1677.67</td>\n",
              "      <td>1678.33</td>\n",
              "      <td>1674.86</td>\n",
              "      <td>123.11</td>\n",
              "      <td>-0.01</td>\n",
              "    </tr>\n",
              "    <tr>\n",
              "      <th>2</th>\n",
              "      <td>2021-12-29</td>\n",
              "      <td>0.000049</td>\n",
              "      <td>1700.61</td>\n",
              "      <td>1702.19</td>\n",
              "      <td>1674.41</td>\n",
              "      <td>75.89</td>\n",
              "      <td>-1.35</td>\n",
              "    </tr>\n",
              "  </tbody>\n",
              "</table>\n",
              "</div>\n",
              "      <button class=\"colab-df-convert\" onclick=\"convertToInteractive('df-9799ffc3-4931-41f7-91df-b197310aca39')\"\n",
              "              title=\"Convert this dataframe to an interactive table.\"\n",
              "              style=\"display:none;\">\n",
              "        \n",
              "  <svg xmlns=\"http://www.w3.org/2000/svg\" height=\"24px\"viewBox=\"0 0 24 24\"\n",
              "       width=\"24px\">\n",
              "    <path d=\"M0 0h24v24H0V0z\" fill=\"none\"/>\n",
              "    <path d=\"M18.56 5.44l.94 2.06.94-2.06 2.06-.94-2.06-.94-.94-2.06-.94 2.06-2.06.94zm-11 1L8.5 8.5l.94-2.06 2.06-.94-2.06-.94L8.5 2.5l-.94 2.06-2.06.94zm10 10l.94 2.06.94-2.06 2.06-.94-2.06-.94-.94-2.06-.94 2.06-2.06.94z\"/><path d=\"M17.41 7.96l-1.37-1.37c-.4-.4-.92-.59-1.43-.59-.52 0-1.04.2-1.43.59L10.3 9.45l-7.72 7.72c-.78.78-.78 2.05 0 2.83L4 21.41c.39.39.9.59 1.41.59.51 0 1.02-.2 1.41-.59l7.78-7.78 2.81-2.81c.8-.78.8-2.07 0-2.86zM5.41 20L4 18.59l7.72-7.72 1.47 1.35L5.41 20z\"/>\n",
              "  </svg>\n",
              "      </button>\n",
              "      \n",
              "  <style>\n",
              "    .colab-df-container {\n",
              "      display:flex;\n",
              "      flex-wrap:wrap;\n",
              "      gap: 12px;\n",
              "    }\n",
              "\n",
              "    .colab-df-convert {\n",
              "      background-color: #E8F0FE;\n",
              "      border: none;\n",
              "      border-radius: 50%;\n",
              "      cursor: pointer;\n",
              "      display: none;\n",
              "      fill: #1967D2;\n",
              "      height: 32px;\n",
              "      padding: 0 0 0 0;\n",
              "      width: 32px;\n",
              "    }\n",
              "\n",
              "    .colab-df-convert:hover {\n",
              "      background-color: #E2EBFA;\n",
              "      box-shadow: 0px 1px 2px rgba(60, 64, 67, 0.3), 0px 1px 3px 1px rgba(60, 64, 67, 0.15);\n",
              "      fill: #174EA6;\n",
              "    }\n",
              "\n",
              "    [theme=dark] .colab-df-convert {\n",
              "      background-color: #3B4455;\n",
              "      fill: #D2E3FC;\n",
              "    }\n",
              "\n",
              "    [theme=dark] .colab-df-convert:hover {\n",
              "      background-color: #434B5C;\n",
              "      box-shadow: 0px 1px 3px 1px rgba(0, 0, 0, 0.15);\n",
              "      filter: drop-shadow(0px 1px 2px rgba(0, 0, 0, 0.3));\n",
              "      fill: #FFFFFF;\n",
              "    }\n",
              "  </style>\n",
              "\n",
              "      <script>\n",
              "        const buttonEl =\n",
              "          document.querySelector('#df-9799ffc3-4931-41f7-91df-b197310aca39 button.colab-df-convert');\n",
              "        buttonEl.style.display =\n",
              "          google.colab.kernel.accessAllowed ? 'block' : 'none';\n",
              "\n",
              "        async function convertToInteractive(key) {\n",
              "          const element = document.querySelector('#df-9799ffc3-4931-41f7-91df-b197310aca39');\n",
              "          const dataTable =\n",
              "            await google.colab.kernel.invokeFunction('convertToInteractive',\n",
              "                                                     [key], {});\n",
              "          if (!dataTable) return;\n",
              "\n",
              "          const docLinkHtml = 'Like what you see? Visit the ' +\n",
              "            '<a target=\"_blank\" href=https://colab.research.google.com/notebooks/data_table.ipynb>data table notebook</a>'\n",
              "            + ' to learn more about interactive tables.';\n",
              "          element.innerHTML = '';\n",
              "          dataTable['output_type'] = 'display_data';\n",
              "          await google.colab.output.renderOutput(dataTable, element);\n",
              "          const docLink = document.createElement('div');\n",
              "          docLink.innerHTML = docLinkHtml;\n",
              "          element.appendChild(docLink);\n",
              "        }\n",
              "      </script>\n",
              "    </div>\n",
              "  </div>\n",
              "  "
            ]
          },
          "metadata": {},
          "execution_count": 76
        }
      ]
    },
    {
      "cell_type": "code",
      "source": [
        "data.head(3)"
      ],
      "metadata": {
        "colab": {
          "base_uri": "https://localhost:8080/",
          "height": 140
        },
        "id": "urrFGyEZsPMh",
        "outputId": "aecab48b-6472-4b80-fbdd-30baef33e719"
      },
      "execution_count": null,
      "outputs": [
        {
          "output_type": "execute_result",
          "data": {
            "text/plain": [
              "        Date     Price     Open     High      Low    Vol.  Change %\n",
              "0 2021-12-31       NaN  1677.94  1723.30  1675.71  268.50      2.67\n",
              "1 2021-12-30 -0.011451  1677.67  1678.33  1674.86  123.11     -0.01\n",
              "2 2021-12-29  0.000049  1700.61  1702.19  1674.41   75.89     -1.35"
            ],
            "text/html": [
              "\n",
              "  <div id=\"df-602ca25b-0998-4a7e-ac90-5faebfb261ee\">\n",
              "    <div class=\"colab-df-container\">\n",
              "      <div>\n",
              "<style scoped>\n",
              "    .dataframe tbody tr th:only-of-type {\n",
              "        vertical-align: middle;\n",
              "    }\n",
              "\n",
              "    .dataframe tbody tr th {\n",
              "        vertical-align: top;\n",
              "    }\n",
              "\n",
              "    .dataframe thead th {\n",
              "        text-align: right;\n",
              "    }\n",
              "</style>\n",
              "<table border=\"1\" class=\"dataframe\">\n",
              "  <thead>\n",
              "    <tr style=\"text-align: right;\">\n",
              "      <th></th>\n",
              "      <th>Date</th>\n",
              "      <th>Price</th>\n",
              "      <th>Open</th>\n",
              "      <th>High</th>\n",
              "      <th>Low</th>\n",
              "      <th>Vol.</th>\n",
              "      <th>Change %</th>\n",
              "    </tr>\n",
              "  </thead>\n",
              "  <tbody>\n",
              "    <tr>\n",
              "      <th>0</th>\n",
              "      <td>2021-12-31</td>\n",
              "      <td>NaN</td>\n",
              "      <td>1677.94</td>\n",
              "      <td>1723.30</td>\n",
              "      <td>1675.71</td>\n",
              "      <td>268.50</td>\n",
              "      <td>2.67</td>\n",
              "    </tr>\n",
              "    <tr>\n",
              "      <th>1</th>\n",
              "      <td>2021-12-30</td>\n",
              "      <td>-0.011451</td>\n",
              "      <td>1677.67</td>\n",
              "      <td>1678.33</td>\n",
              "      <td>1674.86</td>\n",
              "      <td>123.11</td>\n",
              "      <td>-0.01</td>\n",
              "    </tr>\n",
              "    <tr>\n",
              "      <th>2</th>\n",
              "      <td>2021-12-29</td>\n",
              "      <td>0.000049</td>\n",
              "      <td>1700.61</td>\n",
              "      <td>1702.19</td>\n",
              "      <td>1674.41</td>\n",
              "      <td>75.89</td>\n",
              "      <td>-1.35</td>\n",
              "    </tr>\n",
              "  </tbody>\n",
              "</table>\n",
              "</div>\n",
              "      <button class=\"colab-df-convert\" onclick=\"convertToInteractive('df-602ca25b-0998-4a7e-ac90-5faebfb261ee')\"\n",
              "              title=\"Convert this dataframe to an interactive table.\"\n",
              "              style=\"display:none;\">\n",
              "        \n",
              "  <svg xmlns=\"http://www.w3.org/2000/svg\" height=\"24px\"viewBox=\"0 0 24 24\"\n",
              "       width=\"24px\">\n",
              "    <path d=\"M0 0h24v24H0V0z\" fill=\"none\"/>\n",
              "    <path d=\"M18.56 5.44l.94 2.06.94-2.06 2.06-.94-2.06-.94-.94-2.06-.94 2.06-2.06.94zm-11 1L8.5 8.5l.94-2.06 2.06-.94-2.06-.94L8.5 2.5l-.94 2.06-2.06.94zm10 10l.94 2.06.94-2.06 2.06-.94-2.06-.94-.94-2.06-.94 2.06-2.06.94z\"/><path d=\"M17.41 7.96l-1.37-1.37c-.4-.4-.92-.59-1.43-.59-.52 0-1.04.2-1.43.59L10.3 9.45l-7.72 7.72c-.78.78-.78 2.05 0 2.83L4 21.41c.39.39.9.59 1.41.59.51 0 1.02-.2 1.41-.59l7.78-7.78 2.81-2.81c.8-.78.8-2.07 0-2.86zM5.41 20L4 18.59l7.72-7.72 1.47 1.35L5.41 20z\"/>\n",
              "  </svg>\n",
              "      </button>\n",
              "      \n",
              "  <style>\n",
              "    .colab-df-container {\n",
              "      display:flex;\n",
              "      flex-wrap:wrap;\n",
              "      gap: 12px;\n",
              "    }\n",
              "\n",
              "    .colab-df-convert {\n",
              "      background-color: #E8F0FE;\n",
              "      border: none;\n",
              "      border-radius: 50%;\n",
              "      cursor: pointer;\n",
              "      display: none;\n",
              "      fill: #1967D2;\n",
              "      height: 32px;\n",
              "      padding: 0 0 0 0;\n",
              "      width: 32px;\n",
              "    }\n",
              "\n",
              "    .colab-df-convert:hover {\n",
              "      background-color: #E2EBFA;\n",
              "      box-shadow: 0px 1px 2px rgba(60, 64, 67, 0.3), 0px 1px 3px 1px rgba(60, 64, 67, 0.15);\n",
              "      fill: #174EA6;\n",
              "    }\n",
              "\n",
              "    [theme=dark] .colab-df-convert {\n",
              "      background-color: #3B4455;\n",
              "      fill: #D2E3FC;\n",
              "    }\n",
              "\n",
              "    [theme=dark] .colab-df-convert:hover {\n",
              "      background-color: #434B5C;\n",
              "      box-shadow: 0px 1px 3px 1px rgba(0, 0, 0, 0.15);\n",
              "      filter: drop-shadow(0px 1px 2px rgba(0, 0, 0, 0.3));\n",
              "      fill: #FFFFFF;\n",
              "    }\n",
              "  </style>\n",
              "\n",
              "      <script>\n",
              "        const buttonEl =\n",
              "          document.querySelector('#df-602ca25b-0998-4a7e-ac90-5faebfb261ee button.colab-df-convert');\n",
              "        buttonEl.style.display =\n",
              "          google.colab.kernel.accessAllowed ? 'block' : 'none';\n",
              "\n",
              "        async function convertToInteractive(key) {\n",
              "          const element = document.querySelector('#df-602ca25b-0998-4a7e-ac90-5faebfb261ee');\n",
              "          const dataTable =\n",
              "            await google.colab.kernel.invokeFunction('convertToInteractive',\n",
              "                                                     [key], {});\n",
              "          if (!dataTable) return;\n",
              "\n",
              "          const docLinkHtml = 'Like what you see? Visit the ' +\n",
              "            '<a target=\"_blank\" href=https://colab.research.google.com/notebooks/data_table.ipynb>data table notebook</a>'\n",
              "            + ' to learn more about interactive tables.';\n",
              "          element.innerHTML = '';\n",
              "          dataTable['output_type'] = 'display_data';\n",
              "          await google.colab.output.renderOutput(dataTable, element);\n",
              "          const docLink = document.createElement('div');\n",
              "          docLink.innerHTML = docLinkHtml;\n",
              "          element.appendChild(docLink);\n",
              "        }\n",
              "      </script>\n",
              "    </div>\n",
              "  </div>\n",
              "  "
            ]
          },
          "metadata": {},
          "execution_count": 79
        }
      ]
    },
    {
      "cell_type": "code",
      "source": [
        "# def Antilog(data):\n",
        "#   data.loc[: , \"Price\"] = np.log(data.Price) - np.log(data.Price.shift(1))\n",
        "#   return data"
      ],
      "metadata": {
        "id": "-8of07gNf_uI"
      },
      "execution_count": null,
      "outputs": []
    },
    {
      "cell_type": "code",
      "source": [
        "# data3 = Antilog(data2)\n",
        "# data3.head(5)"
      ],
      "metadata": {
        "id": "Nt_wI7YrgCe2"
      },
      "execution_count": null,
      "outputs": []
    },
    {
      "cell_type": "code",
      "source": [
        "data2['year'] = pd.DatetimeIndex(data2['Date']).year\n",
        "data2['month'] = pd.DatetimeIndex(data2['Date']).month\n",
        "data2['day'] = pd.DatetimeIndex(data2['Date']).day\n",
        "\n",
        "data_new = data2[  [ 'Date',  'year', 'month', 'day','Open','High','Low','Vol.', 'Change %','Price']]\n",
        "data_new.head()"
      ],
      "metadata": {
        "colab": {
          "base_uri": "https://localhost:8080/",
          "height": 249
        },
        "id": "TEarw_uwz5mW",
        "outputId": "cd6f422c-ca53-4fe0-b2fd-8faa9c79f8df"
      },
      "execution_count": null,
      "outputs": [
        {
          "output_type": "error",
          "ename": "NameError",
          "evalue": "ignored",
          "traceback": [
            "\u001b[0;31m---------------------------------------------------------------------------\u001b[0m",
            "\u001b[0;31mNameError\u001b[0m                                 Traceback (most recent call last)",
            "\u001b[0;32m<ipython-input-39-f0b1ee7c5bfd>\u001b[0m in \u001b[0;36m<module>\u001b[0;34m()\u001b[0m\n\u001b[0;32m----> 1\u001b[0;31m \u001b[0mdata2\u001b[0m\u001b[0;34m[\u001b[0m\u001b[0;34m'year'\u001b[0m\u001b[0;34m]\u001b[0m \u001b[0;34m=\u001b[0m \u001b[0mpd\u001b[0m\u001b[0;34m.\u001b[0m\u001b[0mDatetimeIndex\u001b[0m\u001b[0;34m(\u001b[0m\u001b[0mdata2\u001b[0m\u001b[0;34m[\u001b[0m\u001b[0;34m'Date'\u001b[0m\u001b[0;34m]\u001b[0m\u001b[0;34m)\u001b[0m\u001b[0;34m.\u001b[0m\u001b[0myear\u001b[0m\u001b[0;34m\u001b[0m\u001b[0;34m\u001b[0m\u001b[0m\n\u001b[0m\u001b[1;32m      2\u001b[0m \u001b[0mdata2\u001b[0m\u001b[0;34m[\u001b[0m\u001b[0;34m'month'\u001b[0m\u001b[0;34m]\u001b[0m \u001b[0;34m=\u001b[0m \u001b[0mpd\u001b[0m\u001b[0;34m.\u001b[0m\u001b[0mDatetimeIndex\u001b[0m\u001b[0;34m(\u001b[0m\u001b[0mdata2\u001b[0m\u001b[0;34m[\u001b[0m\u001b[0;34m'Date'\u001b[0m\u001b[0;34m]\u001b[0m\u001b[0;34m)\u001b[0m\u001b[0;34m.\u001b[0m\u001b[0mmonth\u001b[0m\u001b[0;34m\u001b[0m\u001b[0;34m\u001b[0m\u001b[0m\n\u001b[1;32m      3\u001b[0m \u001b[0mdata2\u001b[0m\u001b[0;34m[\u001b[0m\u001b[0;34m'day'\u001b[0m\u001b[0;34m]\u001b[0m \u001b[0;34m=\u001b[0m \u001b[0mpd\u001b[0m\u001b[0;34m.\u001b[0m\u001b[0mDatetimeIndex\u001b[0m\u001b[0;34m(\u001b[0m\u001b[0mdata2\u001b[0m\u001b[0;34m[\u001b[0m\u001b[0;34m'Date'\u001b[0m\u001b[0;34m]\u001b[0m\u001b[0;34m)\u001b[0m\u001b[0;34m.\u001b[0m\u001b[0mday\u001b[0m\u001b[0;34m\u001b[0m\u001b[0;34m\u001b[0m\u001b[0m\n\u001b[1;32m      4\u001b[0m \u001b[0;34m\u001b[0m\u001b[0m\n\u001b[1;32m      5\u001b[0m \u001b[0mdata_new\u001b[0m \u001b[0;34m=\u001b[0m \u001b[0mdata2\u001b[0m\u001b[0;34m[\u001b[0m  \u001b[0;34m[\u001b[0m \u001b[0;34m'Date'\u001b[0m\u001b[0;34m,\u001b[0m  \u001b[0;34m'year'\u001b[0m\u001b[0;34m,\u001b[0m \u001b[0;34m'month'\u001b[0m\u001b[0;34m,\u001b[0m \u001b[0;34m'day'\u001b[0m\u001b[0;34m,\u001b[0m\u001b[0;34m'Open'\u001b[0m\u001b[0;34m,\u001b[0m\u001b[0;34m'High'\u001b[0m\u001b[0;34m,\u001b[0m\u001b[0;34m'Low'\u001b[0m\u001b[0;34m,\u001b[0m\u001b[0;34m'Vol.'\u001b[0m\u001b[0;34m,\u001b[0m \u001b[0;34m'Change %'\u001b[0m\u001b[0;34m,\u001b[0m\u001b[0;34m'Price'\u001b[0m\u001b[0;34m]\u001b[0m\u001b[0;34m]\u001b[0m\u001b[0;34m\u001b[0m\u001b[0;34m\u001b[0m\u001b[0m\n",
            "\u001b[0;31mNameError\u001b[0m: name 'data2' is not defined"
          ]
        }
      ]
    },
    {
      "cell_type": "code",
      "execution_count": null,
      "metadata": {
        "id": "6MXleYvR88yF"
      },
      "outputs": [],
      "source": [
        "data_new1 = data_new.drop(['Date', 'Vol.'], axis= 1)\n",
        "data_new1.dropna(axis= 0, inplace = True)"
      ]
    },
    {
      "cell_type": "code",
      "source": [
        "data_new1.head(4)"
      ],
      "metadata": {
        "colab": {
          "base_uri": "https://localhost:8080/",
          "height": 170
        },
        "id": "pRFJu0dMefCu",
        "outputId": "c767472d-60f6-466d-fe89-d0f6ebe17406"
      },
      "execution_count": null,
      "outputs": [
        {
          "output_type": "execute_result",
          "data": {
            "text/plain": [
              "   year  month  day     Open     High      Low  Change %     Price\n",
              "1  2021     12   30  1677.67  1678.33  1674.86     -0.01 -0.011451\n",
              "2  2021     12   29  1700.61  1702.19  1674.41     -1.35  0.000049\n",
              "3  2021     12   24  1699.87  1700.99  1698.59      0.13  0.005898\n",
              "4  2021     12   23  1699.38  1700.27  1697.25     -0.06 -0.000555"
            ],
            "text/html": [
              "\n",
              "  <div id=\"df-41e161c2-f741-4cd7-9861-c2992f30b150\">\n",
              "    <div class=\"colab-df-container\">\n",
              "      <div>\n",
              "<style scoped>\n",
              "    .dataframe tbody tr th:only-of-type {\n",
              "        vertical-align: middle;\n",
              "    }\n",
              "\n",
              "    .dataframe tbody tr th {\n",
              "        vertical-align: top;\n",
              "    }\n",
              "\n",
              "    .dataframe thead th {\n",
              "        text-align: right;\n",
              "    }\n",
              "</style>\n",
              "<table border=\"1\" class=\"dataframe\">\n",
              "  <thead>\n",
              "    <tr style=\"text-align: right;\">\n",
              "      <th></th>\n",
              "      <th>year</th>\n",
              "      <th>month</th>\n",
              "      <th>day</th>\n",
              "      <th>Open</th>\n",
              "      <th>High</th>\n",
              "      <th>Low</th>\n",
              "      <th>Change %</th>\n",
              "      <th>Price</th>\n",
              "    </tr>\n",
              "  </thead>\n",
              "  <tbody>\n",
              "    <tr>\n",
              "      <th>1</th>\n",
              "      <td>2021</td>\n",
              "      <td>12</td>\n",
              "      <td>30</td>\n",
              "      <td>1677.67</td>\n",
              "      <td>1678.33</td>\n",
              "      <td>1674.86</td>\n",
              "      <td>-0.01</td>\n",
              "      <td>-0.011451</td>\n",
              "    </tr>\n",
              "    <tr>\n",
              "      <th>2</th>\n",
              "      <td>2021</td>\n",
              "      <td>12</td>\n",
              "      <td>29</td>\n",
              "      <td>1700.61</td>\n",
              "      <td>1702.19</td>\n",
              "      <td>1674.41</td>\n",
              "      <td>-1.35</td>\n",
              "      <td>0.000049</td>\n",
              "    </tr>\n",
              "    <tr>\n",
              "      <th>3</th>\n",
              "      <td>2021</td>\n",
              "      <td>12</td>\n",
              "      <td>24</td>\n",
              "      <td>1699.87</td>\n",
              "      <td>1700.99</td>\n",
              "      <td>1698.59</td>\n",
              "      <td>0.13</td>\n",
              "      <td>0.005898</td>\n",
              "    </tr>\n",
              "    <tr>\n",
              "      <th>4</th>\n",
              "      <td>2021</td>\n",
              "      <td>12</td>\n",
              "      <td>23</td>\n",
              "      <td>1699.38</td>\n",
              "      <td>1700.27</td>\n",
              "      <td>1697.25</td>\n",
              "      <td>-0.06</td>\n",
              "      <td>-0.000555</td>\n",
              "    </tr>\n",
              "  </tbody>\n",
              "</table>\n",
              "</div>\n",
              "      <button class=\"colab-df-convert\" onclick=\"convertToInteractive('df-41e161c2-f741-4cd7-9861-c2992f30b150')\"\n",
              "              title=\"Convert this dataframe to an interactive table.\"\n",
              "              style=\"display:none;\">\n",
              "        \n",
              "  <svg xmlns=\"http://www.w3.org/2000/svg\" height=\"24px\"viewBox=\"0 0 24 24\"\n",
              "       width=\"24px\">\n",
              "    <path d=\"M0 0h24v24H0V0z\" fill=\"none\"/>\n",
              "    <path d=\"M18.56 5.44l.94 2.06.94-2.06 2.06-.94-2.06-.94-.94-2.06-.94 2.06-2.06.94zm-11 1L8.5 8.5l.94-2.06 2.06-.94-2.06-.94L8.5 2.5l-.94 2.06-2.06.94zm10 10l.94 2.06.94-2.06 2.06-.94-2.06-.94-.94-2.06-.94 2.06-2.06.94z\"/><path d=\"M17.41 7.96l-1.37-1.37c-.4-.4-.92-.59-1.43-.59-.52 0-1.04.2-1.43.59L10.3 9.45l-7.72 7.72c-.78.78-.78 2.05 0 2.83L4 21.41c.39.39.9.59 1.41.59.51 0 1.02-.2 1.41-.59l7.78-7.78 2.81-2.81c.8-.78.8-2.07 0-2.86zM5.41 20L4 18.59l7.72-7.72 1.47 1.35L5.41 20z\"/>\n",
              "  </svg>\n",
              "      </button>\n",
              "      \n",
              "  <style>\n",
              "    .colab-df-container {\n",
              "      display:flex;\n",
              "      flex-wrap:wrap;\n",
              "      gap: 12px;\n",
              "    }\n",
              "\n",
              "    .colab-df-convert {\n",
              "      background-color: #E8F0FE;\n",
              "      border: none;\n",
              "      border-radius: 50%;\n",
              "      cursor: pointer;\n",
              "      display: none;\n",
              "      fill: #1967D2;\n",
              "      height: 32px;\n",
              "      padding: 0 0 0 0;\n",
              "      width: 32px;\n",
              "    }\n",
              "\n",
              "    .colab-df-convert:hover {\n",
              "      background-color: #E2EBFA;\n",
              "      box-shadow: 0px 1px 2px rgba(60, 64, 67, 0.3), 0px 1px 3px 1px rgba(60, 64, 67, 0.15);\n",
              "      fill: #174EA6;\n",
              "    }\n",
              "\n",
              "    [theme=dark] .colab-df-convert {\n",
              "      background-color: #3B4455;\n",
              "      fill: #D2E3FC;\n",
              "    }\n",
              "\n",
              "    [theme=dark] .colab-df-convert:hover {\n",
              "      background-color: #434B5C;\n",
              "      box-shadow: 0px 1px 3px 1px rgba(0, 0, 0, 0.15);\n",
              "      filter: drop-shadow(0px 1px 2px rgba(0, 0, 0, 0.3));\n",
              "      fill: #FFFFFF;\n",
              "    }\n",
              "  </style>\n",
              "\n",
              "      <script>\n",
              "        const buttonEl =\n",
              "          document.querySelector('#df-41e161c2-f741-4cd7-9861-c2992f30b150 button.colab-df-convert');\n",
              "        buttonEl.style.display =\n",
              "          google.colab.kernel.accessAllowed ? 'block' : 'none';\n",
              "\n",
              "        async function convertToInteractive(key) {\n",
              "          const element = document.querySelector('#df-41e161c2-f741-4cd7-9861-c2992f30b150');\n",
              "          const dataTable =\n",
              "            await google.colab.kernel.invokeFunction('convertToInteractive',\n",
              "                                                     [key], {});\n",
              "          if (!dataTable) return;\n",
              "\n",
              "          const docLinkHtml = 'Like what you see? Visit the ' +\n",
              "            '<a target=\"_blank\" href=https://colab.research.google.com/notebooks/data_table.ipynb>data table notebook</a>'\n",
              "            + ' to learn more about interactive tables.';\n",
              "          element.innerHTML = '';\n",
              "          dataTable['output_type'] = 'display_data';\n",
              "          await google.colab.output.renderOutput(dataTable, element);\n",
              "          const docLink = document.createElement('div');\n",
              "          docLink.innerHTML = docLinkHtml;\n",
              "          element.appendChild(docLink);\n",
              "        }\n",
              "      </script>\n",
              "    </div>\n",
              "  </div>\n",
              "  "
            ]
          },
          "metadata": {},
          "execution_count": 63
        }
      ]
    },
    {
      "cell_type": "code",
      "source": [
        "# X = data_new1.iloc[:, 4:8]\n",
        "# # del X['Vol.']\n",
        "# #X del (labels = 'Vol.', axis =0)\n",
        "# y = data_new1.iloc[:, 3]"
      ],
      "metadata": {
        "id": "fszjx9-d_7A4"
      },
      "execution_count": null,
      "outputs": []
    },
    {
      "cell_type": "markdown",
      "source": [
        "#Plots after data transformation"
      ],
      "metadata": {
        "id": "JZu_KkVhrhWg"
      }
    },
    {
      "cell_type": "code",
      "execution_count": null,
      "metadata": {
        "colab": {
          "base_uri": "https://localhost:8080/",
          "height": 295
        },
        "id": "0IuxttINaXDx",
        "outputId": "71c67622-5fae-42ba-fa72-afefb3266116"
      },
      "outputs": [
        {
          "output_type": "execute_result",
          "data": {
            "text/plain": [
              "Text(0, 0.5, 'Stock Price')"
            ]
          },
          "metadata": {},
          "execution_count": 32
        },
        {
          "output_type": "display_data",
          "data": {
            "text/plain": [
              "<Figure size 432x288 with 1 Axes>"
            ],
            "image/png": "[encoded data removed]"
          },
          "metadata": {
            "needs_background": "light"
          }
        }
      ],
      "source": [
        "plt.plot(data['Date'], data_new['Price'])\n",
        "plt.xlabel(\" Year \")\n",
        "plt.ylabel(\"Stock Price\")"
      ]
    },
    {
      "cell_type": "code",
      "source": [
        "sns.distplot(data_new['Price'])"
      ],
      "metadata": {
        "colab": {
          "base_uri": "https://localhost:8080/",
          "height": 348
        },
        "id": "jgHbfo9I2I9r",
        "outputId": "1823916e-1dfc-4cc9-f97d-274f617bf74d"
      },
      "execution_count": null,
      "outputs": [
        {
          "output_type": "stream",
          "name": "stderr",
          "text": [
            "/usr/local/lib/python3.7/dist-packages/seaborn/distributions.py:2619: FutureWarning: `distplot` is a deprecated function and will be removed in a future version. Please adapt your code to use either `displot` (a figure-level function with similar flexibility) or `histplot` (an axes-level function for histograms).\n",
            "  warnings.warn(msg, FutureWarning)\n"
          ]
        },
        {
          "output_type": "execute_result",
          "data": {
            "text/plain": [
              "<matplotlib.axes._subplots.AxesSubplot at 0x7f547c2fef90>"
            ]
          },
          "metadata": {},
          "execution_count": 85
        },
        {
          "output_type": "display_data",
          "data": {
            "text/plain": [
              "<Figure size 432x288 with 1 Axes>"
            ],
            "image/png": "[encoded data removed]"
          },
          "metadata": {
            "needs_background": "light"
          }
        }
      ]
    },
    {
      "cell_type": "code",
      "source": [
        "# create an autocorrelation plot after standardizing with log return function\n",
        "from pandas.plotting import autocorrelation_plot\n",
        "\n",
        "autocorrelation_plot(data_new['Price'])"
      ],
      "metadata": {
        "colab": {
          "base_uri": "https://localhost:8080/",
          "height": 300
        },
        "id": "tjZMD8R4vQEZ",
        "outputId": "c6ab70a9-edf6-4b9f-97bc-021a43867e3f"
      },
      "execution_count": null,
      "outputs": [
        {
          "output_type": "execute_result",
          "data": {
            "text/plain": [
              "<matplotlib.axes._subplots.AxesSubplot at 0x7f547c214790>"
            ]
          },
          "metadata": {},
          "execution_count": 86
        },
        {
          "output_type": "display_data",
          "data": {
            "text/plain": [
              "<Figure size 432x288 with 1 Axes>"
            ],
            "image/png": "[encoded data removed]"
          },
          "metadata": {
            "needs_background": "light"
          }
        }
      ]
    },
    {
      "cell_type": "code",
      "source": [
        "plt.plot(data_new['Date'], data_new['Price'])\n",
        "plt.xlabel(\" Year \")\n",
        "plt.ylabel(\"Stock Price\")"
      ],
      "metadata": {
        "colab": {
          "base_uri": "https://localhost:8080/",
          "height": 295
        },
        "id": "7RmgSMm-Got0",
        "outputId": "0855e8b3-f4dc-4c58-dc70-febee6c4d5ad"
      },
      "execution_count": null,
      "outputs": [
        {
          "output_type": "execute_result",
          "data": {
            "text/plain": [
              "Text(0, 0.5, 'Stock Price')"
            ]
          },
          "metadata": {},
          "execution_count": 210
        },
        {
          "output_type": "display_data",
          "data": {
            "text/plain": [
              "<Figure size 432x288 with 1 Axes>"
            ],
            "image/png": "[encoded data removed]"
          },
          "metadata": {
            "needs_background": "light"
          }
        }
      ]
    },
    {
      "cell_type": "markdown",
      "source": [
        "Splitting of the data into training and test"
      ],
      "metadata": {
        "id": "Mo8m9cpS1Qup"
      }
    },
    {
      "cell_type": "code",
      "source": [
        "# data3 = data2.drop(['Date', 'Vol.'], axis= 1)\n",
        "# data3.dropna(axis= 0, inplace = True)"
      ],
      "metadata": {
        "id": "ODWNYI03B6PF"
      },
      "execution_count": null,
      "outputs": []
    },
    {
      "cell_type": "code",
      "source": [
        "# data3.head(3)"
      ],
      "metadata": {
        "id": "DNDNogNSCDTj"
      },
      "execution_count": null,
      "outputs": []
    },
    {
      "cell_type": "code",
      "source": [
        "# X = data_new1.iloc[:,:-1]\n",
        "# # # del X['Vol.']\n",
        "# # #X del (labels = 'Vol.', axis =0)\n",
        "# y = data_new1.iloc[:, -1]"
      ],
      "metadata": {
        "id": "IMZm1PYkA0qg"
      },
      "execution_count": null,
      "outputs": []
    },
    {
      "cell_type": "code",
      "source": [
        "n_points = len(data_new1)\n",
        "train_points = int((2/3)*n_points)+1\n",
        "X_train, X_test =data_new1.iloc[:,:-1].values[:train_points],  data_new1.iloc[:,:-1].values[train_points:  ]\n",
        "y_train, y_test =data_new1.iloc[:,0].values[:train_points  ],  data_new1.iloc[:,0].values[train_points:  ]"
      ],
      "metadata": {
        "id": "ec1NEQFR4piM"
      },
      "execution_count": null,
      "outputs": []
    },
    {
      "cell_type": "code",
      "source": [
        "from sklearn.model_selection import train_test_split"
      ],
      "metadata": {
        "id": "4nOitInWR0ZO"
      },
      "execution_count": null,
      "outputs": []
    },
    {
      "cell_type": "code",
      "source": [
        "# n_points = len(data)\n",
        "# train_points = int(2/3*n_points)+1\n",
        "# X_train, X_test =X.iloc[:,1:].values[:train_points],  X.iloc[:,1:].values[train_points:  ]\n",
        "# y_train, y_test =y.iloc[:,0].values[:train_points],  y.iloc[:,0].values[train_points:  ]"
      ],
      "metadata": {
        "id": "f1ZWgOMs9cXB"
      },
      "execution_count": null,
      "outputs": []
    },
    {
      "cell_type": "code",
      "source": [
        "# X_train , X_test, y_train, y_test =train_test_split(X,y ,train_size=0.6, shuffle=True, random_state=0)"
      ],
      "metadata": {
        "id": "fNQ0yVgYAWlB"
      },
      "execution_count": null,
      "outputs": []
    },
    {
      "cell_type": "code",
      "source": [
        "X_train.shape , X_test.shape, y_train.shape, y_test.shape"
      ],
      "metadata": {
        "colab": {
          "base_uri": "https://localhost:8080/"
        },
        "id": "hSu8eyT24fo5",
        "outputId": "1f7fe75f-92c4-4412-fc9d-2efb1aba7a9b"
      },
      "execution_count": null,
      "outputs": [
        {
          "output_type": "execute_result",
          "data": {
            "text/plain": [
              "((1638, 7), (818, 7), (1638,), (818,))"
            ]
          },
          "metadata": {},
          "execution_count": 36
        }
      ]
    },
    {
      "cell_type": "markdown",
      "source": [
        "#Import the required packages for model building"
      ],
      "metadata": {
        "id": "bBR4EIHKr88-"
      }
    },
    {
      "cell_type": "code",
      "source": [
        "test_size = 1000\n",
        "\n",
        "data_new1_train = data_new1.iloc[:test_size, :-1]\n",
        "data_new1_test = data_new1.iloc[:-test_size, -1]\n",
        "\n",
        "plt.title('Airline passengers train and test sets', size=20)\n",
        "plt.plot(data_new1_train, label='Training set')\n",
        "plt.plot(data_new1_test, label='Test set', color='orange')\n",
        "plt.legend();"
      ],
      "metadata": {
        "colab": {
          "base_uri": "https://localhost:8080/",
          "height": 285
        },
        "id": "93C600gUyEtW",
        "outputId": "656e92eb-290a-4c34-ed39-38c9e92f2d7f"
      },
      "execution_count": null,
      "outputs": [
        {
          "output_type": "display_data",
          "data": {
            "text/plain": [
              "<Figure size 432x288 with 1 Axes>"
            ],
            "image/png": "[encoded data removed]"
          },
          "metadata": {
            "needs_background": "light"
          }
        }
      ]
    },
    {
      "cell_type": "code",
      "source": [
        "# X_train, X_test ,y_train, y_test =train_test_split(X,y,test_size=0.2, shuffle=False)"
      ],
      "metadata": {
        "id": "IH91hmrh4iWS"
      },
      "execution_count": null,
      "outputs": []
    },
    {
      "cell_type": "code",
      "execution_count": null,
      "metadata": {
        "id": "dbdT8Vz0UdPh"
      },
      "outputs": [],
      "source": [
        "import pandas as pd\n",
        "import numpy as np\n",
        "from sklearn import model_selection\n",
        "from sklearn.linear_model import LinearRegression\n",
        "from sklearn.linear_model import Ridge\n",
        "from sklearn.linear_model import Lasso\n",
        "from sklearn.linear_model import ElasticNet\n",
        "from sklearn.metrics import r2_score\n",
        "from sklearn.metrics import mean_squared_error\n",
        "from sklearn.metrics import mean_absolute_error\n",
        "from math import sqrt"
      ]
    },
    {
      "cell_type": "markdown",
      "source": [
        "#Linear Regression"
      ],
      "metadata": {
        "id": "2BqrfXbIBTy3"
      }
    },
    {
      "cell_type": "code",
      "source": [
        "lr = LinearRegression()\n",
        "lr.fit(X_train, y_train)\n",
        "pred_train_lr= lr.predict(X_train)\n",
        "print(\"Train error :\", np.sqrt(mean_squared_error(y_train,pred_train_lr)))\n",
        "pred_test_lr= lr.predict(X_test)\n",
        "print(\"Test Error:\", np.sqrt(mean_squared_error(y_test,pred_test_lr)))\n",
        "print(f' Rsquare:{r2_score(y_train, pred_train_lr)}')\n",
        "print(f'Rsquare:{r2_score(y_test, pred_test_lr)}')\n",
        "print(f'MAE:{mean_absolute_error(y_train, pred_train_lr)}')\n",
        "print(f'MAE:{mean_absolute_error(y_test, pred_test_lr)}')"
      ],
      "metadata": {
        "colab": {
          "base_uri": "https://localhost:8080/"
        },
        "id": "2Eq_WXHz6DCO",
        "outputId": "5042b104-5278-4595-b1ed-a3cb19a8216c"
      },
      "execution_count": null,
      "outputs": [
        {
          "output_type": "stream",
          "name": "stdout",
          "text": [
            "Train error : 0.0\n",
            "Test Error: 0.0\n",
            " Rsquare:1.0\n",
            "Rsquare:1.0\n",
            "MAE:0.0\n",
            "MAE:0.0\n"
          ]
        }
      ]
    },
    {
      "cell_type": "code",
      "source": [
        "len(pred_train_lr)"
      ],
      "metadata": {
        "colab": {
          "base_uri": "https://localhost:8080/"
        },
        "id": "8zYOx73Gfg9i",
        "outputId": "10db1182-a54f-4ddd-87cf-82930c9f0789"
      },
      "execution_count": null,
      "outputs": [
        {
          "output_type": "execute_result",
          "data": {
            "text/plain": [
              "1639"
            ]
          },
          "metadata": {},
          "execution_count": 142
        }
      ]
    },
    {
      "cell_type": "code",
      "source": [
        "LinearPredict = lr.predict(X_test)"
      ],
      "metadata": {
        "id": "dqi6Two-Yv6H"
      },
      "execution_count": null,
      "outputs": []
    },
    {
      "cell_type": "code",
      "source": [
        "plt.plot(LinearPredict, label='predicted')\n",
        "plt.plot(y_train, label ='actual')\n",
        "plt.legend()"
      ],
      "metadata": {
        "colab": {
          "base_uri": "https://localhost:8080/",
          "height": 281
        },
        "id": "J8v4HDcZZA7x",
        "outputId": "fa1d12ab-d7a1-4e73-e736-1b42b7e8b58c"
      },
      "execution_count": null,
      "outputs": [
        {
          "output_type": "execute_result",
          "data": {
            "text/plain": [
              "<matplotlib.legend.Legend at 0x7f3213c61850>"
            ]
          },
          "metadata": {},
          "execution_count": 263
        },
        {
          "output_type": "display_data",
          "data": {
            "text/plain": [
              "<Figure size 432x288 with 1 Axes>"
            ],
            "image/png": "[encoded data removed]"
          },
          "metadata": {
            "needs_background": "light"
          }
        }
      ]
    },
    {
      "cell_type": "code",
      "source": [
        "# LinearPredict = lr.predict(X_test)\n",
        "\n",
        "# # Plot regression against actual data\n",
        "# plt.figure(figsize=(12, 6))\n",
        "# plt.plot(X_train, y_train, 'o', label =\"Actual train value\")           # scatter plot showing actual data\n",
        "# # plt.plot(X_train, LinearPredict, 'r', linewidth=2, label= \"predicted train value\")   # regression line\n",
        "# plt.xlabel('X')\n",
        "# plt.ylabel('y')\n",
        "# plt.legend()\n",
        "# plt.title('X vs y')\n",
        "\n",
        "# plt.show()"
      ],
      "metadata": {
        "id": "ce1pbwdx-FVU"
      },
      "execution_count": null,
      "outputs": []
    },
    {
      "cell_type": "code",
      "source": [
        "# def Antilog(data):\n",
        "#   data.loc[: , \"Price\"] = np.log(data.Price) - np.log(data.Price.shift(1))\n",
        "#   return data"
      ],
      "metadata": {
        "id": "JzSEgxqAZXWh"
      },
      "execution_count": null,
      "outputs": []
    },
    {
      "cell_type": "markdown",
      "source": [
        "#Ridge"
      ],
      "metadata": {
        "id": "bZNxkC_M-rih"
      }
    },
    {
      "cell_type": "code",
      "source": [
        "ridge = Ridge(alpha=0.01)\n",
        "ridge.fit(X_train, y_train) \n",
        "pred_train_ridge= ridge.predict(X_train)\n",
        "print(\"Train error: \", np.sqrt(mean_squared_error(y_train,pred_train_ridge)))\n",
        "pred_test_ridge= ridge.predict(X_test)\n",
        "print(\"Test error: \",np.sqrt(mean_squared_error(y_test,pred_test_ridge))) \n",
        "print(r2_score(y_train, pred_train_ridge))\n",
        "print(r2_score(y_test, pred_test_ridge))\n",
        "print(f'MAE:{mean_absolute_error(y_train, pred_train_ridge)}')\n",
        "print(f'MAE:{mean_absolute_error(y_test, pred_test_ridge)}')"
      ],
      "metadata": {
        "colab": {
          "base_uri": "https://localhost:8080/"
        },
        "id": "9G1hqbfK-tsC",
        "outputId": "9b313b0a-8da5-4b64-fe98-12a06e070198"
      },
      "execution_count": null,
      "outputs": [
        {
          "output_type": "stream",
          "name": "stdout",
          "text": [
            "Train error:  0.000590872146867252\n",
            "Test error:  0.0006173772927202886\n",
            "0.9965575406286223\n",
            "0.9966740368424968\n",
            "MAE:0.0004077427039732988\n",
            "MAE:0.00043094030198489785\n"
          ]
        }
      ]
    },
    {
      "cell_type": "markdown",
      "source": [
        "#LASSO"
      ],
      "metadata": {
        "id": "EGIkDme6AESb"
      }
    },
    {
      "cell_type": "code",
      "source": [
        "model_lasso = Lasso(alpha=0.01)\n",
        "model_lasso.fit(X_train, y_train) \n",
        "pred_train_lasso= model_lasso.predict(X_train)\n",
        "print(\"Train error:\",np.sqrt(mean_squared_error(y_train,pred_train_lasso)))\n",
        "pred_test_lasso= model_lasso.predict(X_test)\n",
        "print(\"Test error:\",  np.sqrt(mean_squared_error(y_test,pred_test_lasso))) \n",
        "print(r2_score(y_train, pred_train_lasso))\n",
        "print(r2_score(y_test, pred_test_lasso))\n",
        "print(f'MAE:{mean_absolute_error(y_train, pred_train_lasso)}')\n",
        "print(f'MAE:{mean_absolute_error(y_test, pred_test_lasso)}')"
      ],
      "metadata": {
        "colab": {
          "base_uri": "https://localhost:8080/"
        },
        "id": "X_Q04DK2AHkh",
        "outputId": "4342607b-2cc4-4f9f-b11b-e209e7c0e3f1"
      },
      "execution_count": null,
      "outputs": [
        {
          "output_type": "stream",
          "name": "stdout",
          "text": [
            "Train error: 0.01005121990938642\n",
            "Test error: 0.010683022025937596\n",
            "0.0038623918132038026\n",
            "0.004126037401651073\n",
            "MAE:0.00679252565797572\n",
            "MAE:0.007298716736262277\n"
          ]
        },
        {
          "output_type": "stream",
          "name": "stderr",
          "text": [
            "/usr/local/lib/python3.7/dist-packages/sklearn/linear_model/_coordinate_descent.py:648: ConvergenceWarning: Objective did not converge. You might want to increase the number of iterations, check the scale of the features or consider increasing regularisation. Duality gap: 3.424e-05, tolerance: 1.661e-05\n",
            "  coef_, l1_reg, l2_reg, X, y, max_iter, tol, rng, random, positive\n"
          ]
        }
      ]
    },
    {
      "cell_type": "code",
      "source": [
        "plt.plot(pred_train_lasso, label='predicted')\n",
        "plt.plot(y_train, label ='actual')\n",
        "plt.legend()"
      ],
      "metadata": {
        "colab": {
          "base_uri": "https://localhost:8080/",
          "height": 281
        },
        "id": "SfoKqgujAP35",
        "outputId": "a5ddba91-fe60-489f-94f1-d2b2861f9f2e"
      },
      "execution_count": null,
      "outputs": [
        {
          "output_type": "execute_result",
          "data": {
            "text/plain": [
              "<matplotlib.legend.Legend at 0x7f3214461f90>"
            ]
          },
          "metadata": {},
          "execution_count": 169
        },
        {
          "output_type": "display_data",
          "data": {
            "text/plain": [
              "<Figure size 432x288 with 1 Axes>"
            ],
            "image/png": "[encoded data removed]"
          },
          "metadata": {
            "needs_background": "light"
          }
        }
      ]
    },
    {
      "cell_type": "markdown",
      "source": [
        "#Elastic Net"
      ],
      "metadata": {
        "id": "mgngjQnHCF2R"
      }
    },
    {
      "cell_type": "code",
      "source": [
        "model_enet = ElasticNet(alpha = 0.01)\n",
        "model_enet.fit(X_train, y_train) \n",
        "pred_train_enet= model_enet.predict(X_train)\n",
        "print(\"Train error: \", np.sqrt(mean_squared_error(y_train,pred_train_enet)))\n",
        "pred_test_enet= model_enet.predict(X_test)\n",
        "print(\"Test error:\",np.sqrt(mean_squared_error(y_test,pred_test_enet)))\n",
        "print(r2_score(y_train, pred_train_enet))\n",
        "print(r2_score(y_test, pred_test_enet))\n",
        "print(f'MAE:{mean_absolute_error(y_train, pred_train_enet)}')\n",
        "print(f'MAE:{mean_absolute_error(y_test, pred_test_enet)}')"
      ],
      "metadata": {
        "colab": {
          "base_uri": "https://localhost:8080/"
        },
        "id": "IQWJTeDTCE_O",
        "outputId": "895efd41-81cd-4fed-9157-12b6e2397b0c"
      },
      "execution_count": null,
      "outputs": [
        {
          "output_type": "stream",
          "name": "stdout",
          "text": [
            "Train error:  2.8814662772684545\n",
            "Test error: 4.489074182675652\n",
            "0.9998749772783796\n",
            "0.9997970118603431\n",
            "MAE:1.6141136434519114\n",
            "MAE:2.7598038478699545\n"
          ]
        }
      ]
    },
    {
      "cell_type": "code",
      "source": [
        "from sklearn.model_selection import cross_val_score\n",
        "from sklearn.model_selection import RepeatedKFold\n",
        "from sklearn.linear_model import Ridge\n",
        "# load the dataset\n",
        "url = 'https://raw.githubusercontent.com/jbrownlee/Datasets/master/housing.csv'\n",
        "dataframe = read_csv(url, header=None)\n",
        "data = dataframe.values\n",
        "X, y = data[:, :-1], data[:, -1]\n",
        "# define model\n",
        "model = Ridge(alpha=1.0)\n",
        "# define model evaluation method\n",
        "cv = RepeatedKFold(n_splits=10, n_repeats=3, random_state=1)\n",
        "# evaluate model\n",
        "scores = cross_val_score(model, X, y, scoring='neg_mean_absolute_error', cv=cv, n_jobs=-1)\n",
        "# force scores to be positive\n",
        "scores = absolute(scores)\n",
        "print('Mean MAE: %.3f (%.3f)' % (mean(scores), std(scores)))"
      ],
      "metadata": {
        "id": "e64CyzT2E2hH"
      },
      "execution_count": null,
      "outputs": []
    },
    {
      "cell_type": "markdown",
      "source": [
        "# Model Improvement"
      ],
      "metadata": {
        "id": "QkqiFHTxsd6G"
      }
    },
    {
      "cell_type": "markdown",
      "source": [
        "#Cross Validation"
      ],
      "metadata": {
        "id": "dabpUfJg_xQC"
      }
    },
    {
      "cell_type": "code",
      "source": [
        "from sklearn.model_selection import KFold\n",
        "from sklearn.model_selection import cross_val_score\n",
        "from numpy import mean\n",
        "from numpy import absolute\n"
      ],
      "metadata": {
        "id": "GQ_pwVfRn4fK"
      },
      "execution_count": null,
      "outputs": []
    },
    {
      "cell_type": "code",
      "source": [
        ""
      ],
      "metadata": {
        "id": "voE7J5uAAI4x"
      },
      "execution_count": null,
      "outputs": []
    },
    {
      "cell_type": "code",
      "source": [
        "X = data_new1.iloc[:,1:]\n",
        "y = data_new1.iloc[:,0]"
      ],
      "metadata": {
        "id": "GM6KO64nAlFF"
      },
      "execution_count": null,
      "outputs": []
    },
    {
      "cell_type": "markdown",
      "source": [
        "###Improved model for LASSO"
      ],
      "metadata": {
        "id": "22UQ6wN6MpT2"
      }
    },
    {
      "cell_type": "code",
      "source": [
        "#define cross-validation method to use\n",
        "cv = KFold(n_splits=2456, random_state=None, shuffle=False)\n",
        "\n",
        "#build multiple linear regression model\n",
        "model2 = Lasso()\n",
        "\n",
        "#use k-fold CV to evaluate model\n",
        "scores = cross_val_score(model2, X, y, scoring='neg_mean_squared_error',\n",
        "                         cv=cv, n_jobs=-1)\n",
        "\n",
        "#view mean absolute error\n",
        "sqrt(mean(absolute(scores)))"
      ],
      "metadata": {
        "colab": {
          "base_uri": "https://localhost:8080/"
        },
        "id": "pej2fKAoBPKl",
        "outputId": "974340c8-9bd4-4e22-8e13-a86631e3f628"
      },
      "execution_count": null,
      "outputs": [
        {
          "output_type": "execute_result",
          "data": {
            "text/plain": [
              "2.8536100311925514"
            ]
          },
          "metadata": {},
          "execution_count": 153
        }
      ]
    },
    {
      "cell_type": "markdown",
      "source": [
        "###Improved model for Linear Regression"
      ],
      "metadata": {
        "id": "NnCVpGE6M3Th"
      }
    },
    {
      "cell_type": "code",
      "source": [
        "#define cross-validation method to use\n",
        "cv = KFold(n_splits=2456, random_state=None, shuffle=False)\n",
        "\n",
        "#build multiple linear regression model\n",
        "model2 = LinearRegression()\n",
        "\n",
        "#use k-fold CV to evaluate model\n",
        "scores = cross_val_score(model2, X, y, scoring='neg_mean_squared_error',\n",
        "                         cv=cv, n_jobs=-1)\n",
        "\n",
        "#view mean absolute error\n",
        "sqrt(mean(absolute(scores)))"
      ],
      "metadata": {
        "colab": {
          "base_uri": "https://localhost:8080/"
        },
        "id": "kDmN8GINBpb6",
        "outputId": "a9954314-0ca6-49cd-ad35-566d7e6cec0e"
      },
      "execution_count": null,
      "outputs": [
        {
          "output_type": "execute_result",
          "data": {
            "text/plain": [
              "2.8506804721094245"
            ]
          },
          "metadata": {},
          "execution_count": 154
        }
      ]
    },
    {
      "cell_type": "markdown",
      "source": [
        "###Improved model for Rigde"
      ],
      "metadata": {
        "id": "Ejlm2k7AM93P"
      }
    },
    {
      "cell_type": "code",
      "source": [
        "#define cross-validation method to use\n",
        "cv = KFold(n_splits=2456, random_state=None, shuffle=False)\n",
        "\n",
        "#build multiple linear regression model\n",
        "model2 = Ridge()\n",
        "\n",
        "#use k-fold CV to evaluate model\n",
        "scores = cross_val_score(model2, X, y, scoring='neg_mean_squared_error',\n",
        "                         cv=cv, n_jobs=-1)\n",
        "\n",
        "#view mean absolute error\n",
        "sqrt(mean(absolute(scores)))"
      ],
      "metadata": {
        "colab": {
          "base_uri": "https://localhost:8080/"
        },
        "id": "SlKRhcBA3xgr",
        "outputId": "2c220246-340b-4c2a-c490-7dae06e916bd"
      },
      "execution_count": null,
      "outputs": [
        {
          "output_type": "execute_result",
          "data": {
            "text/plain": [
              "2.8506709088340623"
            ]
          },
          "metadata": {},
          "execution_count": 155
        }
      ]
    },
    {
      "cell_type": "code",
      "source": [
        ""
      ],
      "metadata": {
        "colab": {
          "base_uri": "https://localhost:8080/"
        },
        "id": "3cH5anpjs-tT",
        "outputId": "2c4c1794-3abd-4fd7-e5f5-3783660e36cf"
      },
      "execution_count": null,
      "outputs": [
        {
          "output_type": "execute_result",
          "data": {
            "text/plain": [
              "(array([255.97528649]), array([1.29369965e-57]))"
            ]
          },
          "metadata": {},
          "execution_count": 45
        }
      ]
    },
    {
      "cell_type": "markdown",
      "source": [
        "#GARCH NN"
      ],
      "metadata": {
        "id": "3XmbUOmcK1Dj"
      }
    },
    {
      "cell_type": "code",
      "source": [
        "# #Import the dataset for the analysis \n",
        "# data1 = pd.read_csv(\"/content/log_data.csv\" , thousands =',')"
      ],
      "metadata": {
        "id": "aGiIA5T8PWE1"
      },
      "execution_count": null,
      "outputs": []
    },
    {
      "cell_type": "code",
      "source": [
        "import statsmodels.api as sm"
      ],
      "metadata": {
        "colab": {
          "base_uri": "https://localhost:8080/"
        },
        "id": "mB_NfDC8sUVz",
        "outputId": "6ece3fba-7b7e-4407-8029-7ed3a6355635"
      },
      "execution_count": null,
      "outputs": [
        {
          "output_type": "stream",
          "name": "stderr",
          "text": [
            "/usr/local/lib/python3.7/dist-packages/statsmodels/tools/_testing.py:19: FutureWarning: pandas.util.testing is deprecated. Use the functions in the public API at pandas.testing instead.\n",
            "  import pandas.util.testing as tm\n"
          ]
        }
      ]
    },
    {
      "cell_type": "code",
      "source": [
        "res = sm.tsa.ARMA(data[\"Price\"], (1,1)).fit(disp=-1)"
      ],
      "metadata": {
        "id": "Id_jzO1IsW8f"
      },
      "execution_count": null,
      "outputs": []
    },
    {
      "cell_type": "code",
      "source": [
        "#perform Ljung-Box test on residuals with lag=5\n",
        "sm.stats.acorr_ljungbox(res.resid, lags=[5])"
      ],
      "metadata": {
        "colab": {
          "base_uri": "https://localhost:8080/"
        },
        "id": "h5xefNPDsZSY",
        "outputId": "f10d391b-8972-4c09-c1d2-9cf75765eb8a"
      },
      "execution_count": null,
      "outputs": [
        {
          "output_type": "execute_result",
          "data": {
            "text/plain": [
              "(array([19.86032735]), array([0.00132744]))"
            ]
          },
          "metadata": {},
          "execution_count": 15
        }
      ]
    },
    {
      "cell_type": "code",
      "source": [
        "!pip install arch"
      ],
      "metadata": {
        "colab": {
          "base_uri": "https://localhost:8080/",
          "height": 494
        },
        "id": "eqCCTMxuordb",
        "outputId": "00109baa-2625-4e27-eb7c-b9b492f67a4a"
      },
      "execution_count": null,
      "outputs": [
        {
          "output_type": "stream",
          "name": "stdout",
          "text": [
            "Collecting arch\n",
            "  Downloading arch-5.2.0-cp37-cp37m-manylinux_2_17_x86_64.manylinux2014_x86_64.whl (902 kB)\n",
            "\u001b[?25l\r\u001b[K     |▍                               | 10 kB 24.5 MB/s eta 0:00:01\r\u001b[K     |▊                               | 20 kB 11.4 MB/s eta 0:00:01\r\u001b[K     |█                               | 30 kB 9.2 MB/s eta 0:00:01\r\u001b[K     |█▌                              | 40 kB 8.3 MB/s eta 0:00:01\r\u001b[K     |█▉                              | 51 kB 4.6 MB/s eta 0:00:01\r\u001b[K     |██▏                             | 61 kB 5.4 MB/s eta 0:00:01\r\u001b[K     |██▌                             | 71 kB 5.5 MB/s eta 0:00:01\r\u001b[K     |███                             | 81 kB 4.3 MB/s eta 0:00:01\r\u001b[K     |███▎                            | 92 kB 4.8 MB/s eta 0:00:01\r\u001b[K     |███▋                            | 102 kB 5.3 MB/s eta 0:00:01\r\u001b[K     |████                            | 112 kB 5.3 MB/s eta 0:00:01\r\u001b[K     |████▍                           | 122 kB 5.3 MB/s eta 0:00:01\r\u001b[K     |████▊                           | 133 kB 5.3 MB/s eta 0:00:01\r\u001b[K     |█████                           | 143 kB 5.3 MB/s eta 0:00:01\r\u001b[K     |█████▍                          | 153 kB 5.3 MB/s eta 0:00:01\r\u001b[K     |█████▉                          | 163 kB 5.3 MB/s eta 0:00:01\r\u001b[K     |██████▏                         | 174 kB 5.3 MB/s eta 0:00:01\r\u001b[K     |██████▌                         | 184 kB 5.3 MB/s eta 0:00:01\r\u001b[K     |███████                         | 194 kB 5.3 MB/s eta 0:00:01\r\u001b[K     |███████▎                        | 204 kB 5.3 MB/s eta 0:00:01\r\u001b[K     |███████▋                        | 215 kB 5.3 MB/s eta 0:00:01\r\u001b[K     |████████                        | 225 kB 5.3 MB/s eta 0:00:01\r\u001b[K     |████████▍                       | 235 kB 5.3 MB/s eta 0:00:01\r\u001b[K     |████████▊                       | 245 kB 5.3 MB/s eta 0:00:01\r\u001b[K     |█████████                       | 256 kB 5.3 MB/s eta 0:00:01\r\u001b[K     |█████████▍                      | 266 kB 5.3 MB/s eta 0:00:01\r\u001b[K     |█████████▉                      | 276 kB 5.3 MB/s eta 0:00:01\r\u001b[K     |██████████▏                     | 286 kB 5.3 MB/s eta 0:00:01\r\u001b[K     |██████████▌                     | 296 kB 5.3 MB/s eta 0:00:01\r\u001b[K     |██████████▉                     | 307 kB 5.3 MB/s eta 0:00:01\r\u001b[K     |███████████▎                    | 317 kB 5.3 MB/s eta 0:00:01\r\u001b[K     |███████████▋                    | 327 kB 5.3 MB/s eta 0:00:01\r\u001b[K     |████████████                    | 337 kB 5.3 MB/s eta 0:00:01\r\u001b[K     |████████████▍                   | 348 kB 5.3 MB/s eta 0:00:01\r\u001b[K     |████████████▊                   | 358 kB 5.3 MB/s eta 0:00:01\r\u001b[K     |█████████████                   | 368 kB 5.3 MB/s eta 0:00:01\r\u001b[K     |█████████████▍                  | 378 kB 5.3 MB/s eta 0:00:01\r\u001b[K     |█████████████▉                  | 389 kB 5.3 MB/s eta 0:00:01\r\u001b[K     |██████████████▏                 | 399 kB 5.3 MB/s eta 0:00:01\r\u001b[K     |██████████████▌                 | 409 kB 5.3 MB/s eta 0:00:01\r\u001b[K     |██████████████▉                 | 419 kB 5.3 MB/s eta 0:00:01\r\u001b[K     |███████████████▎                | 430 kB 5.3 MB/s eta 0:00:01\r\u001b[K     |███████████████▋                | 440 kB 5.3 MB/s eta 0:00:01\r\u001b[K     |████████████████                | 450 kB 5.3 MB/s eta 0:00:01\r\u001b[K     |████████████████▎               | 460 kB 5.3 MB/s eta 0:00:01\r\u001b[K     |████████████████▊               | 471 kB 5.3 MB/s eta 0:00:01\r\u001b[K     |█████████████████               | 481 kB 5.3 MB/s eta 0:00:01\r\u001b[K     |█████████████████▍              | 491 kB 5.3 MB/s eta 0:00:01\r\u001b[K     |█████████████████▉              | 501 kB 5.3 MB/s eta 0:00:01\r\u001b[K     |██████████████████▏             | 512 kB 5.3 MB/s eta 0:00:01\r\u001b[K     |██████████████████▌             | 522 kB 5.3 MB/s eta 0:00:01\r\u001b[K     |██████████████████▉             | 532 kB 5.3 MB/s eta 0:00:01\r\u001b[K     |███████████████████▎            | 542 kB 5.3 MB/s eta 0:00:01\r\u001b[K     |███████████████████▋            | 552 kB 5.3 MB/s eta 0:00:01\r\u001b[K     |████████████████████            | 563 kB 5.3 MB/s eta 0:00:01\r\u001b[K     |████████████████████▎           | 573 kB 5.3 MB/s eta 0:00:01\r\u001b[K     |████████████████████▊           | 583 kB 5.3 MB/s eta 0:00:01\r\u001b[K     |█████████████████████           | 593 kB 5.3 MB/s eta 0:00:01\r\u001b[K     |█████████████████████▍          | 604 kB 5.3 MB/s eta 0:00:01\r\u001b[K     |█████████████████████▊          | 614 kB 5.3 MB/s eta 0:00:01\r\u001b[K     |██████████████████████▏         | 624 kB 5.3 MB/s eta 0:00:01\r\u001b[K     |██████████████████████▌         | 634 kB 5.3 MB/s eta 0:00:01\r\u001b[K     |██████████████████████▉         | 645 kB 5.3 MB/s eta 0:00:01\r\u001b[K     |███████████████████████▎        | 655 kB 5.3 MB/s eta 0:00:01\r\u001b[K     |███████████████████████▋        | 665 kB 5.3 MB/s eta 0:00:01\r\u001b[K     |████████████████████████        | 675 kB 5.3 MB/s eta 0:00:01\r\u001b[K     |████████████████████████▎       | 686 kB 5.3 MB/s eta 0:00:01\r\u001b[K     |████████████████████████▊       | 696 kB 5.3 MB/s eta 0:00:01\r\u001b[K     |█████████████████████████       | 706 kB 5.3 MB/s eta 0:00:01\r\u001b[K     |█████████████████████████▍      | 716 kB 5.3 MB/s eta 0:00:01\r\u001b[K     |█████████████████████████▊      | 727 kB 5.3 MB/s eta 0:00:01\r\u001b[K     |██████████████████████████▏     | 737 kB 5.3 MB/s eta 0:00:01\r\u001b[K     |██████████████████████████▌     | 747 kB 5.3 MB/s eta 0:00:01\r\u001b[K     |██████████████████████████▉     | 757 kB 5.3 MB/s eta 0:00:01\r\u001b[K     |███████████████████████████▏    | 768 kB 5.3 MB/s eta 0:00:01\r\u001b[K     |███████████████████████████▋    | 778 kB 5.3 MB/s eta 0:00:01\r\u001b[K     |████████████████████████████    | 788 kB 5.3 MB/s eta 0:00:01\r\u001b[K     |████████████████████████████▎   | 798 kB 5.3 MB/s eta 0:00:01\r\u001b[K     |████████████████████████████▊   | 808 kB 5.3 MB/s eta 0:00:01\r\u001b[K     |█████████████████████████████   | 819 kB 5.3 MB/s eta 0:00:01\r\u001b[K     |█████████████████████████████▍  | 829 kB 5.3 MB/s eta 0:00:01\r\u001b[K     |█████████████████████████████▊  | 839 kB 5.3 MB/s eta 0:00:01\r\u001b[K     |██████████████████████████████▏ | 849 kB 5.3 MB/s eta 0:00:01\r\u001b[K     |██████████████████████████████▌ | 860 kB 5.3 MB/s eta 0:00:01\r\u001b[K     |██████████████████████████████▉ | 870 kB 5.3 MB/s eta 0:00:01\r\u001b[K     |███████████████████████████████▏| 880 kB 5.3 MB/s eta 0:00:01\r\u001b[K     |███████████████████████████████▋| 890 kB 5.3 MB/s eta 0:00:01\r\u001b[K     |████████████████████████████████| 901 kB 5.3 MB/s eta 0:00:01\r\u001b[K     |████████████████████████████████| 902 kB 5.3 MB/s \n",
            "\u001b[?25hRequirement already satisfied: numpy>=1.17 in /usr/local/lib/python3.7/dist-packages (from arch) (1.21.5)\n",
            "Requirement already satisfied: scipy>=1.3 in /usr/local/lib/python3.7/dist-packages (from arch) (1.4.1)\n",
            "Requirement already satisfied: pandas>=1.0 in /usr/local/lib/python3.7/dist-packages (from arch) (1.3.5)\n",
            "Collecting property-cached>=1.6.4\n",
            "  Downloading property_cached-1.6.4-py2.py3-none-any.whl (7.8 kB)\n",
            "Collecting statsmodels>=0.11\n",
            "  Downloading statsmodels-0.13.2-cp37-cp37m-manylinux_2_17_x86_64.manylinux2014_x86_64.whl (9.8 MB)\n",
            "\u001b[K     |████████████████████████████████| 9.8 MB 36.9 MB/s \n",
            "\u001b[?25hRequirement already satisfied: pytz>=2017.3 in /usr/local/lib/python3.7/dist-packages (from pandas>=1.0->arch) (2018.9)\n",
            "Requirement already satisfied: python-dateutil>=2.7.3 in /usr/local/lib/python3.7/dist-packages (from pandas>=1.0->arch) (2.8.2)\n",
            "Requirement already satisfied: six>=1.5 in /usr/local/lib/python3.7/dist-packages (from python-dateutil>=2.7.3->pandas>=1.0->arch) (1.15.0)\n",
            "Requirement already satisfied: packaging>=21.3 in /usr/local/lib/python3.7/dist-packages (from statsmodels>=0.11->arch) (21.3)\n",
            "Requirement already satisfied: patsy>=0.5.2 in /usr/local/lib/python3.7/dist-packages (from statsmodels>=0.11->arch) (0.5.2)\n",
            "Requirement already satisfied: pyparsing!=3.0.5,>=2.0.2 in /usr/local/lib/python3.7/dist-packages (from packaging>=21.3->statsmodels>=0.11->arch) (3.0.7)\n",
            "Installing collected packages: statsmodels, property-cached, arch\n",
            "  Attempting uninstall: statsmodels\n",
            "    Found existing installation: statsmodels 0.10.2\n",
            "    Uninstalling statsmodels-0.10.2:\n",
            "      Successfully uninstalled statsmodels-0.10.2\n",
            "Successfully installed arch-5.2.0 property-cached-1.6.4 statsmodels-0.13.2\n"
          ]
        },
        {
          "output_type": "display_data",
          "data": {
            "application/vnd.colab-display-data+json": {
              "pip_warning": {
                "packages": [
                  "statsmodels"
                ]
              }
            }
          },
          "metadata": {}
        }
      ]
    },
    {
      "cell_type": "code",
      "source": [
        "from arch.__future__ import reindexing"
      ],
      "metadata": {
        "id": "MxkBwXsiov8f"
      },
      "execution_count": null,
      "outputs": []
    },
    {
      "cell_type": "code",
      "source": [
        "from arch import arch_model"
      ],
      "metadata": {
        "id": "vIQfWktQo5dm"
      },
      "execution_count": null,
      "outputs": []
    },
    {
      "cell_type": "code",
      "source": [
        "import datetime as dt\n",
        "\n",
        "import arch.data.sp500\n",
        "\n",
        "st = dt.datetime(2012, 1, 1)\n",
        "en = dt.datetime(2021, 1, 12)\n",
        "# data = arch.data.sp500.load()\n",
        "market = data[\"Price\"]\n",
        "returns = 100 * market.pct_change().dropna()\n",
        "ax = returns.plot()\n",
        "xlim = ax.set_xlim(returns.index.min(), returns.index.max())"
      ],
      "metadata": {
        "colab": {
          "base_uri": "https://localhost:8080/",
          "height": 265
        },
        "id": "iMiwVqllZm1D",
        "outputId": "8e87efc7-96a4-4f38-a80c-4bb9162fd79b"
      },
      "execution_count": null,
      "outputs": [
        {
          "output_type": "display_data",
          "data": {
            "text/plain": [
              "<Figure size 432x288 with 1 Axes>"
            ],
            "image/png": "[encoded data removed]"
          },
          "metadata": {
            "needs_background": "light"
          }
        }
      ]
    },
    {
      "cell_type": "code",
      "source": [
        "returns.describe()"
      ],
      "metadata": {
        "colab": {
          "base_uri": "https://localhost:8080/"
        },
        "id": "afRsA1TpSyLU",
        "outputId": "fc612560-480a-43a1-fa4b-9f1d5cf3d848"
      },
      "execution_count": null,
      "outputs": [
        {
          "output_type": "execute_result",
          "data": {
            "text/plain": [
              "count    2456.000000\n",
              "mean       -0.019878\n",
              "std         1.027465\n",
              "min        -8.078780\n",
              "25%        -0.474266\n",
              "50%         0.006983\n",
              "75%         0.454313\n",
              "max         5.863704\n",
              "Name: Price, dtype: float64"
            ]
          },
          "metadata": {},
          "execution_count": 41
        }
      ]
    },
    {
      "cell_type": "code",
      "source": [
        "returns.to_csv(\"log1.csv\", index= False)"
      ],
      "metadata": {
        "id": "bhdQBC1dO_Yn"
      },
      "execution_count": null,
      "outputs": []
    },
    {
      "cell_type": "code",
      "source": [
        "# n_test = 10\n",
        "# train, test = returns[:-n_test], returns[-n_test:]"
      ],
      "metadata": {
        "id": "HPOLhJns2mtt"
      },
      "execution_count": null,
      "outputs": []
    },
    {
      "cell_type": "markdown",
      "source": [
        "GARCH with constant Mean ; distribution = Normal"
      ],
      "metadata": {
        "id": "ugxamzOwaHhX"
      }
    },
    {
      "cell_type": "code",
      "source": [
        "from arch import arch_model\n",
        "am = arch_model(train, vol='Garch', p=1, o=0, q=1, dist='Normal', rescale= True, mean='Zero')\n",
        "# am = arch_model(returns,dist=\"StudentsT\")\n",
        "res = am.fit(update_freq=5)\n",
        "print(res.summary())"
      ],
      "metadata": {
        "colab": {
          "base_uri": "https://localhost:8080/"
        },
        "id": "zwMoiriaaASc",
        "outputId": "4fd4d7d8-0d53-46d5-a3b9-3599c4cd8b52"
      },
      "execution_count": null,
      "outputs": [
        {
          "output_type": "stream",
          "name": "stdout",
          "text": [
            "Iteration:      5,   Func. Count:     31,   Neg. LLF: 3119.7245892768724\n",
            "Optimization terminated successfully.    (Exit mode 0)\n",
            "            Current function value: 3119.670111417554\n",
            "            Iterations: 9\n",
            "            Function evaluations: 51\n",
            "            Gradient evaluations: 9\n",
            "                       Zero Mean - GARCH Model Results                        \n",
            "==============================================================================\n",
            "Dep. Variable:                  Price   R-squared:                       0.000\n",
            "Mean Model:                 Zero Mean   Adj. R-squared:                  0.000\n",
            "Vol Model:                      GARCH   Log-Likelihood:               -3119.67\n",
            "Distribution:                  Normal   AIC:                           6245.34\n",
            "Method:            Maximum Likelihood   BIC:                           6262.75\n",
            "                                        No. Observations:                 2445\n",
            "Date:                Sat, Apr 09 2022   Df Residuals:                     2445\n",
            "Time:                        10:26:33   Df Model:                            0\n",
            "                             Volatility Model                             \n",
            "==========================================================================\n",
            "                 coef    std err          t      P>|t|    95.0% Conf. Int.\n",
            "--------------------------------------------------------------------------\n",
            "omega          0.0860  3.247e-02      2.649  8.080e-03 [2.237e-02,  0.150]\n",
            "alpha[1]       0.2200  5.100e-02      4.314  1.605e-05   [  0.120,  0.320]\n",
            "beta[1]        0.7010  7.486e-02      9.364  7.661e-21   [  0.554,  0.848]\n",
            "==========================================================================\n",
            "\n",
            "Covariance estimator: robust\n"
          ]
        }
      ]
    },
    {
      "cell_type": "code",
      "source": [
        "#fitting the model\n",
        "# model_fit = am.fit()\n",
        "# forecast the test set\n",
        "yhat = model_fit.forecast(horizon=n_test)\n",
        "yhat"
      ],
      "metadata": {
        "colab": {
          "base_uri": "https://localhost:8080/"
        },
        "id": "d5LB0YKH2H7E",
        "outputId": "418705fc-1dbc-44b9-bf53-9f454358bd8c"
      },
      "execution_count": null,
      "outputs": [
        {
          "output_type": "execute_result",
          "data": {
            "text/plain": [
              "<arch.univariate.base.ARCHModelForecast at 0x7fa1eb061310>"
            ]
          },
          "metadata": {},
          "execution_count": 24
        }
      ]
    },
    {
      "cell_type": "code",
      "source": [
        "# print(\"Train error: \", np.sqrt(mean_squared_error(train,yhat)))\n",
        "# pred_test_enet= model_enet.predict(X_test)\n",
        "# print(\"Test error:\",np.sqrt(mean_squared_error(y_test,pred_test_enet)))"
      ],
      "metadata": {
        "id": "szjPeW6e3Smw"
      },
      "execution_count": null,
      "outputs": []
    },
    {
      "cell_type": "code",
      "source": [
        "# bic_garch = []\n",
        "# for p in range(1, 5):\n",
        "#   for q in range(1, 5):\n",
        "#     garch = arch_model(returns, mean='zero',vol='GARCH', p=p, o=0, q=q)\\\n",
        "#             .fit(disp='off')\n",
        "#     bic_garch.append(garch.bic)\n",
        "#     if garch.bic == np.min(bic_garch):\n",
        "#       best_param = p, q\n",
        "# garch = arch_model(returns, mean='zero', vol='GARCH',\n",
        "#                 p=best_param[0], o=0, q=best_param[1])\\\n",
        "#       .fit(disp='off')\n",
        "# print(garch.summary())\n",
        "# forecast = garch.forecast(start=split_date[0])\n",
        "# forecast_garch = forecast"
      ],
      "metadata": {
        "id": "ya5Gn_H4Yh1t"
      },
      "execution_count": null,
      "outputs": []
    },
    {
      "cell_type": "code",
      "source": [
        "# forecasts_irfm = am.forecast(horizon=5)\n",
        "forecasts =res.forecast(horizon = 5, reindex = False)\n",
        "print(forecasts.variance.dropna().head())"
      ],
      "metadata": {
        "id": "ZCDIkYPLpHF7"
      },
      "execution_count": null,
      "outputs": []
    },
    {
      "cell_type": "markdown",
      "source": [
        "GARCH with constant Mean ; distribution = Student T"
      ],
      "metadata": {
        "id": "bRTl_W2_nVXa"
      }
    },
    {
      "cell_type": "code",
      "source": [
        "am2 = arch_model(returns, vol='Garch', p=1, o=0, q=1,dist=\"StudentsT\", rescale= True, mean='Zero')\n",
        "# am = arch_model(returns,dist=\"StudentsT\")\n",
        "res = am2.fit(update_freq=5)\n",
        "print(res.summary())"
      ],
      "metadata": {
        "colab": {
          "base_uri": "https://localhost:8080/"
        },
        "id": "scvAODmKm1nO",
        "outputId": "57aca568-0b81-46ac-b0fe-774e3d45af1f"
      },
      "execution_count": null,
      "outputs": [
        {
          "output_type": "stream",
          "name": "stdout",
          "text": [
            "Iteration:      5,   Func. Count:     35,   Neg. LLF: 2982.9874134873644\n",
            "Iteration:     10,   Func. Count:     69,   Neg. LLF: 2976.251198158484\n",
            "Iteration:     15,   Func. Count:     99,   Neg. LLF: 2975.05407942351\n",
            "Optimization terminated successfully.    (Exit mode 0)\n",
            "            Current function value: 2975.0538770571625\n",
            "            Iterations: 17\n",
            "            Function evaluations: 111\n",
            "            Gradient evaluations: 17\n",
            "                          Zero Mean - GARCH Model Results                           \n",
            "====================================================================================\n",
            "Dep. Variable:                        Price   R-squared:                       0.000\n",
            "Mean Model:                       Zero Mean   Adj. R-squared:                  0.000\n",
            "Vol Model:                            GARCH   Log-Likelihood:               -2975.05\n",
            "Distribution:      Standardized Student's t   AIC:                           5958.11\n",
            "Method:                  Maximum Likelihood   BIC:                           5981.33\n",
            "                                              No. Observations:                 2455\n",
            "Date:                      Fri, Apr 08 2022   Df Residuals:                     2455\n",
            "Time:                              13:07:24   Df Model:                            0\n",
            "                             Volatility Model                             \n",
            "==========================================================================\n",
            "                 coef    std err          t      P>|t|    95.0% Conf. Int.\n",
            "--------------------------------------------------------------------------\n",
            "omega          0.1238  3.593e-02      3.445  5.706e-04 [5.337e-02,  0.194]\n",
            "alpha[1]       0.3446  6.283e-02      5.485  4.126e-08   [  0.221,  0.468]\n",
            "beta[1]        0.6196  6.632e-02      9.342  9.435e-21   [  0.490,  0.750]\n",
            "                              Distribution                              \n",
            "========================================================================\n",
            "                 coef    std err          t      P>|t|  95.0% Conf. Int.\n",
            "------------------------------------------------------------------------\n",
            "nu             3.3938      0.248     13.686  1.227e-42 [  2.908,  3.880]\n",
            "========================================================================\n",
            "\n",
            "Covariance estimator: robust\n"
          ]
        }
      ]
    },
    {
      "cell_type": "markdown",
      "source": [
        "EGARCH with Normal Distribution"
      ],
      "metadata": {
        "id": "7PhcI9T_nmuN"
      }
    },
    {
      "cell_type": "code",
      "source": [
        "from arch import arch_model\n",
        "am = arch_model(train, vol='EGarch', p=1, o=0, q=1, dist='Normal', rescale= True, mean='constant')\n",
        "# am = arch_model(returns,dist=\"StudentsT\")\n",
        "res = am.fit(update_freq=5)\n",
        "print(res.summary())"
      ],
      "metadata": {
        "colab": {
          "base_uri": "https://localhost:8080/"
        },
        "id": "swcdHqffnmVD",
        "outputId": "0df69427-9ee3-415e-866b-194cbf2ce29a"
      },
      "execution_count": null,
      "outputs": [
        {
          "output_type": "stream",
          "name": "stdout",
          "text": [
            "Iteration:      5,   Func. Count:     43,   Neg. LLF: 3112.6806161319737\n",
            "Iteration:     10,   Func. Count:     74,   Neg. LLF: 3111.045525158113\n",
            "Optimization terminated successfully.    (Exit mode 0)\n",
            "            Current function value: 3111.0455213787877\n",
            "            Iterations: 12\n",
            "            Function evaluations: 91\n",
            "            Gradient evaluations: 12\n",
            "                     Constant Mean - EGARCH Model Results                     \n",
            "==============================================================================\n",
            "Dep. Variable:                  Price   R-squared:                       0.000\n",
            "Mean Model:             Constant Mean   Adj. R-squared:                  0.000\n",
            "Vol Model:                     EGARCH   Log-Likelihood:               -3111.05\n",
            "Distribution:                  Normal   AIC:                           6230.09\n",
            "Method:            Maximum Likelihood   BIC:                           6253.30\n",
            "                                        No. Observations:                 2445\n",
            "Date:                Sat, Apr 09 2022   Df Residuals:                     2444\n",
            "Time:                        10:34:19   Df Model:                            1\n",
            "                                 Mean Model                                 \n",
            "============================================================================\n",
            "                 coef    std err          t      P>|t|      95.0% Conf. Int.\n",
            "----------------------------------------------------------------------------\n",
            "mu         5.5059e-03  1.607e-03      3.427  6.104e-04 [2.357e-03,8.655e-03]\n",
            "                               Volatility Model                              \n",
            "=============================================================================\n",
            "                 coef    std err          t      P>|t|       95.0% Conf. Int.\n",
            "-----------------------------------------------------------------------------\n",
            "omega      3.8979e-03  1.271e-02      0.307      0.759 [-2.102e-02,2.881e-02]\n",
            "alpha[1]       0.3832  6.143e-02      6.238  4.433e-10      [  0.263,  0.504]\n",
            "beta[1]        0.8996  3.298e-02     27.274 8.551e-164      [  0.835,  0.964]\n",
            "=============================================================================\n",
            "\n",
            "Covariance estimator: robust\n"
          ]
        }
      ]
    },
    {
      "cell_type": "markdown",
      "source": [
        "EGARCH with Student T Distribution"
      ],
      "metadata": {
        "id": "GYsb-f7Jn0FA"
      }
    },
    {
      "cell_type": "code",
      "source": [
        "am2 = arch_model(train, vol='EGarch', p=1, o=0, q=1,dist=\"StudentsT\", rescale= False, mean='constant')\n",
        "# am = arch_model(returns,dist=\"StudentsT\")\n",
        "res = am2.fit(update_freq=5)\n",
        "print(res.summary())"
      ],
      "metadata": {
        "colab": {
          "base_uri": "https://localhost:8080/"
        },
        "id": "9DZXU-npnz6C",
        "outputId": "581818cc-ccea-4f5d-ddec-ad259a614967"
      },
      "execution_count": null,
      "outputs": [
        {
          "output_type": "stream",
          "name": "stdout",
          "text": [
            "Iteration:      5,   Func. Count:     48,   Neg. LLF: 2979.0638949096847\n",
            "Iteration:     10,   Func. Count:     88,   Neg. LLF: 2964.184836811527\n",
            "Iteration:     15,   Func. Count:    125,   Neg. LLF: 2960.3109859290194\n",
            "Optimization terminated successfully.    (Exit mode 0)\n",
            "            Current function value: 2960.2721456032427\n",
            "            Iterations: 19\n",
            "            Function evaluations: 153\n",
            "            Gradient evaluations: 19\n",
            "                        Constant Mean - EGARCH Model Results                        \n",
            "====================================================================================\n",
            "Dep. Variable:                        Price   R-squared:                       0.000\n",
            "Mean Model:                   Constant Mean   Adj. R-squared:                  0.000\n",
            "Vol Model:                           EGARCH   Log-Likelihood:               -2960.27\n",
            "Distribution:      Standardized Student's t   AIC:                           5930.54\n",
            "Method:                  Maximum Likelihood   BIC:                           5959.55\n",
            "                                              No. Observations:                 2445\n",
            "Date:                      Sat, Apr 09 2022   Df Residuals:                     2444\n",
            "Time:                              10:29:55   Df Model:                            1\n",
            "                                  Mean Model                                 \n",
            "=============================================================================\n",
            "                 coef    std err          t      P>|t|       95.0% Conf. Int.\n",
            "-----------------------------------------------------------------------------\n",
            "mu             0.0185  1.347e-02      1.370      0.171 [-7.943e-03,4.484e-02]\n",
            "                              Volatility Model                              \n",
            "============================================================================\n",
            "                 coef    std err          t      P>|t|      95.0% Conf. Int.\n",
            "----------------------------------------------------------------------------\n",
            "omega          0.0491  2.363e-02      2.078  3.771e-02 [2.790e-03,9.543e-02]\n",
            "alpha[1]       0.5022  6.141e-02      8.178  2.877e-16     [  0.382,  0.623]\n",
            "beta[1]        0.8787  3.265e-02     26.911 1.636e-159     [  0.815,  0.943]\n",
            "                              Distribution                              \n",
            "========================================================================\n",
            "                 coef    std err          t      P>|t|  95.0% Conf. Int.\n",
            "------------------------------------------------------------------------\n",
            "nu             3.4125      0.250     13.630  2.640e-42 [  2.922,  3.903]\n",
            "========================================================================\n",
            "\n",
            "Covariance estimator: robust\n"
          ]
        }
      ]
    },
    {
      "cell_type": "markdown",
      "source": [
        "GJR GARCH with Normal distribution"
      ],
      "metadata": {
        "id": "dzrDJ4B0fZEB"
      }
    },
    {
      "cell_type": "code",
      "source": [
        "am = arch_model(returns, p=1, o=1, q=1,dist=\"Normal\")\n",
        "res = am.fit(update_freq=5, disp=\"off\")\n",
        "print(res.summary())"
      ],
      "metadata": {
        "colab": {
          "base_uri": "https://localhost:8080/"
        },
        "id": "639YOnuUfX70",
        "outputId": "0edd770c-9e39-4696-964a-1af8e08f9e1b"
      },
      "execution_count": null,
      "outputs": [
        {
          "output_type": "stream",
          "name": "stdout",
          "text": [
            "                   Constant Mean - GJR-GARCH Model Results                    \n",
            "==============================================================================\n",
            "Dep. Variable:                  Price   R-squared:                       0.000\n",
            "Mean Model:             Constant Mean   Adj. R-squared:                  0.000\n",
            "Vol Model:                  GJR-GARCH   Log-Likelihood:               -3126.95\n",
            "Distribution:                  Normal   AIC:                           6263.89\n",
            "Method:            Maximum Likelihood   BIC:                           6292.92\n",
            "                                        No. Observations:                 2455\n",
            "Date:                Fri, Apr 08 2022   Df Residuals:                     2454\n",
            "Time:                        13:07:50   Df Model:                            1\n",
            "                                  Mean Model                                  \n",
            "==============================================================================\n",
            "                  coef    std err          t      P>|t|       95.0% Conf. Int.\n",
            "------------------------------------------------------------------------------\n",
            "mu         -1.3158e-04  1.766e-02 -7.452e-03      0.994 [-3.474e-02,3.448e-02]\n",
            "                             Volatility Model                             \n",
            "==========================================================================\n",
            "                 coef    std err          t      P>|t|    95.0% Conf. Int.\n",
            "--------------------------------------------------------------------------\n",
            "omega          0.0844  3.187e-02      2.649  8.076e-03 [2.195e-02,  0.147]\n",
            "alpha[1]       0.2343  5.835e-02      4.015  5.936e-05   [  0.120,  0.349]\n",
            "gamma[1]      -0.0287  5.178e-02     -0.554      0.579 [ -0.130,7.278e-02]\n",
            "beta[1]        0.7029  7.402e-02      9.496  2.177e-21   [  0.558,  0.848]\n",
            "==========================================================================\n",
            "\n",
            "Covariance estimator: robust\n"
          ]
        }
      ]
    },
    {
      "cell_type": "markdown",
      "source": [
        "GJR GARCH with Student T distribution"
      ],
      "metadata": {
        "id": "MgTWHaQvoK0Y"
      }
    },
    {
      "cell_type": "code",
      "source": [
        "am = arch_model(returns, p=1, o=1, q=1,dist=\"StudentsT\")\n",
        "res = am.fit(update_freq=5, disp=\"off\")\n",
        "print(res.summary())"
      ],
      "metadata": {
        "colab": {
          "base_uri": "https://localhost:8080/"
        },
        "id": "irzuojGjlqT0",
        "outputId": "3c3d6097-1243-4755-ff2f-f561600eedc4"
      },
      "execution_count": null,
      "outputs": [
        {
          "output_type": "stream",
          "name": "stdout",
          "text": [
            "                      Constant Mean - GJR-GARCH Model Results                       \n",
            "====================================================================================\n",
            "Dep. Variable:                        Price   R-squared:                       0.000\n",
            "Mean Model:                   Constant Mean   Adj. R-squared:                  0.000\n",
            "Vol Model:                        GJR-GARCH   Log-Likelihood:               -2974.08\n",
            "Distribution:      Standardized Student's t   AIC:                           5960.16\n",
            "Method:                  Maximum Likelihood   BIC:                           5995.00\n",
            "                                              No. Observations:                 2455\n",
            "Date:                      Fri, Apr 08 2022   Df Residuals:                     2454\n",
            "Time:                              13:07:57   Df Model:                            1\n",
            "                                  Mean Model                                 \n",
            "=============================================================================\n",
            "                 coef    std err          t      P>|t|       95.0% Conf. Int.\n",
            "-----------------------------------------------------------------------------\n",
            "mu             0.0174  1.375e-02      1.263      0.207 [-9.586e-03,4.433e-02]\n",
            "                             Volatility Model                             \n",
            "==========================================================================\n",
            "                 coef    std err          t      P>|t|    95.0% Conf. Int.\n",
            "--------------------------------------------------------------------------\n",
            "omega          0.1261  3.783e-02      3.333  8.601e-04 [5.193e-02,  0.200]\n",
            "alpha[1]       0.3331  6.458e-02      5.159  2.488e-07   [  0.207,  0.460]\n",
            "gamma[1]       0.0365  7.997e-02      0.456      0.648   [ -0.120,  0.193]\n",
            "beta[1]        0.6129  7.014e-02      8.739  2.356e-18   [  0.475,  0.750]\n",
            "                              Distribution                              \n",
            "========================================================================\n",
            "                 coef    std err          t      P>|t|  95.0% Conf. Int.\n",
            "------------------------------------------------------------------------\n",
            "nu             3.3889      0.248     13.688  1.193e-42 [  2.904,  3.874]\n",
            "========================================================================\n",
            "\n",
            "Covariance estimator: robust\n"
          ]
        }
      ]
    },
    {
      "cell_type": "code",
      "source": [
        "from arch import arch_model\n",
        "am = arch_model(returns,p=1, o=0, q=1, dist='Normal', mean='constant',rescale= True, power=1.0)\n",
        "# am = arch_model(returns,dist=\"StudentsT\")\n",
        "res = am.fit(update_freq=5)\n",
        "print(res.summary())"
      ],
      "metadata": {
        "colab": {
          "base_uri": "https://localhost:8080/"
        },
        "id": "O-paxOE_H0k0",
        "outputId": "90239e44-baf1-424d-f42c-3b7918bdf003"
      },
      "execution_count": null,
      "outputs": [
        {
          "output_type": "stream",
          "name": "stdout",
          "text": [
            "Iteration:      5,   Func. Count:     38,   Neg. LLF: 3135.2663226703053\n",
            "Iteration:     10,   Func. Count:     72,   Neg. LLF: 3120.033051893739\n",
            "Optimization terminated successfully.    (Exit mode 0)\n",
            "            Current function value: 3120.030178868511\n",
            "            Iterations: 13\n",
            "            Function evaluations: 91\n",
            "            Gradient evaluations: 13\n",
            "                    Constant Mean - AVGARCH Model Results                     \n",
            "==============================================================================\n",
            "Dep. Variable:                  Price   R-squared:                       0.000\n",
            "Mean Model:             Constant Mean   Adj. R-squared:                  0.000\n",
            "Vol Model:                    AVGARCH   Log-Likelihood:               -3120.03\n",
            "Distribution:                  Normal   AIC:                           6248.06\n",
            "Method:            Maximum Likelihood   BIC:                           6271.28\n",
            "                                        No. Observations:                 2455\n",
            "Date:                Sat, Apr 09 2022   Df Residuals:                     2454\n",
            "Time:                        11:18:41   Df Model:                            1\n",
            "                                  Mean Model                                 \n",
            "=============================================================================\n",
            "                 coef    std err          t      P>|t|       95.0% Conf. Int.\n",
            "-----------------------------------------------------------------------------\n",
            "mu             0.0120  1.874e-02      0.641      0.522 [-2.471e-02,4.873e-02]\n",
            "                             Volatility Model                             \n",
            "==========================================================================\n",
            "                 coef    std err          t      P>|t|    95.0% Conf. Int.\n",
            "--------------------------------------------------------------------------\n",
            "omega          0.0885  3.245e-02      2.726  6.405e-03 [2.487e-02,  0.152]\n",
            "alpha[1]       0.2127  3.980e-02      5.345  9.058e-08   [  0.135,  0.291]\n",
            "beta[1]        0.7509  6.079e-02     12.353  4.721e-35   [  0.632,  0.870]\n",
            "==========================================================================\n",
            "\n",
            "Covariance estimator: robust\n"
          ]
        }
      ]
    },
    {
      "cell_type": "code",
      "source": [
        "from arch import arch_model\n",
        "am = arch_model(returns,p=1, o=0, q=1, dist='StudentsT', mean='constant',rescale= True, power=1.0)\n",
        "# am = arch_model(returns,dist=\"StudentsT\")\n",
        "res = am.fit(update_freq=5)\n",
        "print(res.summary())"
      ],
      "metadata": {
        "id": "o3BCJF35Jh_k",
        "colab": {
          "base_uri": "https://localhost:8080/"
        },
        "outputId": "6ec0f146-3283-4e63-fb97-6b7eaa8af8e1"
      },
      "execution_count": null,
      "outputs": [
        {
          "output_type": "stream",
          "name": "stdout",
          "text": [
            "Iteration:      5,   Func. Count:     43,   Neg. LLF: 2989.389691948121\n",
            "Iteration:     10,   Func. Count:     83,   Neg. LLF: 2966.460126880669\n",
            "Iteration:     15,   Func. Count:    122,   Neg. LLF: 2965.394279697516\n",
            "Optimization terminated successfully.    (Exit mode 0)\n",
            "            Current function value: 2965.3942246979946\n",
            "            Iterations: 18\n",
            "            Function evaluations: 147\n",
            "            Gradient evaluations: 18\n",
            "                       Constant Mean - AVGARCH Model Results                        \n",
            "====================================================================================\n",
            "Dep. Variable:                        Price   R-squared:                       0.000\n",
            "Mean Model:                   Constant Mean   Adj. R-squared:                  0.000\n",
            "Vol Model:                          AVGARCH   Log-Likelihood:               -2965.39\n",
            "Distribution:      Standardized Student's t   AIC:                           5940.79\n",
            "Method:                  Maximum Likelihood   BIC:                           5969.82\n",
            "                                              No. Observations:                 2455\n",
            "Date:                      Sat, Apr 09 2022   Df Residuals:                     2454\n",
            "Time:                              11:18:44   Df Model:                            1\n",
            "                                 Mean Model                                 \n",
            "============================================================================\n",
            "                 coef    std err          t      P>|t|      95.0% Conf. Int.\n",
            "----------------------------------------------------------------------------\n",
            "mu             0.0205  1.320e-03     15.512  2.883e-54 [1.788e-02,2.306e-02]\n",
            "                             Volatility Model                             \n",
            "==========================================================================\n",
            "                 coef    std err          t      P>|t|    95.0% Conf. Int.\n",
            "--------------------------------------------------------------------------\n",
            "omega          0.1121  3.208e-02      3.496  4.719e-04 [4.928e-02,  0.175]\n",
            "alpha[1]       0.2922  4.019e-02      7.271  3.579e-13   [  0.213,  0.371]\n",
            "beta[1]        0.6934  5.381e-02     12.885  5.456e-38   [  0.588,  0.799]\n",
            "                              Distribution                              \n",
            "========================================================================\n",
            "                 coef    std err          t      P>|t|  95.0% Conf. Int.\n",
            "------------------------------------------------------------------------\n",
            "nu             3.4092      0.247     13.791  2.885e-43 [  2.925,  3.894]\n",
            "========================================================================\n",
            "\n",
            "Covariance estimator: robust\n"
          ]
        }
      ]
    },
    {
      "cell_type": "code",
      "source": [
        ""
      ],
      "metadata": {
        "id": "CIzSXi6_8Fe8"
      },
      "execution_count": null,
      "outputs": []
    }
  ],
  "metadata": {
    "colab": {
      "name": "Baum Tenper Research.ipynb",
      "provenance": [],
      "collapsed_sections": [],
      "authorship_tag": "ABX9TyPtASzLbnXi9w51yDhGVfOh",
      "include_colab_link": true
    },
    "kernelspec": {
      "display_name": "Python 3",
      "name": "python3"
    },
    "language_info": {
      "name": "python"
    }
  },
  "nbformat": 4,
  "nbformat_minor": 0
}