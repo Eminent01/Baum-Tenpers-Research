{
  "cells": [
    {
      "cell_type": "markdown",
      "metadata": {
        "id": "view-in-github",
        "colab_type": "text"
      },
      "source": [
        "<a href=\"https://colab.research.google.com/github/Eminent01/Baum-Tenpers-Research/blob/main/Baum_Tenper_Research.ipynb\" target=\"_parent\"><img src=\"https://colab.research.google.com/assets/colab-badge.svg\" alt=\"Open In Colab\"/></a>"
      ]
    },
    {
      "cell_type": "markdown",
      "metadata": {
        "id": "3wQo_R6YTbNf"
      },
      "source": [
        "These colab notebook is for the algorithm implimentation of the GARCH Neural network, Linear,LASSO, Ridge and Elastic net regression"
      ]
    },
    {
      "cell_type": "markdown",
      "metadata": {
        "id": "lp1-fUsXT8SP"
      },
      "source": [
        "Let's first call out all the required package for the algorithm"
      ]
    },
    {
      "cell_type": "code",
      "execution_count": null,
      "metadata": {
        "colab": {
          "base_uri": "https://localhost:8080/"
        },
        "id": "LnPLHeIlFAw3",
        "outputId": "05da21b2-b1c3-45a6-9b1d-b80b7f79cf72"
      },
      "outputs": [
        {
          "name": "stdout",
          "output_type": "stream",
          "text": [
            "Mounted at /content/drive\n"
          ]
        }
      ],
      "source": [
        "# from google.colab import drive\n",
        "# drive.mount('/content/drive')"
      ]
    },
    {
      "cell_type": "code",
      "execution_count": 1,
      "metadata": {
        "id": "l4XBKtwzUHEA"
      },
      "outputs": [],
      "source": [
        "#Importing neccesary libraries\n",
        "import pandas as pd\n",
        "import matplotlib.pyplot as plt\n",
        "import seaborn as sns\n",
        "import numpy as np\n",
        "import datetime as date\n",
        "from sklearn.linear_model import LinearRegression"
      ]
    },
    {
      "cell_type": "markdown",
      "metadata": {
        "id": "B4mX6xyVdM1_"
      },
      "source": [
        "Importing the Data set from the local Drive"
      ]
    },
    {
      "cell_type": "code",
      "execution_count": 165,
      "metadata": {
        "id": "GotRD2wNGunr"
      },
      "outputs": [],
      "source": [
        "data = pd.read_csv(\"/content/NSE 30 Historical Data.csv\" , thousands =',')"
      ]
    },
    {
      "cell_type": "code",
      "execution_count": null,
      "metadata": {
        "id": "DPK23gr5MsdL"
      },
      "outputs": [],
      "source": [
        "# data = pd.read_csv(\"/content/NSE All Share Historical Data.csv\" , thousands =',')"
      ]
    },
    {
      "cell_type": "code",
      "execution_count": null,
      "metadata": {
        "id": "MoT-miUjFVKN"
      },
      "outputs": [],
      "source": [
        "#Import the dataset for the analysis \n",
        "# data = pd.read_csv(\"/content/drive/MyDrive/NSE 30 Historical Data.csv\" , thousands =',')"
      ]
    },
    {
      "cell_type": "code",
      "execution_count": 75,
      "metadata": {
        "id": "NZNOPF2yHJlP"
      },
      "outputs": [],
      "source": [
        "# # # Import the dataset for the analysis \n",
        "# data = pd.read_csv(\"NSE All Share Historical Data.csv\" , thousands =',')"
      ]
    },
    {
      "cell_type": "code",
      "execution_count": 166,
      "metadata": {
        "id": "t_yOeVQlc9vQ"
      },
      "outputs": [],
      "source": [
        "# Data engineering \n",
        "data['Vol.'] = data['Vol.'].str.replace('M', \"\")\n",
        "data['Change %'] = data['Change %'].str.replace('%', \"\")\n",
        "data['Date'] = pd.to_datetime(data['Date'])"
      ]
    },
    {
      "cell_type": "code",
      "execution_count": 167,
      "metadata": {
        "id": "hHc2VCy7fDxG"
      },
      "outputs": [],
      "source": [
        "data['Vol.'] = pd.to_numeric(data['Vol.'], errors ='coerce')\n",
        "data['Change %'] = pd.to_numeric(data['Change %'], errors ='coerce')"
      ]
    },
    {
      "cell_type": "code",
      "execution_count": 78,
      "metadata": {
        "colab": {
          "base_uri": "https://localhost:8080/"
        },
        "id": "JNRUi_wrH0Fu",
        "outputId": "f085b85e-4c05-4cf5-b133-16bddc34d4c5"
      },
      "outputs": [
        {
          "output_type": "execute_result",
          "data": {
            "text/plain": [
              "(2457, 7)"
            ]
          },
          "metadata": {},
          "execution_count": 78
        }
      ],
      "source": [
        "#Checking the dimension of the dataset\n",
        "data.shape"
      ]
    },
    {
      "cell_type": "code",
      "execution_count": 79,
      "metadata": {
        "colab": {
          "base_uri": "https://localhost:8080/",
          "height": 206
        },
        "id": "tZhjsxphIV5t",
        "outputId": "11142542-f65a-45f6-b6d5-86f2d6f00ff2"
      },
      "outputs": [
        {
          "output_type": "execute_result",
          "data": {
            "text/plain": [
              "        Date    Price     Open     High      Low    Vol.  Change %\n",
              "0 2021-12-31  1722.30  1677.94  1723.30  1675.71  268.50      2.67\n",
              "1 2021-12-30  1677.48  1677.67  1678.33  1674.86  123.11     -0.01\n",
              "2 2021-12-29  1677.67  1700.61  1702.19  1674.41   75.89     -1.35\n",
              "3 2021-12-24  1700.61  1699.87  1700.99  1698.59   63.63      0.13\n",
              "4 2021-12-23  1698.44  1699.38  1700.27  1697.25   63.39     -0.06"
            ],
            "text/html": [
              "\n",
              "  <div id=\"df-730b02de-b959-4e2e-b518-f70bde4e380f\">\n",
              "    <div class=\"colab-df-container\">\n",
              "      <div>\n",
              "<style scoped>\n",
              "    .dataframe tbody tr th:only-of-type {\n",
              "        vertical-align: middle;\n",
              "    }\n",
              "\n",
              "    .dataframe tbody tr th {\n",
              "        vertical-align: top;\n",
              "    }\n",
              "\n",
              "    .dataframe thead th {\n",
              "        text-align: right;\n",
              "    }\n",
              "</style>\n",
              "<table border=\"1\" class=\"dataframe\">\n",
              "  <thead>\n",
              "    <tr style=\"text-align: right;\">\n",
              "      <th></th>\n",
              "      <th>Date</th>\n",
              "      <th>Price</th>\n",
              "      <th>Open</th>\n",
              "      <th>High</th>\n",
              "      <th>Low</th>\n",
              "      <th>Vol.</th>\n",
              "      <th>Change %</th>\n",
              "    </tr>\n",
              "  </thead>\n",
              "  <tbody>\n",
              "    <tr>\n",
              "      <th>0</th>\n",
              "      <td>2021-12-31</td>\n",
              "      <td>1722.30</td>\n",
              "      <td>1677.94</td>\n",
              "      <td>1723.30</td>\n",
              "      <td>1675.71</td>\n",
              "      <td>268.50</td>\n",
              "      <td>2.67</td>\n",
              "    </tr>\n",
              "    <tr>\n",
              "      <th>1</th>\n",
              "      <td>2021-12-30</td>\n",
              "      <td>1677.48</td>\n",
              "      <td>1677.67</td>\n",
              "      <td>1678.33</td>\n",
              "      <td>1674.86</td>\n",
              "      <td>123.11</td>\n",
              "      <td>-0.01</td>\n",
              "    </tr>\n",
              "    <tr>\n",
              "      <th>2</th>\n",
              "      <td>2021-12-29</td>\n",
              "      <td>1677.67</td>\n",
              "      <td>1700.61</td>\n",
              "      <td>1702.19</td>\n",
              "      <td>1674.41</td>\n",
              "      <td>75.89</td>\n",
              "      <td>-1.35</td>\n",
              "    </tr>\n",
              "    <tr>\n",
              "      <th>3</th>\n",
              "      <td>2021-12-24</td>\n",
              "      <td>1700.61</td>\n",
              "      <td>1699.87</td>\n",
              "      <td>1700.99</td>\n",
              "      <td>1698.59</td>\n",
              "      <td>63.63</td>\n",
              "      <td>0.13</td>\n",
              "    </tr>\n",
              "    <tr>\n",
              "      <th>4</th>\n",
              "      <td>2021-12-23</td>\n",
              "      <td>1698.44</td>\n",
              "      <td>1699.38</td>\n",
              "      <td>1700.27</td>\n",
              "      <td>1697.25</td>\n",
              "      <td>63.39</td>\n",
              "      <td>-0.06</td>\n",
              "    </tr>\n",
              "  </tbody>\n",
              "</table>\n",
              "</div>\n",
              "      <button class=\"colab-df-convert\" onclick=\"convertToInteractive('df-730b02de-b959-4e2e-b518-f70bde4e380f')\"\n",
              "              title=\"Convert this dataframe to an interactive table.\"\n",
              "              style=\"display:none;\">\n",
              "        \n",
              "  <svg xmlns=\"http://www.w3.org/2000/svg\" height=\"24px\"viewBox=\"0 0 24 24\"\n",
              "       width=\"24px\">\n",
              "    <path d=\"M0 0h24v24H0V0z\" fill=\"none\"/>\n",
              "    <path d=\"M18.56 5.44l.94 2.06.94-2.06 2.06-.94-2.06-.94-.94-2.06-.94 2.06-2.06.94zm-11 1L8.5 8.5l.94-2.06 2.06-.94-2.06-.94L8.5 2.5l-.94 2.06-2.06.94zm10 10l.94 2.06.94-2.06 2.06-.94-2.06-.94-.94-2.06-.94 2.06-2.06.94z\"/><path d=\"M17.41 7.96l-1.37-1.37c-.4-.4-.92-.59-1.43-.59-.52 0-1.04.2-1.43.59L10.3 9.45l-7.72 7.72c-.78.78-.78 2.05 0 2.83L4 21.41c.39.39.9.59 1.41.59.51 0 1.02-.2 1.41-.59l7.78-7.78 2.81-2.81c.8-.78.8-2.07 0-2.86zM5.41 20L4 18.59l7.72-7.72 1.47 1.35L5.41 20z\"/>\n",
              "  </svg>\n",
              "      </button>\n",
              "      \n",
              "  <style>\n",
              "    .colab-df-container {\n",
              "      display:flex;\n",
              "      flex-wrap:wrap;\n",
              "      gap: 12px;\n",
              "    }\n",
              "\n",
              "    .colab-df-convert {\n",
              "      background-color: #E8F0FE;\n",
              "      border: none;\n",
              "      border-radius: 50%;\n",
              "      cursor: pointer;\n",
              "      display: none;\n",
              "      fill: #1967D2;\n",
              "      height: 32px;\n",
              "      padding: 0 0 0 0;\n",
              "      width: 32px;\n",
              "    }\n",
              "\n",
              "    .colab-df-convert:hover {\n",
              "      background-color: #E2EBFA;\n",
              "      box-shadow: 0px 1px 2px rgba(60, 64, 67, 0.3), 0px 1px 3px 1px rgba(60, 64, 67, 0.15);\n",
              "      fill: #174EA6;\n",
              "    }\n",
              "\n",
              "    [theme=dark] .colab-df-convert {\n",
              "      background-color: #3B4455;\n",
              "      fill: #D2E3FC;\n",
              "    }\n",
              "\n",
              "    [theme=dark] .colab-df-convert:hover {\n",
              "      background-color: #434B5C;\n",
              "      box-shadow: 0px 1px 3px 1px rgba(0, 0, 0, 0.15);\n",
              "      filter: drop-shadow(0px 1px 2px rgba(0, 0, 0, 0.3));\n",
              "      fill: #FFFFFF;\n",
              "    }\n",
              "  </style>\n",
              "\n",
              "      <script>\n",
              "        const buttonEl =\n",
              "          document.querySelector('#df-730b02de-b959-4e2e-b518-f70bde4e380f button.colab-df-convert');\n",
              "        buttonEl.style.display =\n",
              "          google.colab.kernel.accessAllowed ? 'block' : 'none';\n",
              "\n",
              "        async function convertToInteractive(key) {\n",
              "          const element = document.querySelector('#df-730b02de-b959-4e2e-b518-f70bde4e380f');\n",
              "          const dataTable =\n",
              "            await google.colab.kernel.invokeFunction('convertToInteractive',\n",
              "                                                     [key], {});\n",
              "          if (!dataTable) return;\n",
              "\n",
              "          const docLinkHtml = 'Like what you see? Visit the ' +\n",
              "            '<a target=\"_blank\" href=https://colab.research.google.com/notebooks/data_table.ipynb>data table notebook</a>'\n",
              "            + ' to learn more about interactive tables.';\n",
              "          element.innerHTML = '';\n",
              "          dataTable['output_type'] = 'display_data';\n",
              "          await google.colab.output.renderOutput(dataTable, element);\n",
              "          const docLink = document.createElement('div');\n",
              "          docLink.innerHTML = docLinkHtml;\n",
              "          element.appendChild(docLink);\n",
              "        }\n",
              "      </script>\n",
              "    </div>\n",
              "  </div>\n",
              "  "
            ]
          },
          "metadata": {},
          "execution_count": 79
        }
      ],
      "source": [
        "#Printing the first 5 rows of the dataset \n",
        "data.head(5)"
      ]
    },
    {
      "cell_type": "code",
      "execution_count": 80,
      "metadata": {
        "colab": {
          "base_uri": "https://localhost:8080/",
          "height": 300
        },
        "id": "W-GWsgsgs8DV",
        "outputId": "ca9bfe87-9d8a-42c1-f2c2-628057c1d4e9"
      },
      "outputs": [
        {
          "output_type": "execute_result",
          "data": {
            "text/plain": [
              "             Price         Open         High          Low         Vol.  \\\n",
              "count  2457.000000  2457.000000  2457.000000  2457.000000  1156.000000   \n",
              "mean   1432.597570  1432.248433  1439.576675  1424.337566   193.019464   \n",
              "std     285.008179   285.073439   286.068201   283.587090   124.748674   \n",
              "min     871.260000   871.960000   884.640000   870.340000    38.030000   \n",
              "25%    1178.550000  1178.020000  1184.190000  1172.850000   109.785000   \n",
              "50%    1424.600000  1421.800000  1433.640000  1415.660000   159.710000   \n",
              "75%    1683.720000  1682.940000  1689.430000  1675.440000   238.182500   \n",
              "max    2062.610000  2062.610000  2073.000000  2038.690000   970.690000   \n",
              "\n",
              "          Change %  \n",
              "count  2457.000000  \n",
              "mean      0.030077  \n",
              "std       1.031463  \n",
              "min      -5.540000  \n",
              "25%      -0.450000  \n",
              "50%      -0.010000  \n",
              "75%       0.480000  \n",
              "max       8.790000  "
            ],
            "text/html": [
              "\n",
              "  <div id=\"df-003b17ee-57d6-419e-9c8a-16117f1b6a09\">\n",
              "    <div class=\"colab-df-container\">\n",
              "      <div>\n",
              "<style scoped>\n",
              "    .dataframe tbody tr th:only-of-type {\n",
              "        vertical-align: middle;\n",
              "    }\n",
              "\n",
              "    .dataframe tbody tr th {\n",
              "        vertical-align: top;\n",
              "    }\n",
              "\n",
              "    .dataframe thead th {\n",
              "        text-align: right;\n",
              "    }\n",
              "</style>\n",
              "<table border=\"1\" class=\"dataframe\">\n",
              "  <thead>\n",
              "    <tr style=\"text-align: right;\">\n",
              "      <th></th>\n",
              "      <th>Price</th>\n",
              "      <th>Open</th>\n",
              "      <th>High</th>\n",
              "      <th>Low</th>\n",
              "      <th>Vol.</th>\n",
              "      <th>Change %</th>\n",
              "    </tr>\n",
              "  </thead>\n",
              "  <tbody>\n",
              "    <tr>\n",
              "      <th>count</th>\n",
              "      <td>2457.000000</td>\n",
              "      <td>2457.000000</td>\n",
              "      <td>2457.000000</td>\n",
              "      <td>2457.000000</td>\n",
              "      <td>1156.000000</td>\n",
              "      <td>2457.000000</td>\n",
              "    </tr>\n",
              "    <tr>\n",
              "      <th>mean</th>\n",
              "      <td>1432.597570</td>\n",
              "      <td>1432.248433</td>\n",
              "      <td>1439.576675</td>\n",
              "      <td>1424.337566</td>\n",
              "      <td>193.019464</td>\n",
              "      <td>0.030077</td>\n",
              "    </tr>\n",
              "    <tr>\n",
              "      <th>std</th>\n",
              "      <td>285.008179</td>\n",
              "      <td>285.073439</td>\n",
              "      <td>286.068201</td>\n",
              "      <td>283.587090</td>\n",
              "      <td>124.748674</td>\n",
              "      <td>1.031463</td>\n",
              "    </tr>\n",
              "    <tr>\n",
              "      <th>min</th>\n",
              "      <td>871.260000</td>\n",
              "      <td>871.960000</td>\n",
              "      <td>884.640000</td>\n",
              "      <td>870.340000</td>\n",
              "      <td>38.030000</td>\n",
              "      <td>-5.540000</td>\n",
              "    </tr>\n",
              "    <tr>\n",
              "      <th>25%</th>\n",
              "      <td>1178.550000</td>\n",
              "      <td>1178.020000</td>\n",
              "      <td>1184.190000</td>\n",
              "      <td>1172.850000</td>\n",
              "      <td>109.785000</td>\n",
              "      <td>-0.450000</td>\n",
              "    </tr>\n",
              "    <tr>\n",
              "      <th>50%</th>\n",
              "      <td>1424.600000</td>\n",
              "      <td>1421.800000</td>\n",
              "      <td>1433.640000</td>\n",
              "      <td>1415.660000</td>\n",
              "      <td>159.710000</td>\n",
              "      <td>-0.010000</td>\n",
              "    </tr>\n",
              "    <tr>\n",
              "      <th>75%</th>\n",
              "      <td>1683.720000</td>\n",
              "      <td>1682.940000</td>\n",
              "      <td>1689.430000</td>\n",
              "      <td>1675.440000</td>\n",
              "      <td>238.182500</td>\n",
              "      <td>0.480000</td>\n",
              "    </tr>\n",
              "    <tr>\n",
              "      <th>max</th>\n",
              "      <td>2062.610000</td>\n",
              "      <td>2062.610000</td>\n",
              "      <td>2073.000000</td>\n",
              "      <td>2038.690000</td>\n",
              "      <td>970.690000</td>\n",
              "      <td>8.790000</td>\n",
              "    </tr>\n",
              "  </tbody>\n",
              "</table>\n",
              "</div>\n",
              "      <button class=\"colab-df-convert\" onclick=\"convertToInteractive('df-003b17ee-57d6-419e-9c8a-16117f1b6a09')\"\n",
              "              title=\"Convert this dataframe to an interactive table.\"\n",
              "              style=\"display:none;\">\n",
              "        \n",
              "  <svg xmlns=\"http://www.w3.org/2000/svg\" height=\"24px\"viewBox=\"0 0 24 24\"\n",
              "       width=\"24px\">\n",
              "    <path d=\"M0 0h24v24H0V0z\" fill=\"none\"/>\n",
              "    <path d=\"M18.56 5.44l.94 2.06.94-2.06 2.06-.94-2.06-.94-.94-2.06-.94 2.06-2.06.94zm-11 1L8.5 8.5l.94-2.06 2.06-.94-2.06-.94L8.5 2.5l-.94 2.06-2.06.94zm10 10l.94 2.06.94-2.06 2.06-.94-2.06-.94-.94-2.06-.94 2.06-2.06.94z\"/><path d=\"M17.41 7.96l-1.37-1.37c-.4-.4-.92-.59-1.43-.59-.52 0-1.04.2-1.43.59L10.3 9.45l-7.72 7.72c-.78.78-.78 2.05 0 2.83L4 21.41c.39.39.9.59 1.41.59.51 0 1.02-.2 1.41-.59l7.78-7.78 2.81-2.81c.8-.78.8-2.07 0-2.86zM5.41 20L4 18.59l7.72-7.72 1.47 1.35L5.41 20z\"/>\n",
              "  </svg>\n",
              "      </button>\n",
              "      \n",
              "  <style>\n",
              "    .colab-df-container {\n",
              "      display:flex;\n",
              "      flex-wrap:wrap;\n",
              "      gap: 12px;\n",
              "    }\n",
              "\n",
              "    .colab-df-convert {\n",
              "      background-color: #E8F0FE;\n",
              "      border: none;\n",
              "      border-radius: 50%;\n",
              "      cursor: pointer;\n",
              "      display: none;\n",
              "      fill: #1967D2;\n",
              "      height: 32px;\n",
              "      padding: 0 0 0 0;\n",
              "      width: 32px;\n",
              "    }\n",
              "\n",
              "    .colab-df-convert:hover {\n",
              "      background-color: #E2EBFA;\n",
              "      box-shadow: 0px 1px 2px rgba(60, 64, 67, 0.3), 0px 1px 3px 1px rgba(60, 64, 67, 0.15);\n",
              "      fill: #174EA6;\n",
              "    }\n",
              "\n",
              "    [theme=dark] .colab-df-convert {\n",
              "      background-color: #3B4455;\n",
              "      fill: #D2E3FC;\n",
              "    }\n",
              "\n",
              "    [theme=dark] .colab-df-convert:hover {\n",
              "      background-color: #434B5C;\n",
              "      box-shadow: 0px 1px 3px 1px rgba(0, 0, 0, 0.15);\n",
              "      filter: drop-shadow(0px 1px 2px rgba(0, 0, 0, 0.3));\n",
              "      fill: #FFFFFF;\n",
              "    }\n",
              "  </style>\n",
              "\n",
              "      <script>\n",
              "        const buttonEl =\n",
              "          document.querySelector('#df-003b17ee-57d6-419e-9c8a-16117f1b6a09 button.colab-df-convert');\n",
              "        buttonEl.style.display =\n",
              "          google.colab.kernel.accessAllowed ? 'block' : 'none';\n",
              "\n",
              "        async function convertToInteractive(key) {\n",
              "          const element = document.querySelector('#df-003b17ee-57d6-419e-9c8a-16117f1b6a09');\n",
              "          const dataTable =\n",
              "            await google.colab.kernel.invokeFunction('convertToInteractive',\n",
              "                                                     [key], {});\n",
              "          if (!dataTable) return;\n",
              "\n",
              "          const docLinkHtml = 'Like what you see? Visit the ' +\n",
              "            '<a target=\"_blank\" href=https://colab.research.google.com/notebooks/data_table.ipynb>data table notebook</a>'\n",
              "            + ' to learn more about interactive tables.';\n",
              "          element.innerHTML = '';\n",
              "          dataTable['output_type'] = 'display_data';\n",
              "          await google.colab.output.renderOutput(dataTable, element);\n",
              "          const docLink = document.createElement('div');\n",
              "          docLink.innerHTML = docLinkHtml;\n",
              "          element.appendChild(docLink);\n",
              "        }\n",
              "      </script>\n",
              "    </div>\n",
              "  </div>\n",
              "  "
            ]
          },
          "metadata": {},
          "execution_count": 80
        }
      ],
      "source": [
        "#Summary statistics of the data\n",
        "data.describe()"
      ]
    },
    {
      "cell_type": "markdown",
      "metadata": {
        "id": "MzdGHR-Bp6TR"
      },
      "source": [
        "##Exploratory Data Analysis"
      ]
    },
    {
      "cell_type": "code",
      "execution_count": 8,
      "metadata": {
        "colab": {
          "base_uri": "https://localhost:8080/",
          "height": 238
        },
        "id": "qaQUb9m3Im4L",
        "outputId": "f1fbe3ad-579b-4c14-b3c3-c457971b0c0b"
      },
      "outputs": [
        {
          "output_type": "execute_result",
          "data": {
            "text/plain": [
              "             Price      Open      High       Low      Vol.  Change %\n",
              "Price     1.000000  0.998730  0.999504  0.999393  0.145302  0.012553\n",
              "Open      0.998730  1.000000  0.999403  0.999381  0.135238 -0.036340\n",
              "High      0.999504  0.999403  1.000000  0.999155  0.149434 -0.009854\n",
              "Low       0.999393  0.999381  0.999155  1.000000  0.131777 -0.011766\n",
              "Vol.      0.145302  0.135238  0.149434  0.131777  1.000000  0.200179\n",
              "Change %  0.012553 -0.036340 -0.009854 -0.011766  0.200179  1.000000"
            ],
            "text/html": [
              "\n",
              "  <div id=\"df-c844e4c5-4f4f-48e5-861c-61e624a7898c\">\n",
              "    <div class=\"colab-df-container\">\n",
              "      <div>\n",
              "<style scoped>\n",
              "    .dataframe tbody tr th:only-of-type {\n",
              "        vertical-align: middle;\n",
              "    }\n",
              "\n",
              "    .dataframe tbody tr th {\n",
              "        vertical-align: top;\n",
              "    }\n",
              "\n",
              "    .dataframe thead th {\n",
              "        text-align: right;\n",
              "    }\n",
              "</style>\n",
              "<table border=\"1\" class=\"dataframe\">\n",
              "  <thead>\n",
              "    <tr style=\"text-align: right;\">\n",
              "      <th></th>\n",
              "      <th>Price</th>\n",
              "      <th>Open</th>\n",
              "      <th>High</th>\n",
              "      <th>Low</th>\n",
              "      <th>Vol.</th>\n",
              "      <th>Change %</th>\n",
              "    </tr>\n",
              "  </thead>\n",
              "  <tbody>\n",
              "    <tr>\n",
              "      <th>Price</th>\n",
              "      <td>1.000000</td>\n",
              "      <td>0.998730</td>\n",
              "      <td>0.999504</td>\n",
              "      <td>0.999393</td>\n",
              "      <td>0.145302</td>\n",
              "      <td>0.012553</td>\n",
              "    </tr>\n",
              "    <tr>\n",
              "      <th>Open</th>\n",
              "      <td>0.998730</td>\n",
              "      <td>1.000000</td>\n",
              "      <td>0.999403</td>\n",
              "      <td>0.999381</td>\n",
              "      <td>0.135238</td>\n",
              "      <td>-0.036340</td>\n",
              "    </tr>\n",
              "    <tr>\n",
              "      <th>High</th>\n",
              "      <td>0.999504</td>\n",
              "      <td>0.999403</td>\n",
              "      <td>1.000000</td>\n",
              "      <td>0.999155</td>\n",
              "      <td>0.149434</td>\n",
              "      <td>-0.009854</td>\n",
              "    </tr>\n",
              "    <tr>\n",
              "      <th>Low</th>\n",
              "      <td>0.999393</td>\n",
              "      <td>0.999381</td>\n",
              "      <td>0.999155</td>\n",
              "      <td>1.000000</td>\n",
              "      <td>0.131777</td>\n",
              "      <td>-0.011766</td>\n",
              "    </tr>\n",
              "    <tr>\n",
              "      <th>Vol.</th>\n",
              "      <td>0.145302</td>\n",
              "      <td>0.135238</td>\n",
              "      <td>0.149434</td>\n",
              "      <td>0.131777</td>\n",
              "      <td>1.000000</td>\n",
              "      <td>0.200179</td>\n",
              "    </tr>\n",
              "    <tr>\n",
              "      <th>Change %</th>\n",
              "      <td>0.012553</td>\n",
              "      <td>-0.036340</td>\n",
              "      <td>-0.009854</td>\n",
              "      <td>-0.011766</td>\n",
              "      <td>0.200179</td>\n",
              "      <td>1.000000</td>\n",
              "    </tr>\n",
              "  </tbody>\n",
              "</table>\n",
              "</div>\n",
              "      <button class=\"colab-df-convert\" onclick=\"convertToInteractive('df-c844e4c5-4f4f-48e5-861c-61e624a7898c')\"\n",
              "              title=\"Convert this dataframe to an interactive table.\"\n",
              "              style=\"display:none;\">\n",
              "        \n",
              "  <svg xmlns=\"http://www.w3.org/2000/svg\" height=\"24px\"viewBox=\"0 0 24 24\"\n",
              "       width=\"24px\">\n",
              "    <path d=\"M0 0h24v24H0V0z\" fill=\"none\"/>\n",
              "    <path d=\"M18.56 5.44l.94 2.06.94-2.06 2.06-.94-2.06-.94-.94-2.06-.94 2.06-2.06.94zm-11 1L8.5 8.5l.94-2.06 2.06-.94-2.06-.94L8.5 2.5l-.94 2.06-2.06.94zm10 10l.94 2.06.94-2.06 2.06-.94-2.06-.94-.94-2.06-.94 2.06-2.06.94z\"/><path d=\"M17.41 7.96l-1.37-1.37c-.4-.4-.92-.59-1.43-.59-.52 0-1.04.2-1.43.59L10.3 9.45l-7.72 7.72c-.78.78-.78 2.05 0 2.83L4 21.41c.39.39.9.59 1.41.59.51 0 1.02-.2 1.41-.59l7.78-7.78 2.81-2.81c.8-.78.8-2.07 0-2.86zM5.41 20L4 18.59l7.72-7.72 1.47 1.35L5.41 20z\"/>\n",
              "  </svg>\n",
              "      </button>\n",
              "      \n",
              "  <style>\n",
              "    .colab-df-container {\n",
              "      display:flex;\n",
              "      flex-wrap:wrap;\n",
              "      gap: 12px;\n",
              "    }\n",
              "\n",
              "    .colab-df-convert {\n",
              "      background-color: #E8F0FE;\n",
              "      border: none;\n",
              "      border-radius: 50%;\n",
              "      cursor: pointer;\n",
              "      display: none;\n",
              "      fill: #1967D2;\n",
              "      height: 32px;\n",
              "      padding: 0 0 0 0;\n",
              "      width: 32px;\n",
              "    }\n",
              "\n",
              "    .colab-df-convert:hover {\n",
              "      background-color: #E2EBFA;\n",
              "      box-shadow: 0px 1px 2px rgba(60, 64, 67, 0.3), 0px 1px 3px 1px rgba(60, 64, 67, 0.15);\n",
              "      fill: #174EA6;\n",
              "    }\n",
              "\n",
              "    [theme=dark] .colab-df-convert {\n",
              "      background-color: #3B4455;\n",
              "      fill: #D2E3FC;\n",
              "    }\n",
              "\n",
              "    [theme=dark] .colab-df-convert:hover {\n",
              "      background-color: #434B5C;\n",
              "      box-shadow: 0px 1px 3px 1px rgba(0, 0, 0, 0.15);\n",
              "      filter: drop-shadow(0px 1px 2px rgba(0, 0, 0, 0.3));\n",
              "      fill: #FFFFFF;\n",
              "    }\n",
              "  </style>\n",
              "\n",
              "      <script>\n",
              "        const buttonEl =\n",
              "          document.querySelector('#df-c844e4c5-4f4f-48e5-861c-61e624a7898c button.colab-df-convert');\n",
              "        buttonEl.style.display =\n",
              "          google.colab.kernel.accessAllowed ? 'block' : 'none';\n",
              "\n",
              "        async function convertToInteractive(key) {\n",
              "          const element = document.querySelector('#df-c844e4c5-4f4f-48e5-861c-61e624a7898c');\n",
              "          const dataTable =\n",
              "            await google.colab.kernel.invokeFunction('convertToInteractive',\n",
              "                                                     [key], {});\n",
              "          if (!dataTable) return;\n",
              "\n",
              "          const docLinkHtml = 'Like what you see? Visit the ' +\n",
              "            '<a target=\"_blank\" href=https://colab.research.google.com/notebooks/data_table.ipynb>data table notebook</a>'\n",
              "            + ' to learn more about interactive tables.';\n",
              "          element.innerHTML = '';\n",
              "          dataTable['output_type'] = 'display_data';\n",
              "          await google.colab.output.renderOutput(dataTable, element);\n",
              "          const docLink = document.createElement('div');\n",
              "          docLink.innerHTML = docLinkHtml;\n",
              "          element.appendChild(docLink);\n",
              "        }\n",
              "      </script>\n",
              "    </div>\n",
              "  </div>\n",
              "  "
            ]
          },
          "metadata": {},
          "execution_count": 8
        }
      ],
      "source": [
        "#Correlation of the variables to check the importance of all the variables with thenprice variable\n",
        "data.corr()"
      ]
    },
    {
      "cell_type": "code",
      "execution_count": 9,
      "metadata": {
        "colab": {
          "base_uri": "https://localhost:8080/",
          "height": 269
        },
        "id": "oqdAoSwCKULB",
        "outputId": "3e3aa6b1-9c21-47cd-9e3d-762e7232640a"
      },
      "outputs": [
        {
          "output_type": "display_data",
          "data": {
            "text/plain": [
              "<Figure size 432x288 with 2 Axes>"
            ],
            "image/png": "[encoded data removed]"
          },
          "metadata": {
            "needs_background": "light"
          }
        }
      ],
      "source": [
        "#Heatmap plot \n",
        "corrmap=sns.heatmap(data.corr())"
      ]
    },
    {
      "cell_type": "code",
      "execution_count": 10,
      "metadata": {
        "colab": {
          "base_uri": "https://localhost:8080/",
          "height": 35
        },
        "id": "Li2R-nGLN99S",
        "outputId": "05cd0d5d-8a30-414d-b929-8338d596d56c"
      },
      "outputs": [
        {
          "output_type": "display_data",
          "data": {
            "text/plain": [
              "<Figure size 432x288 with 0 Axes>"
            ]
          },
          "metadata": {}
        }
      ],
      "source": [
        "## Saving the heatmap plot\n",
        "plt.savefig('corrmap.jpeg')"
      ]
    },
    {
      "cell_type": "code",
      "execution_count": 11,
      "metadata": {
        "colab": {
          "base_uri": "https://localhost:8080/"
        },
        "id": "jHnwvZmIgpdk",
        "outputId": "20c89401-f5e5-4ec9-e011-4d5b429456f9"
      },
      "outputs": [
        {
          "output_type": "stream",
          "name": "stdout",
          "text": [
            "<class 'pandas.core.frame.DataFrame'>\n",
            "RangeIndex: 2457 entries, 0 to 2456\n",
            "Data columns (total 7 columns):\n",
            " #   Column    Non-Null Count  Dtype         \n",
            "---  ------    --------------  -----         \n",
            " 0   Date      2457 non-null   datetime64[ns]\n",
            " 1   Price     2457 non-null   float64       \n",
            " 2   Open      2457 non-null   float64       \n",
            " 3   High      2457 non-null   float64       \n",
            " 4   Low       2457 non-null   float64       \n",
            " 5   Vol.      1156 non-null   float64       \n",
            " 6   Change %  2457 non-null   float64       \n",
            "dtypes: datetime64[ns](1), float64(6)\n",
            "memory usage: 134.5 KB\n"
          ]
        }
      ],
      "source": [
        "#Data information\n",
        "data.info()"
      ]
    },
    {
      "cell_type": "markdown",
      "metadata": {
        "id": "W3rYtpOCqG2i"
      },
      "source": [
        "#Histogram for the price"
      ]
    },
    {
      "cell_type": "code",
      "execution_count": 12,
      "metadata": {
        "colab": {
          "base_uri": "https://localhost:8080/",
          "height": 336
        },
        "id": "OCQGBQmf5SvH",
        "outputId": "0991c7b1-0eeb-4f1f-cb21-0ad63723eff9"
      },
      "outputs": [
        {
          "output_type": "execute_result",
          "data": {
            "text/plain": [
              "(array([111., 286., 346., 317., 254., 258., 362., 294., 187.,  42.]),\n",
              " array([ 871.26 ,  990.395, 1109.53 , 1228.665, 1347.8  , 1466.935,\n",
              "        1586.07 , 1705.205, 1824.34 , 1943.475, 2062.61 ]),\n",
              " <a list of 10 Patch objects>)"
            ]
          },
          "metadata": {},
          "execution_count": 12
        },
        {
          "output_type": "display_data",
          "data": {
            "text/plain": [
              "<Figure size 432x288 with 1 Axes>"
            ],
            "image/png": "[encoded data removed]"
          },
          "metadata": {
            "needs_background": "light"
          }
        }
      ],
      "source": [
        "plt.hist(data['Price'])"
      ]
    },
    {
      "cell_type": "markdown",
      "metadata": {
        "id": "DM5x87Acqxxa"
      },
      "source": [
        "#Stock price series plot"
      ]
    },
    {
      "cell_type": "markdown",
      "metadata": {
        "id": "xoRHn_8w8Zfd"
      },
      "source": [
        "###Data Visualization"
      ]
    },
    {
      "cell_type": "code",
      "execution_count": 168,
      "metadata": {
        "colab": {
          "base_uri": "https://localhost:8080/",
          "height": 297
        },
        "id": "FAu9TjC8v342",
        "outputId": "85f47d79-0bcc-477f-e8b0-33cf48f52487"
      },
      "outputs": [
        {
          "output_type": "execute_result",
          "data": {
            "text/plain": [
              "Text(0, 0.5, 'Stock Price')"
            ]
          },
          "metadata": {},
          "execution_count": 168
        },
        {
          "output_type": "display_data",
          "data": {
            "text/plain": [
              "<Figure size 432x288 with 1 Axes>"
            ],
            "image/png": "[encoded data removed]"
          },
          "metadata": {
            "needs_background": "light"
          }
        }
      ],
      "source": [
        "plt.plot(data['Date'], data[\"Price\"])\n",
        "plt.xlabel(\" Year \")\n",
        "plt.ylabel(\"Stock Price\")"
      ]
    },
    {
      "cell_type": "code",
      "execution_count": 28,
      "metadata": {
        "colab": {
          "base_uri": "https://localhost:8080/",
          "height": 356
        },
        "id": "anCKWyZn_yoH",
        "outputId": "03e71e25-1cca-454e-a6ee-6613818e60b7"
      },
      "outputs": [
        {
          "output_type": "stream",
          "name": "stderr",
          "text": [
            "/usr/local/lib/python3.7/dist-packages/seaborn/distributions.py:2619: FutureWarning: `distplot` is a deprecated function and will be removed in a future version. Please adapt your code to use either `displot` (a figure-level function with similar flexibility) or `histplot` (an axes-level function for histograms).\n",
            "  warnings.warn(msg, FutureWarning)\n"
          ]
        },
        {
          "output_type": "execute_result",
          "data": {
            "text/plain": [
              "<matplotlib.axes._subplots.AxesSubplot at 0x7f3722528c10>"
            ]
          },
          "metadata": {},
          "execution_count": 28
        },
        {
          "output_type": "display_data",
          "data": {
            "text/plain": [
              "<Figure size 432x288 with 1 Axes>"
            ],
            "image/png": "[encoded data removed]"
          },
          "metadata": {
            "needs_background": "light"
          }
        }
      ],
      "source": [
        "sns.distplot(data['Price'])"
      ]
    },
    {
      "cell_type": "markdown",
      "metadata": {
        "id": "h2xgA8Weq5Rt"
      },
      "source": [
        "#Price autocorrelation plot"
      ]
    },
    {
      "cell_type": "code",
      "execution_count": 17,
      "metadata": {
        "colab": {
          "base_uri": "https://localhost:8080/",
          "height": 301
        },
        "id": "5MUwJI1NwIPw",
        "outputId": "89a49169-529e-4746-e7fe-3775735632f7"
      },
      "outputs": [
        {
          "output_type": "execute_result",
          "data": {
            "text/plain": [
              "<matplotlib.axes._subplots.AxesSubplot at 0x7f372235fa10>"
            ]
          },
          "metadata": {},
          "execution_count": 17
        },
        {
          "output_type": "display_data",
          "data": {
            "text/plain": [
              "<Figure size 432x288 with 1 Axes>"
            ],
            "image/png": "[encoded data removed]"
          },
          "metadata": {
            "needs_background": "light"
          }
        }
      ],
      "source": [
        "# create an autocorrelation plot\n",
        "from pandas.plotting import autocorrelation_plot\n",
        "\n",
        "autocorrelation_plot(data['Price'])"
      ]
    },
    {
      "cell_type": "markdown",
      "metadata": {
        "id": "OMdDPMGj5OM6"
      },
      "source": [
        "#Transformation of the data"
      ]
    },
    {
      "cell_type": "code",
      "source": [
        "from scipy.special import inv_boxcox\n",
        "from typing import Tuple"
      ],
      "metadata": {
        "id": "Tvv1TervOjGB"
      },
      "execution_count": 14,
      "outputs": []
    },
    {
      "cell_type": "code",
      "source": [
        "# Define power trnnsformations and their inverses\n",
        "# Square root transformation\n",
        "def square_root_transformation(x: pd.Series) -> pd.Series:\n",
        "    return np.sqrt(x)\n",
        "\n",
        "def square_root_inverse_transformation(x: pd.Series) -> pd.Series:\n",
        "    return np.square(x)\n",
        "\n",
        "# Cube root transformation\n",
        "def cube_root_transformation(x: pd.Series) -> pd.Series:\n",
        "    return x ** (1 / 3)\n",
        "\n",
        "def cube_root_inverse_transformation(x: pd.Series) -> pd.Series:\n",
        "    return x ** 3\n",
        "\n",
        "# Log transformation\n",
        "def log_transformation(x: pd.Series) -> pd.Series:\n",
        "    # Function np.log1p = log(x + 1)\n",
        "    return np.log1p(x)\n",
        "\n",
        "def log_inverse_transformation(x: pd.Series) -> pd.Series:\n",
        "    # Function np.expm1(x) = exp(x) - 1\n",
        "    return np.expm1(x)\n",
        "\n",
        "# Box-cox transformation\n",
        "def box_cox_transformation(x: pd.Series) -> Tuple[np.array, float]:\n",
        "    x_transformed, lambda_value = stats.boxcox(x)\n",
        "    return x_transformed, lambda_value\n",
        "    \n",
        "def box_cox_inverse_transformation(x: pd.Series, lambda_value: float) -> pd.Series:\n",
        "    return inv_boxcox(x, lambda_value)"
      ],
      "metadata": {
        "id": "e6MINcFIN9D7"
      },
      "execution_count": 169,
      "outputs": []
    },
    {
      "cell_type": "code",
      "source": [
        "data['Price_T'] = data.groupby('Date')['Price'].apply(lambda x: log_transformation(x))\n",
        "data['Open_T'] = data.groupby('Date')['Open'].apply(lambda x: log_transformation(x))\n",
        "data['High_T'] = data.groupby('Date')['High'].apply(lambda x: log_transformation(x))\n",
        "data['Low_T'] = data.groupby('Date')['Low'].apply(lambda x: log_transformation(x))\n",
        "data['Vol._T'] = data.groupby('Date')['Vol.'].apply(lambda x: log_transformation(x))\n",
        "# data['Change %_T'] = data.groupby('Date')['Change %'].apply(lambda x: log_transformation(x))"
      ],
      "metadata": {
        "id": "OZ6ndsVsPUIi"
      },
      "execution_count": 170,
      "outputs": []
    },
    {
      "cell_type": "code",
      "source": [
        "data"
      ],
      "metadata": {
        "colab": {
          "base_uri": "https://localhost:8080/",
          "height": 424
        },
        "id": "1ULmgM5CPoqY",
        "outputId": "5aac8dfd-5887-4b44-f26f-2f7bedfccde7"
      },
      "execution_count": 82,
      "outputs": [
        {
          "output_type": "execute_result",
          "data": {
            "text/plain": [
              "           Date    Price     Open     High      Low    Vol.  Change %  \\\n",
              "0    2021-12-31  1722.30  1677.94  1723.30  1675.71  268.50      2.67   \n",
              "1    2021-12-30  1677.48  1677.67  1678.33  1674.86  123.11     -0.01   \n",
              "2    2021-12-29  1677.67  1700.61  1702.19  1674.41   75.89     -1.35   \n",
              "3    2021-12-24  1700.61  1699.87  1700.99  1698.59   63.63      0.13   \n",
              "4    2021-12-23  1698.44  1699.38  1700.27  1697.25   63.39     -0.06   \n",
              "...         ...      ...      ...      ...      ...     ...       ...   \n",
              "2452 2012-02-03   942.22   938.12   942.49   936.86     NaN      0.44   \n",
              "2453 2012-02-02   938.12   936.18   938.18   931.00     NaN      0.30   \n",
              "2454 2012-02-01   935.36   936.70   940.17   934.06     NaN     -0.15   \n",
              "2455 2012-01-31   936.78   928.22   937.04   928.13     NaN      0.92   \n",
              "2456 2012-01-30   928.22   936.13   936.81   928.07     NaN     -0.84   \n",
              "\n",
              "       Price_T    Open_T    High_T     Low_T    Vol._T  \n",
              "0     7.451996  7.425918  7.452576  7.424589  5.596568  \n",
              "1     7.425644  7.425757  7.426150  7.424082  4.821168  \n",
              "2     7.425757  7.439330  7.440258  7.423813  4.342376  \n",
              "3     7.439330  7.438895  7.439553  7.438142  4.168679  \n",
              "4     7.438054  7.438607  7.439130  7.437354  4.164958  \n",
              "...        ...       ...       ...       ...       ...  \n",
              "2452  6.849300  6.844943  6.849586  6.843601       NaN  \n",
              "2453  6.844943  6.842875  6.845007  6.837333       NaN  \n",
              "2454  6.842000  6.843430  6.847124  6.840611       NaN  \n",
              "2455  6.843515  6.834346  6.843793  6.834249       NaN  \n",
              "2456  6.834346  6.842822  6.843547  6.834184       NaN  \n",
              "\n",
              "[2457 rows x 12 columns]"
            ],
            "text/html": [
              "\n",
              "  <div id=\"df-a43549fc-959f-40ee-9c67-a5f6677cf121\">\n",
              "    <div class=\"colab-df-container\">\n",
              "      <div>\n",
              "<style scoped>\n",
              "    .dataframe tbody tr th:only-of-type {\n",
              "        vertical-align: middle;\n",
              "    }\n",
              "\n",
              "    .dataframe tbody tr th {\n",
              "        vertical-align: top;\n",
              "    }\n",
              "\n",
              "    .dataframe thead th {\n",
              "        text-align: right;\n",
              "    }\n",
              "</style>\n",
              "<table border=\"1\" class=\"dataframe\">\n",
              "  <thead>\n",
              "    <tr style=\"text-align: right;\">\n",
              "      <th></th>\n",
              "      <th>Date</th>\n",
              "      <th>Price</th>\n",
              "      <th>Open</th>\n",
              "      <th>High</th>\n",
              "      <th>Low</th>\n",
              "      <th>Vol.</th>\n",
              "      <th>Change %</th>\n",
              "      <th>Price_T</th>\n",
              "      <th>Open_T</th>\n",
              "      <th>High_T</th>\n",
              "      <th>Low_T</th>\n",
              "      <th>Vol._T</th>\n",
              "    </tr>\n",
              "  </thead>\n",
              "  <tbody>\n",
              "    <tr>\n",
              "      <th>0</th>\n",
              "      <td>2021-12-31</td>\n",
              "      <td>1722.30</td>\n",
              "      <td>1677.94</td>\n",
              "      <td>1723.30</td>\n",
              "      <td>1675.71</td>\n",
              "      <td>268.50</td>\n",
              "      <td>2.67</td>\n",
              "      <td>7.451996</td>\n",
              "      <td>7.425918</td>\n",
              "      <td>7.452576</td>\n",
              "      <td>7.424589</td>\n",
              "      <td>5.596568</td>\n",
              "    </tr>\n",
              "    <tr>\n",
              "      <th>1</th>\n",
              "      <td>2021-12-30</td>\n",
              "      <td>1677.48</td>\n",
              "      <td>1677.67</td>\n",
              "      <td>1678.33</td>\n",
              "      <td>1674.86</td>\n",
              "      <td>123.11</td>\n",
              "      <td>-0.01</td>\n",
              "      <td>7.425644</td>\n",
              "      <td>7.425757</td>\n",
              "      <td>7.426150</td>\n",
              "      <td>7.424082</td>\n",
              "      <td>4.821168</td>\n",
              "    </tr>\n",
              "    <tr>\n",
              "      <th>2</th>\n",
              "      <td>2021-12-29</td>\n",
              "      <td>1677.67</td>\n",
              "      <td>1700.61</td>\n",
              "      <td>1702.19</td>\n",
              "      <td>1674.41</td>\n",
              "      <td>75.89</td>\n",
              "      <td>-1.35</td>\n",
              "      <td>7.425757</td>\n",
              "      <td>7.439330</td>\n",
              "      <td>7.440258</td>\n",
              "      <td>7.423813</td>\n",
              "      <td>4.342376</td>\n",
              "    </tr>\n",
              "    <tr>\n",
              "      <th>3</th>\n",
              "      <td>2021-12-24</td>\n",
              "      <td>1700.61</td>\n",
              "      <td>1699.87</td>\n",
              "      <td>1700.99</td>\n",
              "      <td>1698.59</td>\n",
              "      <td>63.63</td>\n",
              "      <td>0.13</td>\n",
              "      <td>7.439330</td>\n",
              "      <td>7.438895</td>\n",
              "      <td>7.439553</td>\n",
              "      <td>7.438142</td>\n",
              "      <td>4.168679</td>\n",
              "    </tr>\n",
              "    <tr>\n",
              "      <th>4</th>\n",
              "      <td>2021-12-23</td>\n",
              "      <td>1698.44</td>\n",
              "      <td>1699.38</td>\n",
              "      <td>1700.27</td>\n",
              "      <td>1697.25</td>\n",
              "      <td>63.39</td>\n",
              "      <td>-0.06</td>\n",
              "      <td>7.438054</td>\n",
              "      <td>7.438607</td>\n",
              "      <td>7.439130</td>\n",
              "      <td>7.437354</td>\n",
              "      <td>4.164958</td>\n",
              "    </tr>\n",
              "    <tr>\n",
              "      <th>...</th>\n",
              "      <td>...</td>\n",
              "      <td>...</td>\n",
              "      <td>...</td>\n",
              "      <td>...</td>\n",
              "      <td>...</td>\n",
              "      <td>...</td>\n",
              "      <td>...</td>\n",
              "      <td>...</td>\n",
              "      <td>...</td>\n",
              "      <td>...</td>\n",
              "      <td>...</td>\n",
              "      <td>...</td>\n",
              "    </tr>\n",
              "    <tr>\n",
              "      <th>2452</th>\n",
              "      <td>2012-02-03</td>\n",
              "      <td>942.22</td>\n",
              "      <td>938.12</td>\n",
              "      <td>942.49</td>\n",
              "      <td>936.86</td>\n",
              "      <td>NaN</td>\n",
              "      <td>0.44</td>\n",
              "      <td>6.849300</td>\n",
              "      <td>6.844943</td>\n",
              "      <td>6.849586</td>\n",
              "      <td>6.843601</td>\n",
              "      <td>NaN</td>\n",
              "    </tr>\n",
              "    <tr>\n",
              "      <th>2453</th>\n",
              "      <td>2012-02-02</td>\n",
              "      <td>938.12</td>\n",
              "      <td>936.18</td>\n",
              "      <td>938.18</td>\n",
              "      <td>931.00</td>\n",
              "      <td>NaN</td>\n",
              "      <td>0.30</td>\n",
              "      <td>6.844943</td>\n",
              "      <td>6.842875</td>\n",
              "      <td>6.845007</td>\n",
              "      <td>6.837333</td>\n",
              "      <td>NaN</td>\n",
              "    </tr>\n",
              "    <tr>\n",
              "      <th>2454</th>\n",
              "      <td>2012-02-01</td>\n",
              "      <td>935.36</td>\n",
              "      <td>936.70</td>\n",
              "      <td>940.17</td>\n",
              "      <td>934.06</td>\n",
              "      <td>NaN</td>\n",
              "      <td>-0.15</td>\n",
              "      <td>6.842000</td>\n",
              "      <td>6.843430</td>\n",
              "      <td>6.847124</td>\n",
              "      <td>6.840611</td>\n",
              "      <td>NaN</td>\n",
              "    </tr>\n",
              "    <tr>\n",
              "      <th>2455</th>\n",
              "      <td>2012-01-31</td>\n",
              "      <td>936.78</td>\n",
              "      <td>928.22</td>\n",
              "      <td>937.04</td>\n",
              "      <td>928.13</td>\n",
              "      <td>NaN</td>\n",
              "      <td>0.92</td>\n",
              "      <td>6.843515</td>\n",
              "      <td>6.834346</td>\n",
              "      <td>6.843793</td>\n",
              "      <td>6.834249</td>\n",
              "      <td>NaN</td>\n",
              "    </tr>\n",
              "    <tr>\n",
              "      <th>2456</th>\n",
              "      <td>2012-01-30</td>\n",
              "      <td>928.22</td>\n",
              "      <td>936.13</td>\n",
              "      <td>936.81</td>\n",
              "      <td>928.07</td>\n",
              "      <td>NaN</td>\n",
              "      <td>-0.84</td>\n",
              "      <td>6.834346</td>\n",
              "      <td>6.842822</td>\n",
              "      <td>6.843547</td>\n",
              "      <td>6.834184</td>\n",
              "      <td>NaN</td>\n",
              "    </tr>\n",
              "  </tbody>\n",
              "</table>\n",
              "<p>2457 rows × 12 columns</p>\n",
              "</div>\n",
              "      <button class=\"colab-df-convert\" onclick=\"convertToInteractive('df-a43549fc-959f-40ee-9c67-a5f6677cf121')\"\n",
              "              title=\"Convert this dataframe to an interactive table.\"\n",
              "              style=\"display:none;\">\n",
              "        \n",
              "  <svg xmlns=\"http://www.w3.org/2000/svg\" height=\"24px\"viewBox=\"0 0 24 24\"\n",
              "       width=\"24px\">\n",
              "    <path d=\"M0 0h24v24H0V0z\" fill=\"none\"/>\n",
              "    <path d=\"M18.56 5.44l.94 2.06.94-2.06 2.06-.94-2.06-.94-.94-2.06-.94 2.06-2.06.94zm-11 1L8.5 8.5l.94-2.06 2.06-.94-2.06-.94L8.5 2.5l-.94 2.06-2.06.94zm10 10l.94 2.06.94-2.06 2.06-.94-2.06-.94-.94-2.06-.94 2.06-2.06.94z\"/><path d=\"M17.41 7.96l-1.37-1.37c-.4-.4-.92-.59-1.43-.59-.52 0-1.04.2-1.43.59L10.3 9.45l-7.72 7.72c-.78.78-.78 2.05 0 2.83L4 21.41c.39.39.9.59 1.41.59.51 0 1.02-.2 1.41-.59l7.78-7.78 2.81-2.81c.8-.78.8-2.07 0-2.86zM5.41 20L4 18.59l7.72-7.72 1.47 1.35L5.41 20z\"/>\n",
              "  </svg>\n",
              "      </button>\n",
              "      \n",
              "  <style>\n",
              "    .colab-df-container {\n",
              "      display:flex;\n",
              "      flex-wrap:wrap;\n",
              "      gap: 12px;\n",
              "    }\n",
              "\n",
              "    .colab-df-convert {\n",
              "      background-color: #E8F0FE;\n",
              "      border: none;\n",
              "      border-radius: 50%;\n",
              "      cursor: pointer;\n",
              "      display: none;\n",
              "      fill: #1967D2;\n",
              "      height: 32px;\n",
              "      padding: 0 0 0 0;\n",
              "      width: 32px;\n",
              "    }\n",
              "\n",
              "    .colab-df-convert:hover {\n",
              "      background-color: #E2EBFA;\n",
              "      box-shadow: 0px 1px 2px rgba(60, 64, 67, 0.3), 0px 1px 3px 1px rgba(60, 64, 67, 0.15);\n",
              "      fill: #174EA6;\n",
              "    }\n",
              "\n",
              "    [theme=dark] .colab-df-convert {\n",
              "      background-color: #3B4455;\n",
              "      fill: #D2E3FC;\n",
              "    }\n",
              "\n",
              "    [theme=dark] .colab-df-convert:hover {\n",
              "      background-color: #434B5C;\n",
              "      box-shadow: 0px 1px 3px 1px rgba(0, 0, 0, 0.15);\n",
              "      filter: drop-shadow(0px 1px 2px rgba(0, 0, 0, 0.3));\n",
              "      fill: #FFFFFF;\n",
              "    }\n",
              "  </style>\n",
              "\n",
              "      <script>\n",
              "        const buttonEl =\n",
              "          document.querySelector('#df-a43549fc-959f-40ee-9c67-a5f6677cf121 button.colab-df-convert');\n",
              "        buttonEl.style.display =\n",
              "          google.colab.kernel.accessAllowed ? 'block' : 'none';\n",
              "\n",
              "        async function convertToInteractive(key) {\n",
              "          const element = document.querySelector('#df-a43549fc-959f-40ee-9c67-a5f6677cf121');\n",
              "          const dataTable =\n",
              "            await google.colab.kernel.invokeFunction('convertToInteractive',\n",
              "                                                     [key], {});\n",
              "          if (!dataTable) return;\n",
              "\n",
              "          const docLinkHtml = 'Like what you see? Visit the ' +\n",
              "            '<a target=\"_blank\" href=https://colab.research.google.com/notebooks/data_table.ipynb>data table notebook</a>'\n",
              "            + ' to learn more about interactive tables.';\n",
              "          element.innerHTML = '';\n",
              "          dataTable['output_type'] = 'display_data';\n",
              "          await google.colab.output.renderOutput(dataTable, element);\n",
              "          const docLink = document.createElement('div');\n",
              "          docLink.innerHTML = docLinkHtml;\n",
              "          element.appendChild(docLink);\n",
              "        }\n",
              "      </script>\n",
              "    </div>\n",
              "  </div>\n",
              "  "
            ]
          },
          "metadata": {},
          "execution_count": 82
        }
      ]
    },
    {
      "cell_type": "code",
      "execution_count": null,
      "metadata": {
        "id": "k8aOYXmuJ_5X"
      },
      "outputs": [],
      "source": [
        "# X = data.iloc[:, 2:7]\n",
        "# del X['Vol.']\n",
        "# #X del (labels = 'Vol.', axis =0)\n",
        "# y = data.iloc[:, 1]"
      ]
    },
    {
      "cell_type": "code",
      "execution_count": null,
      "metadata": {
        "id": "K4Mqt0lbrDT7"
      },
      "outputs": [],
      "source": [
        "# data = data.drop(['Date', 'Vol.'], axis= 1)"
      ]
    },
    {
      "cell_type": "code",
      "execution_count": null,
      "metadata": {
        "id": "NgKrr1AQqwS3"
      },
      "outputs": [],
      "source": [
        "# data2 = data[\"Price\"].pct_change().dropna()"
      ]
    },
    {
      "cell_type": "code",
      "execution_count": null,
      "metadata": {
        "id": "dcDR9LiA8bMW"
      },
      "outputs": [],
      "source": [
        "# def Logreturns(data):\n",
        "#   data.loc[: , \"Price\"] = np.log(data.Price) - np.log(data.Price.shift(1))\n",
        "#   return data"
      ]
    },
    {
      "cell_type": "code",
      "execution_count": null,
      "metadata": {
        "id": "GZVnxTmQu-q6"
      },
      "outputs": [],
      "source": [
        "# np.log10(data['Price']/data['Price'].shift(1))"
      ]
    },
    {
      "cell_type": "code",
      "execution_count": 18,
      "metadata": {
        "id": "OOBMWy9j9jUO"
      },
      "outputs": [],
      "source": [
        "# def Logreturns(data):\n",
        "#   data['Price'] = np.log10(data['Price']/data['Price'].shift(1))\n",
        "#   return data"
      ]
    },
    {
      "cell_type": "code",
      "execution_count": 19,
      "metadata": {
        "id": "qBoBXEuD_fkO"
      },
      "outputs": [],
      "source": [
        "# data2=Logreturns(data)"
      ]
    },
    {
      "cell_type": "code",
      "execution_count": 29,
      "metadata": {
        "id": "sPpXsXmQmZRo"
      },
      "outputs": [],
      "source": [
        "# data2.head(3)"
      ]
    },
    {
      "cell_type": "code",
      "execution_count": 18,
      "metadata": {
        "colab": {
          "base_uri": "https://localhost:8080/",
          "height": 143
        },
        "id": "urrFGyEZsPMh",
        "outputId": "875d41f2-f6de-4a48-8f72-64e60c919592"
      },
      "outputs": [
        {
          "output_type": "execute_result",
          "data": {
            "text/plain": [
              "        Date    Price     Open     High      Low    Vol.  Change %   Price_T  \\\n",
              "0 2021-12-31  1722.30  1677.94  1723.30  1675.71  268.50      2.67  7.451996   \n",
              "1 2021-12-30  1677.48  1677.67  1678.33  1674.86  123.11     -0.01  7.425644   \n",
              "2 2021-12-29  1677.67  1700.61  1702.19  1674.41   75.89     -1.35  7.425757   \n",
              "\n",
              "     Open_T    High_T     Low_T    Vol._T  Change %_T  \n",
              "0  7.425918  7.452576  7.424589  5.596568    1.300192  \n",
              "1  7.425757  7.426150  7.424082  4.821168   -0.010050  \n",
              "2  7.439330  7.440258  7.423813  4.342376         NaN  "
            ],
            "text/html": [
              "\n",
              "  <div id=\"df-6809ead3-9271-44e8-aa71-380583c9fea8\">\n",
              "    <div class=\"colab-df-container\">\n",
              "      <div>\n",
              "<style scoped>\n",
              "    .dataframe tbody tr th:only-of-type {\n",
              "        vertical-align: middle;\n",
              "    }\n",
              "\n",
              "    .dataframe tbody tr th {\n",
              "        vertical-align: top;\n",
              "    }\n",
              "\n",
              "    .dataframe thead th {\n",
              "        text-align: right;\n",
              "    }\n",
              "</style>\n",
              "<table border=\"1\" class=\"dataframe\">\n",
              "  <thead>\n",
              "    <tr style=\"text-align: right;\">\n",
              "      <th></th>\n",
              "      <th>Date</th>\n",
              "      <th>Price</th>\n",
              "      <th>Open</th>\n",
              "      <th>High</th>\n",
              "      <th>Low</th>\n",
              "      <th>Vol.</th>\n",
              "      <th>Change %</th>\n",
              "      <th>Price_T</th>\n",
              "      <th>Open_T</th>\n",
              "      <th>High_T</th>\n",
              "      <th>Low_T</th>\n",
              "      <th>Vol._T</th>\n",
              "      <th>Change %_T</th>\n",
              "    </tr>\n",
              "  </thead>\n",
              "  <tbody>\n",
              "    <tr>\n",
              "      <th>0</th>\n",
              "      <td>2021-12-31</td>\n",
              "      <td>1722.30</td>\n",
              "      <td>1677.94</td>\n",
              "      <td>1723.30</td>\n",
              "      <td>1675.71</td>\n",
              "      <td>268.50</td>\n",
              "      <td>2.67</td>\n",
              "      <td>7.451996</td>\n",
              "      <td>7.425918</td>\n",
              "      <td>7.452576</td>\n",
              "      <td>7.424589</td>\n",
              "      <td>5.596568</td>\n",
              "      <td>1.300192</td>\n",
              "    </tr>\n",
              "    <tr>\n",
              "      <th>1</th>\n",
              "      <td>2021-12-30</td>\n",
              "      <td>1677.48</td>\n",
              "      <td>1677.67</td>\n",
              "      <td>1678.33</td>\n",
              "      <td>1674.86</td>\n",
              "      <td>123.11</td>\n",
              "      <td>-0.01</td>\n",
              "      <td>7.425644</td>\n",
              "      <td>7.425757</td>\n",
              "      <td>7.426150</td>\n",
              "      <td>7.424082</td>\n",
              "      <td>4.821168</td>\n",
              "      <td>-0.010050</td>\n",
              "    </tr>\n",
              "    <tr>\n",
              "      <th>2</th>\n",
              "      <td>2021-12-29</td>\n",
              "      <td>1677.67</td>\n",
              "      <td>1700.61</td>\n",
              "      <td>1702.19</td>\n",
              "      <td>1674.41</td>\n",
              "      <td>75.89</td>\n",
              "      <td>-1.35</td>\n",
              "      <td>7.425757</td>\n",
              "      <td>7.439330</td>\n",
              "      <td>7.440258</td>\n",
              "      <td>7.423813</td>\n",
              "      <td>4.342376</td>\n",
              "      <td>NaN</td>\n",
              "    </tr>\n",
              "  </tbody>\n",
              "</table>\n",
              "</div>\n",
              "      <button class=\"colab-df-convert\" onclick=\"convertToInteractive('df-6809ead3-9271-44e8-aa71-380583c9fea8')\"\n",
              "              title=\"Convert this dataframe to an interactive table.\"\n",
              "              style=\"display:none;\">\n",
              "        \n",
              "  <svg xmlns=\"http://www.w3.org/2000/svg\" height=\"24px\"viewBox=\"0 0 24 24\"\n",
              "       width=\"24px\">\n",
              "    <path d=\"M0 0h24v24H0V0z\" fill=\"none\"/>\n",
              "    <path d=\"M18.56 5.44l.94 2.06.94-2.06 2.06-.94-2.06-.94-.94-2.06-.94 2.06-2.06.94zm-11 1L8.5 8.5l.94-2.06 2.06-.94-2.06-.94L8.5 2.5l-.94 2.06-2.06.94zm10 10l.94 2.06.94-2.06 2.06-.94-2.06-.94-.94-2.06-.94 2.06-2.06.94z\"/><path d=\"M17.41 7.96l-1.37-1.37c-.4-.4-.92-.59-1.43-.59-.52 0-1.04.2-1.43.59L10.3 9.45l-7.72 7.72c-.78.78-.78 2.05 0 2.83L4 21.41c.39.39.9.59 1.41.59.51 0 1.02-.2 1.41-.59l7.78-7.78 2.81-2.81c.8-.78.8-2.07 0-2.86zM5.41 20L4 18.59l7.72-7.72 1.47 1.35L5.41 20z\"/>\n",
              "  </svg>\n",
              "      </button>\n",
              "      \n",
              "  <style>\n",
              "    .colab-df-container {\n",
              "      display:flex;\n",
              "      flex-wrap:wrap;\n",
              "      gap: 12px;\n",
              "    }\n",
              "\n",
              "    .colab-df-convert {\n",
              "      background-color: #E8F0FE;\n",
              "      border: none;\n",
              "      border-radius: 50%;\n",
              "      cursor: pointer;\n",
              "      display: none;\n",
              "      fill: #1967D2;\n",
              "      height: 32px;\n",
              "      padding: 0 0 0 0;\n",
              "      width: 32px;\n",
              "    }\n",
              "\n",
              "    .colab-df-convert:hover {\n",
              "      background-color: #E2EBFA;\n",
              "      box-shadow: 0px 1px 2px rgba(60, 64, 67, 0.3), 0px 1px 3px 1px rgba(60, 64, 67, 0.15);\n",
              "      fill: #174EA6;\n",
              "    }\n",
              "\n",
              "    [theme=dark] .colab-df-convert {\n",
              "      background-color: #3B4455;\n",
              "      fill: #D2E3FC;\n",
              "    }\n",
              "\n",
              "    [theme=dark] .colab-df-convert:hover {\n",
              "      background-color: #434B5C;\n",
              "      box-shadow: 0px 1px 3px 1px rgba(0, 0, 0, 0.15);\n",
              "      filter: drop-shadow(0px 1px 2px rgba(0, 0, 0, 0.3));\n",
              "      fill: #FFFFFF;\n",
              "    }\n",
              "  </style>\n",
              "\n",
              "      <script>\n",
              "        const buttonEl =\n",
              "          document.querySelector('#df-6809ead3-9271-44e8-aa71-380583c9fea8 button.colab-df-convert');\n",
              "        buttonEl.style.display =\n",
              "          google.colab.kernel.accessAllowed ? 'block' : 'none';\n",
              "\n",
              "        async function convertToInteractive(key) {\n",
              "          const element = document.querySelector('#df-6809ead3-9271-44e8-aa71-380583c9fea8');\n",
              "          const dataTable =\n",
              "            await google.colab.kernel.invokeFunction('convertToInteractive',\n",
              "                                                     [key], {});\n",
              "          if (!dataTable) return;\n",
              "\n",
              "          const docLinkHtml = 'Like what you see? Visit the ' +\n",
              "            '<a target=\"_blank\" href=https://colab.research.google.com/notebooks/data_table.ipynb>data table notebook</a>'\n",
              "            + ' to learn more about interactive tables.';\n",
              "          element.innerHTML = '';\n",
              "          dataTable['output_type'] = 'display_data';\n",
              "          await google.colab.output.renderOutput(dataTable, element);\n",
              "          const docLink = document.createElement('div');\n",
              "          docLink.innerHTML = docLinkHtml;\n",
              "          element.appendChild(docLink);\n",
              "        }\n",
              "      </script>\n",
              "    </div>\n",
              "  </div>\n",
              "  "
            ]
          },
          "metadata": {},
          "execution_count": 18
        }
      ],
      "source": [
        "data.head(3)"
      ]
    },
    {
      "cell_type": "code",
      "execution_count": null,
      "metadata": {
        "id": "-8of07gNf_uI"
      },
      "outputs": [],
      "source": [
        "# def Antilog(data):\n",
        "#   data.loc[: , \"Price\"] = np.log(data.Price) - np.log(data.Price.shift(1))\n",
        "#   return data"
      ]
    },
    {
      "cell_type": "code",
      "execution_count": null,
      "metadata": {
        "id": "Nt_wI7YrgCe2"
      },
      "outputs": [],
      "source": [
        "# data3 = Antilog(data2)\n",
        "# data3.head(5)"
      ]
    },
    {
      "cell_type": "code",
      "execution_count": 19,
      "metadata": {
        "id": "TEarw_uwz5mW"
      },
      "outputs": [],
      "source": [
        "# data2['year'] = pd.DatetimeIndex(data2['Date']).year\n",
        "# data2['month'] = pd.DatetimeIndex(data2['Date']).month\n",
        "# data2['day'] = pd.DatetimeIndex(data2['Date']).day\n",
        "\n",
        "# data_new = data2[  [ 'Date',  'year', 'month', 'day','Open','High','Low','Vol.', 'Change %','Price']]\n",
        "# data_new.head()"
      ]
    },
    {
      "cell_type": "code",
      "execution_count": null,
      "metadata": {
        "id": "6MXleYvR88yF"
      },
      "outputs": [],
      "source": [
        "# data_new1 = data_new.drop(['Date', 'Vol.'], axis= 1)\n",
        "# data_new1.dropna(axis= 0, inplace = True)"
      ]
    },
    {
      "cell_type": "code",
      "source": [
        "# data_new1 = data.drop(['Date', 'Vol.'], axis= 1)\n",
        "# data_new1.dropna(axis= 0, inplace = True)"
      ],
      "metadata": {
        "id": "5Do2rYM_Cfhy"
      },
      "execution_count": 30,
      "outputs": []
    },
    {
      "cell_type": "code",
      "source": [
        "data_new1 = data.drop([ 'Price',\t'Open',\t'High',\t'Low',\t'Vol.',\t'Change %','Vol._T'], axis= 1)\n",
        "data_new1.dropna(axis= 0, inplace = True)"
      ],
      "metadata": {
        "id": "bWtKGAY04ASa"
      },
      "execution_count": 171,
      "outputs": []
    },
    {
      "cell_type": "code",
      "execution_count": 172,
      "metadata": {
        "colab": {
          "base_uri": "https://localhost:8080/",
          "height": 175
        },
        "id": "pRFJu0dMefCu",
        "outputId": "3bbcc32d-532d-4cfc-c9df-31e20b6d5625"
      },
      "outputs": [
        {
          "output_type": "execute_result",
          "data": {
            "text/plain": [
              "        Date   Price_T    Open_T    High_T     Low_T\n",
              "0 2021-12-31  7.451996  7.425918  7.452576  7.424589\n",
              "1 2021-12-30  7.425644  7.425757  7.426150  7.424082\n",
              "2 2021-12-29  7.425757  7.439330  7.440258  7.423813\n",
              "3 2021-12-24  7.439330  7.438895  7.439553  7.438142"
            ],
            "text/html": [
              "\n",
              "  <div id=\"df-8843ce31-e2dc-44c1-9fce-14b3e4470eed\">\n",
              "    <div class=\"colab-df-container\">\n",
              "      <div>\n",
              "<style scoped>\n",
              "    .dataframe tbody tr th:only-of-type {\n",
              "        vertical-align: middle;\n",
              "    }\n",
              "\n",
              "    .dataframe tbody tr th {\n",
              "        vertical-align: top;\n",
              "    }\n",
              "\n",
              "    .dataframe thead th {\n",
              "        text-align: right;\n",
              "    }\n",
              "</style>\n",
              "<table border=\"1\" class=\"dataframe\">\n",
              "  <thead>\n",
              "    <tr style=\"text-align: right;\">\n",
              "      <th></th>\n",
              "      <th>Date</th>\n",
              "      <th>Price_T</th>\n",
              "      <th>Open_T</th>\n",
              "      <th>High_T</th>\n",
              "      <th>Low_T</th>\n",
              "    </tr>\n",
              "  </thead>\n",
              "  <tbody>\n",
              "    <tr>\n",
              "      <th>0</th>\n",
              "      <td>2021-12-31</td>\n",
              "      <td>7.451996</td>\n",
              "      <td>7.425918</td>\n",
              "      <td>7.452576</td>\n",
              "      <td>7.424589</td>\n",
              "    </tr>\n",
              "    <tr>\n",
              "      <th>1</th>\n",
              "      <td>2021-12-30</td>\n",
              "      <td>7.425644</td>\n",
              "      <td>7.425757</td>\n",
              "      <td>7.426150</td>\n",
              "      <td>7.424082</td>\n",
              "    </tr>\n",
              "    <tr>\n",
              "      <th>2</th>\n",
              "      <td>2021-12-29</td>\n",
              "      <td>7.425757</td>\n",
              "      <td>7.439330</td>\n",
              "      <td>7.440258</td>\n",
              "      <td>7.423813</td>\n",
              "    </tr>\n",
              "    <tr>\n",
              "      <th>3</th>\n",
              "      <td>2021-12-24</td>\n",
              "      <td>7.439330</td>\n",
              "      <td>7.438895</td>\n",
              "      <td>7.439553</td>\n",
              "      <td>7.438142</td>\n",
              "    </tr>\n",
              "  </tbody>\n",
              "</table>\n",
              "</div>\n",
              "      <button class=\"colab-df-convert\" onclick=\"convertToInteractive('df-8843ce31-e2dc-44c1-9fce-14b3e4470eed')\"\n",
              "              title=\"Convert this dataframe to an interactive table.\"\n",
              "              style=\"display:none;\">\n",
              "        \n",
              "  <svg xmlns=\"http://www.w3.org/2000/svg\" height=\"24px\"viewBox=\"0 0 24 24\"\n",
              "       width=\"24px\">\n",
              "    <path d=\"M0 0h24v24H0V0z\" fill=\"none\"/>\n",
              "    <path d=\"M18.56 5.44l.94 2.06.94-2.06 2.06-.94-2.06-.94-.94-2.06-.94 2.06-2.06.94zm-11 1L8.5 8.5l.94-2.06 2.06-.94-2.06-.94L8.5 2.5l-.94 2.06-2.06.94zm10 10l.94 2.06.94-2.06 2.06-.94-2.06-.94-.94-2.06-.94 2.06-2.06.94z\"/><path d=\"M17.41 7.96l-1.37-1.37c-.4-.4-.92-.59-1.43-.59-.52 0-1.04.2-1.43.59L10.3 9.45l-7.72 7.72c-.78.78-.78 2.05 0 2.83L4 21.41c.39.39.9.59 1.41.59.51 0 1.02-.2 1.41-.59l7.78-7.78 2.81-2.81c.8-.78.8-2.07 0-2.86zM5.41 20L4 18.59l7.72-7.72 1.47 1.35L5.41 20z\"/>\n",
              "  </svg>\n",
              "      </button>\n",
              "      \n",
              "  <style>\n",
              "    .colab-df-container {\n",
              "      display:flex;\n",
              "      flex-wrap:wrap;\n",
              "      gap: 12px;\n",
              "    }\n",
              "\n",
              "    .colab-df-convert {\n",
              "      background-color: #E8F0FE;\n",
              "      border: none;\n",
              "      border-radius: 50%;\n",
              "      cursor: pointer;\n",
              "      display: none;\n",
              "      fill: #1967D2;\n",
              "      height: 32px;\n",
              "      padding: 0 0 0 0;\n",
              "      width: 32px;\n",
              "    }\n",
              "\n",
              "    .colab-df-convert:hover {\n",
              "      background-color: #E2EBFA;\n",
              "      box-shadow: 0px 1px 2px rgba(60, 64, 67, 0.3), 0px 1px 3px 1px rgba(60, 64, 67, 0.15);\n",
              "      fill: #174EA6;\n",
              "    }\n",
              "\n",
              "    [theme=dark] .colab-df-convert {\n",
              "      background-color: #3B4455;\n",
              "      fill: #D2E3FC;\n",
              "    }\n",
              "\n",
              "    [theme=dark] .colab-df-convert:hover {\n",
              "      background-color: #434B5C;\n",
              "      box-shadow: 0px 1px 3px 1px rgba(0, 0, 0, 0.15);\n",
              "      filter: drop-shadow(0px 1px 2px rgba(0, 0, 0, 0.3));\n",
              "      fill: #FFFFFF;\n",
              "    }\n",
              "  </style>\n",
              "\n",
              "      <script>\n",
              "        const buttonEl =\n",
              "          document.querySelector('#df-8843ce31-e2dc-44c1-9fce-14b3e4470eed button.colab-df-convert');\n",
              "        buttonEl.style.display =\n",
              "          google.colab.kernel.accessAllowed ? 'block' : 'none';\n",
              "\n",
              "        async function convertToInteractive(key) {\n",
              "          const element = document.querySelector('#df-8843ce31-e2dc-44c1-9fce-14b3e4470eed');\n",
              "          const dataTable =\n",
              "            await google.colab.kernel.invokeFunction('convertToInteractive',\n",
              "                                                     [key], {});\n",
              "          if (!dataTable) return;\n",
              "\n",
              "          const docLinkHtml = 'Like what you see? Visit the ' +\n",
              "            '<a target=\"_blank\" href=https://colab.research.google.com/notebooks/data_table.ipynb>data table notebook</a>'\n",
              "            + ' to learn more about interactive tables.';\n",
              "          element.innerHTML = '';\n",
              "          dataTable['output_type'] = 'display_data';\n",
              "          await google.colab.output.renderOutput(dataTable, element);\n",
              "          const docLink = document.createElement('div');\n",
              "          docLink.innerHTML = docLinkHtml;\n",
              "          element.appendChild(docLink);\n",
              "        }\n",
              "      </script>\n",
              "    </div>\n",
              "  </div>\n",
              "  "
            ]
          },
          "metadata": {},
          "execution_count": 172
        }
      ],
      "source": [
        "data_new1.head(4)"
      ]
    },
    {
      "cell_type": "code",
      "execution_count": null,
      "metadata": {
        "id": "fszjx9-d_7A4"
      },
      "outputs": [],
      "source": [
        "# X = data_new1.iloc[:, 4:8]\n",
        "# # del X['Vol.']\n",
        "# #X del (labels = 'Vol.', axis =0)\n",
        "# y = data_new1.iloc[:, 3]"
      ]
    },
    {
      "cell_type": "markdown",
      "metadata": {
        "id": "JZu_KkVhrhWg"
      },
      "source": [
        "#Plots after data transformation"
      ]
    },
    {
      "cell_type": "code",
      "execution_count": 29,
      "metadata": {
        "id": "0IuxttINaXDx"
      },
      "outputs": [],
      "source": [
        "# plt.plot(data['Date'], data_new1['Price_T'])\n",
        "# plt.xlabel(\" Year \")\n",
        "# plt.ylabel(\"Stock Price\")"
      ]
    },
    {
      "cell_type": "code",
      "source": [
        "plt.plot(data['Date'], data_new1['Price_T'])\n",
        "plt.xlabel(\" Year \")\n",
        "plt.ylabel(\"Stock Price\")"
      ],
      "metadata": {
        "colab": {
          "base_uri": "https://localhost:8080/",
          "height": 297
        },
        "id": "ymIWN6HYCotl",
        "outputId": "57e17f37-68a6-4a1e-da1e-579551f90989"
      },
      "execution_count": 53,
      "outputs": [
        {
          "output_type": "execute_result",
          "data": {
            "text/plain": [
              "Text(0, 0.5, 'Stock Price')"
            ]
          },
          "metadata": {},
          "execution_count": 53
        },
        {
          "output_type": "display_data",
          "data": {
            "text/plain": [
              "<Figure size 432x288 with 1 Axes>"
            ],
            "image/png": "[encoded data removed]"
          },
          "metadata": {
            "needs_background": "light"
          }
        }
      ]
    },
    {
      "cell_type": "code",
      "execution_count": 33,
      "metadata": {
        "colab": {
          "base_uri": "https://localhost:8080/",
          "height": 356
        },
        "id": "jgHbfo9I2I9r",
        "outputId": "41a439e4-3497-48bd-cfce-fce8369ec391"
      },
      "outputs": [
        {
          "output_type": "stream",
          "name": "stderr",
          "text": [
            "/usr/local/lib/python3.7/dist-packages/seaborn/distributions.py:2619: FutureWarning: `distplot` is a deprecated function and will be removed in a future version. Please adapt your code to use either `displot` (a figure-level function with similar flexibility) or `histplot` (an axes-level function for histograms).\n",
            "  warnings.warn(msg, FutureWarning)\n"
          ]
        },
        {
          "output_type": "execute_result",
          "data": {
            "text/plain": [
              "<matplotlib.axes._subplots.AxesSubplot at 0x7f37215a4710>"
            ]
          },
          "metadata": {},
          "execution_count": 33
        },
        {
          "output_type": "display_data",
          "data": {
            "text/plain": [
              "<Figure size 432x288 with 1 Axes>"
            ],
            "image/png": "[encoded data removed]"
          },
          "metadata": {
            "needs_background": "light"
          }
        }
      ],
      "source": [
        "sns.distplot(data_new1['Price'])"
      ]
    },
    {
      "cell_type": "code",
      "execution_count": null,
      "metadata": {
        "colab": {
          "base_uri": "https://localhost:8080/",
          "height": 300
        },
        "id": "tjZMD8R4vQEZ",
        "outputId": "c6ab70a9-edf6-4b9f-97bc-021a43867e3f"
      },
      "outputs": [
        {
          "data": {
            "text/plain": [
              "<AxesSubplot:xlabel='Lag', ylabel='Autocorrelation'>"
            ]
          },
          "execution_count": 30,
          "metadata": {},
          "output_type": "execute_result"
        },
        {
          "data": {
            "image/png": "[encoded data removed]",
            "text/plain": [
              "<Figure size 432x288 with 1 Axes>"
            ]
          },
          "metadata": {
            "needs_background": "light"
          },
          "output_type": "display_data"
        }
      ],
      "source": [
        "# create an autocorrelation plot after standardizing with log return function\n",
        "from pandas.plotting import autocorrelation_plot\n",
        "\n",
        "autocorrelation_plot(data_new['Price'])"
      ]
    },
    {
      "cell_type": "code",
      "execution_count": null,
      "metadata": {
        "colab": {
          "base_uri": "https://localhost:8080/",
          "height": 295
        },
        "id": "7RmgSMm-Got0",
        "outputId": "0855e8b3-f4dc-4c58-dc70-febee6c4d5ad"
      },
      "outputs": [
        {
          "data": {
            "text/plain": [
              "Text(0, 0.5, 'Stock Price')"
            ]
          },
          "execution_count": 31,
          "metadata": {},
          "output_type": "execute_result"
        },
        {
          "data": {
            "image/png": "[encoded data removed]",
            "text/plain": [
              "<Figure size 432x288 with 1 Axes>"
            ]
          },
          "metadata": {
            "needs_background": "light"
          },
          "output_type": "display_data"
        }
      ],
      "source": [
        "plt.plot(data_new['Date'], data_new['Price'])\n",
        "plt.xlabel(\" Year \")\n",
        "plt.ylabel(\"Stock Price\")"
      ]
    },
    {
      "cell_type": "markdown",
      "metadata": {
        "id": "Mo8m9cpS1Qup"
      },
      "source": [
        "Splitting of the data into training and test"
      ]
    },
    {
      "cell_type": "code",
      "execution_count": null,
      "metadata": {
        "id": "ODWNYI03B6PF"
      },
      "outputs": [],
      "source": [
        "# data3 = data2.drop(['Date', 'Vol.'], axis= 1)\n",
        "# data3.dropna(axis= 0, inplace = True)"
      ]
    },
    {
      "cell_type": "code",
      "execution_count": null,
      "metadata": {
        "id": "DNDNogNSCDTj"
      },
      "outputs": [],
      "source": [
        "# data3.head(3)"
      ]
    },
    {
      "cell_type": "code",
      "execution_count": null,
      "metadata": {
        "id": "IMZm1PYkA0qg"
      },
      "outputs": [],
      "source": [
        "# X = data_new1.iloc[:,:-1]\n",
        "# # # del X['Vol.']\n",
        "# # #X del (labels = 'Vol.', axis =0)\n",
        "# y = data_new1.iloc[:, -1]"
      ]
    },
    {
      "cell_type": "code",
      "execution_count": 55,
      "metadata": {
        "id": "ec1NEQFR4piM"
      },
      "outputs": [],
      "source": [
        "n_points = len(data_new1)\n",
        "train_points = int((2/3)*n_points)+1\n",
        "X_train, X_test =data_new1.iloc[:,1:].values[:train_points],  data_new1.iloc[:,1:].values[train_points:  ]\n",
        "y_train, y_test =data_new1.iloc[:,0].values[:train_points  ],  data_new1.iloc[:,0].values[train_points:  ]"
      ]
    },
    {
      "cell_type": "code",
      "source": [
        "test_ratio = 0.2\n",
        "training_ratio = 1 - test_ratio\n",
        "\n",
        "train_size = int(training_ratio * n_points)\n",
        "test_size = int(test_ratio * n_points)\n",
        "print(\"train_size: \" + str(train_size))\n",
        "print(\"test_size: \" + str(test_size))\n",
        "\n",
        "train = data_new1[:train_size][['Price_T','Open_T',\t'High_T',\t'Low_T']]\n",
        "test = data_new1[train_size:][['Price_T','Open_T',\t'High_T',\t'Low_T']]"
      ],
      "metadata": {
        "colab": {
          "base_uri": "https://localhost:8080/"
        },
        "id": "7e8BHkpWIo7P",
        "outputId": "9a0ef008-6f30-4a76-a66c-cb13050a27f0"
      },
      "execution_count": 88,
      "outputs": [
        {
          "output_type": "stream",
          "name": "stdout",
          "text": [
            "train_size: 1965\n",
            "test_size: 491\n"
          ]
        }
      ]
    },
    {
      "cell_type": "code",
      "source": [
        "test"
      ],
      "metadata": {
        "colab": {
          "base_uri": "https://localhost:8080/",
          "height": 424
        },
        "id": "5VyGe7g-I8vt",
        "outputId": "cf095091-9ecb-4b17-bc9b-6bad0f4c456b"
      },
      "execution_count": 89,
      "outputs": [
        {
          "output_type": "execute_result",
          "data": {
            "text/plain": [
              "       Price_T    Open_T    High_T     Low_T\n",
              "1965  7.560747  7.563258  7.567160  7.559064\n",
              "1966  7.563258  7.550051  7.563979  7.549099\n",
              "1967  7.550051  7.562593  7.562593  7.546795\n",
              "1968  7.563325  7.552898  7.564275  7.552106\n",
              "1969  7.552898  7.558318  7.562505  7.552689\n",
              "...        ...       ...       ...       ...\n",
              "2452  6.849300  6.844943  6.849586  6.843601\n",
              "2453  6.844943  6.842875  6.845007  6.837333\n",
              "2454  6.842000  6.843430  6.847124  6.840611\n",
              "2455  6.843515  6.834346  6.843793  6.834249\n",
              "2456  6.834346  6.842822  6.843547  6.834184\n",
              "\n",
              "[492 rows x 4 columns]"
            ],
            "text/html": [
              "\n",
              "  <div id=\"df-c853540c-30e5-41fe-8b0d-f127908c3447\">\n",
              "    <div class=\"colab-df-container\">\n",
              "      <div>\n",
              "<style scoped>\n",
              "    .dataframe tbody tr th:only-of-type {\n",
              "        vertical-align: middle;\n",
              "    }\n",
              "\n",
              "    .dataframe tbody tr th {\n",
              "        vertical-align: top;\n",
              "    }\n",
              "\n",
              "    .dataframe thead th {\n",
              "        text-align: right;\n",
              "    }\n",
              "</style>\n",
              "<table border=\"1\" class=\"dataframe\">\n",
              "  <thead>\n",
              "    <tr style=\"text-align: right;\">\n",
              "      <th></th>\n",
              "      <th>Price_T</th>\n",
              "      <th>Open_T</th>\n",
              "      <th>High_T</th>\n",
              "      <th>Low_T</th>\n",
              "    </tr>\n",
              "  </thead>\n",
              "  <tbody>\n",
              "    <tr>\n",
              "      <th>1965</th>\n",
              "      <td>7.560747</td>\n",
              "      <td>7.563258</td>\n",
              "      <td>7.567160</td>\n",
              "      <td>7.559064</td>\n",
              "    </tr>\n",
              "    <tr>\n",
              "      <th>1966</th>\n",
              "      <td>7.563258</td>\n",
              "      <td>7.550051</td>\n",
              "      <td>7.563979</td>\n",
              "      <td>7.549099</td>\n",
              "    </tr>\n",
              "    <tr>\n",
              "      <th>1967</th>\n",
              "      <td>7.550051</td>\n",
              "      <td>7.562593</td>\n",
              "      <td>7.562593</td>\n",
              "      <td>7.546795</td>\n",
              "    </tr>\n",
              "    <tr>\n",
              "      <th>1968</th>\n",
              "      <td>7.563325</td>\n",
              "      <td>7.552898</td>\n",
              "      <td>7.564275</td>\n",
              "      <td>7.552106</td>\n",
              "    </tr>\n",
              "    <tr>\n",
              "      <th>1969</th>\n",
              "      <td>7.552898</td>\n",
              "      <td>7.558318</td>\n",
              "      <td>7.562505</td>\n",
              "      <td>7.552689</td>\n",
              "    </tr>\n",
              "    <tr>\n",
              "      <th>...</th>\n",
              "      <td>...</td>\n",
              "      <td>...</td>\n",
              "      <td>...</td>\n",
              "      <td>...</td>\n",
              "    </tr>\n",
              "    <tr>\n",
              "      <th>2452</th>\n",
              "      <td>6.849300</td>\n",
              "      <td>6.844943</td>\n",
              "      <td>6.849586</td>\n",
              "      <td>6.843601</td>\n",
              "    </tr>\n",
              "    <tr>\n",
              "      <th>2453</th>\n",
              "      <td>6.844943</td>\n",
              "      <td>6.842875</td>\n",
              "      <td>6.845007</td>\n",
              "      <td>6.837333</td>\n",
              "    </tr>\n",
              "    <tr>\n",
              "      <th>2454</th>\n",
              "      <td>6.842000</td>\n",
              "      <td>6.843430</td>\n",
              "      <td>6.847124</td>\n",
              "      <td>6.840611</td>\n",
              "    </tr>\n",
              "    <tr>\n",
              "      <th>2455</th>\n",
              "      <td>6.843515</td>\n",
              "      <td>6.834346</td>\n",
              "      <td>6.843793</td>\n",
              "      <td>6.834249</td>\n",
              "    </tr>\n",
              "    <tr>\n",
              "      <th>2456</th>\n",
              "      <td>6.834346</td>\n",
              "      <td>6.842822</td>\n",
              "      <td>6.843547</td>\n",
              "      <td>6.834184</td>\n",
              "    </tr>\n",
              "  </tbody>\n",
              "</table>\n",
              "<p>492 rows × 4 columns</p>\n",
              "</div>\n",
              "      <button class=\"colab-df-convert\" onclick=\"convertToInteractive('df-c853540c-30e5-41fe-8b0d-f127908c3447')\"\n",
              "              title=\"Convert this dataframe to an interactive table.\"\n",
              "              style=\"display:none;\">\n",
              "        \n",
              "  <svg xmlns=\"http://www.w3.org/2000/svg\" height=\"24px\"viewBox=\"0 0 24 24\"\n",
              "       width=\"24px\">\n",
              "    <path d=\"M0 0h24v24H0V0z\" fill=\"none\"/>\n",
              "    <path d=\"M18.56 5.44l.94 2.06.94-2.06 2.06-.94-2.06-.94-.94-2.06-.94 2.06-2.06.94zm-11 1L8.5 8.5l.94-2.06 2.06-.94-2.06-.94L8.5 2.5l-.94 2.06-2.06.94zm10 10l.94 2.06.94-2.06 2.06-.94-2.06-.94-.94-2.06-.94 2.06-2.06.94z\"/><path d=\"M17.41 7.96l-1.37-1.37c-.4-.4-.92-.59-1.43-.59-.52 0-1.04.2-1.43.59L10.3 9.45l-7.72 7.72c-.78.78-.78 2.05 0 2.83L4 21.41c.39.39.9.59 1.41.59.51 0 1.02-.2 1.41-.59l7.78-7.78 2.81-2.81c.8-.78.8-2.07 0-2.86zM5.41 20L4 18.59l7.72-7.72 1.47 1.35L5.41 20z\"/>\n",
              "  </svg>\n",
              "      </button>\n",
              "      \n",
              "  <style>\n",
              "    .colab-df-container {\n",
              "      display:flex;\n",
              "      flex-wrap:wrap;\n",
              "      gap: 12px;\n",
              "    }\n",
              "\n",
              "    .colab-df-convert {\n",
              "      background-color: #E8F0FE;\n",
              "      border: none;\n",
              "      border-radius: 50%;\n",
              "      cursor: pointer;\n",
              "      display: none;\n",
              "      fill: #1967D2;\n",
              "      height: 32px;\n",
              "      padding: 0 0 0 0;\n",
              "      width: 32px;\n",
              "    }\n",
              "\n",
              "    .colab-df-convert:hover {\n",
              "      background-color: #E2EBFA;\n",
              "      box-shadow: 0px 1px 2px rgba(60, 64, 67, 0.3), 0px 1px 3px 1px rgba(60, 64, 67, 0.15);\n",
              "      fill: #174EA6;\n",
              "    }\n",
              "\n",
              "    [theme=dark] .colab-df-convert {\n",
              "      background-color: #3B4455;\n",
              "      fill: #D2E3FC;\n",
              "    }\n",
              "\n",
              "    [theme=dark] .colab-df-convert:hover {\n",
              "      background-color: #434B5C;\n",
              "      box-shadow: 0px 1px 3px 1px rgba(0, 0, 0, 0.15);\n",
              "      filter: drop-shadow(0px 1px 2px rgba(0, 0, 0, 0.3));\n",
              "      fill: #FFFFFF;\n",
              "    }\n",
              "  </style>\n",
              "\n",
              "      <script>\n",
              "        const buttonEl =\n",
              "          document.querySelector('#df-c853540c-30e5-41fe-8b0d-f127908c3447 button.colab-df-convert');\n",
              "        buttonEl.style.display =\n",
              "          google.colab.kernel.accessAllowed ? 'block' : 'none';\n",
              "\n",
              "        async function convertToInteractive(key) {\n",
              "          const element = document.querySelector('#df-c853540c-30e5-41fe-8b0d-f127908c3447');\n",
              "          const dataTable =\n",
              "            await google.colab.kernel.invokeFunction('convertToInteractive',\n",
              "                                                     [key], {});\n",
              "          if (!dataTable) return;\n",
              "\n",
              "          const docLinkHtml = 'Like what you see? Visit the ' +\n",
              "            '<a target=\"_blank\" href=https://colab.research.google.com/notebooks/data_table.ipynb>data table notebook</a>'\n",
              "            + ' to learn more about interactive tables.';\n",
              "          element.innerHTML = '';\n",
              "          dataTable['output_type'] = 'display_data';\n",
              "          await google.colab.output.renderOutput(dataTable, element);\n",
              "          const docLink = document.createElement('div');\n",
              "          docLink.innerHTML = docLinkHtml;\n",
              "          element.appendChild(docLink);\n",
              "        }\n",
              "      </script>\n",
              "    </div>\n",
              "  </div>\n",
              "  "
            ]
          },
          "metadata": {},
          "execution_count": 89
        }
      ]
    },
    {
      "cell_type": "code",
      "source": [
        "y_train = train['Price_T']"
      ],
      "metadata": {
        "id": "SwHwR9_YGwop"
      },
      "execution_count": 91,
      "outputs": []
    },
    {
      "cell_type": "code",
      "source": [
        "X_train = train[['Open_T',\t'High_T',\t'Low_T']]"
      ],
      "metadata": {
        "id": "RBhBqrExLkcS"
      },
      "execution_count": 95,
      "outputs": []
    },
    {
      "cell_type": "code",
      "source": [
        "X_train"
      ],
      "metadata": {
        "colab": {
          "base_uri": "https://localhost:8080/",
          "height": 424
        },
        "id": "3D8EFUj5H9Dn",
        "outputId": "04a7e808-5529-4a0f-eab0-6cd807fa42f7"
      },
      "execution_count": 97,
      "outputs": [
        {
          "output_type": "execute_result",
          "data": {
            "text/plain": [
              "        Open_T    High_T     Low_T\n",
              "0     7.425918  7.452576  7.424589\n",
              "1     7.425757  7.426150  7.424082\n",
              "2     7.439330  7.440258  7.423813\n",
              "3     7.438895  7.439553  7.438142\n",
              "4     7.438607  7.439130  7.437354\n",
              "...        ...       ...       ...\n",
              "1960  7.523217  7.524329  7.520083\n",
              "1961  7.528708  7.528998  7.514298\n",
              "1962  7.539298  7.540064  7.523395\n",
              "1963  7.551670  7.552468  7.538937\n",
              "1964  7.560747  7.561085  7.548530\n",
              "\n",
              "[1965 rows x 3 columns]"
            ],
            "text/html": [
              "\n",
              "  <div id=\"df-18d067c0-0ab6-4770-93cf-b654017ebb24\">\n",
              "    <div class=\"colab-df-container\">\n",
              "      <div>\n",
              "<style scoped>\n",
              "    .dataframe tbody tr th:only-of-type {\n",
              "        vertical-align: middle;\n",
              "    }\n",
              "\n",
              "    .dataframe tbody tr th {\n",
              "        vertical-align: top;\n",
              "    }\n",
              "\n",
              "    .dataframe thead th {\n",
              "        text-align: right;\n",
              "    }\n",
              "</style>\n",
              "<table border=\"1\" class=\"dataframe\">\n",
              "  <thead>\n",
              "    <tr style=\"text-align: right;\">\n",
              "      <th></th>\n",
              "      <th>Open_T</th>\n",
              "      <th>High_T</th>\n",
              "      <th>Low_T</th>\n",
              "    </tr>\n",
              "  </thead>\n",
              "  <tbody>\n",
              "    <tr>\n",
              "      <th>0</th>\n",
              "      <td>7.425918</td>\n",
              "      <td>7.452576</td>\n",
              "      <td>7.424589</td>\n",
              "    </tr>\n",
              "    <tr>\n",
              "      <th>1</th>\n",
              "      <td>7.425757</td>\n",
              "      <td>7.426150</td>\n",
              "      <td>7.424082</td>\n",
              "    </tr>\n",
              "    <tr>\n",
              "      <th>2</th>\n",
              "      <td>7.439330</td>\n",
              "      <td>7.440258</td>\n",
              "      <td>7.423813</td>\n",
              "    </tr>\n",
              "    <tr>\n",
              "      <th>3</th>\n",
              "      <td>7.438895</td>\n",
              "      <td>7.439553</td>\n",
              "      <td>7.438142</td>\n",
              "    </tr>\n",
              "    <tr>\n",
              "      <th>4</th>\n",
              "      <td>7.438607</td>\n",
              "      <td>7.439130</td>\n",
              "      <td>7.437354</td>\n",
              "    </tr>\n",
              "    <tr>\n",
              "      <th>...</th>\n",
              "      <td>...</td>\n",
              "      <td>...</td>\n",
              "      <td>...</td>\n",
              "    </tr>\n",
              "    <tr>\n",
              "      <th>1960</th>\n",
              "      <td>7.523217</td>\n",
              "      <td>7.524329</td>\n",
              "      <td>7.520083</td>\n",
              "    </tr>\n",
              "    <tr>\n",
              "      <th>1961</th>\n",
              "      <td>7.528708</td>\n",
              "      <td>7.528998</td>\n",
              "      <td>7.514298</td>\n",
              "    </tr>\n",
              "    <tr>\n",
              "      <th>1962</th>\n",
              "      <td>7.539298</td>\n",
              "      <td>7.540064</td>\n",
              "      <td>7.523395</td>\n",
              "    </tr>\n",
              "    <tr>\n",
              "      <th>1963</th>\n",
              "      <td>7.551670</td>\n",
              "      <td>7.552468</td>\n",
              "      <td>7.538937</td>\n",
              "    </tr>\n",
              "    <tr>\n",
              "      <th>1964</th>\n",
              "      <td>7.560747</td>\n",
              "      <td>7.561085</td>\n",
              "      <td>7.548530</td>\n",
              "    </tr>\n",
              "  </tbody>\n",
              "</table>\n",
              "<p>1965 rows × 3 columns</p>\n",
              "</div>\n",
              "      <button class=\"colab-df-convert\" onclick=\"convertToInteractive('df-18d067c0-0ab6-4770-93cf-b654017ebb24')\"\n",
              "              title=\"Convert this dataframe to an interactive table.\"\n",
              "              style=\"display:none;\">\n",
              "        \n",
              "  <svg xmlns=\"http://www.w3.org/2000/svg\" height=\"24px\"viewBox=\"0 0 24 24\"\n",
              "       width=\"24px\">\n",
              "    <path d=\"M0 0h24v24H0V0z\" fill=\"none\"/>\n",
              "    <path d=\"M18.56 5.44l.94 2.06.94-2.06 2.06-.94-2.06-.94-.94-2.06-.94 2.06-2.06.94zm-11 1L8.5 8.5l.94-2.06 2.06-.94-2.06-.94L8.5 2.5l-.94 2.06-2.06.94zm10 10l.94 2.06.94-2.06 2.06-.94-2.06-.94-.94-2.06-.94 2.06-2.06.94z\"/><path d=\"M17.41 7.96l-1.37-1.37c-.4-.4-.92-.59-1.43-.59-.52 0-1.04.2-1.43.59L10.3 9.45l-7.72 7.72c-.78.78-.78 2.05 0 2.83L4 21.41c.39.39.9.59 1.41.59.51 0 1.02-.2 1.41-.59l7.78-7.78 2.81-2.81c.8-.78.8-2.07 0-2.86zM5.41 20L4 18.59l7.72-7.72 1.47 1.35L5.41 20z\"/>\n",
              "  </svg>\n",
              "      </button>\n",
              "      \n",
              "  <style>\n",
              "    .colab-df-container {\n",
              "      display:flex;\n",
              "      flex-wrap:wrap;\n",
              "      gap: 12px;\n",
              "    }\n",
              "\n",
              "    .colab-df-convert {\n",
              "      background-color: #E8F0FE;\n",
              "      border: none;\n",
              "      border-radius: 50%;\n",
              "      cursor: pointer;\n",
              "      display: none;\n",
              "      fill: #1967D2;\n",
              "      height: 32px;\n",
              "      padding: 0 0 0 0;\n",
              "      width: 32px;\n",
              "    }\n",
              "\n",
              "    .colab-df-convert:hover {\n",
              "      background-color: #E2EBFA;\n",
              "      box-shadow: 0px 1px 2px rgba(60, 64, 67, 0.3), 0px 1px 3px 1px rgba(60, 64, 67, 0.15);\n",
              "      fill: #174EA6;\n",
              "    }\n",
              "\n",
              "    [theme=dark] .colab-df-convert {\n",
              "      background-color: #3B4455;\n",
              "      fill: #D2E3FC;\n",
              "    }\n",
              "\n",
              "    [theme=dark] .colab-df-convert:hover {\n",
              "      background-color: #434B5C;\n",
              "      box-shadow: 0px 1px 3px 1px rgba(0, 0, 0, 0.15);\n",
              "      filter: drop-shadow(0px 1px 2px rgba(0, 0, 0, 0.3));\n",
              "      fill: #FFFFFF;\n",
              "    }\n",
              "  </style>\n",
              "\n",
              "      <script>\n",
              "        const buttonEl =\n",
              "          document.querySelector('#df-18d067c0-0ab6-4770-93cf-b654017ebb24 button.colab-df-convert');\n",
              "        buttonEl.style.display =\n",
              "          google.colab.kernel.accessAllowed ? 'block' : 'none';\n",
              "\n",
              "        async function convertToInteractive(key) {\n",
              "          const element = document.querySelector('#df-18d067c0-0ab6-4770-93cf-b654017ebb24');\n",
              "          const dataTable =\n",
              "            await google.colab.kernel.invokeFunction('convertToInteractive',\n",
              "                                                     [key], {});\n",
              "          if (!dataTable) return;\n",
              "\n",
              "          const docLinkHtml = 'Like what you see? Visit the ' +\n",
              "            '<a target=\"_blank\" href=https://colab.research.google.com/notebooks/data_table.ipynb>data table notebook</a>'\n",
              "            + ' to learn more about interactive tables.';\n",
              "          element.innerHTML = '';\n",
              "          dataTable['output_type'] = 'display_data';\n",
              "          await google.colab.output.renderOutput(dataTable, element);\n",
              "          const docLink = document.createElement('div');\n",
              "          docLink.innerHTML = docLinkHtml;\n",
              "          element.appendChild(docLink);\n",
              "        }\n",
              "      </script>\n",
              "    </div>\n",
              "  </div>\n",
              "  "
            ]
          },
          "metadata": {},
          "execution_count": 97
        }
      ]
    },
    {
      "cell_type": "code",
      "source": [
        "y_test = test['Price_T']"
      ],
      "metadata": {
        "id": "ojqB08WvL8pz"
      },
      "execution_count": 98,
      "outputs": []
    },
    {
      "cell_type": "code",
      "source": [
        "X_test = test[['Open_T',\t'High_T',\t'Low_T']]"
      ],
      "metadata": {
        "id": "oTQPG-PhL-tl"
      },
      "execution_count": 99,
      "outputs": []
    },
    {
      "cell_type": "code",
      "execution_count": 100,
      "metadata": {
        "id": "4nOitInWR0ZO"
      },
      "outputs": [],
      "source": [
        "from sklearn.model_selection import train_test_split"
      ]
    },
    {
      "cell_type": "code",
      "execution_count": null,
      "metadata": {
        "id": "f1ZWgOMs9cXB"
      },
      "outputs": [],
      "source": [
        "# n_points = len(data)\n",
        "# train_points = int(2/3*n_points)+1\n",
        "# X_train, X_test =X.iloc[:,1:].values[:train_points],  X.iloc[:,1:].values[train_points:  ]\n",
        "# y_train, y_test =y.iloc[:,0].values[:train_points],  y.iloc[:,0].values[train_points:  ]"
      ]
    },
    {
      "cell_type": "code",
      "execution_count": null,
      "metadata": {
        "id": "fNQ0yVgYAWlB"
      },
      "outputs": [],
      "source": [
        "# X_train , X_test, y_train, y_test =train_test_split(X,y ,train_size=0.6, shuffle=True, random_state=0)"
      ]
    },
    {
      "cell_type": "code",
      "execution_count": 101,
      "metadata": {
        "colab": {
          "base_uri": "https://localhost:8080/"
        },
        "id": "hSu8eyT24fo5",
        "outputId": "6da4f782-e8f0-45b8-ad16-0bdc9659c232"
      },
      "outputs": [
        {
          "output_type": "execute_result",
          "data": {
            "text/plain": [
              "((1965, 3), (492, 3), (1965,), (492,))"
            ]
          },
          "metadata": {},
          "execution_count": 101
        }
      ],
      "source": [
        "X_train.shape , X_test.shape, y_train.shape, y_test.shape"
      ]
    },
    {
      "cell_type": "markdown",
      "metadata": {
        "id": "bBR4EIHKr88-"
      },
      "source": [
        "#Import the required packages for model building"
      ]
    },
    {
      "cell_type": "code",
      "execution_count": 63,
      "metadata": {
        "colab": {
          "base_uri": "https://localhost:8080/",
          "height": 265
        },
        "id": "93C600gUyEtW",
        "outputId": "adea9253-3a71-44d9-e1df-23f0e1a1c1eb"
      },
      "outputs": [
        {
          "output_type": "display_data",
          "data": {
            "text/plain": [
              "<Figure size 432x288 with 1 Axes>"
            ],
            "image/png": "[encoded data removed]"
          },
          "metadata": {
            "needs_background": "light"
          }
        }
      ],
      "source": [
        "# test_size = 1000\n",
        "\n",
        "# data_new1_train = data_new1.iloc[:test_size, :-1]\n",
        "# data_new1_test = data_new1.iloc[:-test_size, -1]\n",
        "\n",
        "# plt.title('', size=20)\n",
        "# plt.plot(data_new1_train, label='Training set')\n",
        "# plt.plot(data_new1_test, label='Test set', color='orange')\n",
        "# plt.legend();"
      ]
    },
    {
      "cell_type": "code",
      "execution_count": null,
      "metadata": {
        "id": "IH91hmrh4iWS"
      },
      "outputs": [],
      "source": [
        "# X_train, X_test ,y_train, y_test =train_test_split(X,y,test_size=0.2, shuffle=False)"
      ]
    },
    {
      "cell_type": "code",
      "source": [
        "!pip install keras"
      ],
      "metadata": {
        "colab": {
          "base_uri": "https://localhost:8080/"
        },
        "id": "8OfYUOBVVAim",
        "outputId": "080f23aa-f10f-474b-b6ea-a9dc7193fe08"
      },
      "execution_count": 152,
      "outputs": [
        {
          "output_type": "stream",
          "name": "stdout",
          "text": [
            "Looking in indexes: https://pypi.org/simple, https://us-python.pkg.dev/colab-wheels/public/simple/\n",
            "Requirement already satisfied: keras in /usr/local/lib/python3.7/dist-packages (2.8.0)\n"
          ]
        }
      ]
    },
    {
      "cell_type": "code",
      "execution_count": 156,
      "metadata": {
        "id": "dbdT8Vz0UdPh"
      },
      "outputs": [],
      "source": [
        "import pandas as pd\n",
        "import numpy as np\n",
        "from sklearn import model_selection\n",
        "from sklearn.linear_model import LinearRegression\n",
        "from sklearn.linear_model import Ridge\n",
        "from sklearn.linear_model import Lasso\n",
        "from sklearn.linear_model import ElasticNet\n",
        "from sklearn.metrics import r2_score\n",
        "from sklearn.metrics import mean_squared_error\n",
        "from sklearn.metrics import mean_absolute_error\n",
        "from math import sqrt\n",
        "from sklearn.preprocessing import MinMaxScaler\n",
        "from sklearn.model_selection import TimeSeriesSplit\n",
        "from keras.models import Sequential\n",
        "from keras.layers import LSTM, Dense, Dropout\n",
        "from keras.layers import Dense\n",
        "import keras.backend as K\n",
        "from keras.callbacks import EarlyStopping\n",
        "# from keras.optimizers import Adam\n",
        "from keras.models import load_model\n",
        "from keras.layers import LSTM\n",
        "from keras.utils.vis_utils import plot_model"
      ]
    },
    {
      "cell_type": "markdown",
      "metadata": {
        "id": "2BqrfXbIBTy3"
      },
      "source": [
        "#Linear Regression"
      ]
    },
    {
      "cell_type": "code",
      "source": [
        "#Set Target Variable\n",
        "output_var = pd.DataFrame(data['Price'])\n",
        "#Selecting the Features\n",
        "features = ['Open', 'High', 'Low']"
      ],
      "metadata": {
        "id": "_PwOw_uLQjE9"
      },
      "execution_count": 173,
      "outputs": []
    },
    {
      "cell_type": "code",
      "source": [
        "#Scaling\n",
        "scaler = MinMaxScaler()\n",
        "feature_transform = scaler.fit_transform(data[features])\n",
        "feature_transform= pd.DataFrame(columns=features, data=feature_transform, index=data.index)\n",
        "feature_transform.head()"
      ],
      "metadata": {
        "colab": {
          "base_uri": "https://localhost:8080/",
          "height": 206
        },
        "id": "ftY5aHI0QooJ",
        "outputId": "a87ba391-6803-4419-e13a-51c1ed2f276b"
      },
      "execution_count": 174,
      "outputs": [
        {
          "output_type": "execute_result",
          "data": {
            "text/plain": [
              "       Open      High       Low\n",
              "0  0.676924  0.705729  0.689323\n",
              "1  0.676698  0.667887  0.688595\n",
              "2  0.695964  0.687965  0.688210\n",
              "3  0.695343  0.686955  0.708906\n",
              "4  0.694931  0.686349  0.707759"
            ],
            "text/html": [
              "\n",
              "  <div id=\"df-c1251d72-975b-4ea9-b671-69998a4b34d2\">\n",
              "    <div class=\"colab-df-container\">\n",
              "      <div>\n",
              "<style scoped>\n",
              "    .dataframe tbody tr th:only-of-type {\n",
              "        vertical-align: middle;\n",
              "    }\n",
              "\n",
              "    .dataframe tbody tr th {\n",
              "        vertical-align: top;\n",
              "    }\n",
              "\n",
              "    .dataframe thead th {\n",
              "        text-align: right;\n",
              "    }\n",
              "</style>\n",
              "<table border=\"1\" class=\"dataframe\">\n",
              "  <thead>\n",
              "    <tr style=\"text-align: right;\">\n",
              "      <th></th>\n",
              "      <th>Open</th>\n",
              "      <th>High</th>\n",
              "      <th>Low</th>\n",
              "    </tr>\n",
              "  </thead>\n",
              "  <tbody>\n",
              "    <tr>\n",
              "      <th>0</th>\n",
              "      <td>0.676924</td>\n",
              "      <td>0.705729</td>\n",
              "      <td>0.689323</td>\n",
              "    </tr>\n",
              "    <tr>\n",
              "      <th>1</th>\n",
              "      <td>0.676698</td>\n",
              "      <td>0.667887</td>\n",
              "      <td>0.688595</td>\n",
              "    </tr>\n",
              "    <tr>\n",
              "      <th>2</th>\n",
              "      <td>0.695964</td>\n",
              "      <td>0.687965</td>\n",
              "      <td>0.688210</td>\n",
              "    </tr>\n",
              "    <tr>\n",
              "      <th>3</th>\n",
              "      <td>0.695343</td>\n",
              "      <td>0.686955</td>\n",
              "      <td>0.708906</td>\n",
              "    </tr>\n",
              "    <tr>\n",
              "      <th>4</th>\n",
              "      <td>0.694931</td>\n",
              "      <td>0.686349</td>\n",
              "      <td>0.707759</td>\n",
              "    </tr>\n",
              "  </tbody>\n",
              "</table>\n",
              "</div>\n",
              "      <button class=\"colab-df-convert\" onclick=\"convertToInteractive('df-c1251d72-975b-4ea9-b671-69998a4b34d2')\"\n",
              "              title=\"Convert this dataframe to an interactive table.\"\n",
              "              style=\"display:none;\">\n",
              "        \n",
              "  <svg xmlns=\"http://www.w3.org/2000/svg\" height=\"24px\"viewBox=\"0 0 24 24\"\n",
              "       width=\"24px\">\n",
              "    <path d=\"M0 0h24v24H0V0z\" fill=\"none\"/>\n",
              "    <path d=\"M18.56 5.44l.94 2.06.94-2.06 2.06-.94-2.06-.94-.94-2.06-.94 2.06-2.06.94zm-11 1L8.5 8.5l.94-2.06 2.06-.94-2.06-.94L8.5 2.5l-.94 2.06-2.06.94zm10 10l.94 2.06.94-2.06 2.06-.94-2.06-.94-.94-2.06-.94 2.06-2.06.94z\"/><path d=\"M17.41 7.96l-1.37-1.37c-.4-.4-.92-.59-1.43-.59-.52 0-1.04.2-1.43.59L10.3 9.45l-7.72 7.72c-.78.78-.78 2.05 0 2.83L4 21.41c.39.39.9.59 1.41.59.51 0 1.02-.2 1.41-.59l7.78-7.78 2.81-2.81c.8-.78.8-2.07 0-2.86zM5.41 20L4 18.59l7.72-7.72 1.47 1.35L5.41 20z\"/>\n",
              "  </svg>\n",
              "      </button>\n",
              "      \n",
              "  <style>\n",
              "    .colab-df-container {\n",
              "      display:flex;\n",
              "      flex-wrap:wrap;\n",
              "      gap: 12px;\n",
              "    }\n",
              "\n",
              "    .colab-df-convert {\n",
              "      background-color: #E8F0FE;\n",
              "      border: none;\n",
              "      border-radius: 50%;\n",
              "      cursor: pointer;\n",
              "      display: none;\n",
              "      fill: #1967D2;\n",
              "      height: 32px;\n",
              "      padding: 0 0 0 0;\n",
              "      width: 32px;\n",
              "    }\n",
              "\n",
              "    .colab-df-convert:hover {\n",
              "      background-color: #E2EBFA;\n",
              "      box-shadow: 0px 1px 2px rgba(60, 64, 67, 0.3), 0px 1px 3px 1px rgba(60, 64, 67, 0.15);\n",
              "      fill: #174EA6;\n",
              "    }\n",
              "\n",
              "    [theme=dark] .colab-df-convert {\n",
              "      background-color: #3B4455;\n",
              "      fill: #D2E3FC;\n",
              "    }\n",
              "\n",
              "    [theme=dark] .colab-df-convert:hover {\n",
              "      background-color: #434B5C;\n",
              "      box-shadow: 0px 1px 3px 1px rgba(0, 0, 0, 0.15);\n",
              "      filter: drop-shadow(0px 1px 2px rgba(0, 0, 0, 0.3));\n",
              "      fill: #FFFFFF;\n",
              "    }\n",
              "  </style>\n",
              "\n",
              "      <script>\n",
              "        const buttonEl =\n",
              "          document.querySelector('#df-c1251d72-975b-4ea9-b671-69998a4b34d2 button.colab-df-convert');\n",
              "        buttonEl.style.display =\n",
              "          google.colab.kernel.accessAllowed ? 'block' : 'none';\n",
              "\n",
              "        async function convertToInteractive(key) {\n",
              "          const element = document.querySelector('#df-c1251d72-975b-4ea9-b671-69998a4b34d2');\n",
              "          const dataTable =\n",
              "            await google.colab.kernel.invokeFunction('convertToInteractive',\n",
              "                                                     [key], {});\n",
              "          if (!dataTable) return;\n",
              "\n",
              "          const docLinkHtml = 'Like what you see? Visit the ' +\n",
              "            '<a target=\"_blank\" href=https://colab.research.google.com/notebooks/data_table.ipynb>data table notebook</a>'\n",
              "            + ' to learn more about interactive tables.';\n",
              "          element.innerHTML = '';\n",
              "          dataTable['output_type'] = 'display_data';\n",
              "          await google.colab.output.renderOutput(dataTable, element);\n",
              "          const docLink = document.createElement('div');\n",
              "          docLink.innerHTML = docLinkHtml;\n",
              "          element.appendChild(docLink);\n",
              "        }\n",
              "      </script>\n",
              "    </div>\n",
              "  </div>\n",
              "  "
            ]
          },
          "metadata": {},
          "execution_count": 174
        }
      ]
    },
    {
      "cell_type": "code",
      "source": [
        "#Splitting to Training set and Test set\n",
        "timesplit= TimeSeriesSplit(n_splits=20)\n",
        "for train_index, test_index in timesplit.split(feature_transform):\n",
        "        X_train, X_test = feature_transform[:len(train_index)], feature_transform[len(train_index): (len(train_index)+len(test_index))]\n",
        "        y_train, y_test = output_var[:len(train_index)].values.ravel(), output_var[len(train_index): (len(train_index)+len(test_index))].values.ravel()\n"
      ],
      "metadata": {
        "id": "76ROk9HeQrpW"
      },
      "execution_count": 175,
      "outputs": []
    },
    {
      "cell_type": "markdown",
      "source": [
        "##LSTM"
      ],
      "metadata": {
        "id": "vf9Z2F4QUiDa"
      }
    },
    {
      "cell_type": "code",
      "source": [
        "#Process the data for LSTM\n",
        "trainX =np.array(X_train)\n",
        "testX =np.array(X_test)\n",
        "X_train = trainX.reshape(X_train.shape[0], 1, X_train.shape[1])\n",
        "X_test = testX.reshape(X_test.shape[0], 1, X_test.shape[1])"
      ],
      "metadata": {
        "id": "_tWo0HgTUjyt"
      },
      "execution_count": 148,
      "outputs": []
    },
    {
      "cell_type": "code",
      "source": [
        "#Building the LSTM Model\n",
        "lstm = Sequential()\n",
        "lstm.add(LSTM(32, input_shape=(1, trainX.shape[1]), activation='relu', return_sequences=False))\n",
        "lstm.add(Dense(1))\n",
        "lstm.compile(loss='mean_squared_error', optimizer='adam')\n",
        "plot_model(lstm, show_shapes=True, show_layer_names=True)"
      ],
      "metadata": {
        "colab": {
          "base_uri": "https://localhost:8080/",
          "height": 312
        },
        "id": "I7Pp4_-MUqOe",
        "outputId": "19b14147-3a92-489d-cf58-da5deda1ac35"
      },
      "execution_count": 159,
      "outputs": [
        {
          "output_type": "execute_result",
          "data": {
            "image/png": "[encoded data removed]",
            "text/plain": [
              "<IPython.core.display.Image object>"
            ]
          },
          "metadata": {},
          "execution_count": 159
        }
      ]
    },
    {
      "cell_type": "code",
      "source": [
        "#Model Training\n",
        "history=lstm.fit(X_train, y_train, epochs=100, batch_size=8, verbose=1, shuffle=False)"
      ],
      "metadata": {
        "colab": {
          "base_uri": "https://localhost:8080/"
        },
        "id": "Yj4WbNlcWQGT",
        "outputId": "28ef5ff0-646b-48fc-8017-8c7e3b13a279"
      },
      "execution_count": 160,
      "outputs": [
        {
          "output_type": "stream",
          "name": "stdout",
          "text": [
            "Epoch 1/100\n",
            "293/293 [==============================] - 3s 2ms/step - loss: 2188519.0000\n",
            "Epoch 2/100\n",
            "293/293 [==============================] - 1s 2ms/step - loss: 2153242.0000\n",
            "Epoch 3/100\n",
            "293/293 [==============================] - 1s 2ms/step - loss: 2065368.0000\n",
            "Epoch 4/100\n",
            "293/293 [==============================] - 1s 2ms/step - loss: 1937769.5000\n",
            "Epoch 5/100\n",
            "293/293 [==============================] - 1s 2ms/step - loss: 1787012.3750\n",
            "Epoch 6/100\n",
            "293/293 [==============================] - 1s 2ms/step - loss: 1622119.8750\n",
            "Epoch 7/100\n",
            "293/293 [==============================] - 1s 2ms/step - loss: 1449096.8750\n",
            "Epoch 8/100\n",
            "293/293 [==============================] - 1s 2ms/step - loss: 1273054.0000\n",
            "Epoch 9/100\n",
            "293/293 [==============================] - 1s 2ms/step - loss: 1098533.0000\n",
            "Epoch 10/100\n",
            "293/293 [==============================] - 1s 2ms/step - loss: 929575.0625\n",
            "Epoch 11/100\n",
            "293/293 [==============================] - 1s 2ms/step - loss: 769726.3125\n",
            "Epoch 12/100\n",
            "293/293 [==============================] - 1s 2ms/step - loss: 622018.1875\n",
            "Epoch 13/100\n",
            "293/293 [==============================] - 1s 2ms/step - loss: 488936.8750\n",
            "Epoch 14/100\n",
            "293/293 [==============================] - 1s 2ms/step - loss: 372366.5938\n",
            "Epoch 15/100\n",
            "293/293 [==============================] - 1s 2ms/step - loss: 273523.1250\n",
            "Epoch 16/100\n",
            "293/293 [==============================] - 1s 2ms/step - loss: 192873.5625\n",
            "Epoch 17/100\n",
            "293/293 [==============================] - 1s 2ms/step - loss: 130058.0938\n",
            "Epoch 18/100\n",
            "293/293 [==============================] - 1s 2ms/step - loss: 83842.0859\n",
            "Epoch 19/100\n",
            "293/293 [==============================] - 1s 2ms/step - loss: 52143.2656\n",
            "Epoch 20/100\n",
            "293/293 [==============================] - 1s 2ms/step - loss: 32188.1055\n",
            "Epoch 21/100\n",
            "293/293 [==============================] - 1s 2ms/step - loss: 20840.2676\n",
            "Epoch 22/100\n",
            "293/293 [==============================] - 1s 2ms/step - loss: 15068.8525\n",
            "Epoch 23/100\n",
            "293/293 [==============================] - 1s 2ms/step - loss: 12408.2344\n",
            "Epoch 24/100\n",
            "293/293 [==============================] - 1s 2ms/step - loss: 11205.2432\n",
            "Epoch 25/100\n",
            "293/293 [==============================] - 1s 2ms/step - loss: 10562.9160\n",
            "Epoch 26/100\n",
            "293/293 [==============================] - 1s 2ms/step - loss: 10090.9053\n",
            "Epoch 27/100\n",
            "293/293 [==============================] - 1s 2ms/step - loss: 9652.8662\n",
            "Epoch 28/100\n",
            "293/293 [==============================] - 1s 2ms/step - loss: 9210.8154\n",
            "Epoch 29/100\n",
            "293/293 [==============================] - 1s 2ms/step - loss: 8757.3584\n",
            "Epoch 30/100\n",
            "293/293 [==============================] - 1s 2ms/step - loss: 8293.6602\n",
            "Epoch 31/100\n",
            "293/293 [==============================] - 1s 2ms/step - loss: 7823.2744\n",
            "Epoch 32/100\n",
            "293/293 [==============================] - 1s 2ms/step - loss: 7350.3872\n",
            "Epoch 33/100\n",
            "293/293 [==============================] - 1s 2ms/step - loss: 6879.2021\n",
            "Epoch 34/100\n",
            "293/293 [==============================] - 1s 2ms/step - loss: 6413.5166\n",
            "Epoch 35/100\n",
            "293/293 [==============================] - 1s 2ms/step - loss: 5956.6387\n",
            "Epoch 36/100\n",
            "293/293 [==============================] - 1s 2ms/step - loss: 5511.3223\n",
            "Epoch 37/100\n",
            "293/293 [==============================] - 1s 2ms/step - loss: 5079.7808\n",
            "Epoch 38/100\n",
            "293/293 [==============================] - 1s 4ms/step - loss: 4663.7446\n",
            "Epoch 39/100\n",
            "293/293 [==============================] - 1s 3ms/step - loss: 4264.5669\n",
            "Epoch 40/100\n",
            "293/293 [==============================] - 1s 2ms/step - loss: 3883.2334\n",
            "Epoch 41/100\n",
            "293/293 [==============================] - 1s 2ms/step - loss: 3520.4917\n",
            "Epoch 42/100\n",
            "293/293 [==============================] - 1s 2ms/step - loss: 3176.8567\n",
            "Epoch 43/100\n",
            "293/293 [==============================] - 1s 2ms/step - loss: 2852.6658\n",
            "Epoch 44/100\n",
            "293/293 [==============================] - 1s 2ms/step - loss: 2548.1316\n",
            "Epoch 45/100\n",
            "293/293 [==============================] - 1s 2ms/step - loss: 2263.3601\n",
            "Epoch 46/100\n",
            "293/293 [==============================] - 1s 2ms/step - loss: 1998.3583\n",
            "Epoch 47/100\n",
            "293/293 [==============================] - 1s 2ms/step - loss: 1753.0499\n",
            "Epoch 48/100\n",
            "293/293 [==============================] - 1s 2ms/step - loss: 1527.2883\n",
            "Epoch 49/100\n",
            "293/293 [==============================] - 1s 2ms/step - loss: 1320.8542\n",
            "Epoch 50/100\n",
            "293/293 [==============================] - 1s 3ms/step - loss: 1133.4615\n",
            "Epoch 51/100\n",
            "293/293 [==============================] - 1s 3ms/step - loss: 964.7230\n",
            "Epoch 52/100\n",
            "293/293 [==============================] - 1s 3ms/step - loss: 814.2070\n",
            "Epoch 53/100\n",
            "293/293 [==============================] - 1s 4ms/step - loss: 681.3637\n",
            "Epoch 54/100\n",
            "293/293 [==============================] - 1s 3ms/step - loss: 565.5278\n",
            "Epoch 55/100\n",
            "293/293 [==============================] - 1s 2ms/step - loss: 465.9268\n",
            "Epoch 56/100\n",
            "293/293 [==============================] - 1s 2ms/step - loss: 381.6724\n",
            "Epoch 57/100\n",
            "293/293 [==============================] - 1s 2ms/step - loss: 311.7196\n",
            "Epoch 58/100\n",
            "293/293 [==============================] - 1s 2ms/step - loss: 254.8950\n",
            "Epoch 59/100\n",
            "293/293 [==============================] - 1s 2ms/step - loss: 209.8860\n",
            "Epoch 60/100\n",
            "293/293 [==============================] - 1s 2ms/step - loss: 175.2662\n",
            "Epoch 61/100\n",
            "293/293 [==============================] - 1s 2ms/step - loss: 149.5079\n",
            "Epoch 62/100\n",
            "293/293 [==============================] - 1s 2ms/step - loss: 131.0530\n",
            "Epoch 63/100\n",
            "293/293 [==============================] - 1s 2ms/step - loss: 118.3620\n",
            "Epoch 64/100\n",
            "293/293 [==============================] - 1s 2ms/step - loss: 109.9990\n",
            "Epoch 65/100\n",
            "293/293 [==============================] - 1s 2ms/step - loss: 104.7068\n",
            "Epoch 66/100\n",
            "293/293 [==============================] - 1s 2ms/step - loss: 101.4708\n",
            "Epoch 67/100\n",
            "293/293 [==============================] - 1s 2ms/step - loss: 99.5381\n",
            "Epoch 68/100\n",
            "293/293 [==============================] - 1s 2ms/step - loss: 98.3967\n",
            "Epoch 69/100\n",
            "293/293 [==============================] - 1s 2ms/step - loss: 97.7227\n",
            "Epoch 70/100\n",
            "293/293 [==============================] - 1s 2ms/step - loss: 97.3244\n",
            "Epoch 71/100\n",
            "293/293 [==============================] - 1s 2ms/step - loss: 97.0888\n",
            "Epoch 72/100\n",
            "293/293 [==============================] - 1s 2ms/step - loss: 96.9506\n",
            "Epoch 73/100\n",
            "293/293 [==============================] - 1s 2ms/step - loss: 96.8701\n",
            "Epoch 74/100\n",
            "293/293 [==============================] - 1s 2ms/step - loss: 96.8243\n",
            "Epoch 75/100\n",
            "293/293 [==============================] - 1s 2ms/step - loss: 96.7969\n",
            "Epoch 76/100\n",
            "293/293 [==============================] - 1s 2ms/step - loss: 96.7786\n",
            "Epoch 77/100\n",
            "293/293 [==============================] - 1s 2ms/step - loss: 96.7635\n",
            "Epoch 78/100\n",
            "293/293 [==============================] - 1s 2ms/step - loss: 96.7477\n",
            "Epoch 79/100\n",
            "293/293 [==============================] - 1s 2ms/step - loss: 96.7298\n",
            "Epoch 80/100\n",
            "293/293 [==============================] - 1s 2ms/step - loss: 96.7082\n",
            "Epoch 81/100\n",
            "293/293 [==============================] - 1s 3ms/step - loss: 96.6829\n",
            "Epoch 82/100\n",
            "293/293 [==============================] - 1s 4ms/step - loss: 96.6538\n",
            "Epoch 83/100\n",
            "293/293 [==============================] - 1s 2ms/step - loss: 96.6213\n",
            "Epoch 84/100\n",
            "293/293 [==============================] - 1s 3ms/step - loss: 96.5863\n",
            "Epoch 85/100\n",
            "293/293 [==============================] - 1s 4ms/step - loss: 96.5486\n",
            "Epoch 86/100\n",
            "293/293 [==============================] - 1s 4ms/step - loss: 96.5088\n",
            "Epoch 87/100\n",
            "293/293 [==============================] - 1s 4ms/step - loss: 96.4674\n",
            "Epoch 88/100\n",
            "293/293 [==============================] - 1s 3ms/step - loss: 96.4247\n",
            "Epoch 89/100\n",
            "293/293 [==============================] - 1s 2ms/step - loss: 96.3808\n",
            "Epoch 90/100\n",
            "293/293 [==============================] - 1s 2ms/step - loss: 96.3367\n",
            "Epoch 91/100\n",
            "293/293 [==============================] - 1s 2ms/step - loss: 96.2919\n",
            "Epoch 92/100\n",
            "293/293 [==============================] - 1s 2ms/step - loss: 96.2462\n",
            "Epoch 93/100\n",
            "293/293 [==============================] - 1s 2ms/step - loss: 96.2005\n",
            "Epoch 94/100\n",
            "293/293 [==============================] - 1s 2ms/step - loss: 96.1545\n",
            "Epoch 95/100\n",
            "293/293 [==============================] - 1s 2ms/step - loss: 96.1081\n",
            "Epoch 96/100\n",
            "293/293 [==============================] - 1s 2ms/step - loss: 96.0615\n",
            "Epoch 97/100\n",
            "293/293 [==============================] - 1s 2ms/step - loss: 96.0154\n",
            "Epoch 98/100\n",
            "293/293 [==============================] - 1s 3ms/step - loss: 95.9690\n",
            "Epoch 99/100\n",
            "293/293 [==============================] - 1s 4ms/step - loss: 95.9223\n",
            "Epoch 100/100\n",
            "293/293 [==============================] - 2s 5ms/step - loss: 95.8759\n"
          ]
        }
      ]
    },
    {
      "cell_type": "code",
      "source": [
        "#LSTM Prediction\n",
        "y_pred= lstm.predict(X_test)"
      ],
      "metadata": {
        "id": "GC9YT-unWZ7c"
      },
      "execution_count": 161,
      "outputs": []
    },
    {
      "cell_type": "code",
      "source": [
        "#Predicted vs True Adj Close Value – LSTM\n",
        "plt.plot(y_test, label='True Value')\n",
        "plt.plot(y_pred, label='LSTM Value')\n",
        "plt.title(\"Prediction by LSTM\")\n",
        "plt.xlabel('Time Scale')\n",
        "plt.ylabel('Scaled USD')\n",
        "plt.legend()\n",
        "plt.show()"
      ],
      "metadata": {
        "colab": {
          "base_uri": "https://localhost:8080/",
          "height": 295
        },
        "id": "2iE9str_Wfh1",
        "outputId": "60d3a21f-de82-4c1b-a18b-ff38d0503bd5"
      },
      "execution_count": 162,
      "outputs": [
        {
          "output_type": "display_data",
          "data": {
            "text/plain": [
              "<Figure size 432x288 with 1 Axes>"
            ],
            "image/png": "[encoded data removed]"
          },
          "metadata": {
            "needs_background": "light"
          }
        }
      ]
    },
    {
      "cell_type": "code",
      "source": [
        "import statsmodels.api as sm"
      ],
      "metadata": {
        "id": "rX2K_9wmLEC3"
      },
      "execution_count": 103,
      "outputs": []
    },
    {
      "cell_type": "code",
      "source": [
        "model = sm.OLS(y_train,X_train)\n",
        "results = model.fit()\n",
        "print(results.summary())"
      ],
      "metadata": {
        "colab": {
          "base_uri": "https://localhost:8080/"
        },
        "id": "TJ2xLq2lLTtP",
        "outputId": "4ee7ce46-87c1-4dfb-c53f-859bf2698062"
      },
      "execution_count": 176,
      "outputs": [
        {
          "output_type": "stream",
          "name": "stdout",
          "text": [
            "                                 OLS Regression Results                                \n",
            "=======================================================================================\n",
            "Dep. Variable:                      y   R-squared (uncentered):                   0.941\n",
            "Model:                            OLS   Adj. R-squared (uncentered):              0.941\n",
            "Method:                 Least Squares   F-statistic:                          1.246e+04\n",
            "Date:                Fri, 07 Oct 2022   Prob (F-statistic):                        0.00\n",
            "Time:                        12:23:41   Log-Likelihood:                         -17089.\n",
            "No. Observations:                2340   AIC:                                  3.418e+04\n",
            "Df Residuals:                    2337   BIC:                                  3.420e+04\n",
            "Df Model:                           3                                                  \n",
            "Covariance Type:            nonrobust                                                  \n",
            "==============================================================================\n",
            "                 coef    std err          t      P>|t|      [0.025      0.975]\n",
            "------------------------------------------------------------------------------\n",
            "Open        1.349e+04   1039.525     12.980      0.000    1.15e+04    1.55e+04\n",
            "High       -9487.4426    893.878    -10.614      0.000   -1.12e+04   -7734.566\n",
            "Low        -1388.3799    894.745     -1.552      0.121   -3142.957     366.198\n",
            "==============================================================================\n",
            "Omnibus:                      439.645   Durbin-Watson:                   0.108\n",
            "Prob(Omnibus):                  0.000   Jarque-Bera (JB):               91.886\n",
            "Skew:                          -0.042   Prob(JB):                     1.11e-20\n",
            "Kurtosis:                       2.033   Cond. No.                         161.\n",
            "==============================================================================\n",
            "\n",
            "Notes:\n",
            "[1] R² is computed without centering (uncentered) since the model does not contain a constant.\n",
            "[2] Standard Errors assume that the covariance matrix of the errors is correctly specified.\n"
          ]
        }
      ]
    },
    {
      "cell_type": "code",
      "source": [
        "data['Price'].plot()"
      ],
      "metadata": {
        "colab": {
          "base_uri": "https://localhost:8080/",
          "height": 283
        },
        "id": "zSfe-v6nSblO",
        "outputId": "20f65e0e-1721-49c0-ad10-4438f78d675f"
      },
      "execution_count": 147,
      "outputs": [
        {
          "output_type": "execute_result",
          "data": {
            "text/plain": [
              "<matplotlib.axes._subplots.AxesSubplot at 0x7fc84ceb54d0>"
            ]
          },
          "metadata": {},
          "execution_count": 147
        },
        {
          "output_type": "display_data",
          "data": {
            "text/plain": [
              "<Figure size 432x288 with 1 Axes>"
            ],
            "image/png": "[encoded data removed]"
          },
          "metadata": {
            "needs_background": "light"
          }
        }
      ]
    },
    {
      "cell_type": "code",
      "execution_count": 177,
      "metadata": {
        "colab": {
          "base_uri": "https://localhost:8080/"
        },
        "id": "2Eq_WXHz6DCO",
        "outputId": "8a399b2a-6e11-4061-f2ee-82eca7995b29"
      },
      "outputs": [
        {
          "output_type": "stream",
          "name": "stdout",
          "text": [
            "MSE Train error : 5.142969358065102\n",
            "MSE Test Error: 2.462213750706211\n",
            " Rsquare:0.9996436213938874\n",
            "Rsquare:0.9959982676744175\n",
            "MAE:3.4536293975985854\n",
            "MAE:1.9900201868824372\n"
          ]
        }
      ],
      "source": [
        "lr = LinearRegression()\n",
        "lr.fit(X_train, y_train)\n",
        "pred_train_lr= lr.predict(X_train)\n",
        "print(\"MSE Train error :\", np.sqrt(mean_squared_error(y_train,pred_train_lr)))\n",
        "pred_test_lr= lr.predict(X_test)\n",
        "print(\"MSE Test Error:\", np.sqrt(mean_squared_error(y_test,pred_test_lr)))\n",
        "print(f' Rsquare:{r2_score(y_train, pred_train_lr)}')\n",
        "print(f'Rsquare:{r2_score(y_test, pred_test_lr)}')\n",
        "print(f'MAE:{mean_absolute_error(y_train, pred_train_lr)}')\n",
        "print(f'MAE:{mean_absolute_error(y_test, pred_test_lr)}')"
      ]
    },
    {
      "cell_type": "code",
      "source": [
        "# Model initialization\n",
        "regression_model = LinearRegression()\n",
        "# Fit the data(train the model)\n",
        "regression_model.fit(X_train, y_train)\n",
        "# Predict\n",
        "y_predicted = regression_model.predict(X_test)\n",
        "\n",
        "# model evaluation\n",
        "rmse = mean_squared_error(y_test, y_predicted)\n",
        "r2 = r2_score(y_test, y_predicted)\n",
        "\n",
        "# printing values\n",
        "print('Slope:' ,regression_model.coef_)\n",
        "print('Intercept:', regression_model.intercept_)\n",
        "print('Root mean squared error: ', rmse)\n",
        "print('R2 score: ', r2)"
      ],
      "metadata": {
        "colab": {
          "base_uri": "https://localhost:8080/"
        },
        "id": "VLsW4Rl8F912",
        "outputId": "bf22df43-7c8a-4e04-a654-1a1cca40262c"
      },
      "execution_count": 178,
      "outputs": [
        {
          "output_type": "stream",
          "name": "stdout",
          "text": [
            "Slope: [-800.36647644 1077.86840636  894.56147311]\n",
            "Intercept: 881.6907761756977\n",
            "Root mean squared error:  6.0624965541667475\n",
            "R2 score:  0.9959982676744175\n"
          ]
        }
      ]
    },
    {
      "cell_type": "code",
      "execution_count": 42,
      "metadata": {
        "colab": {
          "base_uri": "https://localhost:8080/"
        },
        "id": "8zYOx73Gfg9i",
        "outputId": "58e2d4ad-21b2-4c6b-92a9-0dfc5b3f9848"
      },
      "outputs": [
        {
          "output_type": "execute_result",
          "data": {
            "text/plain": [
              "1639"
            ]
          },
          "metadata": {},
          "execution_count": 42
        }
      ],
      "source": [
        "len(pred_train_lr)"
      ]
    },
    {
      "cell_type": "code",
      "execution_count": 132,
      "metadata": {
        "id": "dqi6Two-Yv6H"
      },
      "outputs": [],
      "source": [
        "LinearPredict = lr.predict(X_test)"
      ]
    },
    {
      "cell_type": "code",
      "source": [
        "# plt.plot(y_test, label='True Value')\n",
        "# plt.plot(y_pred, label='LSTM Value')\n",
        "# plt.title(\"Prediction by LSTM\")\n",
        "# plt.xlabel('Time Scale')\n",
        "# plt.ylabel('Scaled USD')\n",
        "# plt.legend()\n",
        "# plt.show()"
      ],
      "metadata": {
        "id": "NK0MXawiYcaU"
      },
      "execution_count": null,
      "outputs": []
    },
    {
      "cell_type": "code",
      "execution_count": 179,
      "metadata": {
        "colab": {
          "base_uri": "https://localhost:8080/",
          "height": 285
        },
        "id": "J8v4HDcZZA7x",
        "outputId": "56c462ac-7b58-4da3-9a84-3233362edcf9"
      },
      "outputs": [
        {
          "output_type": "execute_result",
          "data": {
            "text/plain": [
              "<matplotlib.legend.Legend at 0x7fc7f040ac50>"
            ]
          },
          "metadata": {},
          "execution_count": 179
        },
        {
          "output_type": "display_data",
          "data": {
            "text/plain": [
              "<Figure size 432x288 with 1 Axes>"
            ],
            "image/png": "[encoded data removed]"
          },
          "metadata": {
            "needs_background": "light"
          }
        }
      ],
      "source": [
        "plt.plot(LinearPredict, label='predicted')\n",
        "plt.plot(y_test, label ='actual')\n",
        "plt.legend()"
      ]
    },
    {
      "cell_type": "code",
      "execution_count": null,
      "metadata": {
        "id": "ce1pbwdx-FVU"
      },
      "outputs": [],
      "source": [
        "# LinearPredict = lr.predict(X_test)\n",
        "\n",
        "# # Plot regression against actual data\n",
        "# plt.figure(figsize=(12, 6))\n",
        "# plt.plot(X_train, y_train, 'o', label =\"Actual train value\")           # scatter plot showing actual data\n",
        "# # plt.plot(X_train, LinearPredict, 'r', linewidth=2, label= \"predicted train value\")   # regression line\n",
        "# plt.xlabel('X')\n",
        "# plt.ylabel('y')\n",
        "# plt.legend()\n",
        "# plt.title('X vs y')\n",
        "\n",
        "# plt.show()"
      ]
    },
    {
      "cell_type": "code",
      "execution_count": null,
      "metadata": {
        "id": "JzSEgxqAZXWh"
      },
      "outputs": [],
      "source": [
        "# def Antilog(data):\n",
        "#   data.loc[: , \"Price\"] = np.log(data.Price) - np.log(data.Price.shift(1))\n",
        "#   return data"
      ]
    },
    {
      "cell_type": "markdown",
      "metadata": {
        "id": "bZNxkC_M-rih"
      },
      "source": [
        "#Ridge"
      ]
    },
    {
      "cell_type": "code",
      "execution_count": 134,
      "metadata": {
        "colab": {
          "base_uri": "https://localhost:8080/"
        },
        "id": "9G1hqbfK-tsC",
        "outputId": "1208181e-b6ce-4011-c23b-458ed8fa0ceb"
      },
      "outputs": [
        {
          "output_type": "stream",
          "name": "stdout",
          "text": [
            "Train error:  5.173216380108108\n",
            "Test error:  2.8325793001240602\n",
            "0.9996564701990233\n",
            "0.961066186394262\n",
            "MAE:3.6020687798296103\n",
            "MAE:2.4118340510617933\n"
          ]
        }
      ],
      "source": [
        "ridge = Ridge(alpha=0.01)\n",
        "ridge.fit(X_train, y_train) \n",
        "pred_train_ridge= ridge.predict(X_train)\n",
        "print(\"Train error: \", np.sqrt(mean_squared_error(y_train,pred_train_ridge)))\n",
        "pred_test_ridge= ridge.predict(X_test)\n",
        "print(\"Test error: \",np.sqrt(mean_squared_error(y_test,pred_test_ridge))) \n",
        "print(r2_score(y_train, pred_train_ridge))\n",
        "print(r2_score(y_test, pred_test_ridge))\n",
        "print(f'MAE:{mean_absolute_error(y_train, pred_train_ridge)}')\n",
        "print(f'MAE:{mean_absolute_error(y_test, pred_test_ridge)}')"
      ]
    },
    {
      "cell_type": "markdown",
      "metadata": {
        "id": "EGIkDme6AESb"
      },
      "source": [
        "#LASSO"
      ]
    },
    {
      "cell_type": "code",
      "execution_count": 135,
      "metadata": {
        "colab": {
          "base_uri": "https://localhost:8080/"
        },
        "id": "X_Q04DK2AHkh",
        "outputId": "1f946ce1-0707-44ed-97bb-fe474c1d31df"
      },
      "outputs": [
        {
          "output_type": "stream",
          "name": "stdout",
          "text": [
            "Train error: 7.640320567566216\n",
            "Test error: 3.9891427853068753\n",
            "0.9992506817825004\n",
            "0.9227813945354619\n",
            "MAE:5.424048754890044\n",
            "MAE:3.365670574486072\n"
          ]
        },
        {
          "output_type": "stream",
          "name": "stderr",
          "text": [
            "/usr/local/lib/python3.7/dist-packages/sklearn/linear_model/_coordinate_descent.py:648: ConvergenceWarning: Objective did not converge. You might want to increase the number of iterations, check the scale of the features or consider increasing regularisation. Duality gap: 7.295e+04, tolerance: 1.877e+04\n",
            "  coef_, l1_reg, l2_reg, X, y, max_iter, tol, rng, random, positive\n"
          ]
        }
      ],
      "source": [
        "model_lasso = Lasso(alpha=0.01)\n",
        "model_lasso.fit(X_train, y_train) \n",
        "pred_train_lasso= model_lasso.predict(X_train)\n",
        "print(\"Train error:\",np.sqrt(mean_squared_error(y_train,pred_train_lasso)))\n",
        "pred_test_lasso= model_lasso.predict(X_test)\n",
        "print(\"Test error:\",  np.sqrt(mean_squared_error(y_test,pred_test_lasso))) \n",
        "print(r2_score(y_train, pred_train_lasso))\n",
        "print(r2_score(y_test, pred_test_lasso))\n",
        "print(f'MAE:{mean_absolute_error(y_train, pred_train_lasso)}')\n",
        "print(f'MAE:{mean_absolute_error(y_test, pred_test_lasso)}')"
      ]
    },
    {
      "cell_type": "code",
      "execution_count": 136,
      "metadata": {
        "colab": {
          "base_uri": "https://localhost:8080/",
          "height": 283
        },
        "id": "SfoKqgujAP35",
        "outputId": "54558915-1b92-4351-f728-6b26e2c4a835"
      },
      "outputs": [
        {
          "output_type": "execute_result",
          "data": {
            "text/plain": [
              "<matplotlib.legend.Legend at 0x7fc84d2f2c50>"
            ]
          },
          "metadata": {},
          "execution_count": 136
        },
        {
          "output_type": "display_data",
          "data": {
            "text/plain": [
              "<Figure size 432x288 with 1 Axes>"
            ],
            "image/png": "[encoded data removed]"
          },
          "metadata": {
            "needs_background": "light"
          }
        }
      ],
      "source": [
        "plt.plot(pred_train_lasso, label='predicted')\n",
        "plt.plot(y_train, label ='actual')\n",
        "plt.legend()"
      ]
    },
    {
      "cell_type": "markdown",
      "metadata": {
        "id": "mgngjQnHCF2R"
      },
      "source": [
        "#Elastic Net"
      ]
    },
    {
      "cell_type": "code",
      "execution_count": 48,
      "metadata": {
        "colab": {
          "base_uri": "https://localhost:8080/"
        },
        "id": "IQWJTeDTCE_O",
        "outputId": "73cdf58f-ff95-49eb-9d47-15a2587b1049"
      },
      "outputs": [
        {
          "output_type": "stream",
          "name": "stdout",
          "text": [
            "Train error:  1.9521858203528928e-05\n",
            "Test error: 2.575652049573129e-05\n",
            "0.9999999999999942\n",
            "0.9999999999999933\n",
            "MAE:1.685232335760676e-05\n",
            "MAE:2.3172729635776674e-05\n"
          ]
        }
      ],
      "source": [
        "model_enet = ElasticNet(alpha = 0.01)\n",
        "model_enet.fit(X_train, y_train) \n",
        "pred_train_enet= model_enet.predict(X_train)\n",
        "print(\"Train error: \", np.sqrt(mean_squared_error(y_train,pred_train_enet)))\n",
        "pred_test_enet= model_enet.predict(X_test)\n",
        "print(\"Test error:\",np.sqrt(mean_squared_error(y_test,pred_test_enet)))\n",
        "print(r2_score(y_train, pred_train_enet))\n",
        "print(r2_score(y_test, pred_test_enet))\n",
        "print(f'MAE:{mean_absolute_error(y_train, pred_train_enet)}')\n",
        "print(f'MAE:{mean_absolute_error(y_test, pred_test_enet)}')"
      ]
    },
    {
      "cell_type": "code",
      "execution_count": 73,
      "metadata": {
        "id": "e64CyzT2E2hH",
        "colab": {
          "base_uri": "https://localhost:8080/"
        },
        "outputId": "c821ddd3-25f5-464e-a1fb-793544db9b1e"
      },
      "outputs": [
        {
          "output_type": "stream",
          "name": "stdout",
          "text": [
            "Mean MAE: 3.382 (0.519)\n"
          ]
        }
      ],
      "source": [
        "from sklearn.model_selection import cross_val_score\n",
        "from sklearn.model_selection import RepeatedKFold\n",
        "from sklearn.linear_model import Ridge\n",
        "# load the dataset\n",
        "url = 'https://raw.githubusercontent.com/jbrownlee/Datasets/master/housing.csv'\n",
        "dataframe = pd.read_csv(url, header=None)\n",
        "data = dataframe.values\n",
        "X, y = data[:, :-1], data[:, -1]\n",
        "# define model\n",
        "model = Ridge(alpha=1.0)\n",
        "# define model evaluation method\n",
        "cv = RepeatedKFold(n_splits=10, n_repeats=3, random_state=1)\n",
        "# evaluate model\n",
        "scores = cross_val_score(model, X, y, scoring='neg_mean_absolute_error', cv=cv, n_jobs=-1)\n",
        "# force scores to be positive\n",
        "scores = abs(scores)\n",
        "print('Mean MAE: %.3f (%.3f)' % (np.mean(scores), np.std(scores)))"
      ]
    },
    {
      "cell_type": "markdown",
      "metadata": {
        "id": "QkqiFHTxsd6G"
      },
      "source": [
        "# Model Improvement"
      ]
    },
    {
      "cell_type": "markdown",
      "metadata": {
        "id": "dabpUfJg_xQC"
      },
      "source": [
        "#Cross Validation"
      ]
    },
    {
      "cell_type": "code",
      "execution_count": null,
      "metadata": {
        "id": "GQ_pwVfRn4fK"
      },
      "outputs": [],
      "source": [
        "from sklearn.model_selection import KFold\n",
        "from sklearn.model_selection import cross_val_score\n",
        "from numpy import mean\n",
        "from numpy import absolute\n"
      ]
    },
    {
      "cell_type": "code",
      "execution_count": null,
      "metadata": {
        "id": "voE7J5uAAI4x"
      },
      "outputs": [],
      "source": []
    },
    {
      "cell_type": "code",
      "execution_count": null,
      "metadata": {
        "id": "GM6KO64nAlFF"
      },
      "outputs": [],
      "source": [
        "X = data_new1.iloc[:,1:]\n",
        "y = data_new1.iloc[:,0]"
      ]
    },
    {
      "cell_type": "markdown",
      "metadata": {
        "id": "22UQ6wN6MpT2"
      },
      "source": [
        "###Improved model for LASSO"
      ]
    },
    {
      "cell_type": "code",
      "execution_count": null,
      "metadata": {
        "colab": {
          "base_uri": "https://localhost:8080/"
        },
        "id": "pej2fKAoBPKl",
        "outputId": "974340c8-9bd4-4e22-8e13-a86631e3f628"
      },
      "outputs": [
        {
          "data": {
            "text/plain": [
              "2.8536100311925514"
            ]
          },
          "execution_count": 153,
          "metadata": {},
          "output_type": "execute_result"
        }
      ],
      "source": [
        "#define cross-validation method to use\n",
        "cv = KFold(n_splits=2456, random_state=None, shuffle=False)\n",
        "\n",
        "#build multiple linear regression model\n",
        "model2 = Lasso()\n",
        "\n",
        "#use k-fold CV to evaluate model\n",
        "scores = cross_val_score(model2, X, y, scoring='neg_mean_squared_error',\n",
        "                         cv=cv, n_jobs=-1)\n",
        "\n",
        "#view mean absolute error\n",
        "sqrt(mean(absolute(scores)))"
      ]
    },
    {
      "cell_type": "markdown",
      "metadata": {
        "id": "NnCVpGE6M3Th"
      },
      "source": [
        "###Improved model for Linear Regression"
      ]
    },
    {
      "cell_type": "code",
      "execution_count": null,
      "metadata": {
        "colab": {
          "base_uri": "https://localhost:8080/"
        },
        "id": "kDmN8GINBpb6",
        "outputId": "a9954314-0ca6-49cd-ad35-566d7e6cec0e"
      },
      "outputs": [
        {
          "data": {
            "text/plain": [
              "2.8506804721094245"
            ]
          },
          "execution_count": 154,
          "metadata": {},
          "output_type": "execute_result"
        }
      ],
      "source": [
        "#define cross-validation method to use\n",
        "cv = KFold(n_splits=2456, random_state=None, shuffle=False)\n",
        "\n",
        "#build multiple linear regression model\n",
        "model2 = LinearRegression()\n",
        "\n",
        "#use k-fold CV to evaluate model\n",
        "scores = cross_val_score(model2, X, y, scoring='neg_mean_squared_error',\n",
        "                         cv=cv, n_jobs=-1)\n",
        "\n",
        "#view mean absolute error\n",
        "sqrt(mean(absolute(scores)))"
      ]
    },
    {
      "cell_type": "markdown",
      "metadata": {
        "id": "Ejlm2k7AM93P"
      },
      "source": [
        "###Improved model for Rigde"
      ]
    },
    {
      "cell_type": "code",
      "execution_count": null,
      "metadata": {
        "colab": {
          "base_uri": "https://localhost:8080/"
        },
        "id": "SlKRhcBA3xgr",
        "outputId": "2c220246-340b-4c2a-c490-7dae06e916bd"
      },
      "outputs": [
        {
          "data": {
            "text/plain": [
              "2.8506709088340623"
            ]
          },
          "execution_count": 155,
          "metadata": {},
          "output_type": "execute_result"
        }
      ],
      "source": [
        "#define cross-validation method to use\n",
        "cv = KFold(n_splits=2456, random_state=None, shuffle=False)\n",
        "\n",
        "#build multiple linear regression model\n",
        "model2 = Ridge()\n",
        "\n",
        "#use k-fold CV to evaluate model\n",
        "scores = cross_val_score(model2, X, y, scoring='neg_mean_squared_error',\n",
        "                         cv=cv, n_jobs=-1)\n",
        "\n",
        "#view mean absolute error\n",
        "sqrt(mean(absolute(scores)))"
      ]
    },
    {
      "cell_type": "code",
      "execution_count": null,
      "metadata": {
        "colab": {
          "base_uri": "https://localhost:8080/"
        },
        "id": "3cH5anpjs-tT",
        "outputId": "2c4c1794-3abd-4fd7-e5f5-3783660e36cf"
      },
      "outputs": [
        {
          "data": {
            "text/plain": [
              "(array([255.97528649]), array([1.29369965e-57]))"
            ]
          },
          "execution_count": 45,
          "metadata": {},
          "output_type": "execute_result"
        }
      ],
      "source": []
    },
    {
      "cell_type": "markdown",
      "metadata": {
        "id": "3XmbUOmcK1Dj"
      },
      "source": [
        "#GARCH NN"
      ]
    },
    {
      "cell_type": "code",
      "execution_count": null,
      "metadata": {
        "id": "aGiIA5T8PWE1"
      },
      "outputs": [],
      "source": [
        "# #Import the dataset for the analysis \n",
        "# data1 = pd.read_csv(\"/content/log_data.csv\" , thousands =',')"
      ]
    },
    {
      "cell_type": "code",
      "execution_count": null,
      "metadata": {
        "colab": {
          "base_uri": "https://localhost:8080/"
        },
        "id": "mB_NfDC8sUVz",
        "outputId": "6ece3fba-7b7e-4407-8029-7ed3a6355635"
      },
      "outputs": [
        {
          "name": "stderr",
          "output_type": "stream",
          "text": [
            "/usr/local/lib/python3.7/dist-packages/statsmodels/tools/_testing.py:19: FutureWarning: pandas.util.testing is deprecated. Use the functions in the public API at pandas.testing instead.\n",
            "  import pandas.util.testing as tm\n"
          ]
        }
      ],
      "source": [
        "import statsmodels.api as sm"
      ]
    },
    {
      "cell_type": "code",
      "execution_count": null,
      "metadata": {
        "id": "Id_jzO1IsW8f"
      },
      "outputs": [],
      "source": [
        "res = sm.tsa.ARMA(data[\"Price\"], (1,1)).fit(disp=-1)"
      ]
    },
    {
      "cell_type": "code",
      "execution_count": null,
      "metadata": {
        "colab": {
          "base_uri": "https://localhost:8080/"
        },
        "id": "h5xefNPDsZSY",
        "outputId": "f10d391b-8972-4c09-c1d2-9cf75765eb8a"
      },
      "outputs": [
        {
          "data": {
            "text/plain": [
              "(array([19.86032735]), array([0.00132744]))"
            ]
          },
          "execution_count": 15,
          "metadata": {},
          "output_type": "execute_result"
        }
      ],
      "source": [
        "#perform Ljung-Box test on residuals with lag=5\n",
        "sm.stats.acorr_ljungbox(res.resid, lags=[5])"
      ]
    },
    {
      "cell_type": "code",
      "execution_count": null,
      "metadata": {
        "colab": {
          "base_uri": "https://localhost:8080/",
          "height": 494
        },
        "id": "eqCCTMxuordb",
        "outputId": "00109baa-2625-4e27-eb7c-b9b492f67a4a"
      },
      "outputs": [
        {
          "name": "stdout",
          "output_type": "stream",
          "text": [
            "Collecting arch\n",
            "  Downloading arch-5.2.0-cp37-cp37m-manylinux_2_17_x86_64.manylinux2014_x86_64.whl (902 kB)\n",
            "\u001b[?25l\r",
            "\u001b[K     |▍                               | 10 kB 24.5 MB/s eta 0:00:01\r",
            "\u001b[K     |▊                               | 20 kB 11.4 MB/s eta 0:00:01\r",
            "\u001b[K     |█                               | 30 kB 9.2 MB/s eta 0:00:01\r",
            "\u001b[K     |█▌                              | 40 kB 8.3 MB/s eta 0:00:01\r",
            "\u001b[K     |█▉                              | 51 kB 4.6 MB/s eta 0:00:01\r",
            "\u001b[K     |██▏                             | 61 kB 5.4 MB/s eta 0:00:01\r",
            "\u001b[K     |██▌                             | 71 kB 5.5 MB/s eta 0:00:01\r",
            "\u001b[K     |███                             | 81 kB 4.3 MB/s eta 0:00:01\r",
            "\u001b[K     |███▎                            | 92 kB 4.8 MB/s eta 0:00:01\r",
            "\u001b[K     |███▋                            | 102 kB 5.3 MB/s eta 0:00:01\r",
            "\u001b[K     |████                            | 112 kB 5.3 MB/s eta 0:00:01\r",
            "\u001b[K     |████▍                           | 122 kB 5.3 MB/s eta 0:00:01\r",
            "\u001b[K     |████▊                           | 133 kB 5.3 MB/s eta 0:00:01\r",
            "\u001b[K     |█████                           | 143 kB 5.3 MB/s eta 0:00:01\r",
            "\u001b[K     |█████▍                          | 153 kB 5.3 MB/s eta 0:00:01\r",
            "\u001b[K     |█████▉                          | 163 kB 5.3 MB/s eta 0:00:01\r",
            "\u001b[K     |██████▏                         | 174 kB 5.3 MB/s eta 0:00:01\r",
            "\u001b[K     |██████▌                         | 184 kB 5.3 MB/s eta 0:00:01\r",
            "\u001b[K     |███████                         | 194 kB 5.3 MB/s eta 0:00:01\r",
            "\u001b[K     |███████▎                        | 204 kB 5.3 MB/s eta 0:00:01\r",
            "\u001b[K     |███████▋                        | 215 kB 5.3 MB/s eta 0:00:01\r",
            "\u001b[K     |████████                        | 225 kB 5.3 MB/s eta 0:00:01\r",
            "\u001b[K     |████████▍                       | 235 kB 5.3 MB/s eta 0:00:01\r",
            "\u001b[K     |████████▊                       | 245 kB 5.3 MB/s eta 0:00:01\r",
            "\u001b[K     |█████████                       | 256 kB 5.3 MB/s eta 0:00:01\r",
            "\u001b[K     |█████████▍                      | 266 kB 5.3 MB/s eta 0:00:01\r",
            "\u001b[K     |█████████▉                      | 276 kB 5.3 MB/s eta 0:00:01\r",
            "\u001b[K     |██████████▏                     | 286 kB 5.3 MB/s eta 0:00:01\r",
            "\u001b[K     |██████████▌                     | 296 kB 5.3 MB/s eta 0:00:01\r",
            "\u001b[K     |██████████▉                     | 307 kB 5.3 MB/s eta 0:00:01\r",
            "\u001b[K     |███████████▎                    | 317 kB 5.3 MB/s eta 0:00:01\r",
            "\u001b[K     |███████████▋                    | 327 kB 5.3 MB/s eta 0:00:01\r",
            "\u001b[K     |████████████                    | 337 kB 5.3 MB/s eta 0:00:01\r",
            "\u001b[K     |████████████▍                   | 348 kB 5.3 MB/s eta 0:00:01\r",
            "\u001b[K     |████████████▊                   | 358 kB 5.3 MB/s eta 0:00:01\r",
            "\u001b[K     |█████████████                   | 368 kB 5.3 MB/s eta 0:00:01\r",
            "\u001b[K     |█████████████▍                  | 378 kB 5.3 MB/s eta 0:00:01\r",
            "\u001b[K     |█████████████▉                  | 389 kB 5.3 MB/s eta 0:00:01\r",
            "\u001b[K     |██████████████▏                 | 399 kB 5.3 MB/s eta 0:00:01\r",
            "\u001b[K     |██████████████▌                 | 409 kB 5.3 MB/s eta 0:00:01\r",
            "\u001b[K     |██████████████▉                 | 419 kB 5.3 MB/s eta 0:00:01\r",
            "\u001b[K     |███████████████▎                | 430 kB 5.3 MB/s eta 0:00:01\r",
            "\u001b[K     |███████████████▋                | 440 kB 5.3 MB/s eta 0:00:01\r",
            "\u001b[K     |████████████████                | 450 kB 5.3 MB/s eta 0:00:01\r",
            "\u001b[K     |████████████████▎               | 460 kB 5.3 MB/s eta 0:00:01\r",
            "\u001b[K     |████████████████▊               | 471 kB 5.3 MB/s eta 0:00:01\r",
            "\u001b[K     |█████████████████               | 481 kB 5.3 MB/s eta 0:00:01\r",
            "\u001b[K     |█████████████████▍              | 491 kB 5.3 MB/s eta 0:00:01\r",
            "\u001b[K     |█████████████████▉              | 501 kB 5.3 MB/s eta 0:00:01\r",
            "\u001b[K     |██████████████████▏             | 512 kB 5.3 MB/s eta 0:00:01\r",
            "\u001b[K     |██████████████████▌             | 522 kB 5.3 MB/s eta 0:00:01\r",
            "\u001b[K     |██████████████████▉             | 532 kB 5.3 MB/s eta 0:00:01\r",
            "\u001b[K     |███████████████████▎            | 542 kB 5.3 MB/s eta 0:00:01\r",
            "\u001b[K     |███████████████████▋            | 552 kB 5.3 MB/s eta 0:00:01\r",
            "\u001b[K     |████████████████████            | 563 kB 5.3 MB/s eta 0:00:01\r",
            "\u001b[K     |████████████████████▎           | 573 kB 5.3 MB/s eta 0:00:01\r",
            "\u001b[K     |████████████████████▊           | 583 kB 5.3 MB/s eta 0:00:01\r",
            "\u001b[K     |█████████████████████           | 593 kB 5.3 MB/s eta 0:00:01\r",
            "\u001b[K     |█████████████████████▍          | 604 kB 5.3 MB/s eta 0:00:01\r",
            "\u001b[K     |█████████████████████▊          | 614 kB 5.3 MB/s eta 0:00:01\r",
            "\u001b[K     |██████████████████████▏         | 624 kB 5.3 MB/s eta 0:00:01\r",
            "\u001b[K     |██████████████████████▌         | 634 kB 5.3 MB/s eta 0:00:01\r",
            "\u001b[K     |██████████████████████▉         | 645 kB 5.3 MB/s eta 0:00:01\r",
            "\u001b[K     |███████████████████████▎        | 655 kB 5.3 MB/s eta 0:00:01\r",
            "\u001b[K     |███████████████████████▋        | 665 kB 5.3 MB/s eta 0:00:01\r",
            "\u001b[K     |████████████████████████        | 675 kB 5.3 MB/s eta 0:00:01\r",
            "\u001b[K     |████████████████████████▎       | 686 kB 5.3 MB/s eta 0:00:01\r",
            "\u001b[K     |████████████████████████▊       | 696 kB 5.3 MB/s eta 0:00:01\r",
            "\u001b[K     |█████████████████████████       | 706 kB 5.3 MB/s eta 0:00:01\r",
            "\u001b[K     |█████████████████████████▍      | 716 kB 5.3 MB/s eta 0:00:01\r",
            "\u001b[K     |█████████████████████████▊      | 727 kB 5.3 MB/s eta 0:00:01\r",
            "\u001b[K     |██████████████████████████▏     | 737 kB 5.3 MB/s eta 0:00:01\r",
            "\u001b[K     |██████████████████████████▌     | 747 kB 5.3 MB/s eta 0:00:01\r",
            "\u001b[K     |██████████████████████████▉     | 757 kB 5.3 MB/s eta 0:00:01\r",
            "\u001b[K     |███████████████████████████▏    | 768 kB 5.3 MB/s eta 0:00:01\r",
            "\u001b[K     |███████████████████████████▋    | 778 kB 5.3 MB/s eta 0:00:01\r",
            "\u001b[K     |████████████████████████████    | 788 kB 5.3 MB/s eta 0:00:01\r",
            "\u001b[K     |████████████████████████████▎   | 798 kB 5.3 MB/s eta 0:00:01\r",
            "\u001b[K     |████████████████████████████▊   | 808 kB 5.3 MB/s eta 0:00:01\r",
            "\u001b[K     |█████████████████████████████   | 819 kB 5.3 MB/s eta 0:00:01\r",
            "\u001b[K     |█████████████████████████████▍  | 829 kB 5.3 MB/s eta 0:00:01\r",
            "\u001b[K     |█████████████████████████████▊  | 839 kB 5.3 MB/s eta 0:00:01\r",
            "\u001b[K     |██████████████████████████████▏ | 849 kB 5.3 MB/s eta 0:00:01\r",
            "\u001b[K     |██████████████████████████████▌ | 860 kB 5.3 MB/s eta 0:00:01\r",
            "\u001b[K     |██████████████████████████████▉ | 870 kB 5.3 MB/s eta 0:00:01\r",
            "\u001b[K     |███████████████████████████████▏| 880 kB 5.3 MB/s eta 0:00:01\r",
            "\u001b[K     |███████████████████████████████▋| 890 kB 5.3 MB/s eta 0:00:01\r",
            "\u001b[K     |████████████████████████████████| 901 kB 5.3 MB/s eta 0:00:01\r",
            "\u001b[K     |████████████████████████████████| 902 kB 5.3 MB/s \n",
            "\u001b[?25hRequirement already satisfied: numpy>=1.17 in /usr/local/lib/python3.7/dist-packages (from arch) (1.21.5)\n",
            "Requirement already satisfied: scipy>=1.3 in /usr/local/lib/python3.7/dist-packages (from arch) (1.4.1)\n",
            "Requirement already satisfied: pandas>=1.0 in /usr/local/lib/python3.7/dist-packages (from arch) (1.3.5)\n",
            "Collecting property-cached>=1.6.4\n",
            "  Downloading property_cached-1.6.4-py2.py3-none-any.whl (7.8 kB)\n",
            "Collecting statsmodels>=0.11\n",
            "  Downloading statsmodels-0.13.2-cp37-cp37m-manylinux_2_17_x86_64.manylinux2014_x86_64.whl (9.8 MB)\n",
            "\u001b[K     |████████████████████████████████| 9.8 MB 36.9 MB/s \n",
            "\u001b[?25hRequirement already satisfied: pytz>=2017.3 in /usr/local/lib/python3.7/dist-packages (from pandas>=1.0->arch) (2018.9)\n",
            "Requirement already satisfied: python-dateutil>=2.7.3 in /usr/local/lib/python3.7/dist-packages (from pandas>=1.0->arch) (2.8.2)\n",
            "Requirement already satisfied: six>=1.5 in /usr/local/lib/python3.7/dist-packages (from python-dateutil>=2.7.3->pandas>=1.0->arch) (1.15.0)\n",
            "Requirement already satisfied: packaging>=21.3 in /usr/local/lib/python3.7/dist-packages (from statsmodels>=0.11->arch) (21.3)\n",
            "Requirement already satisfied: patsy>=0.5.2 in /usr/local/lib/python3.7/dist-packages (from statsmodels>=0.11->arch) (0.5.2)\n",
            "Requirement already satisfied: pyparsing!=3.0.5,>=2.0.2 in /usr/local/lib/python3.7/dist-packages (from packaging>=21.3->statsmodels>=0.11->arch) (3.0.7)\n",
            "Installing collected packages: statsmodels, property-cached, arch\n",
            "  Attempting uninstall: statsmodels\n",
            "    Found existing installation: statsmodels 0.10.2\n",
            "    Uninstalling statsmodels-0.10.2:\n",
            "      Successfully uninstalled statsmodels-0.10.2\n",
            "Successfully installed arch-5.2.0 property-cached-1.6.4 statsmodels-0.13.2\n"
          ]
        },
        {
          "data": {
            "application/vnd.colab-display-data+json": {
              "pip_warning": {
                "packages": [
                  "statsmodels"
                ]
              }
            }
          },
          "metadata": {},
          "output_type": "display_data"
        }
      ],
      "source": [
        "!pip install arch"
      ]
    },
    {
      "cell_type": "code",
      "execution_count": null,
      "metadata": {
        "id": "MxkBwXsiov8f"
      },
      "outputs": [],
      "source": [
        "from arch.__future__ import reindexing"
      ]
    },
    {
      "cell_type": "code",
      "execution_count": null,
      "metadata": {
        "id": "vIQfWktQo5dm"
      },
      "outputs": [],
      "source": [
        "from arch import arch_model"
      ]
    },
    {
      "cell_type": "code",
      "execution_count": null,
      "metadata": {
        "colab": {
          "base_uri": "https://localhost:8080/",
          "height": 265
        },
        "id": "iMiwVqllZm1D",
        "outputId": "8e87efc7-96a4-4f38-a80c-4bb9162fd79b"
      },
      "outputs": [
        {
          "data": {
            "image/png": "[encoded data removed]",
            "text/plain": [
              "<Figure size 432x288 with 1 Axes>"
            ]
          },
          "metadata": {
            "needs_background": "light"
          },
          "output_type": "display_data"
        }
      ],
      "source": [
        "import datetime as dt\n",
        "\n",
        "import arch.data.sp500\n",
        "\n",
        "st = dt.datetime(2012, 1, 1)\n",
        "en = dt.datetime(2021, 1, 12)\n",
        "# data = arch.data.sp500.load()\n",
        "market = data[\"Price\"]\n",
        "returns = 100 * market.pct_change().dropna()\n",
        "ax = returns.plot()\n",
        "xlim = ax.set_xlim(returns.index.min(), returns.index.max())"
      ]
    },
    {
      "cell_type": "code",
      "execution_count": null,
      "metadata": {
        "colab": {
          "base_uri": "https://localhost:8080/"
        },
        "id": "afRsA1TpSyLU",
        "outputId": "fc612560-480a-43a1-fa4b-9f1d5cf3d848"
      },
      "outputs": [
        {
          "data": {
            "text/plain": [
              "count    2456.000000\n",
              "mean       -0.019878\n",
              "std         1.027465\n",
              "min        -8.078780\n",
              "25%        -0.474266\n",
              "50%         0.006983\n",
              "75%         0.454313\n",
              "max         5.863704\n",
              "Name: Price, dtype: float64"
            ]
          },
          "execution_count": 41,
          "metadata": {},
          "output_type": "execute_result"
        }
      ],
      "source": [
        "returns.describe()"
      ]
    },
    {
      "cell_type": "code",
      "execution_count": null,
      "metadata": {
        "id": "bhdQBC1dO_Yn"
      },
      "outputs": [],
      "source": [
        "returns.to_csv(\"log1.csv\", index= False)"
      ]
    },
    {
      "cell_type": "code",
      "execution_count": null,
      "metadata": {
        "id": "HPOLhJns2mtt"
      },
      "outputs": [],
      "source": [
        "# n_test = 10\n",
        "# train, test = returns[:-n_test], returns[-n_test:]"
      ]
    },
    {
      "cell_type": "markdown",
      "metadata": {
        "id": "ugxamzOwaHhX"
      },
      "source": [
        "GARCH with constant Mean ; distribution = Normal"
      ]
    },
    {
      "cell_type": "code",
      "execution_count": null,
      "metadata": {
        "colab": {
          "base_uri": "https://localhost:8080/"
        },
        "id": "zwMoiriaaASc",
        "outputId": "4fd4d7d8-0d53-46d5-a3b9-3599c4cd8b52"
      },
      "outputs": [
        {
          "name": "stdout",
          "output_type": "stream",
          "text": [
            "Iteration:      5,   Func. Count:     31,   Neg. LLF: 3119.7245892768724\n",
            "Optimization terminated successfully.    (Exit mode 0)\n",
            "            Current function value: 3119.670111417554\n",
            "            Iterations: 9\n",
            "            Function evaluations: 51\n",
            "            Gradient evaluations: 9\n",
            "                       Zero Mean - GARCH Model Results                        \n",
            "==============================================================================\n",
            "Dep. Variable:                  Price   R-squared:                       0.000\n",
            "Mean Model:                 Zero Mean   Adj. R-squared:                  0.000\n",
            "Vol Model:                      GARCH   Log-Likelihood:               -3119.67\n",
            "Distribution:                  Normal   AIC:                           6245.34\n",
            "Method:            Maximum Likelihood   BIC:                           6262.75\n",
            "                                        No. Observations:                 2445\n",
            "Date:                Sat, Apr 09 2022   Df Residuals:                     2445\n",
            "Time:                        10:26:33   Df Model:                            0\n",
            "                             Volatility Model                             \n",
            "==========================================================================\n",
            "                 coef    std err          t      P>|t|    95.0% Conf. Int.\n",
            "--------------------------------------------------------------------------\n",
            "omega          0.0860  3.247e-02      2.649  8.080e-03 [2.237e-02,  0.150]\n",
            "alpha[1]       0.2200  5.100e-02      4.314  1.605e-05   [  0.120,  0.320]\n",
            "beta[1]        0.7010  7.486e-02      9.364  7.661e-21   [  0.554,  0.848]\n",
            "==========================================================================\n",
            "\n",
            "Covariance estimator: robust\n"
          ]
        }
      ],
      "source": [
        "from arch import arch_model\n",
        "am = arch_model(train, vol='Garch', p=1, o=0, q=1, dist='Normal', rescale= True, mean='Zero')\n",
        "# am = arch_model(returns,dist=\"StudentsT\")\n",
        "res = am.fit(update_freq=5)\n",
        "print(res.summary())"
      ]
    },
    {
      "cell_type": "code",
      "execution_count": null,
      "metadata": {
        "colab": {
          "base_uri": "https://localhost:8080/"
        },
        "id": "d5LB0YKH2H7E",
        "outputId": "418705fc-1dbc-44b9-bf53-9f454358bd8c"
      },
      "outputs": [
        {
          "data": {
            "text/plain": [
              "<arch.univariate.base.ARCHModelForecast at 0x7fa1eb061310>"
            ]
          },
          "execution_count": 24,
          "metadata": {},
          "output_type": "execute_result"
        }
      ],
      "source": [
        "#fitting the model\n",
        "# model_fit = am.fit()\n",
        "# forecast the test set\n",
        "yhat = model_fit.forecast(horizon=n_test)\n",
        "yhat"
      ]
    },
    {
      "cell_type": "code",
      "execution_count": null,
      "metadata": {
        "id": "szjPeW6e3Smw"
      },
      "outputs": [],
      "source": [
        "# print(\"Train error: \", np.sqrt(mean_squared_error(train,yhat)))\n",
        "# pred_test_enet= model_enet.predict(X_test)\n",
        "# print(\"Test error:\",np.sqrt(mean_squared_error(y_test,pred_test_enet)))"
      ]
    },
    {
      "cell_type": "code",
      "execution_count": null,
      "metadata": {
        "id": "ya5Gn_H4Yh1t"
      },
      "outputs": [],
      "source": [
        "# bic_garch = []\n",
        "# for p in range(1, 5):\n",
        "#   for q in range(1, 5):\n",
        "#     garch = arch_model(returns, mean='zero',vol='GARCH', p=p, o=0, q=q)\\\n",
        "#             .fit(disp='off')\n",
        "#     bic_garch.append(garch.bic)\n",
        "#     if garch.bic == np.min(bic_garch):\n",
        "#       best_param = p, q\n",
        "# garch = arch_model(returns, mean='zero', vol='GARCH',\n",
        "#                 p=best_param[0], o=0, q=best_param[1])\\\n",
        "#       .fit(disp='off')\n",
        "# print(garch.summary())\n",
        "# forecast = garch.forecast(start=split_date[0])\n",
        "# forecast_garch = forecast"
      ]
    },
    {
      "cell_type": "code",
      "execution_count": null,
      "metadata": {
        "id": "ZCDIkYPLpHF7"
      },
      "outputs": [],
      "source": [
        "# forecasts_irfm = am.forecast(horizon=5)\n",
        "forecasts =res.forecast(horizon = 5, reindex = False)\n",
        "print(forecasts.variance.dropna().head())"
      ]
    },
    {
      "cell_type": "markdown",
      "metadata": {
        "id": "bRTl_W2_nVXa"
      },
      "source": [
        "GARCH with constant Mean ; distribution = Student T"
      ]
    },
    {
      "cell_type": "code",
      "execution_count": null,
      "metadata": {
        "colab": {
          "base_uri": "https://localhost:8080/"
        },
        "id": "scvAODmKm1nO",
        "outputId": "57aca568-0b81-46ac-b0fe-774e3d45af1f"
      },
      "outputs": [
        {
          "name": "stdout",
          "output_type": "stream",
          "text": [
            "Iteration:      5,   Func. Count:     35,   Neg. LLF: 2982.9874134873644\n",
            "Iteration:     10,   Func. Count:     69,   Neg. LLF: 2976.251198158484\n",
            "Iteration:     15,   Func. Count:     99,   Neg. LLF: 2975.05407942351\n",
            "Optimization terminated successfully.    (Exit mode 0)\n",
            "            Current function value: 2975.0538770571625\n",
            "            Iterations: 17\n",
            "            Function evaluations: 111\n",
            "            Gradient evaluations: 17\n",
            "                          Zero Mean - GARCH Model Results                           \n",
            "====================================================================================\n",
            "Dep. Variable:                        Price   R-squared:                       0.000\n",
            "Mean Model:                       Zero Mean   Adj. R-squared:                  0.000\n",
            "Vol Model:                            GARCH   Log-Likelihood:               -2975.05\n",
            "Distribution:      Standardized Student's t   AIC:                           5958.11\n",
            "Method:                  Maximum Likelihood   BIC:                           5981.33\n",
            "                                              No. Observations:                 2455\n",
            "Date:                      Fri, Apr 08 2022   Df Residuals:                     2455\n",
            "Time:                              13:07:24   Df Model:                            0\n",
            "                             Volatility Model                             \n",
            "==========================================================================\n",
            "                 coef    std err          t      P>|t|    95.0% Conf. Int.\n",
            "--------------------------------------------------------------------------\n",
            "omega          0.1238  3.593e-02      3.445  5.706e-04 [5.337e-02,  0.194]\n",
            "alpha[1]       0.3446  6.283e-02      5.485  4.126e-08   [  0.221,  0.468]\n",
            "beta[1]        0.6196  6.632e-02      9.342  9.435e-21   [  0.490,  0.750]\n",
            "                              Distribution                              \n",
            "========================================================================\n",
            "                 coef    std err          t      P>|t|  95.0% Conf. Int.\n",
            "------------------------------------------------------------------------\n",
            "nu             3.3938      0.248     13.686  1.227e-42 [  2.908,  3.880]\n",
            "========================================================================\n",
            "\n",
            "Covariance estimator: robust\n"
          ]
        }
      ],
      "source": [
        "am2 = arch_model(returns, vol='Garch', p=1, o=0, q=1,dist=\"StudentsT\", rescale= True, mean='Zero')\n",
        "# am = arch_model(returns,dist=\"StudentsT\")\n",
        "res = am2.fit(update_freq=5)\n",
        "print(res.summary())"
      ]
    },
    {
      "cell_type": "markdown",
      "metadata": {
        "id": "7PhcI9T_nmuN"
      },
      "source": [
        "EGARCH with Normal Distribution"
      ]
    },
    {
      "cell_type": "code",
      "execution_count": null,
      "metadata": {
        "colab": {
          "base_uri": "https://localhost:8080/"
        },
        "id": "swcdHqffnmVD",
        "outputId": "0df69427-9ee3-415e-866b-194cbf2ce29a"
      },
      "outputs": [
        {
          "name": "stdout",
          "output_type": "stream",
          "text": [
            "Iteration:      5,   Func. Count:     43,   Neg. LLF: 3112.6806161319737\n",
            "Iteration:     10,   Func. Count:     74,   Neg. LLF: 3111.045525158113\n",
            "Optimization terminated successfully.    (Exit mode 0)\n",
            "            Current function value: 3111.0455213787877\n",
            "            Iterations: 12\n",
            "            Function evaluations: 91\n",
            "            Gradient evaluations: 12\n",
            "                     Constant Mean - EGARCH Model Results                     \n",
            "==============================================================================\n",
            "Dep. Variable:                  Price   R-squared:                       0.000\n",
            "Mean Model:             Constant Mean   Adj. R-squared:                  0.000\n",
            "Vol Model:                     EGARCH   Log-Likelihood:               -3111.05\n",
            "Distribution:                  Normal   AIC:                           6230.09\n",
            "Method:            Maximum Likelihood   BIC:                           6253.30\n",
            "                                        No. Observations:                 2445\n",
            "Date:                Sat, Apr 09 2022   Df Residuals:                     2444\n",
            "Time:                        10:34:19   Df Model:                            1\n",
            "                                 Mean Model                                 \n",
            "============================================================================\n",
            "                 coef    std err          t      P>|t|      95.0% Conf. Int.\n",
            "----------------------------------------------------------------------------\n",
            "mu         5.5059e-03  1.607e-03      3.427  6.104e-04 [2.357e-03,8.655e-03]\n",
            "                               Volatility Model                              \n",
            "=============================================================================\n",
            "                 coef    std err          t      P>|t|       95.0% Conf. Int.\n",
            "-----------------------------------------------------------------------------\n",
            "omega      3.8979e-03  1.271e-02      0.307      0.759 [-2.102e-02,2.881e-02]\n",
            "alpha[1]       0.3832  6.143e-02      6.238  4.433e-10      [  0.263,  0.504]\n",
            "beta[1]        0.8996  3.298e-02     27.274 8.551e-164      [  0.835,  0.964]\n",
            "=============================================================================\n",
            "\n",
            "Covariance estimator: robust\n"
          ]
        }
      ],
      "source": [
        "from arch import arch_model\n",
        "am = arch_model(train, vol='EGarch', p=1, o=0, q=1, dist='Normal', rescale= True, mean='constant')\n",
        "# am = arch_model(returns,dist=\"StudentsT\")\n",
        "res = am.fit(update_freq=5)\n",
        "print(res.summary())"
      ]
    },
    {
      "cell_type": "markdown",
      "metadata": {
        "id": "GYsb-f7Jn0FA"
      },
      "source": [
        "EGARCH with Student T Distribution"
      ]
    },
    {
      "cell_type": "code",
      "execution_count": null,
      "metadata": {
        "colab": {
          "base_uri": "https://localhost:8080/"
        },
        "id": "9DZXU-npnz6C",
        "outputId": "581818cc-ccea-4f5d-ddec-ad259a614967"
      },
      "outputs": [
        {
          "name": "stdout",
          "output_type": "stream",
          "text": [
            "Iteration:      5,   Func. Count:     48,   Neg. LLF: 2979.0638949096847\n",
            "Iteration:     10,   Func. Count:     88,   Neg. LLF: 2964.184836811527\n",
            "Iteration:     15,   Func. Count:    125,   Neg. LLF: 2960.3109859290194\n",
            "Optimization terminated successfully.    (Exit mode 0)\n",
            "            Current function value: 2960.2721456032427\n",
            "            Iterations: 19\n",
            "            Function evaluations: 153\n",
            "            Gradient evaluations: 19\n",
            "                        Constant Mean - EGARCH Model Results                        \n",
            "====================================================================================\n",
            "Dep. Variable:                        Price   R-squared:                       0.000\n",
            "Mean Model:                   Constant Mean   Adj. R-squared:                  0.000\n",
            "Vol Model:                           EGARCH   Log-Likelihood:               -2960.27\n",
            "Distribution:      Standardized Student's t   AIC:                           5930.54\n",
            "Method:                  Maximum Likelihood   BIC:                           5959.55\n",
            "                                              No. Observations:                 2445\n",
            "Date:                      Sat, Apr 09 2022   Df Residuals:                     2444\n",
            "Time:                              10:29:55   Df Model:                            1\n",
            "                                  Mean Model                                 \n",
            "=============================================================================\n",
            "                 coef    std err          t      P>|t|       95.0% Conf. Int.\n",
            "-----------------------------------------------------------------------------\n",
            "mu             0.0185  1.347e-02      1.370      0.171 [-7.943e-03,4.484e-02]\n",
            "                              Volatility Model                              \n",
            "============================================================================\n",
            "                 coef    std err          t      P>|t|      95.0% Conf. Int.\n",
            "----------------------------------------------------------------------------\n",
            "omega          0.0491  2.363e-02      2.078  3.771e-02 [2.790e-03,9.543e-02]\n",
            "alpha[1]       0.5022  6.141e-02      8.178  2.877e-16     [  0.382,  0.623]\n",
            "beta[1]        0.8787  3.265e-02     26.911 1.636e-159     [  0.815,  0.943]\n",
            "                              Distribution                              \n",
            "========================================================================\n",
            "                 coef    std err          t      P>|t|  95.0% Conf. Int.\n",
            "------------------------------------------------------------------------\n",
            "nu             3.4125      0.250     13.630  2.640e-42 [  2.922,  3.903]\n",
            "========================================================================\n",
            "\n",
            "Covariance estimator: robust\n"
          ]
        }
      ],
      "source": [
        "am2 = arch_model(train, vol='EGarch', p=1, o=0, q=1,dist=\"StudentsT\", rescale= False, mean='constant')\n",
        "# am = arch_model(returns,dist=\"StudentsT\")\n",
        "res = am2.fit(update_freq=5)\n",
        "print(res.summary())"
      ]
    },
    {
      "cell_type": "markdown",
      "metadata": {
        "id": "dzrDJ4B0fZEB"
      },
      "source": [
        "GJR GARCH with Normal distribution"
      ]
    },
    {
      "cell_type": "code",
      "execution_count": null,
      "metadata": {
        "colab": {
          "base_uri": "https://localhost:8080/"
        },
        "id": "639YOnuUfX70",
        "outputId": "0edd770c-9e39-4696-964a-1af8e08f9e1b"
      },
      "outputs": [
        {
          "name": "stdout",
          "output_type": "stream",
          "text": [
            "                   Constant Mean - GJR-GARCH Model Results                    \n",
            "==============================================================================\n",
            "Dep. Variable:                  Price   R-squared:                       0.000\n",
            "Mean Model:             Constant Mean   Adj. R-squared:                  0.000\n",
            "Vol Model:                  GJR-GARCH   Log-Likelihood:               -3126.95\n",
            "Distribution:                  Normal   AIC:                           6263.89\n",
            "Method:            Maximum Likelihood   BIC:                           6292.92\n",
            "                                        No. Observations:                 2455\n",
            "Date:                Fri, Apr 08 2022   Df Residuals:                     2454\n",
            "Time:                        13:07:50   Df Model:                            1\n",
            "                                  Mean Model                                  \n",
            "==============================================================================\n",
            "                  coef    std err          t      P>|t|       95.0% Conf. Int.\n",
            "------------------------------------------------------------------------------\n",
            "mu         -1.3158e-04  1.766e-02 -7.452e-03      0.994 [-3.474e-02,3.448e-02]\n",
            "                             Volatility Model                             \n",
            "==========================================================================\n",
            "                 coef    std err          t      P>|t|    95.0% Conf. Int.\n",
            "--------------------------------------------------------------------------\n",
            "omega          0.0844  3.187e-02      2.649  8.076e-03 [2.195e-02,  0.147]\n",
            "alpha[1]       0.2343  5.835e-02      4.015  5.936e-05   [  0.120,  0.349]\n",
            "gamma[1]      -0.0287  5.178e-02     -0.554      0.579 [ -0.130,7.278e-02]\n",
            "beta[1]        0.7029  7.402e-02      9.496  2.177e-21   [  0.558,  0.848]\n",
            "==========================================================================\n",
            "\n",
            "Covariance estimator: robust\n"
          ]
        }
      ],
      "source": [
        "am = arch_model(returns, p=1, o=1, q=1,dist=\"Normal\")\n",
        "res = am.fit(update_freq=5, disp=\"off\")\n",
        "print(res.summary())"
      ]
    },
    {
      "cell_type": "markdown",
      "metadata": {
        "id": "MgTWHaQvoK0Y"
      },
      "source": [
        "GJR GARCH with Student T distribution"
      ]
    },
    {
      "cell_type": "code",
      "execution_count": null,
      "metadata": {
        "colab": {
          "base_uri": "https://localhost:8080/"
        },
        "id": "irzuojGjlqT0",
        "outputId": "3c3d6097-1243-4755-ff2f-f561600eedc4"
      },
      "outputs": [
        {
          "name": "stdout",
          "output_type": "stream",
          "text": [
            "                      Constant Mean - GJR-GARCH Model Results                       \n",
            "====================================================================================\n",
            "Dep. Variable:                        Price   R-squared:                       0.000\n",
            "Mean Model:                   Constant Mean   Adj. R-squared:                  0.000\n",
            "Vol Model:                        GJR-GARCH   Log-Likelihood:               -2974.08\n",
            "Distribution:      Standardized Student's t   AIC:                           5960.16\n",
            "Method:                  Maximum Likelihood   BIC:                           5995.00\n",
            "                                              No. Observations:                 2455\n",
            "Date:                      Fri, Apr 08 2022   Df Residuals:                     2454\n",
            "Time:                              13:07:57   Df Model:                            1\n",
            "                                  Mean Model                                 \n",
            "=============================================================================\n",
            "                 coef    std err          t      P>|t|       95.0% Conf. Int.\n",
            "-----------------------------------------------------------------------------\n",
            "mu             0.0174  1.375e-02      1.263      0.207 [-9.586e-03,4.433e-02]\n",
            "                             Volatility Model                             \n",
            "==========================================================================\n",
            "                 coef    std err          t      P>|t|    95.0% Conf. Int.\n",
            "--------------------------------------------------------------------------\n",
            "omega          0.1261  3.783e-02      3.333  8.601e-04 [5.193e-02,  0.200]\n",
            "alpha[1]       0.3331  6.458e-02      5.159  2.488e-07   [  0.207,  0.460]\n",
            "gamma[1]       0.0365  7.997e-02      0.456      0.648   [ -0.120,  0.193]\n",
            "beta[1]        0.6129  7.014e-02      8.739  2.356e-18   [  0.475,  0.750]\n",
            "                              Distribution                              \n",
            "========================================================================\n",
            "                 coef    std err          t      P>|t|  95.0% Conf. Int.\n",
            "------------------------------------------------------------------------\n",
            "nu             3.3889      0.248     13.688  1.193e-42 [  2.904,  3.874]\n",
            "========================================================================\n",
            "\n",
            "Covariance estimator: robust\n"
          ]
        }
      ],
      "source": [
        "am = arch_model(returns, p=1, o=1, q=1,dist=\"StudentsT\")\n",
        "res = am.fit(update_freq=5, disp=\"off\")\n",
        "print(res.summary())"
      ]
    },
    {
      "cell_type": "code",
      "execution_count": null,
      "metadata": {
        "colab": {
          "base_uri": "https://localhost:8080/"
        },
        "id": "O-paxOE_H0k0",
        "outputId": "90239e44-baf1-424d-f42c-3b7918bdf003"
      },
      "outputs": [
        {
          "name": "stdout",
          "output_type": "stream",
          "text": [
            "Iteration:      5,   Func. Count:     38,   Neg. LLF: 3135.2663226703053\n",
            "Iteration:     10,   Func. Count:     72,   Neg. LLF: 3120.033051893739\n",
            "Optimization terminated successfully.    (Exit mode 0)\n",
            "            Current function value: 3120.030178868511\n",
            "            Iterations: 13\n",
            "            Function evaluations: 91\n",
            "            Gradient evaluations: 13\n",
            "                    Constant Mean - AVGARCH Model Results                     \n",
            "==============================================================================\n",
            "Dep. Variable:                  Price   R-squared:                       0.000\n",
            "Mean Model:             Constant Mean   Adj. R-squared:                  0.000\n",
            "Vol Model:                    AVGARCH   Log-Likelihood:               -3120.03\n",
            "Distribution:                  Normal   AIC:                           6248.06\n",
            "Method:            Maximum Likelihood   BIC:                           6271.28\n",
            "                                        No. Observations:                 2455\n",
            "Date:                Sat, Apr 09 2022   Df Residuals:                     2454\n",
            "Time:                        11:18:41   Df Model:                            1\n",
            "                                  Mean Model                                 \n",
            "=============================================================================\n",
            "                 coef    std err          t      P>|t|       95.0% Conf. Int.\n",
            "-----------------------------------------------------------------------------\n",
            "mu             0.0120  1.874e-02      0.641      0.522 [-2.471e-02,4.873e-02]\n",
            "                             Volatility Model                             \n",
            "==========================================================================\n",
            "                 coef    std err          t      P>|t|    95.0% Conf. Int.\n",
            "--------------------------------------------------------------------------\n",
            "omega          0.0885  3.245e-02      2.726  6.405e-03 [2.487e-02,  0.152]\n",
            "alpha[1]       0.2127  3.980e-02      5.345  9.058e-08   [  0.135,  0.291]\n",
            "beta[1]        0.7509  6.079e-02     12.353  4.721e-35   [  0.632,  0.870]\n",
            "==========================================================================\n",
            "\n",
            "Covariance estimator: robust\n"
          ]
        }
      ],
      "source": [
        "from arch import arch_model\n",
        "am = arch_model(returns,p=1, o=0, q=1, dist='Normal', mean='constant',rescale= True, power=1.0)\n",
        "# am = arch_model(returns,dist=\"StudentsT\")\n",
        "res = am.fit(update_freq=5)\n",
        "print(res.summary())"
      ]
    },
    {
      "cell_type": "code",
      "execution_count": null,
      "metadata": {
        "colab": {
          "base_uri": "https://localhost:8080/"
        },
        "id": "o3BCJF35Jh_k",
        "outputId": "6ec0f146-3283-4e63-fb97-6b7eaa8af8e1"
      },
      "outputs": [
        {
          "name": "stdout",
          "output_type": "stream",
          "text": [
            "Iteration:      5,   Func. Count:     43,   Neg. LLF: 2989.389691948121\n",
            "Iteration:     10,   Func. Count:     83,   Neg. LLF: 2966.460126880669\n",
            "Iteration:     15,   Func. Count:    122,   Neg. LLF: 2965.394279697516\n",
            "Optimization terminated successfully.    (Exit mode 0)\n",
            "            Current function value: 2965.3942246979946\n",
            "            Iterations: 18\n",
            "            Function evaluations: 147\n",
            "            Gradient evaluations: 18\n",
            "                       Constant Mean - AVGARCH Model Results                        \n",
            "====================================================================================\n",
            "Dep. Variable:                        Price   R-squared:                       0.000\n",
            "Mean Model:                   Constant Mean   Adj. R-squared:                  0.000\n",
            "Vol Model:                          AVGARCH   Log-Likelihood:               -2965.39\n",
            "Distribution:      Standardized Student's t   AIC:                           5940.79\n",
            "Method:                  Maximum Likelihood   BIC:                           5969.82\n",
            "                                              No. Observations:                 2455\n",
            "Date:                      Sat, Apr 09 2022   Df Residuals:                     2454\n",
            "Time:                              11:18:44   Df Model:                            1\n",
            "                                 Mean Model                                 \n",
            "============================================================================\n",
            "                 coef    std err          t      P>|t|      95.0% Conf. Int.\n",
            "----------------------------------------------------------------------------\n",
            "mu             0.0205  1.320e-03     15.512  2.883e-54 [1.788e-02,2.306e-02]\n",
            "                             Volatility Model                             \n",
            "==========================================================================\n",
            "                 coef    std err          t      P>|t|    95.0% Conf. Int.\n",
            "--------------------------------------------------------------------------\n",
            "omega          0.1121  3.208e-02      3.496  4.719e-04 [4.928e-02,  0.175]\n",
            "alpha[1]       0.2922  4.019e-02      7.271  3.579e-13   [  0.213,  0.371]\n",
            "beta[1]        0.6934  5.381e-02     12.885  5.456e-38   [  0.588,  0.799]\n",
            "                              Distribution                              \n",
            "========================================================================\n",
            "                 coef    std err          t      P>|t|  95.0% Conf. Int.\n",
            "------------------------------------------------------------------------\n",
            "nu             3.4092      0.247     13.791  2.885e-43 [  2.925,  3.894]\n",
            "========================================================================\n",
            "\n",
            "Covariance estimator: robust\n"
          ]
        }
      ],
      "source": [
        "from arch import arch_model\n",
        "am = arch_model(returns,p=1, o=0, q=1, dist='StudentsT', mean='constant',rescale= True, power=1.0)\n",
        "# am = arch_model(returns,dist=\"StudentsT\")\n",
        "res = am.fit(update_freq=5)\n",
        "print(res.summary())"
      ]
    },
    {
      "cell_type": "code",
      "execution_count": null,
      "metadata": {
        "id": "CIzSXi6_8Fe8",
        "outputId": "d9f5e2ec-4209-4f76-af5d-72e3674d2d6a"
      },
      "outputs": [
        {
          "data": {
            "text/plain": [
              "(1, 2, 3, 1, 2, 3)"
            ]
          },
          "execution_count": 45,
          "metadata": {},
          "output_type": "execute_result"
        }
      ],
      "source": [
        "t=(1,2,3)\n",
        "e=(1,2,3)\n",
        "t+e"
      ]
    },
    {
      "cell_type": "code",
      "execution_count": null,
      "metadata": {
        "id": "3xqZy2CYAHIm",
        "outputId": "3f2581de-5755-44d1-a380-d42e696215f3"
      },
      "outputs": [
        {
          "data": {
            "text/plain": [
              "list[range(5, 1)]"
            ]
          },
          "execution_count": 47,
          "metadata": {},
          "output_type": "execute_result"
        }
      ],
      "source": [
        "list[range(5,1)]"
      ]
    },
    {
      "cell_type": "code",
      "execution_count": null,
      "metadata": {
        "id": "8Hm5WS7VAHIm"
      },
      "outputs": [],
      "source": []
    }
  ],
  "metadata": {
    "colab": {
      "collapsed_sections": [],
      "provenance": [],
      "include_colab_link": true
    },
    "kernelspec": {
      "display_name": "Python 3 (ipykernel)",
      "language": "python",
      "name": "python3"
    },
    "language_info": {
      "codemirror_mode": {
        "name": "ipython",
        "version": 3
      },
      "file_extension": ".py",
      "mimetype": "text/x-python",
      "name": "python",
      "nbconvert_exporter": "python",
      "pygments_lexer": "ipython3",
      "version": "3.9.7"
    }
  },
  "nbformat": 4,
  "nbformat_minor": 0
}