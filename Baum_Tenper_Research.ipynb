{
  "cells": [
    {
      "cell_type": "markdown",
      "metadata": {
        "id": "view-in-github",
        "colab_type": "text"
      },
      "source": [
        "<a href=\"https://colab.research.google.com/github/Eminent01/Baum-Tenpers-Research/blob/main/Baum_Tenper_Research.ipynb\" target=\"_parent\"><img src=\"https://colab.research.google.com/assets/colab-badge.svg\" alt=\"Open In Colab\"/></a>"
      ]
    },
    {
      "cell_type": "markdown",
      "metadata": {
        "id": "3wQo_R6YTbNf"
      },
      "source": [
        "These colab notebook is for the algorithm implimentation of the GARCH Neural network, Linear,LASSO, Ridge and Elastic net regression"
      ]
    },
    {
      "cell_type": "markdown",
      "metadata": {
        "id": "lp1-fUsXT8SP"
      },
      "source": [
        "Let's first call out all the required package for the algorithm"
      ]
    },
    {
      "cell_type": "code",
      "execution_count": null,
      "metadata": {
        "colab": {
          "base_uri": "https://localhost:8080/"
        },
        "id": "LnPLHeIlFAw3",
        "outputId": "05da21b2-b1c3-45a6-9b1d-b80b7f79cf72"
      },
      "outputs": [
        {
          "name": "stdout",
          "output_type": "stream",
          "text": [
            "Mounted at /content/drive\n"
          ]
        }
      ],
      "source": [
        "# from google.colab import drive\n",
        "# drive.mount('/content/drive')"
      ]
    },
    {
      "cell_type": "code",
      "execution_count": 2,
      "metadata": {
        "id": "l4XBKtwzUHEA"
      },
      "outputs": [],
      "source": [
        "#Importing neccesary libraries\n",
        "import pandas as pd\n",
        "import matplotlib.pyplot as plt\n",
        "import seaborn as sns\n",
        "import numpy as np\n",
        "import datetime as date\n",
        "from sklearn.linear_model import LinearRegression\n",
        "from sklearn.model_selection import train_test_split\n",
        "from datetime import timedelta"
      ]
    },
    {
      "cell_type": "markdown",
      "metadata": {
        "id": "B4mX6xyVdM1_"
      },
      "source": [
        "Importing the Data set from the local Drive"
      ]
    },
    {
      "cell_type": "code",
      "execution_count": null,
      "metadata": {
        "id": "GotRD2wNGunr"
      },
      "outputs": [],
      "source": [
        "# data = pd.read_csv(\"/content/NSE 30 Historical Data.csv\" , thousands =',')"
      ]
    },
    {
      "cell_type": "code",
      "source": [
        "data = pd.read_csv(\"/content/NSE All Share Historical Data.csv\" , thousands =',')"
      ],
      "metadata": {
        "id": "HWfHlLtDPTGB"
      },
      "execution_count": 108,
      "outputs": []
    },
    {
      "cell_type": "code",
      "source": [
        "data.set_index('Date', inplace=True)\n",
        "data.tail()"
      ],
      "metadata": {
        "colab": {
          "base_uri": "https://localhost:8080/",
          "height": 238
        },
        "id": "Lhm-nJG8Hw15",
        "outputId": "79147eb7-2b25-4c9b-de37-9226bcd9c00f"
      },
      "execution_count": 109,
      "outputs": [
        {
          "output_type": "execute_result",
          "data": {
            "text/plain": [
              "                 Price      Open      High       Low Vol. Change %\n",
              "Date                                                              \n",
              "Feb 03, 2012  20877.64  20822.00  20863.93  20786.35    -    0.27%\n",
              "Feb 02, 2012  20822.00  20872.94  20900.58  20785.40    -    0.15%\n",
              "Feb 01, 2012  20790.88  20875.34  20941.03  20790.88    -   -0.41%\n",
              "Jan 31, 2012  20875.83  20818.56  21009.92  20789.48    -    0.70%\n",
              "Jan 30, 2012  20731.72  20939.10  20950.02  20731.72    -   -0.77%"
            ],
            "text/html": [
              "\n",
              "  <div id=\"df-c1bd6e8d-4c9c-4b73-b11b-6e6173aea108\">\n",
              "    <div class=\"colab-df-container\">\n",
              "      <div>\n",
              "<style scoped>\n",
              "    .dataframe tbody tr th:only-of-type {\n",
              "        vertical-align: middle;\n",
              "    }\n",
              "\n",
              "    .dataframe tbody tr th {\n",
              "        vertical-align: top;\n",
              "    }\n",
              "\n",
              "    .dataframe thead th {\n",
              "        text-align: right;\n",
              "    }\n",
              "</style>\n",
              "<table border=\"1\" class=\"dataframe\">\n",
              "  <thead>\n",
              "    <tr style=\"text-align: right;\">\n",
              "      <th></th>\n",
              "      <th>Price</th>\n",
              "      <th>Open</th>\n",
              "      <th>High</th>\n",
              "      <th>Low</th>\n",
              "      <th>Vol.</th>\n",
              "      <th>Change %</th>\n",
              "    </tr>\n",
              "    <tr>\n",
              "      <th>Date</th>\n",
              "      <th></th>\n",
              "      <th></th>\n",
              "      <th></th>\n",
              "      <th></th>\n",
              "      <th></th>\n",
              "      <th></th>\n",
              "    </tr>\n",
              "  </thead>\n",
              "  <tbody>\n",
              "    <tr>\n",
              "      <th>Feb 03, 2012</th>\n",
              "      <td>20877.64</td>\n",
              "      <td>20822.00</td>\n",
              "      <td>20863.93</td>\n",
              "      <td>20786.35</td>\n",
              "      <td>-</td>\n",
              "      <td>0.27%</td>\n",
              "    </tr>\n",
              "    <tr>\n",
              "      <th>Feb 02, 2012</th>\n",
              "      <td>20822.00</td>\n",
              "      <td>20872.94</td>\n",
              "      <td>20900.58</td>\n",
              "      <td>20785.40</td>\n",
              "      <td>-</td>\n",
              "      <td>0.15%</td>\n",
              "    </tr>\n",
              "    <tr>\n",
              "      <th>Feb 01, 2012</th>\n",
              "      <td>20790.88</td>\n",
              "      <td>20875.34</td>\n",
              "      <td>20941.03</td>\n",
              "      <td>20790.88</td>\n",
              "      <td>-</td>\n",
              "      <td>-0.41%</td>\n",
              "    </tr>\n",
              "    <tr>\n",
              "      <th>Jan 31, 2012</th>\n",
              "      <td>20875.83</td>\n",
              "      <td>20818.56</td>\n",
              "      <td>21009.92</td>\n",
              "      <td>20789.48</td>\n",
              "      <td>-</td>\n",
              "      <td>0.70%</td>\n",
              "    </tr>\n",
              "    <tr>\n",
              "      <th>Jan 30, 2012</th>\n",
              "      <td>20731.72</td>\n",
              "      <td>20939.10</td>\n",
              "      <td>20950.02</td>\n",
              "      <td>20731.72</td>\n",
              "      <td>-</td>\n",
              "      <td>-0.77%</td>\n",
              "    </tr>\n",
              "  </tbody>\n",
              "</table>\n",
              "</div>\n",
              "      <button class=\"colab-df-convert\" onclick=\"convertToInteractive('df-c1bd6e8d-4c9c-4b73-b11b-6e6173aea108')\"\n",
              "              title=\"Convert this dataframe to an interactive table.\"\n",
              "              style=\"display:none;\">\n",
              "        \n",
              "  <svg xmlns=\"http://www.w3.org/2000/svg\" height=\"24px\"viewBox=\"0 0 24 24\"\n",
              "       width=\"24px\">\n",
              "    <path d=\"M0 0h24v24H0V0z\" fill=\"none\"/>\n",
              "    <path d=\"M18.56 5.44l.94 2.06.94-2.06 2.06-.94-2.06-.94-.94-2.06-.94 2.06-2.06.94zm-11 1L8.5 8.5l.94-2.06 2.06-.94-2.06-.94L8.5 2.5l-.94 2.06-2.06.94zm10 10l.94 2.06.94-2.06 2.06-.94-2.06-.94-.94-2.06-.94 2.06-2.06.94z\"/><path d=\"M17.41 7.96l-1.37-1.37c-.4-.4-.92-.59-1.43-.59-.52 0-1.04.2-1.43.59L10.3 9.45l-7.72 7.72c-.78.78-.78 2.05 0 2.83L4 21.41c.39.39.9.59 1.41.59.51 0 1.02-.2 1.41-.59l7.78-7.78 2.81-2.81c.8-.78.8-2.07 0-2.86zM5.41 20L4 18.59l7.72-7.72 1.47 1.35L5.41 20z\"/>\n",
              "  </svg>\n",
              "      </button>\n",
              "      \n",
              "  <style>\n",
              "    .colab-df-container {\n",
              "      display:flex;\n",
              "      flex-wrap:wrap;\n",
              "      gap: 12px;\n",
              "    }\n",
              "\n",
              "    .colab-df-convert {\n",
              "      background-color: #E8F0FE;\n",
              "      border: none;\n",
              "      border-radius: 50%;\n",
              "      cursor: pointer;\n",
              "      display: none;\n",
              "      fill: #1967D2;\n",
              "      height: 32px;\n",
              "      padding: 0 0 0 0;\n",
              "      width: 32px;\n",
              "    }\n",
              "\n",
              "    .colab-df-convert:hover {\n",
              "      background-color: #E2EBFA;\n",
              "      box-shadow: 0px 1px 2px rgba(60, 64, 67, 0.3), 0px 1px 3px 1px rgba(60, 64, 67, 0.15);\n",
              "      fill: #174EA6;\n",
              "    }\n",
              "\n",
              "    [theme=dark] .colab-df-convert {\n",
              "      background-color: #3B4455;\n",
              "      fill: #D2E3FC;\n",
              "    }\n",
              "\n",
              "    [theme=dark] .colab-df-convert:hover {\n",
              "      background-color: #434B5C;\n",
              "      box-shadow: 0px 1px 3px 1px rgba(0, 0, 0, 0.15);\n",
              "      filter: drop-shadow(0px 1px 2px rgba(0, 0, 0, 0.3));\n",
              "      fill: #FFFFFF;\n",
              "    }\n",
              "  </style>\n",
              "\n",
              "      <script>\n",
              "        const buttonEl =\n",
              "          document.querySelector('#df-c1bd6e8d-4c9c-4b73-b11b-6e6173aea108 button.colab-df-convert');\n",
              "        buttonEl.style.display =\n",
              "          google.colab.kernel.accessAllowed ? 'block' : 'none';\n",
              "\n",
              "        async function convertToInteractive(key) {\n",
              "          const element = document.querySelector('#df-c1bd6e8d-4c9c-4b73-b11b-6e6173aea108');\n",
              "          const dataTable =\n",
              "            await google.colab.kernel.invokeFunction('convertToInteractive',\n",
              "                                                     [key], {});\n",
              "          if (!dataTable) return;\n",
              "\n",
              "          const docLinkHtml = 'Like what you see? Visit the ' +\n",
              "            '<a target=\"_blank\" href=https://colab.research.google.com/notebooks/data_table.ipynb>data table notebook</a>'\n",
              "            + ' to learn more about interactive tables.';\n",
              "          element.innerHTML = '';\n",
              "          dataTable['output_type'] = 'display_data';\n",
              "          await google.colab.output.renderOutput(dataTable, element);\n",
              "          const docLink = document.createElement('div');\n",
              "          docLink.innerHTML = docLinkHtml;\n",
              "          element.appendChild(docLink);\n",
              "        }\n",
              "      </script>\n",
              "    </div>\n",
              "  </div>\n",
              "  "
            ]
          },
          "metadata": {},
          "execution_count": 109
        }
      ]
    },
    {
      "cell_type": "code",
      "source": [
        "data['Price'].plot(label='NSE 30', figsize=(15, 9), title='Adjusted Closing Price', color='red', linewidth=1.0, grid=True)\n",
        "plt.legend()"
      ],
      "metadata": {
        "colab": {
          "base_uri": "https://localhost:8080/",
          "height": 585
        },
        "id": "mFgD6x9hICvN",
        "outputId": "48fb58dc-6189-467a-be0f-7bb79a363848"
      },
      "execution_count": 110,
      "outputs": [
        {
          "output_type": "execute_result",
          "data": {
            "text/plain": [
              "<matplotlib.legend.Legend at 0x7f8264f6c490>"
            ]
          },
          "metadata": {},
          "execution_count": 110
        },
        {
          "output_type": "display_data",
          "data": {
            "text/plain": [
              "<Figure size 1080x648 with 1 Axes>"
            ],
            "image/png": "[encoded data removed]"
          },
          "metadata": {
            "needs_background": "light"
          }
        }
      ]
    },
    {
      "cell_type": "code",
      "source": [
        "# Rolling Mean / Moving Average to remove the noise in the graph and smoothen it\n",
        "close_col = data['Price']\n",
        "mvag = close_col.rolling(window=100).mean()     # Taking an average over the window size of 100.\n",
        "# Increasing the window size can make it more smoother, but less informative and vice-versa."
      ],
      "metadata": {
        "id": "k3MAw4knIdrZ"
      },
      "execution_count": 111,
      "outputs": []
    },
    {
      "cell_type": "code",
      "source": [
        "# Visualizing Rolling Mean and Adjusted Closing Price together\n",
        "data['Price'].plot(label='NSE 30', figsize=(15,10), title='Adjusted Closing Price vs Moving Average', color='red', linewidth=1.0, grid=True)\n",
        "mvag.plot(label='MVAG', color='blue')\n",
        "plt.legend()"
      ],
      "metadata": {
        "colab": {
          "base_uri": "https://localhost:8080/",
          "height": 639
        },
        "id": "PYULdUmUIlR2",
        "outputId": "ed95e1a7-6172-4805-e149-e5e3d763c0da"
      },
      "execution_count": 112,
      "outputs": [
        {
          "output_type": "execute_result",
          "data": {
            "text/plain": [
              "<matplotlib.legend.Legend at 0x7f8264f25b50>"
            ]
          },
          "metadata": {},
          "execution_count": 112
        },
        {
          "output_type": "display_data",
          "data": {
            "text/plain": [
              "<Figure size 1080x720 with 1 Axes>"
            ],
            "image/png": "[encoded data removed]"
          },
          "metadata": {
            "needs_background": "light"
          }
        }
      ]
    },
    {
      "cell_type": "code",
      "execution_count": 113,
      "metadata": {
        "id": "t_yOeVQlc9vQ"
      },
      "outputs": [],
      "source": [
        "# Data engineering \n",
        "data['Vol.'] = data['Vol.'].str.replace('M', \"\")\n",
        "data['Change %'] = data['Change %'].str.replace('%', \"\")\n",
        "# data['Date'] = pd.to_datetime(data['Date'])"
      ]
    },
    {
      "cell_type": "code",
      "execution_count": 114,
      "metadata": {
        "id": "hHc2VCy7fDxG"
      },
      "outputs": [],
      "source": [
        "data['Vol.'] = pd.to_numeric(data['Vol.'], errors ='coerce')\n",
        "data['Change %'] = pd.to_numeric(data['Change %'], errors ='coerce')"
      ]
    },
    {
      "cell_type": "code",
      "execution_count": 115,
      "metadata": {
        "colab": {
          "base_uri": "https://localhost:8080/"
        },
        "id": "JNRUi_wrH0Fu",
        "outputId": "685e9931-545e-4eb6-beda-95c912698125"
      },
      "outputs": [
        {
          "output_type": "execute_result",
          "data": {
            "text/plain": [
              "(2456, 6)"
            ]
          },
          "metadata": {},
          "execution_count": 115
        }
      ],
      "source": [
        "#Checking the dimension of the dataset\n",
        "data.shape"
      ]
    },
    {
      "cell_type": "code",
      "execution_count": 116,
      "metadata": {
        "colab": {
          "base_uri": "https://localhost:8080/",
          "height": 238
        },
        "id": "tZhjsxphIV5t",
        "outputId": "d87a58e1-8162-4c5f-f5f0-6d456a4b610f"
      },
      "outputs": [
        {
          "output_type": "execute_result",
          "data": {
            "text/plain": [
              "                 Price      Open      High       Low    Vol.  Change %\n",
              "Date                                                                  \n",
              "Dec 30, 2021  41813.27  41807.10  41815.32  41753.53  359.96      0.01\n",
              "Dec 29, 2021  41807.10  42262.85  42295.21  41745.37  180.15     -1.08\n",
              "Dec 24, 2021  42262.85  42230.48  42269.66  42217.46  111.84      0.08\n",
              "Dec 23, 2021  42230.48  42244.22  42263.82  42207.99  211.08     -0.03\n",
              "Dec 22, 2021  42244.22  42388.57  42390.74  42240.71  224.02     -0.34"
            ],
            "text/html": [
              "\n",
              "  <div id=\"df-ff3f13bc-10f3-4827-b1f4-6ff3e5915f37\">\n",
              "    <div class=\"colab-df-container\">\n",
              "      <div>\n",
              "<style scoped>\n",
              "    .dataframe tbody tr th:only-of-type {\n",
              "        vertical-align: middle;\n",
              "    }\n",
              "\n",
              "    .dataframe tbody tr th {\n",
              "        vertical-align: top;\n",
              "    }\n",
              "\n",
              "    .dataframe thead th {\n",
              "        text-align: right;\n",
              "    }\n",
              "</style>\n",
              "<table border=\"1\" class=\"dataframe\">\n",
              "  <thead>\n",
              "    <tr style=\"text-align: right;\">\n",
              "      <th></th>\n",
              "      <th>Price</th>\n",
              "      <th>Open</th>\n",
              "      <th>High</th>\n",
              "      <th>Low</th>\n",
              "      <th>Vol.</th>\n",
              "      <th>Change %</th>\n",
              "    </tr>\n",
              "    <tr>\n",
              "      <th>Date</th>\n",
              "      <th></th>\n",
              "      <th></th>\n",
              "      <th></th>\n",
              "      <th></th>\n",
              "      <th></th>\n",
              "      <th></th>\n",
              "    </tr>\n",
              "  </thead>\n",
              "  <tbody>\n",
              "    <tr>\n",
              "      <th>Dec 30, 2021</th>\n",
              "      <td>41813.27</td>\n",
              "      <td>41807.10</td>\n",
              "      <td>41815.32</td>\n",
              "      <td>41753.53</td>\n",
              "      <td>359.96</td>\n",
              "      <td>0.01</td>\n",
              "    </tr>\n",
              "    <tr>\n",
              "      <th>Dec 29, 2021</th>\n",
              "      <td>41807.10</td>\n",
              "      <td>42262.85</td>\n",
              "      <td>42295.21</td>\n",
              "      <td>41745.37</td>\n",
              "      <td>180.15</td>\n",
              "      <td>-1.08</td>\n",
              "    </tr>\n",
              "    <tr>\n",
              "      <th>Dec 24, 2021</th>\n",
              "      <td>42262.85</td>\n",
              "      <td>42230.48</td>\n",
              "      <td>42269.66</td>\n",
              "      <td>42217.46</td>\n",
              "      <td>111.84</td>\n",
              "      <td>0.08</td>\n",
              "    </tr>\n",
              "    <tr>\n",
              "      <th>Dec 23, 2021</th>\n",
              "      <td>42230.48</td>\n",
              "      <td>42244.22</td>\n",
              "      <td>42263.82</td>\n",
              "      <td>42207.99</td>\n",
              "      <td>211.08</td>\n",
              "      <td>-0.03</td>\n",
              "    </tr>\n",
              "    <tr>\n",
              "      <th>Dec 22, 2021</th>\n",
              "      <td>42244.22</td>\n",
              "      <td>42388.57</td>\n",
              "      <td>42390.74</td>\n",
              "      <td>42240.71</td>\n",
              "      <td>224.02</td>\n",
              "      <td>-0.34</td>\n",
              "    </tr>\n",
              "  </tbody>\n",
              "</table>\n",
              "</div>\n",
              "      <button class=\"colab-df-convert\" onclick=\"convertToInteractive('df-ff3f13bc-10f3-4827-b1f4-6ff3e5915f37')\"\n",
              "              title=\"Convert this dataframe to an interactive table.\"\n",
              "              style=\"display:none;\">\n",
              "        \n",
              "  <svg xmlns=\"http://www.w3.org/2000/svg\" height=\"24px\"viewBox=\"0 0 24 24\"\n",
              "       width=\"24px\">\n",
              "    <path d=\"M0 0h24v24H0V0z\" fill=\"none\"/>\n",
              "    <path d=\"M18.56 5.44l.94 2.06.94-2.06 2.06-.94-2.06-.94-.94-2.06-.94 2.06-2.06.94zm-11 1L8.5 8.5l.94-2.06 2.06-.94-2.06-.94L8.5 2.5l-.94 2.06-2.06.94zm10 10l.94 2.06.94-2.06 2.06-.94-2.06-.94-.94-2.06-.94 2.06-2.06.94z\"/><path d=\"M17.41 7.96l-1.37-1.37c-.4-.4-.92-.59-1.43-.59-.52 0-1.04.2-1.43.59L10.3 9.45l-7.72 7.72c-.78.78-.78 2.05 0 2.83L4 21.41c.39.39.9.59 1.41.59.51 0 1.02-.2 1.41-.59l7.78-7.78 2.81-2.81c.8-.78.8-2.07 0-2.86zM5.41 20L4 18.59l7.72-7.72 1.47 1.35L5.41 20z\"/>\n",
              "  </svg>\n",
              "      </button>\n",
              "      \n",
              "  <style>\n",
              "    .colab-df-container {\n",
              "      display:flex;\n",
              "      flex-wrap:wrap;\n",
              "      gap: 12px;\n",
              "    }\n",
              "\n",
              "    .colab-df-convert {\n",
              "      background-color: #E8F0FE;\n",
              "      border: none;\n",
              "      border-radius: 50%;\n",
              "      cursor: pointer;\n",
              "      display: none;\n",
              "      fill: #1967D2;\n",
              "      height: 32px;\n",
              "      padding: 0 0 0 0;\n",
              "      width: 32px;\n",
              "    }\n",
              "\n",
              "    .colab-df-convert:hover {\n",
              "      background-color: #E2EBFA;\n",
              "      box-shadow: 0px 1px 2px rgba(60, 64, 67, 0.3), 0px 1px 3px 1px rgba(60, 64, 67, 0.15);\n",
              "      fill: #174EA6;\n",
              "    }\n",
              "\n",
              "    [theme=dark] .colab-df-convert {\n",
              "      background-color: #3B4455;\n",
              "      fill: #D2E3FC;\n",
              "    }\n",
              "\n",
              "    [theme=dark] .colab-df-convert:hover {\n",
              "      background-color: #434B5C;\n",
              "      box-shadow: 0px 1px 3px 1px rgba(0, 0, 0, 0.15);\n",
              "      filter: drop-shadow(0px 1px 2px rgba(0, 0, 0, 0.3));\n",
              "      fill: #FFFFFF;\n",
              "    }\n",
              "  </style>\n",
              "\n",
              "      <script>\n",
              "        const buttonEl =\n",
              "          document.querySelector('#df-ff3f13bc-10f3-4827-b1f4-6ff3e5915f37 button.colab-df-convert');\n",
              "        buttonEl.style.display =\n",
              "          google.colab.kernel.accessAllowed ? 'block' : 'none';\n",
              "\n",
              "        async function convertToInteractive(key) {\n",
              "          const element = document.querySelector('#df-ff3f13bc-10f3-4827-b1f4-6ff3e5915f37');\n",
              "          const dataTable =\n",
              "            await google.colab.kernel.invokeFunction('convertToInteractive',\n",
              "                                                     [key], {});\n",
              "          if (!dataTable) return;\n",
              "\n",
              "          const docLinkHtml = 'Like what you see? Visit the ' +\n",
              "            '<a target=\"_blank\" href=https://colab.research.google.com/notebooks/data_table.ipynb>data table notebook</a>'\n",
              "            + ' to learn more about interactive tables.';\n",
              "          element.innerHTML = '';\n",
              "          dataTable['output_type'] = 'display_data';\n",
              "          await google.colab.output.renderOutput(dataTable, element);\n",
              "          const docLink = document.createElement('div');\n",
              "          docLink.innerHTML = docLinkHtml;\n",
              "          element.appendChild(docLink);\n",
              "        }\n",
              "      </script>\n",
              "    </div>\n",
              "  </div>\n",
              "  "
            ]
          },
          "metadata": {},
          "execution_count": 116
        }
      ],
      "source": [
        "#Printing the first 5 rows of the dataset \n",
        "data.head(5)"
      ]
    },
    {
      "cell_type": "code",
      "execution_count": 117,
      "metadata": {
        "colab": {
          "base_uri": "https://localhost:8080/",
          "height": 300
        },
        "id": "W-GWsgsgs8DV",
        "outputId": "f48f0b79-cada-4b45-aa07-7a2b82fecec1"
      },
      "outputs": [
        {
          "output_type": "execute_result",
          "data": {
            "text/plain": [
              "              Price          Open          High           Low         Vol.  \\\n",
              "count   2456.000000   2456.000000   2456.000000   2456.000000  1135.000000   \n",
              "mean   32171.525892  32143.579511  32317.595452  31990.901112   304.532599   \n",
              "std     6289.653664   6320.600931   6308.764290   6259.755782   156.843403   \n",
              "min    20123.510000      0.000000  20123.510000  20007.190000    59.500000   \n",
              "25%    26854.560000  26854.560000  26963.312500  26703.562500   192.830000   \n",
              "50%    31388.325000  31371.780000  31587.005000  31150.025000   259.480000   \n",
              "75%    38003.870000  37991.085000  38230.742500  37863.317500   370.155000   \n",
              "max    45092.830000  45092.830000  45321.820000  44748.240000   960.680000   \n",
              "\n",
              "          Change %  \n",
              "count  2456.000000  \n",
              "mean      0.033127  \n",
              "std       0.988917  \n",
              "min      -4.910000  \n",
              "25%      -0.420000  \n",
              "50%       0.000000  \n",
              "75%       0.450000  \n",
              "max       8.310000  "
            ],
            "text/html": [
              "\n",
              "  <div id=\"df-3b868c70-24e3-4449-b59e-e89cc8d4eead\">\n",
              "    <div class=\"colab-df-container\">\n",
              "      <div>\n",
              "<style scoped>\n",
              "    .dataframe tbody tr th:only-of-type {\n",
              "        vertical-align: middle;\n",
              "    }\n",
              "\n",
              "    .dataframe tbody tr th {\n",
              "        vertical-align: top;\n",
              "    }\n",
              "\n",
              "    .dataframe thead th {\n",
              "        text-align: right;\n",
              "    }\n",
              "</style>\n",
              "<table border=\"1\" class=\"dataframe\">\n",
              "  <thead>\n",
              "    <tr style=\"text-align: right;\">\n",
              "      <th></th>\n",
              "      <th>Price</th>\n",
              "      <th>Open</th>\n",
              "      <th>High</th>\n",
              "      <th>Low</th>\n",
              "      <th>Vol.</th>\n",
              "      <th>Change %</th>\n",
              "    </tr>\n",
              "  </thead>\n",
              "  <tbody>\n",
              "    <tr>\n",
              "      <th>count</th>\n",
              "      <td>2456.000000</td>\n",
              "      <td>2456.000000</td>\n",
              "      <td>2456.000000</td>\n",
              "      <td>2456.000000</td>\n",
              "      <td>1135.000000</td>\n",
              "      <td>2456.000000</td>\n",
              "    </tr>\n",
              "    <tr>\n",
              "      <th>mean</th>\n",
              "      <td>32171.525892</td>\n",
              "      <td>32143.579511</td>\n",
              "      <td>32317.595452</td>\n",
              "      <td>31990.901112</td>\n",
              "      <td>304.532599</td>\n",
              "      <td>0.033127</td>\n",
              "    </tr>\n",
              "    <tr>\n",
              "      <th>std</th>\n",
              "      <td>6289.653664</td>\n",
              "      <td>6320.600931</td>\n",
              "      <td>6308.764290</td>\n",
              "      <td>6259.755782</td>\n",
              "      <td>156.843403</td>\n",
              "      <td>0.988917</td>\n",
              "    </tr>\n",
              "    <tr>\n",
              "      <th>min</th>\n",
              "      <td>20123.510000</td>\n",
              "      <td>0.000000</td>\n",
              "      <td>20123.510000</td>\n",
              "      <td>20007.190000</td>\n",
              "      <td>59.500000</td>\n",
              "      <td>-4.910000</td>\n",
              "    </tr>\n",
              "    <tr>\n",
              "      <th>25%</th>\n",
              "      <td>26854.560000</td>\n",
              "      <td>26854.560000</td>\n",
              "      <td>26963.312500</td>\n",
              "      <td>26703.562500</td>\n",
              "      <td>192.830000</td>\n",
              "      <td>-0.420000</td>\n",
              "    </tr>\n",
              "    <tr>\n",
              "      <th>50%</th>\n",
              "      <td>31388.325000</td>\n",
              "      <td>31371.780000</td>\n",
              "      <td>31587.005000</td>\n",
              "      <td>31150.025000</td>\n",
              "      <td>259.480000</td>\n",
              "      <td>0.000000</td>\n",
              "    </tr>\n",
              "    <tr>\n",
              "      <th>75%</th>\n",
              "      <td>38003.870000</td>\n",
              "      <td>37991.085000</td>\n",
              "      <td>38230.742500</td>\n",
              "      <td>37863.317500</td>\n",
              "      <td>370.155000</td>\n",
              "      <td>0.450000</td>\n",
              "    </tr>\n",
              "    <tr>\n",
              "      <th>max</th>\n",
              "      <td>45092.830000</td>\n",
              "      <td>45092.830000</td>\n",
              "      <td>45321.820000</td>\n",
              "      <td>44748.240000</td>\n",
              "      <td>960.680000</td>\n",
              "      <td>8.310000</td>\n",
              "    </tr>\n",
              "  </tbody>\n",
              "</table>\n",
              "</div>\n",
              "      <button class=\"colab-df-convert\" onclick=\"convertToInteractive('df-3b868c70-24e3-4449-b59e-e89cc8d4eead')\"\n",
              "              title=\"Convert this dataframe to an interactive table.\"\n",
              "              style=\"display:none;\">\n",
              "        \n",
              "  <svg xmlns=\"http://www.w3.org/2000/svg\" height=\"24px\"viewBox=\"0 0 24 24\"\n",
              "       width=\"24px\">\n",
              "    <path d=\"M0 0h24v24H0V0z\" fill=\"none\"/>\n",
              "    <path d=\"M18.56 5.44l.94 2.06.94-2.06 2.06-.94-2.06-.94-.94-2.06-.94 2.06-2.06.94zm-11 1L8.5 8.5l.94-2.06 2.06-.94-2.06-.94L8.5 2.5l-.94 2.06-2.06.94zm10 10l.94 2.06.94-2.06 2.06-.94-2.06-.94-.94-2.06-.94 2.06-2.06.94z\"/><path d=\"M17.41 7.96l-1.37-1.37c-.4-.4-.92-.59-1.43-.59-.52 0-1.04.2-1.43.59L10.3 9.45l-7.72 7.72c-.78.78-.78 2.05 0 2.83L4 21.41c.39.39.9.59 1.41.59.51 0 1.02-.2 1.41-.59l7.78-7.78 2.81-2.81c.8-.78.8-2.07 0-2.86zM5.41 20L4 18.59l7.72-7.72 1.47 1.35L5.41 20z\"/>\n",
              "  </svg>\n",
              "      </button>\n",
              "      \n",
              "  <style>\n",
              "    .colab-df-container {\n",
              "      display:flex;\n",
              "      flex-wrap:wrap;\n",
              "      gap: 12px;\n",
              "    }\n",
              "\n",
              "    .colab-df-convert {\n",
              "      background-color: #E8F0FE;\n",
              "      border: none;\n",
              "      border-radius: 50%;\n",
              "      cursor: pointer;\n",
              "      display: none;\n",
              "      fill: #1967D2;\n",
              "      height: 32px;\n",
              "      padding: 0 0 0 0;\n",
              "      width: 32px;\n",
              "    }\n",
              "\n",
              "    .colab-df-convert:hover {\n",
              "      background-color: #E2EBFA;\n",
              "      box-shadow: 0px 1px 2px rgba(60, 64, 67, 0.3), 0px 1px 3px 1px rgba(60, 64, 67, 0.15);\n",
              "      fill: #174EA6;\n",
              "    }\n",
              "\n",
              "    [theme=dark] .colab-df-convert {\n",
              "      background-color: #3B4455;\n",
              "      fill: #D2E3FC;\n",
              "    }\n",
              "\n",
              "    [theme=dark] .colab-df-convert:hover {\n",
              "      background-color: #434B5C;\n",
              "      box-shadow: 0px 1px 3px 1px rgba(0, 0, 0, 0.15);\n",
              "      filter: drop-shadow(0px 1px 2px rgba(0, 0, 0, 0.3));\n",
              "      fill: #FFFFFF;\n",
              "    }\n",
              "  </style>\n",
              "\n",
              "      <script>\n",
              "        const buttonEl =\n",
              "          document.querySelector('#df-3b868c70-24e3-4449-b59e-e89cc8d4eead button.colab-df-convert');\n",
              "        buttonEl.style.display =\n",
              "          google.colab.kernel.accessAllowed ? 'block' : 'none';\n",
              "\n",
              "        async function convertToInteractive(key) {\n",
              "          const element = document.querySelector('#df-3b868c70-24e3-4449-b59e-e89cc8d4eead');\n",
              "          const dataTable =\n",
              "            await google.colab.kernel.invokeFunction('convertToInteractive',\n",
              "                                                     [key], {});\n",
              "          if (!dataTable) return;\n",
              "\n",
              "          const docLinkHtml = 'Like what you see? Visit the ' +\n",
              "            '<a target=\"_blank\" href=https://colab.research.google.com/notebooks/data_table.ipynb>data table notebook</a>'\n",
              "            + ' to learn more about interactive tables.';\n",
              "          element.innerHTML = '';\n",
              "          dataTable['output_type'] = 'display_data';\n",
              "          await google.colab.output.renderOutput(dataTable, element);\n",
              "          const docLink = document.createElement('div');\n",
              "          docLink.innerHTML = docLinkHtml;\n",
              "          element.appendChild(docLink);\n",
              "        }\n",
              "      </script>\n",
              "    </div>\n",
              "  </div>\n",
              "  "
            ]
          },
          "metadata": {},
          "execution_count": 117
        }
      ],
      "source": [
        "#Summary statistics of the data\n",
        "data.describe()"
      ]
    },
    {
      "cell_type": "code",
      "source": [
        "# Return Deviation measures the Mean of the Probability Distribution of Investment Returns if it has a positive/negative Average Net Outcome\n",
        "rd = close_col / close_col.shift(1) - 1\n",
        "rd.plot(label='Return', figsize=(15, 10), title='Return Deviation', color='red', linewidth=1.0, grid=True)\n",
        "plt.legend()"
      ],
      "metadata": {
        "colab": {
          "base_uri": "https://localhost:8080/",
          "height": 639
        },
        "id": "na-ynlInJkSR",
        "outputId": "1f006162-cf35-4ca2-ad24-bc269bfeb25e"
      },
      "execution_count": 118,
      "outputs": [
        {
          "output_type": "execute_result",
          "data": {
            "text/plain": [
              "<matplotlib.legend.Legend at 0x7f8264fc5e50>"
            ]
          },
          "metadata": {},
          "execution_count": 118
        },
        {
          "output_type": "display_data",
          "data": {
            "text/plain": [
              "<Figure size 1080x720 with 1 Axes>"
            ],
            "image/png": "[encoded data removed]"
          },
          "metadata": {
            "needs_background": "light"
          }
        }
      ]
    },
    {
      "cell_type": "markdown",
      "metadata": {
        "id": "MzdGHR-Bp6TR"
      },
      "source": [
        "##Exploratory Data Analysis"
      ]
    },
    {
      "cell_type": "code",
      "execution_count": 119,
      "metadata": {
        "colab": {
          "base_uri": "https://localhost:8080/",
          "height": 238
        },
        "id": "qaQUb9m3Im4L",
        "outputId": "c60505a5-0a53-4093-8851-a9d775f59688"
      },
      "outputs": [
        {
          "output_type": "execute_result",
          "data": {
            "text/plain": [
              "             Price      Open      High       Low      Vol.  Change %\n",
              "Price     1.000000  0.989513  0.999485  0.999335  0.263254  0.015220\n",
              "Open      0.989513  1.000000  0.990064  0.990022  0.254163 -0.033164\n",
              "High      0.999485  0.990064  1.000000  0.999106  0.265112 -0.007168\n",
              "Low       0.999335  0.990022  0.999106  1.000000  0.252545 -0.009830\n",
              "Vol.      0.263254  0.254163  0.265112  0.252545  1.000000  0.201776\n",
              "Change %  0.015220 -0.033164 -0.007168 -0.009830  0.201776  1.000000"
            ],
            "text/html": [
              "\n",
              "  <div id=\"df-e298ab13-4243-487a-8790-2daa9d6e7798\">\n",
              "    <div class=\"colab-df-container\">\n",
              "      <div>\n",
              "<style scoped>\n",
              "    .dataframe tbody tr th:only-of-type {\n",
              "        vertical-align: middle;\n",
              "    }\n",
              "\n",
              "    .dataframe tbody tr th {\n",
              "        vertical-align: top;\n",
              "    }\n",
              "\n",
              "    .dataframe thead th {\n",
              "        text-align: right;\n",
              "    }\n",
              "</style>\n",
              "<table border=\"1\" class=\"dataframe\">\n",
              "  <thead>\n",
              "    <tr style=\"text-align: right;\">\n",
              "      <th></th>\n",
              "      <th>Price</th>\n",
              "      <th>Open</th>\n",
              "      <th>High</th>\n",
              "      <th>Low</th>\n",
              "      <th>Vol.</th>\n",
              "      <th>Change %</th>\n",
              "    </tr>\n",
              "  </thead>\n",
              "  <tbody>\n",
              "    <tr>\n",
              "      <th>Price</th>\n",
              "      <td>1.000000</td>\n",
              "      <td>0.989513</td>\n",
              "      <td>0.999485</td>\n",
              "      <td>0.999335</td>\n",
              "      <td>0.263254</td>\n",
              "      <td>0.015220</td>\n",
              "    </tr>\n",
              "    <tr>\n",
              "      <th>Open</th>\n",
              "      <td>0.989513</td>\n",
              "      <td>1.000000</td>\n",
              "      <td>0.990064</td>\n",
              "      <td>0.990022</td>\n",
              "      <td>0.254163</td>\n",
              "      <td>-0.033164</td>\n",
              "    </tr>\n",
              "    <tr>\n",
              "      <th>High</th>\n",
              "      <td>0.999485</td>\n",
              "      <td>0.990064</td>\n",
              "      <td>1.000000</td>\n",
              "      <td>0.999106</td>\n",
              "      <td>0.265112</td>\n",
              "      <td>-0.007168</td>\n",
              "    </tr>\n",
              "    <tr>\n",
              "      <th>Low</th>\n",
              "      <td>0.999335</td>\n",
              "      <td>0.990022</td>\n",
              "      <td>0.999106</td>\n",
              "      <td>1.000000</td>\n",
              "      <td>0.252545</td>\n",
              "      <td>-0.009830</td>\n",
              "    </tr>\n",
              "    <tr>\n",
              "      <th>Vol.</th>\n",
              "      <td>0.263254</td>\n",
              "      <td>0.254163</td>\n",
              "      <td>0.265112</td>\n",
              "      <td>0.252545</td>\n",
              "      <td>1.000000</td>\n",
              "      <td>0.201776</td>\n",
              "    </tr>\n",
              "    <tr>\n",
              "      <th>Change %</th>\n",
              "      <td>0.015220</td>\n",
              "      <td>-0.033164</td>\n",
              "      <td>-0.007168</td>\n",
              "      <td>-0.009830</td>\n",
              "      <td>0.201776</td>\n",
              "      <td>1.000000</td>\n",
              "    </tr>\n",
              "  </tbody>\n",
              "</table>\n",
              "</div>\n",
              "      <button class=\"colab-df-convert\" onclick=\"convertToInteractive('df-e298ab13-4243-487a-8790-2daa9d6e7798')\"\n",
              "              title=\"Convert this dataframe to an interactive table.\"\n",
              "              style=\"display:none;\">\n",
              "        \n",
              "  <svg xmlns=\"http://www.w3.org/2000/svg\" height=\"24px\"viewBox=\"0 0 24 24\"\n",
              "       width=\"24px\">\n",
              "    <path d=\"M0 0h24v24H0V0z\" fill=\"none\"/>\n",
              "    <path d=\"M18.56 5.44l.94 2.06.94-2.06 2.06-.94-2.06-.94-.94-2.06-.94 2.06-2.06.94zm-11 1L8.5 8.5l.94-2.06 2.06-.94-2.06-.94L8.5 2.5l-.94 2.06-2.06.94zm10 10l.94 2.06.94-2.06 2.06-.94-2.06-.94-.94-2.06-.94 2.06-2.06.94z\"/><path d=\"M17.41 7.96l-1.37-1.37c-.4-.4-.92-.59-1.43-.59-.52 0-1.04.2-1.43.59L10.3 9.45l-7.72 7.72c-.78.78-.78 2.05 0 2.83L4 21.41c.39.39.9.59 1.41.59.51 0 1.02-.2 1.41-.59l7.78-7.78 2.81-2.81c.8-.78.8-2.07 0-2.86zM5.41 20L4 18.59l7.72-7.72 1.47 1.35L5.41 20z\"/>\n",
              "  </svg>\n",
              "      </button>\n",
              "      \n",
              "  <style>\n",
              "    .colab-df-container {\n",
              "      display:flex;\n",
              "      flex-wrap:wrap;\n",
              "      gap: 12px;\n",
              "    }\n",
              "\n",
              "    .colab-df-convert {\n",
              "      background-color: #E8F0FE;\n",
              "      border: none;\n",
              "      border-radius: 50%;\n",
              "      cursor: pointer;\n",
              "      display: none;\n",
              "      fill: #1967D2;\n",
              "      height: 32px;\n",
              "      padding: 0 0 0 0;\n",
              "      width: 32px;\n",
              "    }\n",
              "\n",
              "    .colab-df-convert:hover {\n",
              "      background-color: #E2EBFA;\n",
              "      box-shadow: 0px 1px 2px rgba(60, 64, 67, 0.3), 0px 1px 3px 1px rgba(60, 64, 67, 0.15);\n",
              "      fill: #174EA6;\n",
              "    }\n",
              "\n",
              "    [theme=dark] .colab-df-convert {\n",
              "      background-color: #3B4455;\n",
              "      fill: #D2E3FC;\n",
              "    }\n",
              "\n",
              "    [theme=dark] .colab-df-convert:hover {\n",
              "      background-color: #434B5C;\n",
              "      box-shadow: 0px 1px 3px 1px rgba(0, 0, 0, 0.15);\n",
              "      filter: drop-shadow(0px 1px 2px rgba(0, 0, 0, 0.3));\n",
              "      fill: #FFFFFF;\n",
              "    }\n",
              "  </style>\n",
              "\n",
              "      <script>\n",
              "        const buttonEl =\n",
              "          document.querySelector('#df-e298ab13-4243-487a-8790-2daa9d6e7798 button.colab-df-convert');\n",
              "        buttonEl.style.display =\n",
              "          google.colab.kernel.accessAllowed ? 'block' : 'none';\n",
              "\n",
              "        async function convertToInteractive(key) {\n",
              "          const element = document.querySelector('#df-e298ab13-4243-487a-8790-2daa9d6e7798');\n",
              "          const dataTable =\n",
              "            await google.colab.kernel.invokeFunction('convertToInteractive',\n",
              "                                                     [key], {});\n",
              "          if (!dataTable) return;\n",
              "\n",
              "          const docLinkHtml = 'Like what you see? Visit the ' +\n",
              "            '<a target=\"_blank\" href=https://colab.research.google.com/notebooks/data_table.ipynb>data table notebook</a>'\n",
              "            + ' to learn more about interactive tables.';\n",
              "          element.innerHTML = '';\n",
              "          dataTable['output_type'] = 'display_data';\n",
              "          await google.colab.output.renderOutput(dataTable, element);\n",
              "          const docLink = document.createElement('div');\n",
              "          docLink.innerHTML = docLinkHtml;\n",
              "          element.appendChild(docLink);\n",
              "        }\n",
              "      </script>\n",
              "    </div>\n",
              "  </div>\n",
              "  "
            ]
          },
          "metadata": {},
          "execution_count": 119
        }
      ],
      "source": [
        "#Correlation of the variables to check the importance of all the variables with thenprice variable\n",
        "data.corr()"
      ]
    },
    {
      "cell_type": "code",
      "source": [
        "data = data.drop(['Vol.'], axis= 1)\n",
        "data.dropna(axis= 0, inplace = True)"
      ],
      "metadata": {
        "id": "4x9xy54VNIem"
      },
      "execution_count": 120,
      "outputs": []
    },
    {
      "cell_type": "code",
      "execution_count": 121,
      "metadata": {
        "colab": {
          "base_uri": "https://localhost:8080/",
          "height": 269
        },
        "id": "oqdAoSwCKULB",
        "outputId": "e649112e-8aad-46d2-cc5d-528d796628ea"
      },
      "outputs": [
        {
          "output_type": "display_data",
          "data": {
            "text/plain": [
              "<Figure size 432x288 with 2 Axes>"
            ],
            "image/png": "[encoded data removed]"
          },
          "metadata": {
            "needs_background": "light"
          }
        }
      ],
      "source": [
        "#Heatmap plot \n",
        "corrmap=sns.heatmap(data.corr())"
      ]
    },
    {
      "cell_type": "code",
      "execution_count": null,
      "metadata": {
        "colab": {
          "base_uri": "https://localhost:8080/",
          "height": 35
        },
        "id": "Li2R-nGLN99S",
        "outputId": "30c23a86-e7a8-4276-b486-4d0f5e0c77a9"
      },
      "outputs": [
        {
          "output_type": "display_data",
          "data": {
            "text/plain": [
              "<Figure size 432x288 with 0 Axes>"
            ]
          },
          "metadata": {}
        }
      ],
      "source": [
        "## Saving the heatmap plot\n",
        "plt.savefig('corrmap.jpeg')"
      ]
    },
    {
      "cell_type": "code",
      "execution_count": 122,
      "metadata": {
        "colab": {
          "base_uri": "https://localhost:8080/"
        },
        "id": "jHnwvZmIgpdk",
        "outputId": "b24ecb84-2d78-4510-ebf1-41a02aa23294"
      },
      "outputs": [
        {
          "output_type": "stream",
          "name": "stdout",
          "text": [
            "<class 'pandas.core.frame.DataFrame'>\n",
            "Index: 2456 entries, Dec 30, 2021 to Jan 30, 2012\n",
            "Data columns (total 5 columns):\n",
            " #   Column    Non-Null Count  Dtype  \n",
            "---  ------    --------------  -----  \n",
            " 0   Price     2456 non-null   float64\n",
            " 1   Open      2456 non-null   float64\n",
            " 2   High      2456 non-null   float64\n",
            " 3   Low       2456 non-null   float64\n",
            " 4   Change %  2456 non-null   float64\n",
            "dtypes: float64(5)\n",
            "memory usage: 115.1+ KB\n"
          ]
        }
      ],
      "source": [
        "#Data information\n",
        "data.info()"
      ]
    },
    {
      "cell_type": "markdown",
      "metadata": {
        "id": "W3rYtpOCqG2i"
      },
      "source": [
        "#Histogram for the price"
      ]
    },
    {
      "cell_type": "code",
      "execution_count": 123,
      "metadata": {
        "colab": {
          "base_uri": "https://localhost:8080/",
          "height": 336
        },
        "id": "OCQGBQmf5SvH",
        "outputId": "fbc38308-8671-4c2d-b43c-26b062eb886b"
      },
      "outputs": [
        {
          "output_type": "execute_result",
          "data": {
            "text/plain": [
              "(array([136., 167., 458., 319., 241., 233., 228., 355., 248.,  71.]),\n",
              " array([20123.51 , 22620.442, 25117.374, 27614.306, 30111.238, 32608.17 ,\n",
              "        35105.102, 37602.034, 40098.966, 42595.898, 45092.83 ]),\n",
              " <a list of 10 Patch objects>)"
            ]
          },
          "metadata": {},
          "execution_count": 123
        },
        {
          "output_type": "display_data",
          "data": {
            "text/plain": [
              "<Figure size 432x288 with 1 Axes>"
            ],
            "image/png": "[encoded data removed]"
          },
          "metadata": {
            "needs_background": "light"
          }
        }
      ],
      "source": [
        "plt.hist(data['Price'])"
      ]
    },
    {
      "cell_type": "markdown",
      "metadata": {
        "id": "xoRHn_8w8Zfd"
      },
      "source": [
        "###Data Visualization"
      ]
    },
    {
      "cell_type": "code",
      "execution_count": 125,
      "metadata": {
        "colab": {
          "base_uri": "https://localhost:8080/",
          "height": 353
        },
        "id": "anCKWyZn_yoH",
        "outputId": "19bcbbd1-9276-4718-9a28-6085c8e0f624"
      },
      "outputs": [
        {
          "output_type": "stream",
          "name": "stderr",
          "text": [
            "/usr/local/lib/python3.7/dist-packages/seaborn/distributions.py:2619: FutureWarning: `distplot` is a deprecated function and will be removed in a future version. Please adapt your code to use either `displot` (a figure-level function with similar flexibility) or `histplot` (an axes-level function for histograms).\n",
            "  warnings.warn(msg, FutureWarning)\n"
          ]
        },
        {
          "output_type": "execute_result",
          "data": {
            "text/plain": [
              "<matplotlib.axes._subplots.AxesSubplot at 0x7f8264c97d50>"
            ]
          },
          "metadata": {},
          "execution_count": 125
        },
        {
          "output_type": "display_data",
          "data": {
            "text/plain": [
              "<Figure size 432x288 with 1 Axes>"
            ],
            "image/png": "[encoded data removed]"
          },
          "metadata": {
            "needs_background": "light"
          }
        }
      ],
      "source": [
        "sns.distplot(rd)"
      ]
    },
    {
      "cell_type": "code",
      "source": [
        "# Number of days for which to predict the stock prices\n",
        "predict_days = 30"
      ],
      "metadata": {
        "id": "-DTyfS2tL7tX"
      },
      "execution_count": 126,
      "outputs": []
    },
    {
      "cell_type": "code",
      "source": [
        "# Shifting by the Number of Predict days for Prediction array\n",
        "data['Prediction'] = data['Price'].shift(-predict_days)"
      ],
      "metadata": {
        "id": "8a8lfpreL_kg"
      },
      "execution_count": 127,
      "outputs": []
    },
    {
      "cell_type": "code",
      "source": [
        "# Dropping the Prediction Row\n",
        "X = np.array(data.drop(['Prediction'], axis = 1))\n",
        "X = X[:-predict_days]      # Size upto predict days\n",
        "# print(X)\n",
        "print(X.shape)"
      ],
      "metadata": {
        "colab": {
          "base_uri": "https://localhost:8080/"
        },
        "id": "X40LLXr4MMOZ",
        "outputId": "9f352065-25c9-42ee-e4c5-40f5eed5d0a3"
      },
      "execution_count": 128,
      "outputs": [
        {
          "output_type": "stream",
          "name": "stdout",
          "text": [
            "(2426, 5)\n"
          ]
        }
      ]
    },
    {
      "cell_type": "code",
      "source": [
        "# Creating the Prediction Row\n",
        "y = np.array(data['Prediction'])\n",
        "y = y[:-predict_days]      # Size upto predict_days\n",
        "# print(y)\n",
        "print(y.shape)"
      ],
      "metadata": {
        "colab": {
          "base_uri": "https://localhost:8080/"
        },
        "id": "8yZAIa9WMUOn",
        "outputId": "29235fbd-27ed-4cd5-884e-c500b778c2fb"
      },
      "execution_count": 129,
      "outputs": [
        {
          "output_type": "stream",
          "name": "stdout",
          "text": [
            "(2426,)\n"
          ]
        }
      ]
    },
    {
      "cell_type": "code",
      "source": [
        "# Splitting the data into Training data & Testing data\n",
        "X_train, X_test, y_train, y_test = train_test_split(X, y, test_size=0.2)      #Splitting the data into 80% for training & 20% for testing\n",
        "print(X_train.shape)\n",
        "print(y_train.shape)\n",
        "print(X_test.shape)\n",
        "print(y_test.shape)"
      ],
      "metadata": {
        "colab": {
          "base_uri": "https://localhost:8080/"
        },
        "id": "8F0W7DnTMamJ",
        "outputId": "9de9f38b-27c5-4460-b2cc-02cc9f6aef52"
      },
      "execution_count": 130,
      "outputs": [
        {
          "output_type": "stream",
          "name": "stdout",
          "text": [
            "(1940, 5)\n",
            "(1940,)\n",
            "(486, 5)\n",
            "(486,)\n"
          ]
        }
      ]
    },
    {
      "cell_type": "markdown",
      "metadata": {
        "id": "OMdDPMGj5OM6"
      },
      "source": [
        "#Transformation of the data"
      ]
    },
    {
      "cell_type": "code",
      "source": [
        "# from scipy.special import inv_boxcox\n",
        "# from typing import Tuple"
      ],
      "metadata": {
        "id": "Tvv1TervOjGB"
      },
      "execution_count": null,
      "outputs": []
    },
    {
      "cell_type": "code",
      "source": [
        "# # Define power trnnsformations and their inverses\n",
        "# # Square root transformation\n",
        "# def square_root_transformation(x: pd.Series) -> pd.Series:\n",
        "#     return np.sqrt(x)\n",
        "\n",
        "# def square_root_inverse_transformation(x: pd.Series) -> pd.Series:\n",
        "#     return np.square(x)\n",
        "\n",
        "# # Cube root transformation\n",
        "# def cube_root_transformation(x: pd.Series) -> pd.Series:\n",
        "#     return x ** (1 / 3)\n",
        "\n",
        "# def cube_root_inverse_transformation(x: pd.Series) -> pd.Series:\n",
        "#     return x ** 3\n",
        "\n",
        "# # Log transformation\n",
        "# def log_transformation(x: pd.Series) -> pd.Series:\n",
        "#     # Function np.log1p = log(x + 1)\n",
        "#     return np.log1p(x)\n",
        "\n",
        "# def log_inverse_transformation(x: pd.Series) -> pd.Series:\n",
        "#     # Function np.expm1(x) = exp(x) - 1\n",
        "#     return np.expm1(x)\n",
        "\n",
        "# # Box-cox transformation\n",
        "# def box_cox_transformation(x: pd.Series) -> Tuple[np.array, float]:\n",
        "#     x_transformed, lambda_value = stats.boxcox(x)\n",
        "#     return x_transformed, lambda_value\n",
        "    \n",
        "# def box_cox_inverse_transformation(x: pd.Series, lambda_value: float) -> pd.Series:\n",
        "#     return inv_boxcox(x, lambda_value)"
      ],
      "metadata": {
        "id": "e6MINcFIN9D7"
      },
      "execution_count": null,
      "outputs": []
    },
    {
      "cell_type": "code",
      "source": [
        "# data['Price_T'] = data.groupby('Date')['Price'].apply(lambda x: log_transformation(x))\n",
        "# data['Open_T'] = data.groupby('Date')['Open'].apply(lambda x: log_transformation(x))\n",
        "# data['High_T'] = data.groupby('Date')['High'].apply(lambda x: log_transformation(x))\n",
        "# data['Low_T'] = data.groupby('Date')['Low'].apply(lambda x: log_transformation(x))\n",
        "# data['Vol._T'] = data.groupby('Date')['Vol.'].apply(lambda x: log_transformation(x))\n",
        "# # data['Change %_T'] = data.groupby('Date')['Change %'].apply(lambda x: log_transformation(x))"
      ],
      "metadata": {
        "id": "OZ6ndsVsPUIi"
      },
      "execution_count": null,
      "outputs": []
    },
    {
      "cell_type": "code",
      "execution_count": null,
      "metadata": {
        "id": "k8aOYXmuJ_5X"
      },
      "outputs": [],
      "source": [
        "# X = data.iloc[:, 2:7]\n",
        "# del X['Vol.']\n",
        "# #X del (labels = 'Vol.', axis =0)\n",
        "# y = data.iloc[:, 1]"
      ]
    },
    {
      "cell_type": "code",
      "execution_count": null,
      "metadata": {
        "id": "K4Mqt0lbrDT7"
      },
      "outputs": [],
      "source": [
        "# data = data.drop(['Date', 'Vol.'], axis= 1)"
      ]
    },
    {
      "cell_type": "code",
      "execution_count": null,
      "metadata": {
        "id": "NgKrr1AQqwS3"
      },
      "outputs": [],
      "source": [
        "# data2 = data[\"Price\"].pct_change().dropna()"
      ]
    },
    {
      "cell_type": "code",
      "execution_count": null,
      "metadata": {
        "id": "dcDR9LiA8bMW"
      },
      "outputs": [],
      "source": [
        "# def Logreturns(data):\n",
        "#   data.loc[: , \"Price\"] = np.log(data.Price) - np.log(data.Price.shift(1))\n",
        "#   return data"
      ]
    },
    {
      "cell_type": "code",
      "execution_count": null,
      "metadata": {
        "id": "GZVnxTmQu-q6"
      },
      "outputs": [],
      "source": [
        "# np.log10(data['Price']/data['Price'].shift(1))"
      ]
    },
    {
      "cell_type": "code",
      "execution_count": null,
      "metadata": {
        "id": "OOBMWy9j9jUO"
      },
      "outputs": [],
      "source": [
        "# def Logreturns(data):\n",
        "#   data['Price'] = np.log10(data['Price']/data['Price'].shift(1))\n",
        "#   return data"
      ]
    },
    {
      "cell_type": "code",
      "execution_count": null,
      "metadata": {
        "id": "qBoBXEuD_fkO"
      },
      "outputs": [],
      "source": [
        "# data2=Logreturns(data)"
      ]
    },
    {
      "cell_type": "code",
      "execution_count": null,
      "metadata": {
        "id": "sPpXsXmQmZRo"
      },
      "outputs": [],
      "source": [
        "# data2.head(3)"
      ]
    },
    {
      "cell_type": "code",
      "execution_count": null,
      "metadata": {
        "id": "-8of07gNf_uI"
      },
      "outputs": [],
      "source": [
        "# def Antilog(data):\n",
        "#   data.loc[: , \"Price\"] = np.log(data.Price) - np.log(data.Price.shift(1))\n",
        "#   return data"
      ]
    },
    {
      "cell_type": "code",
      "execution_count": null,
      "metadata": {
        "id": "Nt_wI7YrgCe2"
      },
      "outputs": [],
      "source": [
        "# data3 = Antilog(data2)\n",
        "# data3.head(5)"
      ]
    },
    {
      "cell_type": "code",
      "execution_count": null,
      "metadata": {
        "id": "TEarw_uwz5mW"
      },
      "outputs": [],
      "source": [
        "# data2['year'] = pd.DatetimeIndex(data2['Date']).year\n",
        "# data2['month'] = pd.DatetimeIndex(data2['Date']).month\n",
        "# data2['day'] = pd.DatetimeIndex(data2['Date']).day\n",
        "\n",
        "# data_new = data2[  [ 'Date',  'year', 'month', 'day','Open','High','Low','Vol.', 'Change %','Price']]\n",
        "# data_new.head()"
      ]
    },
    {
      "cell_type": "code",
      "execution_count": null,
      "metadata": {
        "id": "6MXleYvR88yF"
      },
      "outputs": [],
      "source": [
        "# data_new1 = data_new.drop(['Date', 'Vol.'], axis= 1)\n",
        "# data_new1.dropna(axis= 0, inplace = True)"
      ]
    },
    {
      "cell_type": "code",
      "source": [
        "# data_new1 = data.drop(['Date', 'Vol.'], axis= 1)\n",
        "# data_new1.dropna(axis= 0, inplace = True)"
      ],
      "metadata": {
        "id": "5Do2rYM_Cfhy"
      },
      "execution_count": null,
      "outputs": []
    },
    {
      "cell_type": "code",
      "source": [
        "# data_new1 = data.drop([ 'Price',\t'Open',\t'High',\t'Low',\t'Vol.',\t'Change %','Vol._T'], axis= 1)\n",
        "# data_new1.dropna(axis= 0, inplace = True)"
      ],
      "metadata": {
        "id": "bWtKGAY04ASa"
      },
      "execution_count": null,
      "outputs": []
    },
    {
      "cell_type": "code",
      "execution_count": null,
      "metadata": {
        "id": "fszjx9-d_7A4"
      },
      "outputs": [],
      "source": [
        "# X = data_new1.iloc[:, 4:8]\n",
        "# # del X['Vol.']\n",
        "# #X del (labels = 'Vol.', axis =0)\n",
        "# y = data_new1.iloc[:, 3]"
      ]
    },
    {
      "cell_type": "code",
      "execution_count": null,
      "metadata": {
        "id": "0IuxttINaXDx"
      },
      "outputs": [],
      "source": [
        "# plt.plot(data['Date'], data_new1['Price_T'])\n",
        "# plt.xlabel(\" Year \")\n",
        "# plt.ylabel(\"Stock Price\")"
      ]
    },
    {
      "cell_type": "code",
      "execution_count": 26,
      "metadata": {
        "id": "7RmgSMm-Got0"
      },
      "outputs": [],
      "source": [
        "# plt.plot(data_new['Date'], data_new['Price'])\n",
        "# plt.xlabel(\" Year \")\n",
        "# plt.ylabel(\"Stock Price\")"
      ]
    },
    {
      "cell_type": "markdown",
      "metadata": {
        "id": "Mo8m9cpS1Qup"
      },
      "source": [
        "Splitting of the data into training and test"
      ]
    },
    {
      "cell_type": "code",
      "execution_count": null,
      "metadata": {
        "id": "ec1NEQFR4piM"
      },
      "outputs": [],
      "source": [
        "# n_points = len(data_new1)\n",
        "# train_points = int((2/3)*n_points)+1\n",
        "# X_train, X_test =data_new1.iloc[:,1:].values[:train_points],  data_new1.iloc[:,1:].values[train_points:  ]\n",
        "# y_train, y_test =data_new1.iloc[:,0].values[:train_points  ],  data_new1.iloc[:,0].values[train_points:  ]"
      ]
    },
    {
      "cell_type": "code",
      "source": [
        "# test_ratio = 0.2\n",
        "# training_ratio = 1 - test_ratio\n",
        "\n",
        "# train_size = int(training_ratio * n_points)\n",
        "# test_size = int(test_ratio * n_points)\n",
        "# print(\"train_size: \" + str(train_size))\n",
        "# print(\"test_size: \" + str(test_size))\n",
        "\n",
        "# train = data_new1[:train_size][['Price_T','Open_T',\t'High_T',\t'Low_T']]\n",
        "# test = data_new1[train_size:][['Price_T','Open_T',\t'High_T',\t'Low_T']]"
      ],
      "metadata": {
        "id": "7e8BHkpWIo7P"
      },
      "execution_count": null,
      "outputs": []
    },
    {
      "cell_type": "code",
      "source": [
        "# y_train = train['Price_T']\n",
        "# X_train = train[['Open_T',\t'High_T',\t'Low_T']]\n",
        "# X_test = test[['Open_T',\t'High_T',\t'Low_T']]\n",
        "# y_test = test['Price_T']"
      ],
      "metadata": {
        "id": "SwHwR9_YGwop"
      },
      "execution_count": null,
      "outputs": []
    },
    {
      "cell_type": "code",
      "execution_count": null,
      "metadata": {
        "id": "f1ZWgOMs9cXB"
      },
      "outputs": [],
      "source": [
        "# n_points = len(data)\n",
        "# train_points = int(2/3*n_points)+1\n",
        "# X_train, X_test =X.iloc[:,1:].values[:train_points],  X.iloc[:,1:].values[train_points:  ]\n",
        "# y_train, y_test =y.iloc[:,0].values[:train_points],  y.iloc[:,0].values[train_points:  ]"
      ]
    },
    {
      "cell_type": "code",
      "execution_count": null,
      "metadata": {
        "id": "fNQ0yVgYAWlB"
      },
      "outputs": [],
      "source": [
        "# X_train , X_test, y_train, y_test =train_test_split(X,y ,train_size=0.6, shuffle=True, random_state=0)"
      ]
    },
    {
      "cell_type": "code",
      "execution_count": null,
      "metadata": {
        "id": "hSu8eyT24fo5"
      },
      "outputs": [],
      "source": [
        "# X_train.shape , X_test.shape, y_train.shape, y_test.shape"
      ]
    },
    {
      "cell_type": "code",
      "execution_count": null,
      "metadata": {
        "id": "93C600gUyEtW"
      },
      "outputs": [],
      "source": [
        "# test_size = 1000\n",
        "\n",
        "# data_new1_train = data_new1.iloc[:test_size, :-1]\n",
        "# data_new1_test = data_new1.iloc[:-test_size, -1]\n",
        "\n",
        "# plt.title('', size=20)\n",
        "# plt.plot(data_new1_train, label='Training set')\n",
        "# plt.plot(data_new1_test, label='Test set', color='orange')\n",
        "# plt.legend();"
      ]
    },
    {
      "cell_type": "code",
      "execution_count": null,
      "metadata": {
        "id": "IH91hmrh4iWS"
      },
      "outputs": [],
      "source": [
        "# X_train, X_test ,y_train, y_test =train_test_split(X,y,test_size=0.2, shuffle=False)"
      ]
    },
    {
      "cell_type": "code",
      "source": [
        "!pip install keras"
      ],
      "metadata": {
        "colab": {
          "base_uri": "https://localhost:8080/"
        },
        "id": "8OfYUOBVVAim",
        "outputId": "080f23aa-f10f-474b-b6ea-a9dc7193fe08"
      },
      "execution_count": null,
      "outputs": [
        {
          "output_type": "stream",
          "name": "stdout",
          "text": [
            "Looking in indexes: https://pypi.org/simple, https://us-python.pkg.dev/colab-wheels/public/simple/\n",
            "Requirement already satisfied: keras in /usr/local/lib/python3.7/dist-packages (2.8.0)\n"
          ]
        }
      ]
    },
    {
      "cell_type": "code",
      "execution_count": 33,
      "metadata": {
        "id": "dbdT8Vz0UdPh"
      },
      "outputs": [],
      "source": [
        "import pandas as pd\n",
        "import numpy as np\n",
        "from sklearn import model_selection\n",
        "from sklearn.linear_model import LinearRegression\n",
        "from sklearn.linear_model import Ridge\n",
        "from sklearn.linear_model import Lasso\n",
        "from sklearn.linear_model import ElasticNet\n",
        "from sklearn.metrics import r2_score\n",
        "from sklearn.metrics import mean_squared_error\n",
        "from sklearn.metrics import mean_absolute_error\n",
        "from math import sqrt\n",
        "from sklearn.preprocessing import MinMaxScaler\n",
        "from sklearn.model_selection import TimeSeriesSplit\n",
        "from keras.models import Sequential\n",
        "from keras.layers import LSTM, Dense, Dropout\n",
        "from keras.layers import Dense\n",
        "import keras.backend as K\n",
        "from keras.callbacks import EarlyStopping\n",
        "# from keras.optimizers import Adam\n",
        "from keras.models import load_model\n",
        "from keras.layers import LSTM\n",
        "from keras.utils.vis_utils import plot_model"
      ]
    },
    {
      "cell_type": "markdown",
      "metadata": {
        "id": "2BqrfXbIBTy3"
      },
      "source": [
        "#Linear Regression"
      ]
    },
    {
      "cell_type": "code",
      "source": [
        "linear_model = LinearRegression()\n",
        "linear_model.fit(X_train, y_train)  "
      ],
      "metadata": {
        "colab": {
          "base_uri": "https://localhost:8080/"
        },
        "id": "fy1NfynsMxNl",
        "outputId": "030bd5fc-3de3-4b85-e813-2d77f25d9825"
      },
      "execution_count": 131,
      "outputs": [
        {
          "output_type": "execute_result",
          "data": {
            "text/plain": [
              "LinearRegression()"
            ]
          },
          "metadata": {},
          "execution_count": 131
        }
      ]
    },
    {
      "cell_type": "code",
      "source": [
        "# Score of the Linear Regression Model (Using the Test Data)\n",
        "linear_model_score = linear_model.score(X_test, y_test)\n",
        "print('Linear Model score:', linear_model_score)"
      ],
      "metadata": {
        "colab": {
          "base_uri": "https://localhost:8080/"
        },
        "id": "5M6ko0_GNXFV",
        "outputId": "acd4a587-7bac-4dc5-e7c1-6ee3aff1ef37"
      },
      "execution_count": 132,
      "outputs": [
        {
          "output_type": "stream",
          "name": "stdout",
          "text": [
            "Linear Model score: 0.8420114858605109\n"
          ]
        }
      ]
    },
    {
      "cell_type": "code",
      "source": [
        "# Define the Real & Prediction Values\n",
        "\n",
        "X_predict = np.array(data.drop(['Prediction'], 1))[-predict_days:]\n",
        "\n",
        "linear_model_predict_prediction = linear_model.predict(X_predict)\n",
        "linear_model_real_prediction = linear_model.predict(np.array(data.drop(['Prediction'], 1)))"
      ],
      "metadata": {
        "colab": {
          "base_uri": "https://localhost:8080/"
        },
        "id": "dzU81lWlNk_I",
        "outputId": "a9a4bf4e-5086-4adc-afb6-376daaab16e1"
      },
      "execution_count": 133,
      "outputs": [
        {
          "output_type": "stream",
          "name": "stderr",
          "text": [
            "/usr/local/lib/python3.7/dist-packages/ipykernel_launcher.py:3: FutureWarning: In a future version of pandas all arguments of DataFrame.drop except for the argument 'labels' will be keyword-only\n",
            "  This is separate from the ipykernel package so we can avoid doing imports until\n",
            "/usr/local/lib/python3.7/dist-packages/ipykernel_launcher.py:6: FutureWarning: In a future version of pandas all arguments of DataFrame.drop except for the argument 'labels' will be keyword-only\n",
            "  \n"
          ]
        }
      ]
    },
    {
      "cell_type": "code",
      "source": [
        "# Defining some Parameters\n",
        "\n",
        "predicted_dates = []\n",
        "recent_date = data.index.max()\n",
        "display_at = 1000\n",
        "alpha = 0.5\n",
        "\n",
        "for i in range(predict_days):\n",
        "    recent_date += str(timedelta(days=1))\n",
        "    predicted_dates.append(recent_date)"
      ],
      "metadata": {
        "id": "tG5-Ks-WNvm0"
      },
      "execution_count": 134,
      "outputs": []
    },
    {
      "cell_type": "code",
      "source": [
        "# Plotting the Actual and Prediction Prices\n",
        "\n",
        "plt.figure(figsize=(15, 9))\n",
        "plt.plot(data.index[display_at:], linear_model_real_prediction[display_at:], label='Linear Prediction', color='blue', alpha=alpha)\n",
        "plt.plot(predicted_dates, linear_model_predict_prediction, label='Forecast', color='green', alpha=alpha)\n",
        "plt.plot(data.index[display_at:], data['Price'][display_at:], label='Actual', color='red')\n",
        "plt.legend()"
      ],
      "metadata": {
        "colab": {
          "base_uri": "https://localhost:8080/",
          "height": 338
        },
        "id": "JHubWnoFOEYv",
        "outputId": "a0a808a1-292e-4155-c012-bf99a9fad100"
      },
      "execution_count": 135,
      "outputs": [
        {
          "output_type": "execute_result",
          "data": {
            "text/plain": [
              "<matplotlib.legend.Legend at 0x7f8264b44410>"
            ]
          },
          "metadata": {},
          "execution_count": 135
        },
        {
          "output_type": "display_data",
          "data": {
            "text/plain": [
              "<Figure size 1080x648 with 1 Axes>"
            ],
            "image/png": "[encoded data removed]"
          },
          "metadata": {
            "needs_background": "light"
          }
        }
      ]
    },
    {
      "cell_type": "code",
      "source": [
        "regression_model = LinearRegression()\n",
        "regression_model.fit(X_train, y_train)\n",
        "pred_train_linear = regression_model.predict(X_train)\n",
        "pred_test_linear = regression_model.predict(X_test)\n",
        "print(\"Train error MSE: \", np.sqrt(mean_squared_error(y_train,pred_train_linear)))\n",
        "print(\"Test error MSE: \",np.sqrt(mean_squared_error(y_test,pred_test_linear))) \n",
        "print(\"Rsquared train:\",r2_score(y_train, pred_train_linear))\n",
        "print(\"Rsquared train:\", r2_score(y_test, pred_test_linear))\n",
        "print(f'MAE Train:{mean_absolute_error(y_train, pred_train_linear)}')\n",
        "print(f'MAE Test:{mean_absolute_error(y_test, pred_test_linear)}')"
      ],
      "metadata": {
        "colab": {
          "base_uri": "https://localhost:8080/"
        },
        "id": "Z-fpnBlqeE3a",
        "outputId": "4f8c0208-43b0-49d7-a525-92c7bed4795c"
      },
      "execution_count": 136,
      "outputs": [
        {
          "output_type": "stream",
          "name": "stdout",
          "text": [
            "Train error MSE:  2405.69632433741\n",
            "Test error MSE:  2473.778953171601\n",
            "Rsquared train: 0.8503212241052535\n",
            "Rsquared train: 0.8420114858605109\n",
            "MAE Train:1876.449556093036\n",
            "MAE Test:1888.7489422003673\n"
          ]
        }
      ]
    },
    {
      "cell_type": "markdown",
      "source": [
        "##LSTM"
      ],
      "metadata": {
        "id": "jXixRpEWfAVK"
      }
    },
    {
      "cell_type": "code",
      "source": [
        "#Splitting to Training set and Test set\n",
        "timesplit= TimeSeriesSplit(n_splits=20)\n",
        "for train_index, test_index in timesplit.split(feature_transform):\n",
        "        X_train, X_test = feature_transform[:len(train_index)], feature_transform[len(train_index): (len(train_index)+len(test_index))]\n",
        "        y_train, y_test = output_var[:len(train_index)].values.ravel(), output_var[len(train_index): (len(train_index)+len(test_index))].values.ravel()\n"
      ],
      "metadata": {
        "id": "76ROk9HeQrpW"
      },
      "execution_count": null,
      "outputs": []
    },
    {
      "cell_type": "code",
      "source": [
        "#Process the data for LSTM\n",
        "trainX =np.array(X_train)\n",
        "testX =np.array(X_test)\n",
        "X_train = trainX.reshape(X_train.shape[0], 1, X_train.shape[1])\n",
        "X_test = testX.reshape(X_test.shape[0], 1, X_test.shape[1])"
      ],
      "metadata": {
        "id": "_tWo0HgTUjyt"
      },
      "execution_count": null,
      "outputs": []
    },
    {
      "cell_type": "code",
      "source": [
        "#Building the LSTM Model\n",
        "lstm = Sequential()\n",
        "lstm.add(LSTM(32, input_shape=(1, trainX.shape[1]), activation='relu', return_sequences=False))\n",
        "lstm.add(Dense(1))\n",
        "lstm.compile(loss='mean_squared_error', optimizer='adam')\n",
        "plot_model(lstm, show_shapes=True, show_layer_names=True)"
      ],
      "metadata": {
        "colab": {
          "base_uri": "https://localhost:8080/",
          "height": 312
        },
        "id": "I7Pp4_-MUqOe",
        "outputId": "19b14147-3a92-489d-cf58-da5deda1ac35"
      },
      "execution_count": null,
      "outputs": [
        {
          "output_type": "execute_result",
          "data": {
            "image/png": "[encoded data removed]",
            "text/plain": [
              "<IPython.core.display.Image object>"
            ]
          },
          "metadata": {},
          "execution_count": 159
        }
      ]
    },
    {
      "cell_type": "code",
      "source": [
        "#Model Training\n",
        "history=lstm.fit(X_train, y_train, epochs=100, batch_size=8, verbose=1, shuffle=False)"
      ],
      "metadata": {
        "colab": {
          "base_uri": "https://localhost:8080/"
        },
        "id": "Yj4WbNlcWQGT",
        "outputId": "28ef5ff0-646b-48fc-8017-8c7e3b13a279"
      },
      "execution_count": null,
      "outputs": [
        {
          "output_type": "stream",
          "name": "stdout",
          "text": [
            "Epoch 1/100\n",
            "293/293 [==============================] - 3s 2ms/step - loss: 2188519.0000\n",
            "Epoch 2/100\n",
            "293/293 [==============================] - 1s 2ms/step - loss: 2153242.0000\n",
            "Epoch 3/100\n",
            "293/293 [==============================] - 1s 2ms/step - loss: 2065368.0000\n",
            "Epoch 4/100\n",
            "293/293 [==============================] - 1s 2ms/step - loss: 1937769.5000\n",
            "Epoch 5/100\n",
            "293/293 [==============================] - 1s 2ms/step - loss: 1787012.3750\n",
            "Epoch 6/100\n",
            "293/293 [==============================] - 1s 2ms/step - loss: 1622119.8750\n",
            "Epoch 7/100\n",
            "293/293 [==============================] - 1s 2ms/step - loss: 1449096.8750\n",
            "Epoch 8/100\n",
            "293/293 [==============================] - 1s 2ms/step - loss: 1273054.0000\n",
            "Epoch 9/100\n",
            "293/293 [==============================] - 1s 2ms/step - loss: 1098533.0000\n",
            "Epoch 10/100\n",
            "293/293 [==============================] - 1s 2ms/step - loss: 929575.0625\n",
            "Epoch 11/100\n",
            "293/293 [==============================] - 1s 2ms/step - loss: 769726.3125\n",
            "Epoch 12/100\n",
            "293/293 [==============================] - 1s 2ms/step - loss: 622018.1875\n",
            "Epoch 13/100\n",
            "293/293 [==============================] - 1s 2ms/step - loss: 488936.8750\n",
            "Epoch 14/100\n",
            "293/293 [==============================] - 1s 2ms/step - loss: 372366.5938\n",
            "Epoch 15/100\n",
            "293/293 [==============================] - 1s 2ms/step - loss: 273523.1250\n",
            "Epoch 16/100\n",
            "293/293 [==============================] - 1s 2ms/step - loss: 192873.5625\n",
            "Epoch 17/100\n",
            "293/293 [==============================] - 1s 2ms/step - loss: 130058.0938\n",
            "Epoch 18/100\n",
            "293/293 [==============================] - 1s 2ms/step - loss: 83842.0859\n",
            "Epoch 19/100\n",
            "293/293 [==============================] - 1s 2ms/step - loss: 52143.2656\n",
            "Epoch 20/100\n",
            "293/293 [==============================] - 1s 2ms/step - loss: 32188.1055\n",
            "Epoch 21/100\n",
            "293/293 [==============================] - 1s 2ms/step - loss: 20840.2676\n",
            "Epoch 22/100\n",
            "293/293 [==============================] - 1s 2ms/step - loss: 15068.8525\n",
            "Epoch 23/100\n",
            "293/293 [==============================] - 1s 2ms/step - loss: 12408.2344\n",
            "Epoch 24/100\n",
            "293/293 [==============================] - 1s 2ms/step - loss: 11205.2432\n",
            "Epoch 25/100\n",
            "293/293 [==============================] - 1s 2ms/step - loss: 10562.9160\n",
            "Epoch 26/100\n",
            "293/293 [==============================] - 1s 2ms/step - loss: 10090.9053\n",
            "Epoch 27/100\n",
            "293/293 [==============================] - 1s 2ms/step - loss: 9652.8662\n",
            "Epoch 28/100\n",
            "293/293 [==============================] - 1s 2ms/step - loss: 9210.8154\n",
            "Epoch 29/100\n",
            "293/293 [==============================] - 1s 2ms/step - loss: 8757.3584\n",
            "Epoch 30/100\n",
            "293/293 [==============================] - 1s 2ms/step - loss: 8293.6602\n",
            "Epoch 31/100\n",
            "293/293 [==============================] - 1s 2ms/step - loss: 7823.2744\n",
            "Epoch 32/100\n",
            "293/293 [==============================] - 1s 2ms/step - loss: 7350.3872\n",
            "Epoch 33/100\n",
            "293/293 [==============================] - 1s 2ms/step - loss: 6879.2021\n",
            "Epoch 34/100\n",
            "293/293 [==============================] - 1s 2ms/step - loss: 6413.5166\n",
            "Epoch 35/100\n",
            "293/293 [==============================] - 1s 2ms/step - loss: 5956.6387\n",
            "Epoch 36/100\n",
            "293/293 [==============================] - 1s 2ms/step - loss: 5511.3223\n",
            "Epoch 37/100\n",
            "293/293 [==============================] - 1s 2ms/step - loss: 5079.7808\n",
            "Epoch 38/100\n",
            "293/293 [==============================] - 1s 4ms/step - loss: 4663.7446\n",
            "Epoch 39/100\n",
            "293/293 [==============================] - 1s 3ms/step - loss: 4264.5669\n",
            "Epoch 40/100\n",
            "293/293 [==============================] - 1s 2ms/step - loss: 3883.2334\n",
            "Epoch 41/100\n",
            "293/293 [==============================] - 1s 2ms/step - loss: 3520.4917\n",
            "Epoch 42/100\n",
            "293/293 [==============================] - 1s 2ms/step - loss: 3176.8567\n",
            "Epoch 43/100\n",
            "293/293 [==============================] - 1s 2ms/step - loss: 2852.6658\n",
            "Epoch 44/100\n",
            "293/293 [==============================] - 1s 2ms/step - loss: 2548.1316\n",
            "Epoch 45/100\n",
            "293/293 [==============================] - 1s 2ms/step - loss: 2263.3601\n",
            "Epoch 46/100\n",
            "293/293 [==============================] - 1s 2ms/step - loss: 1998.3583\n",
            "Epoch 47/100\n",
            "293/293 [==============================] - 1s 2ms/step - loss: 1753.0499\n",
            "Epoch 48/100\n",
            "293/293 [==============================] - 1s 2ms/step - loss: 1527.2883\n",
            "Epoch 49/100\n",
            "293/293 [==============================] - 1s 2ms/step - loss: 1320.8542\n",
            "Epoch 50/100\n",
            "293/293 [==============================] - 1s 3ms/step - loss: 1133.4615\n",
            "Epoch 51/100\n",
            "293/293 [==============================] - 1s 3ms/step - loss: 964.7230\n",
            "Epoch 52/100\n",
            "293/293 [==============================] - 1s 3ms/step - loss: 814.2070\n",
            "Epoch 53/100\n",
            "293/293 [==============================] - 1s 4ms/step - loss: 681.3637\n",
            "Epoch 54/100\n",
            "293/293 [==============================] - 1s 3ms/step - loss: 565.5278\n",
            "Epoch 55/100\n",
            "293/293 [==============================] - 1s 2ms/step - loss: 465.9268\n",
            "Epoch 56/100\n",
            "293/293 [==============================] - 1s 2ms/step - loss: 381.6724\n",
            "Epoch 57/100\n",
            "293/293 [==============================] - 1s 2ms/step - loss: 311.7196\n",
            "Epoch 58/100\n",
            "293/293 [==============================] - 1s 2ms/step - loss: 254.8950\n",
            "Epoch 59/100\n",
            "293/293 [==============================] - 1s 2ms/step - loss: 209.8860\n",
            "Epoch 60/100\n",
            "293/293 [==============================] - 1s 2ms/step - loss: 175.2662\n",
            "Epoch 61/100\n",
            "293/293 [==============================] - 1s 2ms/step - loss: 149.5079\n",
            "Epoch 62/100\n",
            "293/293 [==============================] - 1s 2ms/step - loss: 131.0530\n",
            "Epoch 63/100\n",
            "293/293 [==============================] - 1s 2ms/step - loss: 118.3620\n",
            "Epoch 64/100\n",
            "293/293 [==============================] - 1s 2ms/step - loss: 109.9990\n",
            "Epoch 65/100\n",
            "293/293 [==============================] - 1s 2ms/step - loss: 104.7068\n",
            "Epoch 66/100\n",
            "293/293 [==============================] - 1s 2ms/step - loss: 101.4708\n",
            "Epoch 67/100\n",
            "293/293 [==============================] - 1s 2ms/step - loss: 99.5381\n",
            "Epoch 68/100\n",
            "293/293 [==============================] - 1s 2ms/step - loss: 98.3967\n",
            "Epoch 69/100\n",
            "293/293 [==============================] - 1s 2ms/step - loss: 97.7227\n",
            "Epoch 70/100\n",
            "293/293 [==============================] - 1s 2ms/step - loss: 97.3244\n",
            "Epoch 71/100\n",
            "293/293 [==============================] - 1s 2ms/step - loss: 97.0888\n",
            "Epoch 72/100\n",
            "293/293 [==============================] - 1s 2ms/step - loss: 96.9506\n",
            "Epoch 73/100\n",
            "293/293 [==============================] - 1s 2ms/step - loss: 96.8701\n",
            "Epoch 74/100\n",
            "293/293 [==============================] - 1s 2ms/step - loss: 96.8243\n",
            "Epoch 75/100\n",
            "293/293 [==============================] - 1s 2ms/step - loss: 96.7969\n",
            "Epoch 76/100\n",
            "293/293 [==============================] - 1s 2ms/step - loss: 96.7786\n",
            "Epoch 77/100\n",
            "293/293 [==============================] - 1s 2ms/step - loss: 96.7635\n",
            "Epoch 78/100\n",
            "293/293 [==============================] - 1s 2ms/step - loss: 96.7477\n",
            "Epoch 79/100\n",
            "293/293 [==============================] - 1s 2ms/step - loss: 96.7298\n",
            "Epoch 80/100\n",
            "293/293 [==============================] - 1s 2ms/step - loss: 96.7082\n",
            "Epoch 81/100\n",
            "293/293 [==============================] - 1s 3ms/step - loss: 96.6829\n",
            "Epoch 82/100\n",
            "293/293 [==============================] - 1s 4ms/step - loss: 96.6538\n",
            "Epoch 83/100\n",
            "293/293 [==============================] - 1s 2ms/step - loss: 96.6213\n",
            "Epoch 84/100\n",
            "293/293 [==============================] - 1s 3ms/step - loss: 96.5863\n",
            "Epoch 85/100\n",
            "293/293 [==============================] - 1s 4ms/step - loss: 96.5486\n",
            "Epoch 86/100\n",
            "293/293 [==============================] - 1s 4ms/step - loss: 96.5088\n",
            "Epoch 87/100\n",
            "293/293 [==============================] - 1s 4ms/step - loss: 96.4674\n",
            "Epoch 88/100\n",
            "293/293 [==============================] - 1s 3ms/step - loss: 96.4247\n",
            "Epoch 89/100\n",
            "293/293 [==============================] - 1s 2ms/step - loss: 96.3808\n",
            "Epoch 90/100\n",
            "293/293 [==============================] - 1s 2ms/step - loss: 96.3367\n",
            "Epoch 91/100\n",
            "293/293 [==============================] - 1s 2ms/step - loss: 96.2919\n",
            "Epoch 92/100\n",
            "293/293 [==============================] - 1s 2ms/step - loss: 96.2462\n",
            "Epoch 93/100\n",
            "293/293 [==============================] - 1s 2ms/step - loss: 96.2005\n",
            "Epoch 94/100\n",
            "293/293 [==============================] - 1s 2ms/step - loss: 96.1545\n",
            "Epoch 95/100\n",
            "293/293 [==============================] - 1s 2ms/step - loss: 96.1081\n",
            "Epoch 96/100\n",
            "293/293 [==============================] - 1s 2ms/step - loss: 96.0615\n",
            "Epoch 97/100\n",
            "293/293 [==============================] - 1s 2ms/step - loss: 96.0154\n",
            "Epoch 98/100\n",
            "293/293 [==============================] - 1s 3ms/step - loss: 95.9690\n",
            "Epoch 99/100\n",
            "293/293 [==============================] - 1s 4ms/step - loss: 95.9223\n",
            "Epoch 100/100\n",
            "293/293 [==============================] - 2s 5ms/step - loss: 95.8759\n"
          ]
        }
      ]
    },
    {
      "cell_type": "code",
      "source": [
        "#LSTM Prediction\n",
        "y_pred= lstm.predict(X_test)"
      ],
      "metadata": {
        "id": "GC9YT-unWZ7c"
      },
      "execution_count": null,
      "outputs": []
    },
    {
      "cell_type": "code",
      "source": [
        "#Predicted vs True Adj Close Value – LSTM\n",
        "plt.plot(y_test, label='True Value')\n",
        "plt.plot(y_pred, label='LSTM Value')\n",
        "plt.title(\"Prediction by LSTM\")\n",
        "plt.xlabel('Time Scale')\n",
        "plt.ylabel('Scaled USD')\n",
        "plt.legend()\n",
        "plt.show()"
      ],
      "metadata": {
        "colab": {
          "base_uri": "https://localhost:8080/",
          "height": 295
        },
        "id": "2iE9str_Wfh1",
        "outputId": "60d3a21f-de82-4c1b-a18b-ff38d0503bd5"
      },
      "execution_count": null,
      "outputs": [
        {
          "output_type": "display_data",
          "data": {
            "text/plain": [
              "<Figure size 432x288 with 1 Axes>"
            ],
            "image/png": "[encoded data removed]"
          },
          "metadata": {
            "needs_background": "light"
          }
        }
      ]
    },
    {
      "cell_type": "code",
      "source": [
        "import statsmodels.api as sm"
      ],
      "metadata": {
        "id": "rX2K_9wmLEC3"
      },
      "execution_count": 137,
      "outputs": []
    },
    {
      "cell_type": "code",
      "source": [
        "model = sm.OLS(y_train,X_train)\n",
        "results = model.fit()\n",
        "print(results.summary())"
      ],
      "metadata": {
        "colab": {
          "base_uri": "https://localhost:8080/"
        },
        "id": "TJ2xLq2lLTtP",
        "outputId": "38eae577-762b-4f7d-ae9a-fd4df00970e7"
      },
      "execution_count": 138,
      "outputs": [
        {
          "output_type": "stream",
          "name": "stdout",
          "text": [
            "                                 OLS Regression Results                                \n",
            "=======================================================================================\n",
            "Dep. Variable:                      y   R-squared (uncentered):                   0.994\n",
            "Model:                            OLS   Adj. R-squared (uncentered):              0.994\n",
            "Method:                 Least Squares   F-statistic:                          6.871e+04\n",
            "Date:                Fri, 28 Oct 2022   Prob (F-statistic):                        0.00\n",
            "Time:                        20:50:22   Log-Likelihood:                         -17888.\n",
            "No. Observations:                1940   AIC:                                  3.579e+04\n",
            "Df Residuals:                    1935   BIC:                                  3.581e+04\n",
            "Df Model:                           5                                                  \n",
            "Covariance Type:            nonrobust                                                  \n",
            "==============================================================================\n",
            "                 coef    std err          t      P>|t|      [0.025      0.975]\n",
            "------------------------------------------------------------------------------\n",
            "x1             0.3199      0.896      0.357      0.721      -1.438       2.078\n",
            "x2             0.3882      0.884      0.439      0.661      -1.346       2.123\n",
            "x3            -0.1467      0.458     -0.320      0.749      -1.045       0.751\n",
            "x4             0.4319      0.392      1.102      0.271      -0.337       1.200\n",
            "x5          -480.9120    257.041     -1.871      0.062    -985.019      23.195\n",
            "==============================================================================\n",
            "Omnibus:                       35.096   Durbin-Watson:                   1.927\n",
            "Prob(Omnibus):                  0.000   Jarque-Bera (JB):               50.017\n",
            "Skew:                          -0.200   Prob(JB):                     1.38e-11\n",
            "Kurtosis:                       3.677   Cond. No.                     3.04e+05\n",
            "==============================================================================\n",
            "\n",
            "Notes:\n",
            "[1] R² is computed without centering (uncentered) since the model does not contain a constant.\n",
            "[2] Standard Errors assume that the covariance matrix of the errors is correctly specified.\n",
            "[3] The condition number is large, 3.04e+05. This might indicate that there are\n",
            "strong multicollinearity or other numerical problems.\n"
          ]
        }
      ]
    },
    {
      "cell_type": "markdown",
      "metadata": {
        "id": "bZNxkC_M-rih"
      },
      "source": [
        "#Ridge"
      ]
    },
    {
      "cell_type": "code",
      "source": [
        "# Defining the Ridge Regression Model\n",
        "ridge_model = Ridge()\n",
        "ridge_model.fit(X_train, y_train) "
      ],
      "metadata": {
        "colab": {
          "base_uri": "https://localhost:8080/"
        },
        "id": "W0u7A9k7WgGW",
        "outputId": "5dcdac2b-f9ec-4934-c965-ebdae3bbf908"
      },
      "execution_count": 139,
      "outputs": [
        {
          "output_type": "execute_result",
          "data": {
            "text/plain": [
              "Ridge()"
            ]
          },
          "metadata": {},
          "execution_count": 139
        }
      ]
    },
    {
      "cell_type": "code",
      "source": [
        "# Score of the Ridge Regression Model (Using the Test Data)\n",
        "ridge_model_score = ridge_model.score(X_test, y_test)\n",
        "print('Ridge Model score:', ridge_model_score)"
      ],
      "metadata": {
        "colab": {
          "base_uri": "https://localhost:8080/"
        },
        "id": "vCn5cxJZWqX3",
        "outputId": "f5e4f5f0-add7-4a8f-d434-a5bfa17e4ece"
      },
      "execution_count": 140,
      "outputs": [
        {
          "output_type": "stream",
          "name": "stdout",
          "text": [
            "Ridge Model score: 0.8407466459840287\n"
          ]
        }
      ]
    },
    {
      "cell_type": "code",
      "source": [
        "# Define the Real & Prediction Values\n",
        "ridge_model_predict_prediction = ridge_model.predict(X_predict)\n",
        "ridge_model_real_prediction = ridge_model.predict(np.array(data.drop(['Prediction'], 1)))"
      ],
      "metadata": {
        "colab": {
          "base_uri": "https://localhost:8080/"
        },
        "id": "09NmTCosZJ_d",
        "outputId": "723e3e0a-4350-4dd0-f99f-5d06898cd3b8"
      },
      "execution_count": 141,
      "outputs": [
        {
          "output_type": "stream",
          "name": "stderr",
          "text": [
            "/usr/local/lib/python3.7/dist-packages/ipykernel_launcher.py:3: FutureWarning: In a future version of pandas all arguments of DataFrame.drop except for the argument 'labels' will be keyword-only\n",
            "  This is separate from the ipykernel package so we can avoid doing imports until\n"
          ]
        }
      ]
    },
    {
      "cell_type": "code",
      "source": [
        "# Plotting the Actual and Prediction Prices\n",
        "plt.figure(figsize=(15, 9))\n",
        "plt.plot(data.index[display_at:], ridge_model_real_prediction[display_at:], label='Ridge Prediction', color='blue', alpha=alpha)\n",
        "plt.plot(predicted_dates, ridge_model_predict_prediction, label='Forecast', color='green', alpha=alpha)\n",
        "plt.plot(data.index[display_at:], data['Price'][display_at:], label='Actual', color='red')\n",
        "plt.legend()"
      ],
      "metadata": {
        "colab": {
          "base_uri": "https://localhost:8080/",
          "height": 338
        },
        "id": "geCBnPR1ZS8p",
        "outputId": "0fff4181-ddfb-48da-deba-89bf7ceaad47"
      },
      "execution_count": 142,
      "outputs": [
        {
          "output_type": "execute_result",
          "data": {
            "text/plain": [
              "<matplotlib.legend.Legend at 0x7f825a6c2810>"
            ]
          },
          "metadata": {},
          "execution_count": 142
        },
        {
          "output_type": "display_data",
          "data": {
            "text/plain": [
              "<Figure size 1080x648 with 1 Axes>"
            ],
            "image/png": "[encoded data removed]"
          },
          "metadata": {
            "needs_background": "light"
          }
        }
      ]
    },
    {
      "cell_type": "code",
      "execution_count": 143,
      "metadata": {
        "colab": {
          "base_uri": "https://localhost:8080/"
        },
        "id": "9G1hqbfK-tsC",
        "outputId": "00fda4fa-9adf-45bd-d03a-c9653c5df44e"
      },
      "outputs": [
        {
          "output_type": "stream",
          "name": "stdout",
          "text": [
            "Train error MSE:  2405.6963243708146\n",
            "Test error MSE:  2473.8766660385354\n",
            "Rsquared train: 0.8503212241010967\n",
            "Rsquared train: 0.8419990047004413\n",
            "MAE Train:1876.4499091558432\n",
            "MAE Test:1888.7640152226854\n"
          ]
        }
      ],
      "source": [
        "ridge = Ridge(alpha=0.01)\n",
        "ridge.fit(X_train, y_train) \n",
        "pred_train_ridge= ridge.predict(X_train)\n",
        "print(\"Train error MSE: \", np.sqrt(mean_squared_error(y_train,pred_train_ridge)))\n",
        "pred_test_ridge= ridge.predict(X_test)\n",
        "print(\"Test error MSE: \",np.sqrt(mean_squared_error(y_test,pred_test_ridge))) \n",
        "print(\"Rsquared train:\",r2_score(y_train, pred_train_ridge))\n",
        "print(\"Rsquared train:\", r2_score(y_test, pred_test_ridge))\n",
        "print(f'MAE Train:{mean_absolute_error(y_train, pred_train_ridge)}')\n",
        "print(f'MAE Test:{mean_absolute_error(y_test, pred_test_ridge)}')"
      ]
    },
    {
      "cell_type": "markdown",
      "metadata": {
        "id": "EGIkDme6AESb"
      },
      "source": [
        "#LASSO"
      ]
    },
    {
      "cell_type": "code",
      "source": [
        "# Defining the Lasso Regression Model\n",
        "lasso_model = Lasso()\n",
        "lasso_model.fit(X_train, y_train)   "
      ],
      "metadata": {
        "colab": {
          "base_uri": "https://localhost:8080/"
        },
        "id": "bCjawKpPaA1V",
        "outputId": "bcc593ea-7dea-41af-de03-e24a8c687079"
      },
      "execution_count": 144,
      "outputs": [
        {
          "output_type": "stream",
          "name": "stderr",
          "text": [
            "/usr/local/lib/python3.7/dist-packages/sklearn/linear_model/_coordinate_descent.py:648: ConvergenceWarning: Objective did not converge. You might want to increase the number of iterations, check the scale of the features or consider increasing regularisation. Duality gap: 5.614e+09, tolerance: 7.501e+06\n",
            "  coef_, l1_reg, l2_reg, X, y, max_iter, tol, rng, random, positive\n"
          ]
        },
        {
          "output_type": "execute_result",
          "data": {
            "text/plain": [
              "Lasso()"
            ]
          },
          "metadata": {},
          "execution_count": 144
        }
      ]
    },
    {
      "cell_type": "code",
      "source": [
        "# Score of the Lasso Regression Model (Using the Test Data)\n",
        "lasso_model_score = lasso_model.score(X_test, y_test)\n",
        "print('Lasso Model score:', lasso_model_score)"
      ],
      "metadata": {
        "colab": {
          "base_uri": "https://localhost:8080/"
        },
        "id": "yJdSIGA2aWKb",
        "outputId": "d46c4763-f464-4c47-ea16-0d9747d13d59"
      },
      "execution_count": 145,
      "outputs": [
        {
          "output_type": "stream",
          "name": "stdout",
          "text": [
            "Lasso Model score: 0.8544101465783943\n"
          ]
        }
      ]
    },
    {
      "cell_type": "code",
      "source": [
        "# Define the Real & Prediction Values\n",
        "lasso_model_predict_prediction = lasso_model.predict(X_predict)\n",
        "lasso_model_real_prediction = lasso_model.predict(np.array(data.drop(['Prediction'], 1)))"
      ],
      "metadata": {
        "colab": {
          "base_uri": "https://localhost:8080/"
        },
        "id": "Y6kwd1wUayRY",
        "outputId": "f2186fde-2f27-4bf4-c0d6-4eb65c0522f2"
      },
      "execution_count": 146,
      "outputs": [
        {
          "output_type": "stream",
          "name": "stderr",
          "text": [
            "/usr/local/lib/python3.7/dist-packages/ipykernel_launcher.py:3: FutureWarning: In a future version of pandas all arguments of DataFrame.drop except for the argument 'labels' will be keyword-only\n",
            "  This is separate from the ipykernel package so we can avoid doing imports until\n"
          ]
        }
      ]
    },
    {
      "cell_type": "code",
      "source": [
        "plt.figure(figsize=(15, 9))\n",
        "plt.plot(data.index[display_at:], lasso_model_real_prediction[display_at:], label='Lasso Prediction', c='blue', alpha=alpha)\n",
        "plt.plot(predicted_dates, lasso_model_predict_prediction, label='Forecast', color='green', alpha=alpha)\n",
        "plt.plot(data.index[display_at:], data['Price'][display_at:], label='Actual', color='red')\n",
        "plt.legend()"
      ],
      "metadata": {
        "colab": {
          "base_uri": "https://localhost:8080/",
          "height": 338
        },
        "id": "lhh0gBh6a6QT",
        "outputId": "f3127f2f-fb26-499d-c21b-f68370b5f165"
      },
      "execution_count": 147,
      "outputs": [
        {
          "output_type": "execute_result",
          "data": {
            "text/plain": [
              "<matplotlib.legend.Legend at 0x7f82599ba210>"
            ]
          },
          "metadata": {},
          "execution_count": 147
        },
        {
          "output_type": "display_data",
          "data": {
            "text/plain": [
              "<Figure size 1080x648 with 1 Axes>"
            ],
            "image/png": "[encoded data removed]"
          },
          "metadata": {
            "needs_background": "light"
          }
        }
      ]
    },
    {
      "cell_type": "code",
      "execution_count": 148,
      "metadata": {
        "colab": {
          "base_uri": "https://localhost:8080/"
        },
        "id": "X_Q04DK2AHkh",
        "outputId": "0e29db6d-d457-419a-c16b-6d4f666a570b"
      },
      "outputs": [
        {
          "output_type": "stream",
          "name": "stdout",
          "text": [
            "Train error MSE: 2405.9048483451807\n",
            "Test error MSE: 2374.445506868201\n",
            "Rsquared train: 0.8502952748858011\n",
            "Rsquared test: 0.85444465826244\n",
            "MAE Train:1876.1028708100846\n",
            "MAE Test:1860.380692452954\n"
          ]
        },
        {
          "output_type": "stream",
          "name": "stderr",
          "text": [
            "/usr/local/lib/python3.7/dist-packages/sklearn/linear_model/_coordinate_descent.py:648: ConvergenceWarning: Objective did not converge. You might want to increase the number of iterations, check the scale of the features or consider increasing regularisation. Duality gap: 5.615e+09, tolerance: 7.501e+06\n",
            "  coef_, l1_reg, l2_reg, X, y, max_iter, tol, rng, random, positive\n"
          ]
        }
      ],
      "source": [
        "model_lasso = Lasso(alpha=0.01)\n",
        "model_lasso.fit(X_train, y_train) \n",
        "pred_train_lasso= model_lasso.predict(X_train)\n",
        "print(\"Train error MSE:\",np.sqrt(mean_squared_error(y_train,pred_train_lasso)))\n",
        "pred_test_lasso= model_lasso.predict(X_test)\n",
        "print(\"Test error MSE:\",  np.sqrt(mean_squared_error(y_test,pred_test_lasso))) \n",
        "print(\"Rsquared train:\",r2_score(y_train, pred_train_lasso))\n",
        "print(\"Rsquared test:\",r2_score(y_test, pred_test_lasso))\n",
        "print(f'MAE Train:{mean_absolute_error(y_train, pred_train_lasso)}')\n",
        "print(f'MAE Test:{mean_absolute_error(y_test, pred_test_lasso)}');"
      ]
    },
    {
      "cell_type": "markdown",
      "metadata": {
        "id": "mgngjQnHCF2R"
      },
      "source": [
        "#Elastic Net"
      ]
    },
    {
      "cell_type": "code",
      "execution_count": 149,
      "metadata": {
        "colab": {
          "base_uri": "https://localhost:8080/"
        },
        "id": "IQWJTeDTCE_O",
        "outputId": "0c05a94f-57a4-4f56-d773-9b7ece8ba7a6"
      },
      "outputs": [
        {
          "output_type": "stream",
          "name": "stdout",
          "text": [
            "Train error:  2405.885677353644\n",
            "Test error: 2375.6264420510265\n",
            "Rsquared train: 0.8502976606630988\n",
            "Rsquared train: 0.8542998377821391\n",
            "MAE Train:1876.2385718836326\n",
            "MAE Test:1862.2669445146369\n"
          ]
        },
        {
          "output_type": "stream",
          "name": "stderr",
          "text": [
            "/usr/local/lib/python3.7/dist-packages/sklearn/linear_model/_coordinate_descent.py:648: ConvergenceWarning: Objective did not converge. You might want to increase the number of iterations, check the scale of the features or consider increasing regularisation. Duality gap: 5.616e+09, tolerance: 7.501e+06\n",
            "  coef_, l1_reg, l2_reg, X, y, max_iter, tol, rng, random, positive\n"
          ]
        }
      ],
      "source": [
        "model_enet = ElasticNet(alpha = 0.01)\n",
        "model_enet.fit(X_train, y_train) \n",
        "pred_train_enet= model_enet.predict(X_train)\n",
        "print(\"Train error: \", np.sqrt(mean_squared_error(y_train,pred_train_enet)))\n",
        "pred_test_enet= model_enet.predict(X_test)\n",
        "print(\"Test error:\",np.sqrt(mean_squared_error(y_test,pred_test_enet)))\n",
        "print(\"Rsquared train:\",r2_score(y_train, pred_train_enet))\n",
        "print(\"Rsquared train:\",r2_score(y_test, pred_test_enet))\n",
        "print(f'MAE Train:{mean_absolute_error(y_train, pred_train_enet)}')\n",
        "print(f'MAE Test:{mean_absolute_error(y_test, pred_test_enet)}')"
      ]
    },
    {
      "cell_type": "code",
      "source": [
        "# Score of the Lasso Regression Model (Using the Test Data)\n",
        "elastic_model_score = model_enet.score(X_test, y_test)\n",
        "print('Lasso Model score:', elastic_model_score)"
      ],
      "metadata": {
        "colab": {
          "base_uri": "https://localhost:8080/"
        },
        "id": "aMwRJF1ualCh",
        "outputId": "890236a8-5423-4a81-f797-cbc5e2d8ee42"
      },
      "execution_count": 153,
      "outputs": [
        {
          "output_type": "stream",
          "name": "stdout",
          "text": [
            "Lasso Model score: 0.8542998377821391\n"
          ]
        }
      ]
    },
    {
      "cell_type": "code",
      "source": [
        "# Best Performance of the Regressor Models\n",
        "best_score = max(linear_model_score, ridge_model_score, lasso_model_score,elastic_model_score)\n",
        "index = np.argmax([linear_model_score, ridge_model_score, lasso_model_score, elastic_model_score])\n",
        "best_regressor = {0:'Linear Regression Model',\n",
        "                  1:'Ridge Model',\n",
        "                  2:'Lasso Model',\n",
        "                  3: 'Elastic net'}\n",
        "print(\"The Best Performer is {0} with the score of {1}%.\".format(best_regressor[index], best_score*100))"
      ],
      "metadata": {
        "colab": {
          "base_uri": "https://localhost:8080/"
        },
        "id": "hRihsKSHjP3q",
        "outputId": "b001340e-3c40-4c28-bd62-597f379301a4"
      },
      "execution_count": 154,
      "outputs": [
        {
          "output_type": "stream",
          "name": "stdout",
          "text": [
            "The Best Performer is Lasso Model with the score of 85.44101465783943%.\n"
          ]
        }
      ]
    },
    {
      "cell_type": "markdown",
      "metadata": {
        "id": "dabpUfJg_xQC"
      },
      "source": [
        "#Cross Validation"
      ]
    },
    {
      "cell_type": "code",
      "execution_count": 155,
      "metadata": {
        "id": "GQ_pwVfRn4fK"
      },
      "outputs": [],
      "source": [
        "from sklearn.model_selection import KFold\n",
        "from sklearn.model_selection import cross_val_score\n",
        "from numpy import mean\n",
        "from numpy import absolute\n"
      ]
    },
    {
      "cell_type": "code",
      "execution_count": null,
      "metadata": {
        "id": "GM6KO64nAlFF"
      },
      "outputs": [],
      "source": [
        "# X = data.iloc[:,1:]\n",
        "# y = data.iloc[:,0]"
      ]
    },
    {
      "cell_type": "markdown",
      "metadata": {
        "id": "22UQ6wN6MpT2"
      },
      "source": [
        "###Improved model for LASSO"
      ]
    },
    {
      "cell_type": "code",
      "execution_count": 157,
      "metadata": {
        "id": "pej2fKAoBPKl"
      },
      "outputs": [],
      "source": [
        "#define cross-validation method to use\n",
        "# cv = KFold(n_splits=2456, random_state=None, shuffle=False)\n",
        "\n",
        "# #build multiple linear regression model\n",
        "# model2 = Lasso()\n",
        "\n",
        "# #use k-fold CV to evaluate model\n",
        "# scores = cross_val_score(model2, X, y, scoring='neg_mean_squared_error',\n",
        "#                          cv=cv, n_jobs=-1)\n",
        "\n",
        "# #view mean absolute error\n",
        "# sqrt(mean(absolute(scores)))"
      ]
    },
    {
      "cell_type": "markdown",
      "metadata": {
        "id": "NnCVpGE6M3Th"
      },
      "source": [
        "###Improved model for Linear Regression"
      ]
    },
    {
      "cell_type": "code",
      "execution_count": null,
      "metadata": {
        "colab": {
          "base_uri": "https://localhost:8080/"
        },
        "id": "kDmN8GINBpb6",
        "outputId": "a9954314-0ca6-49cd-ad35-566d7e6cec0e"
      },
      "outputs": [
        {
          "data": {
            "text/plain": [
              "2.8506804721094245"
            ]
          },
          "execution_count": 154,
          "metadata": {},
          "output_type": "execute_result"
        }
      ],
      "source": [
        "#define cross-validation method to use\n",
        "cv = KFold(n_splits=2456, random_state=None, shuffle=False)\n",
        "\n",
        "#build multiple linear regression model\n",
        "model2 = LinearRegression()\n",
        "\n",
        "#use k-fold CV to evaluate model\n",
        "scores = cross_val_score(model2, X, y, scoring='neg_mean_squared_error',\n",
        "                         cv=cv, n_jobs=-1)\n",
        "\n",
        "#view mean absolute error\n",
        "sqrt(mean(absolute(scores)))"
      ]
    },
    {
      "cell_type": "markdown",
      "metadata": {
        "id": "Ejlm2k7AM93P"
      },
      "source": [
        "###Improved model for Rigde"
      ]
    },
    {
      "cell_type": "code",
      "execution_count": null,
      "metadata": {
        "colab": {
          "base_uri": "https://localhost:8080/"
        },
        "id": "SlKRhcBA3xgr",
        "outputId": "2c220246-340b-4c2a-c490-7dae06e916bd"
      },
      "outputs": [
        {
          "data": {
            "text/plain": [
              "2.8506709088340623"
            ]
          },
          "execution_count": 155,
          "metadata": {},
          "output_type": "execute_result"
        }
      ],
      "source": [
        "#define cross-validation method to use\n",
        "cv = KFold(n_splits=2456, random_state=None, shuffle=False)\n",
        "\n",
        "#build multiple linear regression model\n",
        "model2 = Ridge()\n",
        "\n",
        "#use k-fold CV to evaluate model\n",
        "scores = cross_val_score(model2, X, y, scoring='neg_mean_squared_error',\n",
        "                         cv=cv, n_jobs=-1)\n",
        "\n",
        "#view mean absolute error\n",
        "sqrt(mean(absolute(scores)))"
      ]
    },
    {
      "cell_type": "code",
      "execution_count": null,
      "metadata": {
        "colab": {
          "base_uri": "https://localhost:8080/"
        },
        "id": "3cH5anpjs-tT",
        "outputId": "2c4c1794-3abd-4fd7-e5f5-3783660e36cf"
      },
      "outputs": [
        {
          "data": {
            "text/plain": [
              "(array([255.97528649]), array([1.29369965e-57]))"
            ]
          },
          "execution_count": 45,
          "metadata": {},
          "output_type": "execute_result"
        }
      ],
      "source": []
    },
    {
      "cell_type": "markdown",
      "metadata": {
        "id": "3XmbUOmcK1Dj"
      },
      "source": [
        "#GARCH NN"
      ]
    },
    {
      "cell_type": "code",
      "execution_count": null,
      "metadata": {
        "id": "aGiIA5T8PWE1"
      },
      "outputs": [],
      "source": [
        "# #Import the dataset for the analysis \n",
        "# data1 = pd.read_csv(\"/content/log_data.csv\" , thousands =',')"
      ]
    },
    {
      "cell_type": "code",
      "execution_count": null,
      "metadata": {
        "colab": {
          "base_uri": "https://localhost:8080/"
        },
        "id": "mB_NfDC8sUVz",
        "outputId": "6ece3fba-7b7e-4407-8029-7ed3a6355635"
      },
      "outputs": [
        {
          "name": "stderr",
          "output_type": "stream",
          "text": [
            "/usr/local/lib/python3.7/dist-packages/statsmodels/tools/_testing.py:19: FutureWarning: pandas.util.testing is deprecated. Use the functions in the public API at pandas.testing instead.\n",
            "  import pandas.util.testing as tm\n"
          ]
        }
      ],
      "source": [
        "import statsmodels.api as sm"
      ]
    },
    {
      "cell_type": "code",
      "execution_count": null,
      "metadata": {
        "id": "Id_jzO1IsW8f"
      },
      "outputs": [],
      "source": [
        "res = sm.tsa.ARMA(data[\"Price\"], (1,1)).fit(disp=-1)"
      ]
    },
    {
      "cell_type": "code",
      "execution_count": null,
      "metadata": {
        "colab": {
          "base_uri": "https://localhost:8080/"
        },
        "id": "h5xefNPDsZSY",
        "outputId": "f10d391b-8972-4c09-c1d2-9cf75765eb8a"
      },
      "outputs": [
        {
          "data": {
            "text/plain": [
              "(array([19.86032735]), array([0.00132744]))"
            ]
          },
          "execution_count": 15,
          "metadata": {},
          "output_type": "execute_result"
        }
      ],
      "source": [
        "#perform Ljung-Box test on residuals with lag=5\n",
        "sm.stats.acorr_ljungbox(res.resid, lags=[5])"
      ]
    },
    {
      "cell_type": "code",
      "execution_count": null,
      "metadata": {
        "colab": {
          "base_uri": "https://localhost:8080/",
          "height": 494
        },
        "id": "eqCCTMxuordb",
        "outputId": "00109baa-2625-4e27-eb7c-b9b492f67a4a"
      },
      "outputs": [
        {
          "name": "stdout",
          "output_type": "stream",
          "text": [
            "Collecting arch\n",
            "  Downloading arch-5.2.0-cp37-cp37m-manylinux_2_17_x86_64.manylinux2014_x86_64.whl (902 kB)\n",
            "\u001b[?25l\r",
            "\u001b[K     |▍                               | 10 kB 24.5 MB/s eta 0:00:01\r",
            "\u001b[K     |▊                               | 20 kB 11.4 MB/s eta 0:00:01\r",
            "\u001b[K     |█                               | 30 kB 9.2 MB/s eta 0:00:01\r",
            "\u001b[K     |█▌                              | 40 kB 8.3 MB/s eta 0:00:01\r",
            "\u001b[K     |█▉                              | 51 kB 4.6 MB/s eta 0:00:01\r",
            "\u001b[K     |██▏                             | 61 kB 5.4 MB/s eta 0:00:01\r",
            "\u001b[K     |██▌                             | 71 kB 5.5 MB/s eta 0:00:01\r",
            "\u001b[K     |███                             | 81 kB 4.3 MB/s eta 0:00:01\r",
            "\u001b[K     |███▎                            | 92 kB 4.8 MB/s eta 0:00:01\r",
            "\u001b[K     |███▋                            | 102 kB 5.3 MB/s eta 0:00:01\r",
            "\u001b[K     |████                            | 112 kB 5.3 MB/s eta 0:00:01\r",
            "\u001b[K     |████▍                           | 122 kB 5.3 MB/s eta 0:00:01\r",
            "\u001b[K     |████▊                           | 133 kB 5.3 MB/s eta 0:00:01\r",
            "\u001b[K     |█████                           | 143 kB 5.3 MB/s eta 0:00:01\r",
            "\u001b[K     |█████▍                          | 153 kB 5.3 MB/s eta 0:00:01\r",
            "\u001b[K     |█████▉                          | 163 kB 5.3 MB/s eta 0:00:01\r",
            "\u001b[K     |██████▏                         | 174 kB 5.3 MB/s eta 0:00:01\r",
            "\u001b[K     |██████▌                         | 184 kB 5.3 MB/s eta 0:00:01\r",
            "\u001b[K     |███████                         | 194 kB 5.3 MB/s eta 0:00:01\r",
            "\u001b[K     |███████▎                        | 204 kB 5.3 MB/s eta 0:00:01\r",
            "\u001b[K     |███████▋                        | 215 kB 5.3 MB/s eta 0:00:01\r",
            "\u001b[K     |████████                        | 225 kB 5.3 MB/s eta 0:00:01\r",
            "\u001b[K     |████████▍                       | 235 kB 5.3 MB/s eta 0:00:01\r",
            "\u001b[K     |████████▊                       | 245 kB 5.3 MB/s eta 0:00:01\r",
            "\u001b[K     |█████████                       | 256 kB 5.3 MB/s eta 0:00:01\r",
            "\u001b[K     |█████████▍                      | 266 kB 5.3 MB/s eta 0:00:01\r",
            "\u001b[K     |█████████▉                      | 276 kB 5.3 MB/s eta 0:00:01\r",
            "\u001b[K     |██████████▏                     | 286 kB 5.3 MB/s eta 0:00:01\r",
            "\u001b[K     |██████████▌                     | 296 kB 5.3 MB/s eta 0:00:01\r",
            "\u001b[K     |██████████▉                     | 307 kB 5.3 MB/s eta 0:00:01\r",
            "\u001b[K     |███████████▎                    | 317 kB 5.3 MB/s eta 0:00:01\r",
            "\u001b[K     |███████████▋                    | 327 kB 5.3 MB/s eta 0:00:01\r",
            "\u001b[K     |████████████                    | 337 kB 5.3 MB/s eta 0:00:01\r",
            "\u001b[K     |████████████▍                   | 348 kB 5.3 MB/s eta 0:00:01\r",
            "\u001b[K     |████████████▊                   | 358 kB 5.3 MB/s eta 0:00:01\r",
            "\u001b[K     |█████████████                   | 368 kB 5.3 MB/s eta 0:00:01\r",
            "\u001b[K     |█████████████▍                  | 378 kB 5.3 MB/s eta 0:00:01\r",
            "\u001b[K     |█████████████▉                  | 389 kB 5.3 MB/s eta 0:00:01\r",
            "\u001b[K     |██████████████▏                 | 399 kB 5.3 MB/s eta 0:00:01\r",
            "\u001b[K     |██████████████▌                 | 409 kB 5.3 MB/s eta 0:00:01\r",
            "\u001b[K     |██████████████▉                 | 419 kB 5.3 MB/s eta 0:00:01\r",
            "\u001b[K     |███████████████▎                | 430 kB 5.3 MB/s eta 0:00:01\r",
            "\u001b[K     |███████████████▋                | 440 kB 5.3 MB/s eta 0:00:01\r",
            "\u001b[K     |████████████████                | 450 kB 5.3 MB/s eta 0:00:01\r",
            "\u001b[K     |████████████████▎               | 460 kB 5.3 MB/s eta 0:00:01\r",
            "\u001b[K     |████████████████▊               | 471 kB 5.3 MB/s eta 0:00:01\r",
            "\u001b[K     |█████████████████               | 481 kB 5.3 MB/s eta 0:00:01\r",
            "\u001b[K     |█████████████████▍              | 491 kB 5.3 MB/s eta 0:00:01\r",
            "\u001b[K     |█████████████████▉              | 501 kB 5.3 MB/s eta 0:00:01\r",
            "\u001b[K     |██████████████████▏             | 512 kB 5.3 MB/s eta 0:00:01\r",
            "\u001b[K     |██████████████████▌             | 522 kB 5.3 MB/s eta 0:00:01\r",
            "\u001b[K     |██████████████████▉             | 532 kB 5.3 MB/s eta 0:00:01\r",
            "\u001b[K     |███████████████████▎            | 542 kB 5.3 MB/s eta 0:00:01\r",
            "\u001b[K     |███████████████████▋            | 552 kB 5.3 MB/s eta 0:00:01\r",
            "\u001b[K     |████████████████████            | 563 kB 5.3 MB/s eta 0:00:01\r",
            "\u001b[K     |████████████████████▎           | 573 kB 5.3 MB/s eta 0:00:01\r",
            "\u001b[K     |████████████████████▊           | 583 kB 5.3 MB/s eta 0:00:01\r",
            "\u001b[K     |█████████████████████           | 593 kB 5.3 MB/s eta 0:00:01\r",
            "\u001b[K     |█████████████████████▍          | 604 kB 5.3 MB/s eta 0:00:01\r",
            "\u001b[K     |█████████████████████▊          | 614 kB 5.3 MB/s eta 0:00:01\r",
            "\u001b[K     |██████████████████████▏         | 624 kB 5.3 MB/s eta 0:00:01\r",
            "\u001b[K     |██████████████████████▌         | 634 kB 5.3 MB/s eta 0:00:01\r",
            "\u001b[K     |██████████████████████▉         | 645 kB 5.3 MB/s eta 0:00:01\r",
            "\u001b[K     |███████████████████████▎        | 655 kB 5.3 MB/s eta 0:00:01\r",
            "\u001b[K     |███████████████████████▋        | 665 kB 5.3 MB/s eta 0:00:01\r",
            "\u001b[K     |████████████████████████        | 675 kB 5.3 MB/s eta 0:00:01\r",
            "\u001b[K     |████████████████████████▎       | 686 kB 5.3 MB/s eta 0:00:01\r",
            "\u001b[K     |████████████████████████▊       | 696 kB 5.3 MB/s eta 0:00:01\r",
            "\u001b[K     |█████████████████████████       | 706 kB 5.3 MB/s eta 0:00:01\r",
            "\u001b[K     |█████████████████████████▍      | 716 kB 5.3 MB/s eta 0:00:01\r",
            "\u001b[K     |█████████████████████████▊      | 727 kB 5.3 MB/s eta 0:00:01\r",
            "\u001b[K     |██████████████████████████▏     | 737 kB 5.3 MB/s eta 0:00:01\r",
            "\u001b[K     |██████████████████████████▌     | 747 kB 5.3 MB/s eta 0:00:01\r",
            "\u001b[K     |██████████████████████████▉     | 757 kB 5.3 MB/s eta 0:00:01\r",
            "\u001b[K     |███████████████████████████▏    | 768 kB 5.3 MB/s eta 0:00:01\r",
            "\u001b[K     |███████████████████████████▋    | 778 kB 5.3 MB/s eta 0:00:01\r",
            "\u001b[K     |████████████████████████████    | 788 kB 5.3 MB/s eta 0:00:01\r",
            "\u001b[K     |████████████████████████████▎   | 798 kB 5.3 MB/s eta 0:00:01\r",
            "\u001b[K     |████████████████████████████▊   | 808 kB 5.3 MB/s eta 0:00:01\r",
            "\u001b[K     |█████████████████████████████   | 819 kB 5.3 MB/s eta 0:00:01\r",
            "\u001b[K     |█████████████████████████████▍  | 829 kB 5.3 MB/s eta 0:00:01\r",
            "\u001b[K     |█████████████████████████████▊  | 839 kB 5.3 MB/s eta 0:00:01\r",
            "\u001b[K     |██████████████████████████████▏ | 849 kB 5.3 MB/s eta 0:00:01\r",
            "\u001b[K     |██████████████████████████████▌ | 860 kB 5.3 MB/s eta 0:00:01\r",
            "\u001b[K     |██████████████████████████████▉ | 870 kB 5.3 MB/s eta 0:00:01\r",
            "\u001b[K     |███████████████████████████████▏| 880 kB 5.3 MB/s eta 0:00:01\r",
            "\u001b[K     |███████████████████████████████▋| 890 kB 5.3 MB/s eta 0:00:01\r",
            "\u001b[K     |████████████████████████████████| 901 kB 5.3 MB/s eta 0:00:01\r",
            "\u001b[K     |████████████████████████████████| 902 kB 5.3 MB/s \n",
            "\u001b[?25hRequirement already satisfied: numpy>=1.17 in /usr/local/lib/python3.7/dist-packages (from arch) (1.21.5)\n",
            "Requirement already satisfied: scipy>=1.3 in /usr/local/lib/python3.7/dist-packages (from arch) (1.4.1)\n",
            "Requirement already satisfied: pandas>=1.0 in /usr/local/lib/python3.7/dist-packages (from arch) (1.3.5)\n",
            "Collecting property-cached>=1.6.4\n",
            "  Downloading property_cached-1.6.4-py2.py3-none-any.whl (7.8 kB)\n",
            "Collecting statsmodels>=0.11\n",
            "  Downloading statsmodels-0.13.2-cp37-cp37m-manylinux_2_17_x86_64.manylinux2014_x86_64.whl (9.8 MB)\n",
            "\u001b[K     |████████████████████████████████| 9.8 MB 36.9 MB/s \n",
            "\u001b[?25hRequirement already satisfied: pytz>=2017.3 in /usr/local/lib/python3.7/dist-packages (from pandas>=1.0->arch) (2018.9)\n",
            "Requirement already satisfied: python-dateutil>=2.7.3 in /usr/local/lib/python3.7/dist-packages (from pandas>=1.0->arch) (2.8.2)\n",
            "Requirement already satisfied: six>=1.5 in /usr/local/lib/python3.7/dist-packages (from python-dateutil>=2.7.3->pandas>=1.0->arch) (1.15.0)\n",
            "Requirement already satisfied: packaging>=21.3 in /usr/local/lib/python3.7/dist-packages (from statsmodels>=0.11->arch) (21.3)\n",
            "Requirement already satisfied: patsy>=0.5.2 in /usr/local/lib/python3.7/dist-packages (from statsmodels>=0.11->arch) (0.5.2)\n",
            "Requirement already satisfied: pyparsing!=3.0.5,>=2.0.2 in /usr/local/lib/python3.7/dist-packages (from packaging>=21.3->statsmodels>=0.11->arch) (3.0.7)\n",
            "Installing collected packages: statsmodels, property-cached, arch\n",
            "  Attempting uninstall: statsmodels\n",
            "    Found existing installation: statsmodels 0.10.2\n",
            "    Uninstalling statsmodels-0.10.2:\n",
            "      Successfully uninstalled statsmodels-0.10.2\n",
            "Successfully installed arch-5.2.0 property-cached-1.6.4 statsmodels-0.13.2\n"
          ]
        },
        {
          "data": {
            "application/vnd.colab-display-data+json": {
              "pip_warning": {
                "packages": [
                  "statsmodels"
                ]
              }
            }
          },
          "metadata": {},
          "output_type": "display_data"
        }
      ],
      "source": [
        "!pip install arch"
      ]
    },
    {
      "cell_type": "code",
      "execution_count": null,
      "metadata": {
        "id": "MxkBwXsiov8f"
      },
      "outputs": [],
      "source": [
        "from arch.__future__ import reindexing"
      ]
    },
    {
      "cell_type": "code",
      "execution_count": null,
      "metadata": {
        "id": "vIQfWktQo5dm"
      },
      "outputs": [],
      "source": [
        "from arch import arch_model"
      ]
    },
    {
      "cell_type": "code",
      "execution_count": null,
      "metadata": {
        "colab": {
          "base_uri": "https://localhost:8080/",
          "height": 265
        },
        "id": "iMiwVqllZm1D",
        "outputId": "8e87efc7-96a4-4f38-a80c-4bb9162fd79b"
      },
      "outputs": [
        {
          "data": {
            "image/png": "[encoded data removed]",
            "text/plain": [
              "<Figure size 432x288 with 1 Axes>"
            ]
          },
          "metadata": {
            "needs_background": "light"
          },
          "output_type": "display_data"
        }
      ],
      "source": [
        "import datetime as dt\n",
        "\n",
        "import arch.data.sp500\n",
        "\n",
        "st = dt.datetime(2012, 1, 1)\n",
        "en = dt.datetime(2021, 1, 12)\n",
        "# data = arch.data.sp500.load()\n",
        "market = data[\"Price\"]\n",
        "returns = 100 * market.pct_change().dropna()\n",
        "ax = returns.plot()\n",
        "xlim = ax.set_xlim(returns.index.min(), returns.index.max())"
      ]
    },
    {
      "cell_type": "code",
      "execution_count": null,
      "metadata": {
        "colab": {
          "base_uri": "https://localhost:8080/"
        },
        "id": "afRsA1TpSyLU",
        "outputId": "fc612560-480a-43a1-fa4b-9f1d5cf3d848"
      },
      "outputs": [
        {
          "data": {
            "text/plain": [
              "count    2456.000000\n",
              "mean       -0.019878\n",
              "std         1.027465\n",
              "min        -8.078780\n",
              "25%        -0.474266\n",
              "50%         0.006983\n",
              "75%         0.454313\n",
              "max         5.863704\n",
              "Name: Price, dtype: float64"
            ]
          },
          "execution_count": 41,
          "metadata": {},
          "output_type": "execute_result"
        }
      ],
      "source": [
        "returns.describe()"
      ]
    },
    {
      "cell_type": "code",
      "execution_count": null,
      "metadata": {
        "id": "bhdQBC1dO_Yn"
      },
      "outputs": [],
      "source": [
        "returns.to_csv(\"log1.csv\", index= False)"
      ]
    },
    {
      "cell_type": "code",
      "execution_count": null,
      "metadata": {
        "id": "HPOLhJns2mtt"
      },
      "outputs": [],
      "source": [
        "# n_test = 10\n",
        "# train, test = returns[:-n_test], returns[-n_test:]"
      ]
    },
    {
      "cell_type": "markdown",
      "metadata": {
        "id": "ugxamzOwaHhX"
      },
      "source": [
        "GARCH with constant Mean ; distribution = Normal"
      ]
    },
    {
      "cell_type": "code",
      "execution_count": null,
      "metadata": {
        "colab": {
          "base_uri": "https://localhost:8080/"
        },
        "id": "zwMoiriaaASc",
        "outputId": "4fd4d7d8-0d53-46d5-a3b9-3599c4cd8b52"
      },
      "outputs": [
        {
          "name": "stdout",
          "output_type": "stream",
          "text": [
            "Iteration:      5,   Func. Count:     31,   Neg. LLF: 3119.7245892768724\n",
            "Optimization terminated successfully.    (Exit mode 0)\n",
            "            Current function value: 3119.670111417554\n",
            "            Iterations: 9\n",
            "            Function evaluations: 51\n",
            "            Gradient evaluations: 9\n",
            "                       Zero Mean - GARCH Model Results                        \n",
            "==============================================================================\n",
            "Dep. Variable:                  Price   R-squared:                       0.000\n",
            "Mean Model:                 Zero Mean   Adj. R-squared:                  0.000\n",
            "Vol Model:                      GARCH   Log-Likelihood:               -3119.67\n",
            "Distribution:                  Normal   AIC:                           6245.34\n",
            "Method:            Maximum Likelihood   BIC:                           6262.75\n",
            "                                        No. Observations:                 2445\n",
            "Date:                Sat, Apr 09 2022   Df Residuals:                     2445\n",
            "Time:                        10:26:33   Df Model:                            0\n",
            "                             Volatility Model                             \n",
            "==========================================================================\n",
            "                 coef    std err          t      P>|t|    95.0% Conf. Int.\n",
            "--------------------------------------------------------------------------\n",
            "omega          0.0860  3.247e-02      2.649  8.080e-03 [2.237e-02,  0.150]\n",
            "alpha[1]       0.2200  5.100e-02      4.314  1.605e-05   [  0.120,  0.320]\n",
            "beta[1]        0.7010  7.486e-02      9.364  7.661e-21   [  0.554,  0.848]\n",
            "==========================================================================\n",
            "\n",
            "Covariance estimator: robust\n"
          ]
        }
      ],
      "source": [
        "from arch import arch_model\n",
        "am = arch_model(train, vol='Garch', p=1, o=0, q=1, dist='Normal', rescale= True, mean='Zero')\n",
        "# am = arch_model(returns,dist=\"StudentsT\")\n",
        "res = am.fit(update_freq=5)\n",
        "print(res.summary())"
      ]
    },
    {
      "cell_type": "code",
      "execution_count": null,
      "metadata": {
        "colab": {
          "base_uri": "https://localhost:8080/"
        },
        "id": "d5LB0YKH2H7E",
        "outputId": "418705fc-1dbc-44b9-bf53-9f454358bd8c"
      },
      "outputs": [
        {
          "data": {
            "text/plain": [
              "<arch.univariate.base.ARCHModelForecast at 0x7fa1eb061310>"
            ]
          },
          "execution_count": 24,
          "metadata": {},
          "output_type": "execute_result"
        }
      ],
      "source": [
        "#fitting the model\n",
        "# model_fit = am.fit()\n",
        "# forecast the test set\n",
        "yhat = model_fit.forecast(horizon=n_test)\n",
        "yhat"
      ]
    },
    {
      "cell_type": "code",
      "execution_count": null,
      "metadata": {
        "id": "szjPeW6e3Smw"
      },
      "outputs": [],
      "source": [
        "# print(\"Train error: \", np.sqrt(mean_squared_error(train,yhat)))\n",
        "# pred_test_enet= model_enet.predict(X_test)\n",
        "# print(\"Test error:\",np.sqrt(mean_squared_error(y_test,pred_test_enet)))"
      ]
    },
    {
      "cell_type": "code",
      "execution_count": null,
      "metadata": {
        "id": "ya5Gn_H4Yh1t"
      },
      "outputs": [],
      "source": [
        "# bic_garch = []\n",
        "# for p in range(1, 5):\n",
        "#   for q in range(1, 5):\n",
        "#     garch = arch_model(returns, mean='zero',vol='GARCH', p=p, o=0, q=q)\\\n",
        "#             .fit(disp='off')\n",
        "#     bic_garch.append(garch.bic)\n",
        "#     if garch.bic == np.min(bic_garch):\n",
        "#       best_param = p, q\n",
        "# garch = arch_model(returns, mean='zero', vol='GARCH',\n",
        "#                 p=best_param[0], o=0, q=best_param[1])\\\n",
        "#       .fit(disp='off')\n",
        "# print(garch.summary())\n",
        "# forecast = garch.forecast(start=split_date[0])\n",
        "# forecast_garch = forecast"
      ]
    },
    {
      "cell_type": "code",
      "execution_count": null,
      "metadata": {
        "id": "ZCDIkYPLpHF7"
      },
      "outputs": [],
      "source": [
        "# forecasts_irfm = am.forecast(horizon=5)\n",
        "forecasts =res.forecast(horizon = 5, reindex = False)\n",
        "print(forecasts.variance.dropna().head())"
      ]
    },
    {
      "cell_type": "markdown",
      "metadata": {
        "id": "bRTl_W2_nVXa"
      },
      "source": [
        "GARCH with constant Mean ; distribution = Student T"
      ]
    },
    {
      "cell_type": "code",
      "execution_count": null,
      "metadata": {
        "colab": {
          "base_uri": "https://localhost:8080/"
        },
        "id": "scvAODmKm1nO",
        "outputId": "57aca568-0b81-46ac-b0fe-774e3d45af1f"
      },
      "outputs": [
        {
          "name": "stdout",
          "output_type": "stream",
          "text": [
            "Iteration:      5,   Func. Count:     35,   Neg. LLF: 2982.9874134873644\n",
            "Iteration:     10,   Func. Count:     69,   Neg. LLF: 2976.251198158484\n",
            "Iteration:     15,   Func. Count:     99,   Neg. LLF: 2975.05407942351\n",
            "Optimization terminated successfully.    (Exit mode 0)\n",
            "            Current function value: 2975.0538770571625\n",
            "            Iterations: 17\n",
            "            Function evaluations: 111\n",
            "            Gradient evaluations: 17\n",
            "                          Zero Mean - GARCH Model Results                           \n",
            "====================================================================================\n",
            "Dep. Variable:                        Price   R-squared:                       0.000\n",
            "Mean Model:                       Zero Mean   Adj. R-squared:                  0.000\n",
            "Vol Model:                            GARCH   Log-Likelihood:               -2975.05\n",
            "Distribution:      Standardized Student's t   AIC:                           5958.11\n",
            "Method:                  Maximum Likelihood   BIC:                           5981.33\n",
            "                                              No. Observations:                 2455\n",
            "Date:                      Fri, Apr 08 2022   Df Residuals:                     2455\n",
            "Time:                              13:07:24   Df Model:                            0\n",
            "                             Volatility Model                             \n",
            "==========================================================================\n",
            "                 coef    std err          t      P>|t|    95.0% Conf. Int.\n",
            "--------------------------------------------------------------------------\n",
            "omega          0.1238  3.593e-02      3.445  5.706e-04 [5.337e-02,  0.194]\n",
            "alpha[1]       0.3446  6.283e-02      5.485  4.126e-08   [  0.221,  0.468]\n",
            "beta[1]        0.6196  6.632e-02      9.342  9.435e-21   [  0.490,  0.750]\n",
            "                              Distribution                              \n",
            "========================================================================\n",
            "                 coef    std err          t      P>|t|  95.0% Conf. Int.\n",
            "------------------------------------------------------------------------\n",
            "nu             3.3938      0.248     13.686  1.227e-42 [  2.908,  3.880]\n",
            "========================================================================\n",
            "\n",
            "Covariance estimator: robust\n"
          ]
        }
      ],
      "source": [
        "am2 = arch_model(returns, vol='Garch', p=1, o=0, q=1,dist=\"StudentsT\", rescale= True, mean='Zero')\n",
        "# am = arch_model(returns,dist=\"StudentsT\")\n",
        "res = am2.fit(update_freq=5)\n",
        "print(res.summary())"
      ]
    },
    {
      "cell_type": "markdown",
      "metadata": {
        "id": "7PhcI9T_nmuN"
      },
      "source": [
        "EGARCH with Normal Distribution"
      ]
    },
    {
      "cell_type": "code",
      "execution_count": null,
      "metadata": {
        "colab": {
          "base_uri": "https://localhost:8080/"
        },
        "id": "swcdHqffnmVD",
        "outputId": "0df69427-9ee3-415e-866b-194cbf2ce29a"
      },
      "outputs": [
        {
          "name": "stdout",
          "output_type": "stream",
          "text": [
            "Iteration:      5,   Func. Count:     43,   Neg. LLF: 3112.6806161319737\n",
            "Iteration:     10,   Func. Count:     74,   Neg. LLF: 3111.045525158113\n",
            "Optimization terminated successfully.    (Exit mode 0)\n",
            "            Current function value: 3111.0455213787877\n",
            "            Iterations: 12\n",
            "            Function evaluations: 91\n",
            "            Gradient evaluations: 12\n",
            "                     Constant Mean - EGARCH Model Results                     \n",
            "==============================================================================\n",
            "Dep. Variable:                  Price   R-squared:                       0.000\n",
            "Mean Model:             Constant Mean   Adj. R-squared:                  0.000\n",
            "Vol Model:                     EGARCH   Log-Likelihood:               -3111.05\n",
            "Distribution:                  Normal   AIC:                           6230.09\n",
            "Method:            Maximum Likelihood   BIC:                           6253.30\n",
            "                                        No. Observations:                 2445\n",
            "Date:                Sat, Apr 09 2022   Df Residuals:                     2444\n",
            "Time:                        10:34:19   Df Model:                            1\n",
            "                                 Mean Model                                 \n",
            "============================================================================\n",
            "                 coef    std err          t      P>|t|      95.0% Conf. Int.\n",
            "----------------------------------------------------------------------------\n",
            "mu         5.5059e-03  1.607e-03      3.427  6.104e-04 [2.357e-03,8.655e-03]\n",
            "                               Volatility Model                              \n",
            "=============================================================================\n",
            "                 coef    std err          t      P>|t|       95.0% Conf. Int.\n",
            "-----------------------------------------------------------------------------\n",
            "omega      3.8979e-03  1.271e-02      0.307      0.759 [-2.102e-02,2.881e-02]\n",
            "alpha[1]       0.3832  6.143e-02      6.238  4.433e-10      [  0.263,  0.504]\n",
            "beta[1]        0.8996  3.298e-02     27.274 8.551e-164      [  0.835,  0.964]\n",
            "=============================================================================\n",
            "\n",
            "Covariance estimator: robust\n"
          ]
        }
      ],
      "source": [
        "from arch import arch_model\n",
        "am = arch_model(train, vol='EGarch', p=1, o=0, q=1, dist='Normal', rescale= True, mean='constant')\n",
        "# am = arch_model(returns,dist=\"StudentsT\")\n",
        "res = am.fit(update_freq=5)\n",
        "print(res.summary())"
      ]
    },
    {
      "cell_type": "markdown",
      "metadata": {
        "id": "GYsb-f7Jn0FA"
      },
      "source": [
        "EGARCH with Student T Distribution"
      ]
    },
    {
      "cell_type": "code",
      "execution_count": null,
      "metadata": {
        "colab": {
          "base_uri": "https://localhost:8080/"
        },
        "id": "9DZXU-npnz6C",
        "outputId": "581818cc-ccea-4f5d-ddec-ad259a614967"
      },
      "outputs": [
        {
          "name": "stdout",
          "output_type": "stream",
          "text": [
            "Iteration:      5,   Func. Count:     48,   Neg. LLF: 2979.0638949096847\n",
            "Iteration:     10,   Func. Count:     88,   Neg. LLF: 2964.184836811527\n",
            "Iteration:     15,   Func. Count:    125,   Neg. LLF: 2960.3109859290194\n",
            "Optimization terminated successfully.    (Exit mode 0)\n",
            "            Current function value: 2960.2721456032427\n",
            "            Iterations: 19\n",
            "            Function evaluations: 153\n",
            "            Gradient evaluations: 19\n",
            "                        Constant Mean - EGARCH Model Results                        \n",
            "====================================================================================\n",
            "Dep. Variable:                        Price   R-squared:                       0.000\n",
            "Mean Model:                   Constant Mean   Adj. R-squared:                  0.000\n",
            "Vol Model:                           EGARCH   Log-Likelihood:               -2960.27\n",
            "Distribution:      Standardized Student's t   AIC:                           5930.54\n",
            "Method:                  Maximum Likelihood   BIC:                           5959.55\n",
            "                                              No. Observations:                 2445\n",
            "Date:                      Sat, Apr 09 2022   Df Residuals:                     2444\n",
            "Time:                              10:29:55   Df Model:                            1\n",
            "                                  Mean Model                                 \n",
            "=============================================================================\n",
            "                 coef    std err          t      P>|t|       95.0% Conf. Int.\n",
            "-----------------------------------------------------------------------------\n",
            "mu             0.0185  1.347e-02      1.370      0.171 [-7.943e-03,4.484e-02]\n",
            "                              Volatility Model                              \n",
            "============================================================================\n",
            "                 coef    std err          t      P>|t|      95.0% Conf. Int.\n",
            "----------------------------------------------------------------------------\n",
            "omega          0.0491  2.363e-02      2.078  3.771e-02 [2.790e-03,9.543e-02]\n",
            "alpha[1]       0.5022  6.141e-02      8.178  2.877e-16     [  0.382,  0.623]\n",
            "beta[1]        0.8787  3.265e-02     26.911 1.636e-159     [  0.815,  0.943]\n",
            "                              Distribution                              \n",
            "========================================================================\n",
            "                 coef    std err          t      P>|t|  95.0% Conf. Int.\n",
            "------------------------------------------------------------------------\n",
            "nu             3.4125      0.250     13.630  2.640e-42 [  2.922,  3.903]\n",
            "========================================================================\n",
            "\n",
            "Covariance estimator: robust\n"
          ]
        }
      ],
      "source": [
        "am2 = arch_model(train, vol='EGarch', p=1, o=0, q=1,dist=\"StudentsT\", rescale= False, mean='constant')\n",
        "# am = arch_model(returns,dist=\"StudentsT\")\n",
        "res = am2.fit(update_freq=5)\n",
        "print(res.summary())"
      ]
    },
    {
      "cell_type": "markdown",
      "metadata": {
        "id": "dzrDJ4B0fZEB"
      },
      "source": [
        "GJR GARCH with Normal distribution"
      ]
    },
    {
      "cell_type": "code",
      "execution_count": null,
      "metadata": {
        "colab": {
          "base_uri": "https://localhost:8080/"
        },
        "id": "639YOnuUfX70",
        "outputId": "0edd770c-9e39-4696-964a-1af8e08f9e1b"
      },
      "outputs": [
        {
          "name": "stdout",
          "output_type": "stream",
          "text": [
            "                   Constant Mean - GJR-GARCH Model Results                    \n",
            "==============================================================================\n",
            "Dep. Variable:                  Price   R-squared:                       0.000\n",
            "Mean Model:             Constant Mean   Adj. R-squared:                  0.000\n",
            "Vol Model:                  GJR-GARCH   Log-Likelihood:               -3126.95\n",
            "Distribution:                  Normal   AIC:                           6263.89\n",
            "Method:            Maximum Likelihood   BIC:                           6292.92\n",
            "                                        No. Observations:                 2455\n",
            "Date:                Fri, Apr 08 2022   Df Residuals:                     2454\n",
            "Time:                        13:07:50   Df Model:                            1\n",
            "                                  Mean Model                                  \n",
            "==============================================================================\n",
            "                  coef    std err          t      P>|t|       95.0% Conf. Int.\n",
            "------------------------------------------------------------------------------\n",
            "mu         -1.3158e-04  1.766e-02 -7.452e-03      0.994 [-3.474e-02,3.448e-02]\n",
            "                             Volatility Model                             \n",
            "==========================================================================\n",
            "                 coef    std err          t      P>|t|    95.0% Conf. Int.\n",
            "--------------------------------------------------------------------------\n",
            "omega          0.0844  3.187e-02      2.649  8.076e-03 [2.195e-02,  0.147]\n",
            "alpha[1]       0.2343  5.835e-02      4.015  5.936e-05   [  0.120,  0.349]\n",
            "gamma[1]      -0.0287  5.178e-02     -0.554      0.579 [ -0.130,7.278e-02]\n",
            "beta[1]        0.7029  7.402e-02      9.496  2.177e-21   [  0.558,  0.848]\n",
            "==========================================================================\n",
            "\n",
            "Covariance estimator: robust\n"
          ]
        }
      ],
      "source": [
        "am = arch_model(returns, p=1, o=1, q=1,dist=\"Normal\")\n",
        "res = am.fit(update_freq=5, disp=\"off\")\n",
        "print(res.summary())"
      ]
    },
    {
      "cell_type": "markdown",
      "metadata": {
        "id": "MgTWHaQvoK0Y"
      },
      "source": [
        "GJR GARCH with Student T distribution"
      ]
    },
    {
      "cell_type": "code",
      "execution_count": null,
      "metadata": {
        "colab": {
          "base_uri": "https://localhost:8080/"
        },
        "id": "irzuojGjlqT0",
        "outputId": "3c3d6097-1243-4755-ff2f-f561600eedc4"
      },
      "outputs": [
        {
          "name": "stdout",
          "output_type": "stream",
          "text": [
            "                      Constant Mean - GJR-GARCH Model Results                       \n",
            "====================================================================================\n",
            "Dep. Variable:                        Price   R-squared:                       0.000\n",
            "Mean Model:                   Constant Mean   Adj. R-squared:                  0.000\n",
            "Vol Model:                        GJR-GARCH   Log-Likelihood:               -2974.08\n",
            "Distribution:      Standardized Student's t   AIC:                           5960.16\n",
            "Method:                  Maximum Likelihood   BIC:                           5995.00\n",
            "                                              No. Observations:                 2455\n",
            "Date:                      Fri, Apr 08 2022   Df Residuals:                     2454\n",
            "Time:                              13:07:57   Df Model:                            1\n",
            "                                  Mean Model                                 \n",
            "=============================================================================\n",
            "                 coef    std err          t      P>|t|       95.0% Conf. Int.\n",
            "-----------------------------------------------------------------------------\n",
            "mu             0.0174  1.375e-02      1.263      0.207 [-9.586e-03,4.433e-02]\n",
            "                             Volatility Model                             \n",
            "==========================================================================\n",
            "                 coef    std err          t      P>|t|    95.0% Conf. Int.\n",
            "--------------------------------------------------------------------------\n",
            "omega          0.1261  3.783e-02      3.333  8.601e-04 [5.193e-02,  0.200]\n",
            "alpha[1]       0.3331  6.458e-02      5.159  2.488e-07   [  0.207,  0.460]\n",
            "gamma[1]       0.0365  7.997e-02      0.456      0.648   [ -0.120,  0.193]\n",
            "beta[1]        0.6129  7.014e-02      8.739  2.356e-18   [  0.475,  0.750]\n",
            "                              Distribution                              \n",
            "========================================================================\n",
            "                 coef    std err          t      P>|t|  95.0% Conf. Int.\n",
            "------------------------------------------------------------------------\n",
            "nu             3.3889      0.248     13.688  1.193e-42 [  2.904,  3.874]\n",
            "========================================================================\n",
            "\n",
            "Covariance estimator: robust\n"
          ]
        }
      ],
      "source": [
        "am = arch_model(returns, p=1, o=1, q=1,dist=\"StudentsT\")\n",
        "res = am.fit(update_freq=5, disp=\"off\")\n",
        "print(res.summary())"
      ]
    },
    {
      "cell_type": "code",
      "execution_count": null,
      "metadata": {
        "colab": {
          "base_uri": "https://localhost:8080/"
        },
        "id": "O-paxOE_H0k0",
        "outputId": "90239e44-baf1-424d-f42c-3b7918bdf003"
      },
      "outputs": [
        {
          "name": "stdout",
          "output_type": "stream",
          "text": [
            "Iteration:      5,   Func. Count:     38,   Neg. LLF: 3135.2663226703053\n",
            "Iteration:     10,   Func. Count:     72,   Neg. LLF: 3120.033051893739\n",
            "Optimization terminated successfully.    (Exit mode 0)\n",
            "            Current function value: 3120.030178868511\n",
            "            Iterations: 13\n",
            "            Function evaluations: 91\n",
            "            Gradient evaluations: 13\n",
            "                    Constant Mean - AVGARCH Model Results                     \n",
            "==============================================================================\n",
            "Dep. Variable:                  Price   R-squared:                       0.000\n",
            "Mean Model:             Constant Mean   Adj. R-squared:                  0.000\n",
            "Vol Model:                    AVGARCH   Log-Likelihood:               -3120.03\n",
            "Distribution:                  Normal   AIC:                           6248.06\n",
            "Method:            Maximum Likelihood   BIC:                           6271.28\n",
            "                                        No. Observations:                 2455\n",
            "Date:                Sat, Apr 09 2022   Df Residuals:                     2454\n",
            "Time:                        11:18:41   Df Model:                            1\n",
            "                                  Mean Model                                 \n",
            "=============================================================================\n",
            "                 coef    std err          t      P>|t|       95.0% Conf. Int.\n",
            "-----------------------------------------------------------------------------\n",
            "mu             0.0120  1.874e-02      0.641      0.522 [-2.471e-02,4.873e-02]\n",
            "                             Volatility Model                             \n",
            "==========================================================================\n",
            "                 coef    std err          t      P>|t|    95.0% Conf. Int.\n",
            "--------------------------------------------------------------------------\n",
            "omega          0.0885  3.245e-02      2.726  6.405e-03 [2.487e-02,  0.152]\n",
            "alpha[1]       0.2127  3.980e-02      5.345  9.058e-08   [  0.135,  0.291]\n",
            "beta[1]        0.7509  6.079e-02     12.353  4.721e-35   [  0.632,  0.870]\n",
            "==========================================================================\n",
            "\n",
            "Covariance estimator: robust\n"
          ]
        }
      ],
      "source": [
        "from arch import arch_model\n",
        "am = arch_model(returns,p=1, o=0, q=1, dist='Normal', mean='constant',rescale= True, power=1.0)\n",
        "# am = arch_model(returns,dist=\"StudentsT\")\n",
        "res = am.fit(update_freq=5)\n",
        "print(res.summary())"
      ]
    },
    {
      "cell_type": "code",
      "execution_count": null,
      "metadata": {
        "colab": {
          "base_uri": "https://localhost:8080/"
        },
        "id": "o3BCJF35Jh_k",
        "outputId": "6ec0f146-3283-4e63-fb97-6b7eaa8af8e1"
      },
      "outputs": [
        {
          "name": "stdout",
          "output_type": "stream",
          "text": [
            "Iteration:      5,   Func. Count:     43,   Neg. LLF: 2989.389691948121\n",
            "Iteration:     10,   Func. Count:     83,   Neg. LLF: 2966.460126880669\n",
            "Iteration:     15,   Func. Count:    122,   Neg. LLF: 2965.394279697516\n",
            "Optimization terminated successfully.    (Exit mode 0)\n",
            "            Current function value: 2965.3942246979946\n",
            "            Iterations: 18\n",
            "            Function evaluations: 147\n",
            "            Gradient evaluations: 18\n",
            "                       Constant Mean - AVGARCH Model Results                        \n",
            "====================================================================================\n",
            "Dep. Variable:                        Price   R-squared:                       0.000\n",
            "Mean Model:                   Constant Mean   Adj. R-squared:                  0.000\n",
            "Vol Model:                          AVGARCH   Log-Likelihood:               -2965.39\n",
            "Distribution:      Standardized Student's t   AIC:                           5940.79\n",
            "Method:                  Maximum Likelihood   BIC:                           5969.82\n",
            "                                              No. Observations:                 2455\n",
            "Date:                      Sat, Apr 09 2022   Df Residuals:                     2454\n",
            "Time:                              11:18:44   Df Model:                            1\n",
            "                                 Mean Model                                 \n",
            "============================================================================\n",
            "                 coef    std err          t      P>|t|      95.0% Conf. Int.\n",
            "----------------------------------------------------------------------------\n",
            "mu             0.0205  1.320e-03     15.512  2.883e-54 [1.788e-02,2.306e-02]\n",
            "                             Volatility Model                             \n",
            "==========================================================================\n",
            "                 coef    std err          t      P>|t|    95.0% Conf. Int.\n",
            "--------------------------------------------------------------------------\n",
            "omega          0.1121  3.208e-02      3.496  4.719e-04 [4.928e-02,  0.175]\n",
            "alpha[1]       0.2922  4.019e-02      7.271  3.579e-13   [  0.213,  0.371]\n",
            "beta[1]        0.6934  5.381e-02     12.885  5.456e-38   [  0.588,  0.799]\n",
            "                              Distribution                              \n",
            "========================================================================\n",
            "                 coef    std err          t      P>|t|  95.0% Conf. Int.\n",
            "------------------------------------------------------------------------\n",
            "nu             3.4092      0.247     13.791  2.885e-43 [  2.925,  3.894]\n",
            "========================================================================\n",
            "\n",
            "Covariance estimator: robust\n"
          ]
        }
      ],
      "source": [
        "from arch import arch_model\n",
        "am = arch_model(returns,p=1, o=0, q=1, dist='StudentsT', mean='constant',rescale= True, power=1.0)\n",
        "# am = arch_model(returns,dist=\"StudentsT\")\n",
        "res = am.fit(update_freq=5)\n",
        "print(res.summary())"
      ]
    },
    {
      "cell_type": "code",
      "execution_count": null,
      "metadata": {
        "id": "CIzSXi6_8Fe8",
        "outputId": "d9f5e2ec-4209-4f76-af5d-72e3674d2d6a"
      },
      "outputs": [
        {
          "data": {
            "text/plain": [
              "(1, 2, 3, 1, 2, 3)"
            ]
          },
          "execution_count": 45,
          "metadata": {},
          "output_type": "execute_result"
        }
      ],
      "source": [
        "t=(1,2,3)\n",
        "e=(1,2,3)\n",
        "t+e"
      ]
    },
    {
      "cell_type": "code",
      "execution_count": null,
      "metadata": {
        "id": "3xqZy2CYAHIm",
        "outputId": "3f2581de-5755-44d1-a380-d42e696215f3"
      },
      "outputs": [
        {
          "data": {
            "text/plain": [
              "list[range(5, 1)]"
            ]
          },
          "execution_count": 47,
          "metadata": {},
          "output_type": "execute_result"
        }
      ],
      "source": [
        "list[range(5,1)]"
      ]
    },
    {
      "cell_type": "code",
      "execution_count": null,
      "metadata": {
        "id": "8Hm5WS7VAHIm"
      },
      "outputs": [],
      "source": []
    }
  ],
  "metadata": {
    "colab": {
      "collapsed_sections": [],
      "provenance": [],
      "include_colab_link": true
    },
    "kernelspec": {
      "display_name": "Python 3 (ipykernel)",
      "language": "python",
      "name": "python3"
    },
    "language_info": {
      "codemirror_mode": {
        "name": "ipython",
        "version": 3
      },
      "file_extension": ".py",
      "mimetype": "text/x-python",
      "name": "python",
      "nbconvert_exporter": "python",
      "pygments_lexer": "ipython3",
      "version": "3.9.7"
    }
  },
  "nbformat": 4,
  "nbformat_minor": 0
}