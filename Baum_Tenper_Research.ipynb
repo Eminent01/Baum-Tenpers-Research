{
  "cells": [
    {
      "cell_type": "markdown",
      "metadata": {
        "id": "view-in-github",
        "colab_type": "text"
      },
      "source": [
        "<a href=\"https://colab.research.google.com/github/Eminent01/Baum-Tenpers-Research/blob/main/Baum_Tenper_Research.ipynb\" target=\"_parent\"><img src=\"https://colab.research.google.com/assets/colab-badge.svg\" alt=\"Open In Colab\"/></a>"
      ]
    },
    {
      "cell_type": "markdown",
      "metadata": {
        "id": "3wQo_R6YTbNf"
      },
      "source": [
        "These colab notebook is for the algorithm implimentation of the GARCH Neural network, Linear,LASSO, Ridge and Elastic net regression"
      ]
    },
    {
      "cell_type": "markdown",
      "metadata": {
        "id": "lp1-fUsXT8SP"
      },
      "source": [
        "Let's first call out all the required package for the algorithm"
      ]
    },
    {
      "cell_type": "code",
      "execution_count": null,
      "metadata": {
        "colab": {
          "base_uri": "https://localhost:8080/"
        },
        "id": "LnPLHeIlFAw3",
        "outputId": "05da21b2-b1c3-45a6-9b1d-b80b7f79cf72"
      },
      "outputs": [
        {
          "name": "stdout",
          "output_type": "stream",
          "text": [
            "Mounted at /content/drive\n"
          ]
        }
      ],
      "source": [
        "# from google.colab import drive\n",
        "# drive.mount('/content/drive')"
      ]
    },
    {
      "cell_type": "code",
      "execution_count": 1,
      "metadata": {
        "id": "l4XBKtwzUHEA"
      },
      "outputs": [],
      "source": [
        "#Importing neccesary libraries\n",
        "import pandas as pd\n",
        "import matplotlib.pyplot as plt\n",
        "import seaborn as sns\n",
        "import numpy as np\n",
        "import datetime as date\n",
        "from sklearn.linear_model import LinearRegression"
      ]
    },
    {
      "cell_type": "markdown",
      "metadata": {
        "id": "B4mX6xyVdM1_"
      },
      "source": [
        "Importing the Data set from the local Drive"
      ]
    },
    {
      "cell_type": "code",
      "execution_count": null,
      "metadata": {
        "id": "GotRD2wNGunr"
      },
      "outputs": [],
      "source": [
        "# data = pd.read_csv(\"/content/NSE 30 Historical Data.csv\" , thousands =',')"
      ]
    },
    {
      "cell_type": "code",
      "execution_count": null,
      "metadata": {
        "id": "DPK23gr5MsdL"
      },
      "outputs": [],
      "source": [
        "# data = pd.read_csv(\"/content/NSE All Share Historical Data.csv\" , thousands =',')"
      ]
    },
    {
      "cell_type": "code",
      "execution_count": null,
      "metadata": {
        "id": "MoT-miUjFVKN"
      },
      "outputs": [],
      "source": [
        "#Import the dataset for the analysis \n",
        "# data = pd.read_csv(\"/content/drive/MyDrive/NSE 30 Historical Data.csv\" , thousands =',')"
      ]
    },
    {
      "cell_type": "code",
      "execution_count": 2,
      "metadata": {
        "id": "NZNOPF2yHJlP",
        "colab": {
          "base_uri": "https://localhost:8080/",
          "height": 336
        },
        "outputId": "c2ade385-c111-4f9a-cd51-af8452242438"
      },
      "outputs": [
        {
          "output_type": "error",
          "ename": "FileNotFoundError",
          "evalue": "ignored",
          "traceback": [
            "\u001b[0;31m---------------------------------------------------------------------------\u001b[0m",
            "\u001b[0;31mFileNotFoundError\u001b[0m                         Traceback (most recent call last)",
            "\u001b[0;32m<ipython-input-2-00cbc5788a1e>\u001b[0m in \u001b[0;36m<module>\u001b[0;34m\u001b[0m\n\u001b[1;32m      1\u001b[0m \u001b[0;31m# # # Import the dataset for the analysis\u001b[0m\u001b[0;34m\u001b[0m\u001b[0;34m\u001b[0m\u001b[0;34m\u001b[0m\u001b[0m\n\u001b[0;32m----> 2\u001b[0;31m \u001b[0mdata\u001b[0m \u001b[0;34m=\u001b[0m \u001b[0mpd\u001b[0m\u001b[0;34m.\u001b[0m\u001b[0mread_csv\u001b[0m\u001b[0;34m(\u001b[0m\u001b[0;34m\"NSE All Share Historical Data.csv\"\u001b[0m \u001b[0;34m,\u001b[0m \u001b[0mthousands\u001b[0m \u001b[0;34m=\u001b[0m\u001b[0;34m','\u001b[0m\u001b[0;34m)\u001b[0m\u001b[0;34m\u001b[0m\u001b[0;34m\u001b[0m\u001b[0m\n\u001b[0m",
            "\u001b[0;32m/usr/local/lib/python3.7/dist-packages/pandas/util/_decorators.py\u001b[0m in \u001b[0;36mwrapper\u001b[0;34m(*args, **kwargs)\u001b[0m\n\u001b[1;32m    309\u001b[0m                     \u001b[0mstacklevel\u001b[0m\u001b[0;34m=\u001b[0m\u001b[0mstacklevel\u001b[0m\u001b[0;34m,\u001b[0m\u001b[0;34m\u001b[0m\u001b[0;34m\u001b[0m\u001b[0m\n\u001b[1;32m    310\u001b[0m                 )\n\u001b[0;32m--> 311\u001b[0;31m             \u001b[0;32mreturn\u001b[0m \u001b[0mfunc\u001b[0m\u001b[0;34m(\u001b[0m\u001b[0;34m*\u001b[0m\u001b[0margs\u001b[0m\u001b[0;34m,\u001b[0m \u001b[0;34m**\u001b[0m\u001b[0mkwargs\u001b[0m\u001b[0;34m)\u001b[0m\u001b[0;34m\u001b[0m\u001b[0;34m\u001b[0m\u001b[0m\n\u001b[0m\u001b[1;32m    312\u001b[0m \u001b[0;34m\u001b[0m\u001b[0m\n\u001b[1;32m    313\u001b[0m         \u001b[0;32mreturn\u001b[0m \u001b[0mwrapper\u001b[0m\u001b[0;34m\u001b[0m\u001b[0;34m\u001b[0m\u001b[0m\n",
            "\u001b[0;32m/usr/local/lib/python3.7/dist-packages/pandas/io/parsers/readers.py\u001b[0m in \u001b[0;36mread_csv\u001b[0;34m(filepath_or_buffer, sep, delimiter, header, names, index_col, usecols, squeeze, prefix, mangle_dupe_cols, dtype, engine, converters, true_values, false_values, skipinitialspace, skiprows, skipfooter, nrows, na_values, keep_default_na, na_filter, verbose, skip_blank_lines, parse_dates, infer_datetime_format, keep_date_col, date_parser, dayfirst, cache_dates, iterator, chunksize, compression, thousands, decimal, lineterminator, quotechar, quoting, doublequote, escapechar, comment, encoding, encoding_errors, dialect, error_bad_lines, warn_bad_lines, on_bad_lines, delim_whitespace, low_memory, memory_map, float_precision, storage_options)\u001b[0m\n\u001b[1;32m    584\u001b[0m     \u001b[0mkwds\u001b[0m\u001b[0;34m.\u001b[0m\u001b[0mupdate\u001b[0m\u001b[0;34m(\u001b[0m\u001b[0mkwds_defaults\u001b[0m\u001b[0;34m)\u001b[0m\u001b[0;34m\u001b[0m\u001b[0;34m\u001b[0m\u001b[0m\n\u001b[1;32m    585\u001b[0m \u001b[0;34m\u001b[0m\u001b[0m\n\u001b[0;32m--> 586\u001b[0;31m     \u001b[0;32mreturn\u001b[0m \u001b[0m_read\u001b[0m\u001b[0;34m(\u001b[0m\u001b[0mfilepath_or_buffer\u001b[0m\u001b[0;34m,\u001b[0m \u001b[0mkwds\u001b[0m\u001b[0;34m)\u001b[0m\u001b[0;34m\u001b[0m\u001b[0;34m\u001b[0m\u001b[0m\n\u001b[0m\u001b[1;32m    587\u001b[0m \u001b[0;34m\u001b[0m\u001b[0m\n\u001b[1;32m    588\u001b[0m \u001b[0;34m\u001b[0m\u001b[0m\n",
            "\u001b[0;32m/usr/local/lib/python3.7/dist-packages/pandas/io/parsers/readers.py\u001b[0m in \u001b[0;36m_read\u001b[0;34m(filepath_or_buffer, kwds)\u001b[0m\n\u001b[1;32m    480\u001b[0m \u001b[0;34m\u001b[0m\u001b[0m\n\u001b[1;32m    481\u001b[0m     \u001b[0;31m# Create the parser.\u001b[0m\u001b[0;34m\u001b[0m\u001b[0;34m\u001b[0m\u001b[0;34m\u001b[0m\u001b[0m\n\u001b[0;32m--> 482\u001b[0;31m     \u001b[0mparser\u001b[0m \u001b[0;34m=\u001b[0m \u001b[0mTextFileReader\u001b[0m\u001b[0;34m(\u001b[0m\u001b[0mfilepath_or_buffer\u001b[0m\u001b[0;34m,\u001b[0m \u001b[0;34m**\u001b[0m\u001b[0mkwds\u001b[0m\u001b[0;34m)\u001b[0m\u001b[0;34m\u001b[0m\u001b[0;34m\u001b[0m\u001b[0m\n\u001b[0m\u001b[1;32m    483\u001b[0m \u001b[0;34m\u001b[0m\u001b[0m\n\u001b[1;32m    484\u001b[0m     \u001b[0;32mif\u001b[0m \u001b[0mchunksize\u001b[0m \u001b[0;32mor\u001b[0m \u001b[0miterator\u001b[0m\u001b[0;34m:\u001b[0m\u001b[0;34m\u001b[0m\u001b[0;34m\u001b[0m\u001b[0m\n",
            "\u001b[0;32m/usr/local/lib/python3.7/dist-packages/pandas/io/parsers/readers.py\u001b[0m in \u001b[0;36m__init__\u001b[0;34m(self, f, engine, **kwds)\u001b[0m\n\u001b[1;32m    809\u001b[0m             \u001b[0mself\u001b[0m\u001b[0;34m.\u001b[0m\u001b[0moptions\u001b[0m\u001b[0;34m[\u001b[0m\u001b[0;34m\"has_index_names\"\u001b[0m\u001b[0;34m]\u001b[0m \u001b[0;34m=\u001b[0m \u001b[0mkwds\u001b[0m\u001b[0;34m[\u001b[0m\u001b[0;34m\"has_index_names\"\u001b[0m\u001b[0;34m]\u001b[0m\u001b[0;34m\u001b[0m\u001b[0;34m\u001b[0m\u001b[0m\n\u001b[1;32m    810\u001b[0m \u001b[0;34m\u001b[0m\u001b[0m\n\u001b[0;32m--> 811\u001b[0;31m         \u001b[0mself\u001b[0m\u001b[0;34m.\u001b[0m\u001b[0m_engine\u001b[0m \u001b[0;34m=\u001b[0m \u001b[0mself\u001b[0m\u001b[0;34m.\u001b[0m\u001b[0m_make_engine\u001b[0m\u001b[0;34m(\u001b[0m\u001b[0mself\u001b[0m\u001b[0;34m.\u001b[0m\u001b[0mengine\u001b[0m\u001b[0;34m)\u001b[0m\u001b[0;34m\u001b[0m\u001b[0;34m\u001b[0m\u001b[0m\n\u001b[0m\u001b[1;32m    812\u001b[0m \u001b[0;34m\u001b[0m\u001b[0m\n\u001b[1;32m    813\u001b[0m     \u001b[0;32mdef\u001b[0m \u001b[0mclose\u001b[0m\u001b[0;34m(\u001b[0m\u001b[0mself\u001b[0m\u001b[0;34m)\u001b[0m\u001b[0;34m:\u001b[0m\u001b[0;34m\u001b[0m\u001b[0;34m\u001b[0m\u001b[0m\n",
            "\u001b[0;32m/usr/local/lib/python3.7/dist-packages/pandas/io/parsers/readers.py\u001b[0m in \u001b[0;36m_make_engine\u001b[0;34m(self, engine)\u001b[0m\n\u001b[1;32m   1038\u001b[0m             )\n\u001b[1;32m   1039\u001b[0m         \u001b[0;31m# error: Too many arguments for \"ParserBase\"\u001b[0m\u001b[0;34m\u001b[0m\u001b[0;34m\u001b[0m\u001b[0;34m\u001b[0m\u001b[0m\n\u001b[0;32m-> 1040\u001b[0;31m         \u001b[0;32mreturn\u001b[0m \u001b[0mmapping\u001b[0m\u001b[0;34m[\u001b[0m\u001b[0mengine\u001b[0m\u001b[0;34m]\u001b[0m\u001b[0;34m(\u001b[0m\u001b[0mself\u001b[0m\u001b[0;34m.\u001b[0m\u001b[0mf\u001b[0m\u001b[0;34m,\u001b[0m \u001b[0;34m**\u001b[0m\u001b[0mself\u001b[0m\u001b[0;34m.\u001b[0m\u001b[0moptions\u001b[0m\u001b[0;34m)\u001b[0m  \u001b[0;31m# type: ignore[call-arg]\u001b[0m\u001b[0;34m\u001b[0m\u001b[0;34m\u001b[0m\u001b[0m\n\u001b[0m\u001b[1;32m   1041\u001b[0m \u001b[0;34m\u001b[0m\u001b[0m\n\u001b[1;32m   1042\u001b[0m     \u001b[0;32mdef\u001b[0m \u001b[0m_failover_to_python\u001b[0m\u001b[0;34m(\u001b[0m\u001b[0mself\u001b[0m\u001b[0;34m)\u001b[0m\u001b[0;34m:\u001b[0m\u001b[0;34m\u001b[0m\u001b[0;34m\u001b[0m\u001b[0m\n",
            "\u001b[0;32m/usr/local/lib/python3.7/dist-packages/pandas/io/parsers/c_parser_wrapper.py\u001b[0m in \u001b[0;36m__init__\u001b[0;34m(self, src, **kwds)\u001b[0m\n\u001b[1;32m     49\u001b[0m \u001b[0;34m\u001b[0m\u001b[0m\n\u001b[1;32m     50\u001b[0m         \u001b[0;31m# open handles\u001b[0m\u001b[0;34m\u001b[0m\u001b[0;34m\u001b[0m\u001b[0;34m\u001b[0m\u001b[0m\n\u001b[0;32m---> 51\u001b[0;31m         \u001b[0mself\u001b[0m\u001b[0;34m.\u001b[0m\u001b[0m_open_handles\u001b[0m\u001b[0;34m(\u001b[0m\u001b[0msrc\u001b[0m\u001b[0;34m,\u001b[0m \u001b[0mkwds\u001b[0m\u001b[0;34m)\u001b[0m\u001b[0;34m\u001b[0m\u001b[0;34m\u001b[0m\u001b[0m\n\u001b[0m\u001b[1;32m     52\u001b[0m         \u001b[0;32massert\u001b[0m \u001b[0mself\u001b[0m\u001b[0;34m.\u001b[0m\u001b[0mhandles\u001b[0m \u001b[0;32mis\u001b[0m \u001b[0;32mnot\u001b[0m \u001b[0;32mNone\u001b[0m\u001b[0;34m\u001b[0m\u001b[0;34m\u001b[0m\u001b[0m\n\u001b[1;32m     53\u001b[0m \u001b[0;34m\u001b[0m\u001b[0m\n",
            "\u001b[0;32m/usr/local/lib/python3.7/dist-packages/pandas/io/parsers/base_parser.py\u001b[0m in \u001b[0;36m_open_handles\u001b[0;34m(self, src, kwds)\u001b[0m\n\u001b[1;32m    227\u001b[0m             \u001b[0mmemory_map\u001b[0m\u001b[0;34m=\u001b[0m\u001b[0mkwds\u001b[0m\u001b[0;34m.\u001b[0m\u001b[0mget\u001b[0m\u001b[0;34m(\u001b[0m\u001b[0;34m\"memory_map\"\u001b[0m\u001b[0;34m,\u001b[0m \u001b[0;32mFalse\u001b[0m\u001b[0;34m)\u001b[0m\u001b[0;34m,\u001b[0m\u001b[0;34m\u001b[0m\u001b[0;34m\u001b[0m\u001b[0m\n\u001b[1;32m    228\u001b[0m             \u001b[0mstorage_options\u001b[0m\u001b[0;34m=\u001b[0m\u001b[0mkwds\u001b[0m\u001b[0;34m.\u001b[0m\u001b[0mget\u001b[0m\u001b[0;34m(\u001b[0m\u001b[0;34m\"storage_options\"\u001b[0m\u001b[0;34m,\u001b[0m \u001b[0;32mNone\u001b[0m\u001b[0;34m)\u001b[0m\u001b[0;34m,\u001b[0m\u001b[0;34m\u001b[0m\u001b[0;34m\u001b[0m\u001b[0m\n\u001b[0;32m--> 229\u001b[0;31m             \u001b[0merrors\u001b[0m\u001b[0;34m=\u001b[0m\u001b[0mkwds\u001b[0m\u001b[0;34m.\u001b[0m\u001b[0mget\u001b[0m\u001b[0;34m(\u001b[0m\u001b[0;34m\"encoding_errors\"\u001b[0m\u001b[0;34m,\u001b[0m \u001b[0;34m\"strict\"\u001b[0m\u001b[0;34m)\u001b[0m\u001b[0;34m,\u001b[0m\u001b[0;34m\u001b[0m\u001b[0;34m\u001b[0m\u001b[0m\n\u001b[0m\u001b[1;32m    230\u001b[0m         )\n\u001b[1;32m    231\u001b[0m \u001b[0;34m\u001b[0m\u001b[0m\n",
            "\u001b[0;32m/usr/local/lib/python3.7/dist-packages/pandas/io/common.py\u001b[0m in \u001b[0;36mget_handle\u001b[0;34m(path_or_buf, mode, encoding, compression, memory_map, is_text, errors, storage_options)\u001b[0m\n\u001b[1;32m    705\u001b[0m                 \u001b[0mencoding\u001b[0m\u001b[0;34m=\u001b[0m\u001b[0mioargs\u001b[0m\u001b[0;34m.\u001b[0m\u001b[0mencoding\u001b[0m\u001b[0;34m,\u001b[0m\u001b[0;34m\u001b[0m\u001b[0;34m\u001b[0m\u001b[0m\n\u001b[1;32m    706\u001b[0m                 \u001b[0merrors\u001b[0m\u001b[0;34m=\u001b[0m\u001b[0merrors\u001b[0m\u001b[0;34m,\u001b[0m\u001b[0;34m\u001b[0m\u001b[0;34m\u001b[0m\u001b[0m\n\u001b[0;32m--> 707\u001b[0;31m                 \u001b[0mnewline\u001b[0m\u001b[0;34m=\u001b[0m\u001b[0;34m\"\"\u001b[0m\u001b[0;34m,\u001b[0m\u001b[0;34m\u001b[0m\u001b[0;34m\u001b[0m\u001b[0m\n\u001b[0m\u001b[1;32m    708\u001b[0m             )\n\u001b[1;32m    709\u001b[0m         \u001b[0;32melse\u001b[0m\u001b[0;34m:\u001b[0m\u001b[0;34m\u001b[0m\u001b[0;34m\u001b[0m\u001b[0m\n",
            "\u001b[0;31mFileNotFoundError\u001b[0m: [Errno 2] No such file or directory: 'NSE All Share Historical Data.csv'"
          ]
        }
      ],
      "source": [
        "# # # Import the dataset for the analysis \n",
        "data = pd.read_csv(\"NSE All Share Historical Data.csv\" , thousands =',')"
      ]
    },
    {
      "cell_type": "code",
      "execution_count": null,
      "metadata": {
        "id": "t_yOeVQlc9vQ"
      },
      "outputs": [],
      "source": [
        "# Data engineering \n",
        "data['Vol.'] = data['Vol.'].str.replace('M', \"\")\n",
        "data['Change %'] = data['Change %'].str.replace('%', \"\")\n",
        "data['Date'] = pd.to_datetime(data['Date'])"
      ]
    },
    {
      "cell_type": "code",
      "execution_count": null,
      "metadata": {
        "id": "hHc2VCy7fDxG"
      },
      "outputs": [],
      "source": [
        "data['Vol.'] = pd.to_numeric(data['Vol.'], errors ='coerce')\n",
        "data['Change %'] = pd.to_numeric(data['Change %'], errors ='coerce')"
      ]
    },
    {
      "cell_type": "code",
      "execution_count": null,
      "metadata": {
        "colab": {
          "base_uri": "https://localhost:8080/"
        },
        "id": "JNRUi_wrH0Fu",
        "outputId": "e16586f6-189a-49cd-c7b9-926db8d97c2c"
      },
      "outputs": [
        {
          "data": {
            "text/plain": [
              "(2456, 7)"
            ]
          },
          "execution_count": 8,
          "metadata": {},
          "output_type": "execute_result"
        }
      ],
      "source": [
        "#Checking the dimension of the dataset\n",
        "data.shape"
      ]
    },
    {
      "cell_type": "code",
      "execution_count": null,
      "metadata": {
        "colab": {
          "base_uri": "https://localhost:8080/",
          "height": 201
        },
        "id": "tZhjsxphIV5t",
        "outputId": "715a095a-aee6-4ea8-fd72-c356f175be8a"
      },
      "outputs": [
        {
          "data": {
            "text/html": [
              "<div>\n",
              "<style scoped>\n",
              "    .dataframe tbody tr th:only-of-type {\n",
              "        vertical-align: middle;\n",
              "    }\n",
              "\n",
              "    .dataframe tbody tr th {\n",
              "        vertical-align: top;\n",
              "    }\n",
              "\n",
              "    .dataframe thead th {\n",
              "        text-align: right;\n",
              "    }\n",
              "</style>\n",
              "<table border=\"1\" class=\"dataframe\">\n",
              "  <thead>\n",
              "    <tr style=\"text-align: right;\">\n",
              "      <th></th>\n",
              "      <th>Date</th>\n",
              "      <th>Price</th>\n",
              "      <th>Open</th>\n",
              "      <th>High</th>\n",
              "      <th>Low</th>\n",
              "      <th>Vol.</th>\n",
              "      <th>Change %</th>\n",
              "    </tr>\n",
              "  </thead>\n",
              "  <tbody>\n",
              "    <tr>\n",
              "      <th>0</th>\n",
              "      <td>2021-12-30</td>\n",
              "      <td>41813.27</td>\n",
              "      <td>41807.10</td>\n",
              "      <td>41815.32</td>\n",
              "      <td>41753.53</td>\n",
              "      <td>359.96</td>\n",
              "      <td>0.01</td>\n",
              "    </tr>\n",
              "    <tr>\n",
              "      <th>1</th>\n",
              "      <td>2021-12-29</td>\n",
              "      <td>41807.10</td>\n",
              "      <td>42262.85</td>\n",
              "      <td>42295.21</td>\n",
              "      <td>41745.37</td>\n",
              "      <td>180.15</td>\n",
              "      <td>-1.08</td>\n",
              "    </tr>\n",
              "    <tr>\n",
              "      <th>2</th>\n",
              "      <td>2021-12-24</td>\n",
              "      <td>42262.85</td>\n",
              "      <td>42230.48</td>\n",
              "      <td>42269.66</td>\n",
              "      <td>42217.46</td>\n",
              "      <td>111.84</td>\n",
              "      <td>0.08</td>\n",
              "    </tr>\n",
              "    <tr>\n",
              "      <th>3</th>\n",
              "      <td>2021-12-23</td>\n",
              "      <td>42230.48</td>\n",
              "      <td>42244.22</td>\n",
              "      <td>42263.82</td>\n",
              "      <td>42207.99</td>\n",
              "      <td>211.08</td>\n",
              "      <td>-0.03</td>\n",
              "    </tr>\n",
              "    <tr>\n",
              "      <th>4</th>\n",
              "      <td>2021-12-22</td>\n",
              "      <td>42244.22</td>\n",
              "      <td>42388.57</td>\n",
              "      <td>42390.74</td>\n",
              "      <td>42240.71</td>\n",
              "      <td>224.02</td>\n",
              "      <td>-0.34</td>\n",
              "    </tr>\n",
              "  </tbody>\n",
              "</table>\n",
              "</div>"
            ],
            "text/plain": [
              "        Date     Price      Open      High       Low    Vol.  Change %\n",
              "0 2021-12-30  41813.27  41807.10  41815.32  41753.53  359.96      0.01\n",
              "1 2021-12-29  41807.10  42262.85  42295.21  41745.37  180.15     -1.08\n",
              "2 2021-12-24  42262.85  42230.48  42269.66  42217.46  111.84      0.08\n",
              "3 2021-12-23  42230.48  42244.22  42263.82  42207.99  211.08     -0.03\n",
              "4 2021-12-22  42244.22  42388.57  42390.74  42240.71  224.02     -0.34"
            ]
          },
          "execution_count": 9,
          "metadata": {},
          "output_type": "execute_result"
        }
      ],
      "source": [
        "#Printing the first 5 rows of the dataset \n",
        "data.head(5)"
      ]
    },
    {
      "cell_type": "code",
      "execution_count": null,
      "metadata": {
        "colab": {
          "base_uri": "https://localhost:8080/",
          "height": 291
        },
        "id": "W-GWsgsgs8DV",
        "outputId": "8035ca88-dc14-43e3-82de-d1a8c8384b52"
      },
      "outputs": [
        {
          "data": {
            "text/html": [
              "<div>\n",
              "<style scoped>\n",
              "    .dataframe tbody tr th:only-of-type {\n",
              "        vertical-align: middle;\n",
              "    }\n",
              "\n",
              "    .dataframe tbody tr th {\n",
              "        vertical-align: top;\n",
              "    }\n",
              "\n",
              "    .dataframe thead th {\n",
              "        text-align: right;\n",
              "    }\n",
              "</style>\n",
              "<table border=\"1\" class=\"dataframe\">\n",
              "  <thead>\n",
              "    <tr style=\"text-align: right;\">\n",
              "      <th></th>\n",
              "      <th>Price</th>\n",
              "      <th>Open</th>\n",
              "      <th>High</th>\n",
              "      <th>Low</th>\n",
              "      <th>Vol.</th>\n",
              "      <th>Change %</th>\n",
              "    </tr>\n",
              "  </thead>\n",
              "  <tbody>\n",
              "    <tr>\n",
              "      <th>count</th>\n",
              "      <td>2456.000000</td>\n",
              "      <td>2456.000000</td>\n",
              "      <td>2456.000000</td>\n",
              "      <td>2456.000000</td>\n",
              "      <td>1135.000000</td>\n",
              "      <td>2456.000000</td>\n",
              "    </tr>\n",
              "    <tr>\n",
              "      <th>mean</th>\n",
              "      <td>32171.525892</td>\n",
              "      <td>32143.579511</td>\n",
              "      <td>32317.595452</td>\n",
              "      <td>31990.901112</td>\n",
              "      <td>304.532599</td>\n",
              "      <td>0.033127</td>\n",
              "    </tr>\n",
              "    <tr>\n",
              "      <th>std</th>\n",
              "      <td>6289.653664</td>\n",
              "      <td>6320.600931</td>\n",
              "      <td>6308.764290</td>\n",
              "      <td>6259.755782</td>\n",
              "      <td>156.843403</td>\n",
              "      <td>0.988917</td>\n",
              "    </tr>\n",
              "    <tr>\n",
              "      <th>min</th>\n",
              "      <td>20123.510000</td>\n",
              "      <td>0.000000</td>\n",
              "      <td>20123.510000</td>\n",
              "      <td>20007.190000</td>\n",
              "      <td>59.500000</td>\n",
              "      <td>-4.910000</td>\n",
              "    </tr>\n",
              "    <tr>\n",
              "      <th>25%</th>\n",
              "      <td>26854.560000</td>\n",
              "      <td>26854.560000</td>\n",
              "      <td>26963.312500</td>\n",
              "      <td>26703.562500</td>\n",
              "      <td>192.830000</td>\n",
              "      <td>-0.420000</td>\n",
              "    </tr>\n",
              "    <tr>\n",
              "      <th>50%</th>\n",
              "      <td>31388.325000</td>\n",
              "      <td>31371.780000</td>\n",
              "      <td>31587.005000</td>\n",
              "      <td>31150.025000</td>\n",
              "      <td>259.480000</td>\n",
              "      <td>0.000000</td>\n",
              "    </tr>\n",
              "    <tr>\n",
              "      <th>75%</th>\n",
              "      <td>38003.870000</td>\n",
              "      <td>37991.085000</td>\n",
              "      <td>38230.742500</td>\n",
              "      <td>37863.317500</td>\n",
              "      <td>370.155000</td>\n",
              "      <td>0.450000</td>\n",
              "    </tr>\n",
              "    <tr>\n",
              "      <th>max</th>\n",
              "      <td>45092.830000</td>\n",
              "      <td>45092.830000</td>\n",
              "      <td>45321.820000</td>\n",
              "      <td>44748.240000</td>\n",
              "      <td>960.680000</td>\n",
              "      <td>8.310000</td>\n",
              "    </tr>\n",
              "  </tbody>\n",
              "</table>\n",
              "</div>"
            ],
            "text/plain": [
              "              Price          Open          High           Low         Vol.  \\\n",
              "count   2456.000000   2456.000000   2456.000000   2456.000000  1135.000000   \n",
              "mean   32171.525892  32143.579511  32317.595452  31990.901112   304.532599   \n",
              "std     6289.653664   6320.600931   6308.764290   6259.755782   156.843403   \n",
              "min    20123.510000      0.000000  20123.510000  20007.190000    59.500000   \n",
              "25%    26854.560000  26854.560000  26963.312500  26703.562500   192.830000   \n",
              "50%    31388.325000  31371.780000  31587.005000  31150.025000   259.480000   \n",
              "75%    38003.870000  37991.085000  38230.742500  37863.317500   370.155000   \n",
              "max    45092.830000  45092.830000  45321.820000  44748.240000   960.680000   \n",
              "\n",
              "          Change %  \n",
              "count  2456.000000  \n",
              "mean      0.033127  \n",
              "std       0.988917  \n",
              "min      -4.910000  \n",
              "25%      -0.420000  \n",
              "50%       0.000000  \n",
              "75%       0.450000  \n",
              "max       8.310000  "
            ]
          },
          "execution_count": 10,
          "metadata": {},
          "output_type": "execute_result"
        }
      ],
      "source": [
        "#Summary statistics of the data\n",
        "data.describe()"
      ]
    },
    {
      "cell_type": "markdown",
      "metadata": {
        "id": "MzdGHR-Bp6TR"
      },
      "source": [
        "##Exploratory Data Analysis"
      ]
    },
    {
      "cell_type": "code",
      "execution_count": null,
      "metadata": {
        "colab": {
          "base_uri": "https://localhost:8080/",
          "height": 231
        },
        "id": "qaQUb9m3Im4L",
        "outputId": "ab66c19d-c32f-455a-d5a4-d0e65a5e6aba"
      },
      "outputs": [
        {
          "data": {
            "text/html": [
              "<div>\n",
              "<style scoped>\n",
              "    .dataframe tbody tr th:only-of-type {\n",
              "        vertical-align: middle;\n",
              "    }\n",
              "\n",
              "    .dataframe tbody tr th {\n",
              "        vertical-align: top;\n",
              "    }\n",
              "\n",
              "    .dataframe thead th {\n",
              "        text-align: right;\n",
              "    }\n",
              "</style>\n",
              "<table border=\"1\" class=\"dataframe\">\n",
              "  <thead>\n",
              "    <tr style=\"text-align: right;\">\n",
              "      <th></th>\n",
              "      <th>Price</th>\n",
              "      <th>Open</th>\n",
              "      <th>High</th>\n",
              "      <th>Low</th>\n",
              "      <th>Vol.</th>\n",
              "      <th>Change %</th>\n",
              "    </tr>\n",
              "  </thead>\n",
              "  <tbody>\n",
              "    <tr>\n",
              "      <th>Price</th>\n",
              "      <td>1.000000</td>\n",
              "      <td>0.989513</td>\n",
              "      <td>0.999485</td>\n",
              "      <td>0.999335</td>\n",
              "      <td>0.263254</td>\n",
              "      <td>0.015220</td>\n",
              "    </tr>\n",
              "    <tr>\n",
              "      <th>Open</th>\n",
              "      <td>0.989513</td>\n",
              "      <td>1.000000</td>\n",
              "      <td>0.990064</td>\n",
              "      <td>0.990022</td>\n",
              "      <td>0.254163</td>\n",
              "      <td>-0.033164</td>\n",
              "    </tr>\n",
              "    <tr>\n",
              "      <th>High</th>\n",
              "      <td>0.999485</td>\n",
              "      <td>0.990064</td>\n",
              "      <td>1.000000</td>\n",
              "      <td>0.999106</td>\n",
              "      <td>0.265112</td>\n",
              "      <td>-0.007168</td>\n",
              "    </tr>\n",
              "    <tr>\n",
              "      <th>Low</th>\n",
              "      <td>0.999335</td>\n",
              "      <td>0.990022</td>\n",
              "      <td>0.999106</td>\n",
              "      <td>1.000000</td>\n",
              "      <td>0.252545</td>\n",
              "      <td>-0.009830</td>\n",
              "    </tr>\n",
              "    <tr>\n",
              "      <th>Vol.</th>\n",
              "      <td>0.263254</td>\n",
              "      <td>0.254163</td>\n",
              "      <td>0.265112</td>\n",
              "      <td>0.252545</td>\n",
              "      <td>1.000000</td>\n",
              "      <td>0.201776</td>\n",
              "    </tr>\n",
              "    <tr>\n",
              "      <th>Change %</th>\n",
              "      <td>0.015220</td>\n",
              "      <td>-0.033164</td>\n",
              "      <td>-0.007168</td>\n",
              "      <td>-0.009830</td>\n",
              "      <td>0.201776</td>\n",
              "      <td>1.000000</td>\n",
              "    </tr>\n",
              "  </tbody>\n",
              "</table>\n",
              "</div>"
            ],
            "text/plain": [
              "             Price      Open      High       Low      Vol.  Change %\n",
              "Price     1.000000  0.989513  0.999485  0.999335  0.263254  0.015220\n",
              "Open      0.989513  1.000000  0.990064  0.990022  0.254163 -0.033164\n",
              "High      0.999485  0.990064  1.000000  0.999106  0.265112 -0.007168\n",
              "Low       0.999335  0.990022  0.999106  1.000000  0.252545 -0.009830\n",
              "Vol.      0.263254  0.254163  0.265112  0.252545  1.000000  0.201776\n",
              "Change %  0.015220 -0.033164 -0.007168 -0.009830  0.201776  1.000000"
            ]
          },
          "execution_count": 11,
          "metadata": {},
          "output_type": "execute_result"
        }
      ],
      "source": [
        "#Correlation of the variables to check the importance of all the variables with thenprice variable\n",
        "data.corr()"
      ]
    },
    {
      "cell_type": "code",
      "execution_count": null,
      "metadata": {
        "colab": {
          "base_uri": "https://localhost:8080/",
          "height": 269
        },
        "id": "oqdAoSwCKULB",
        "outputId": "45a681a8-745f-42cb-c422-712b9f7862f6"
      },
      "outputs": [
        {
          "data": {
            "image/png": "[encoded data removed]",
            "text/plain": [
              "<Figure size 432x288 with 2 Axes>"
            ]
          },
          "metadata": {
            "needs_background": "light"
          },
          "output_type": "display_data"
        }
      ],
      "source": [
        "#Heatmap plot \n",
        "corrmap=sns.heatmap(data.corr())"
      ]
    },
    {
      "cell_type": "code",
      "execution_count": null,
      "metadata": {
        "colab": {
          "base_uri": "https://localhost:8080/",
          "height": 32
        },
        "id": "Li2R-nGLN99S",
        "outputId": "98939b63-57ce-4564-e92f-907592c165c8"
      },
      "outputs": [
        {
          "data": {
            "text/plain": [
              "<Figure size 432x288 with 0 Axes>"
            ]
          },
          "metadata": {},
          "output_type": "display_data"
        }
      ],
      "source": [
        "## Saving the heatmap plot\n",
        "plt.savefig('corrmap.jpeg')"
      ]
    },
    {
      "cell_type": "code",
      "execution_count": null,
      "metadata": {
        "colab": {
          "base_uri": "https://localhost:8080/"
        },
        "id": "jHnwvZmIgpdk",
        "outputId": "ad6e1aaf-e498-4c72-ced3-384304100414"
      },
      "outputs": [
        {
          "name": "stdout",
          "output_type": "stream",
          "text": [
            "<class 'pandas.core.frame.DataFrame'>\n",
            "RangeIndex: 2456 entries, 0 to 2455\n",
            "Data columns (total 7 columns):\n",
            " #   Column    Non-Null Count  Dtype         \n",
            "---  ------    --------------  -----         \n",
            " 0   Date      2456 non-null   datetime64[ns]\n",
            " 1   Price     2456 non-null   float64       \n",
            " 2   Open      2456 non-null   float64       \n",
            " 3   High      2456 non-null   float64       \n",
            " 4   Low       2456 non-null   float64       \n",
            " 5   Vol.      1135 non-null   float64       \n",
            " 6   Change %  2456 non-null   float64       \n",
            "dtypes: datetime64[ns](1), float64(6)\n",
            "memory usage: 134.4 KB\n"
          ]
        }
      ],
      "source": [
        "#Data information\n",
        "data.info()"
      ]
    },
    {
      "cell_type": "markdown",
      "metadata": {
        "id": "W3rYtpOCqG2i"
      },
      "source": [
        "#Histogram for the price"
      ]
    },
    {
      "cell_type": "code",
      "execution_count": null,
      "metadata": {
        "colab": {
          "base_uri": "https://localhost:8080/",
          "height": 330
        },
        "id": "OCQGBQmf5SvH",
        "outputId": "f9406c79-10e7-4d90-d667-94b2bd9e62e2"
      },
      "outputs": [
        {
          "data": {
            "text/plain": [
              "(array([136., 167., 458., 319., 241., 233., 228., 355., 248.,  71.]),\n",
              " array([20123.51 , 22620.442, 25117.374, 27614.306, 30111.238, 32608.17 ,\n",
              "        35105.102, 37602.034, 40098.966, 42595.898, 45092.83 ]),\n",
              " <BarContainer object of 10 artists>)"
            ]
          },
          "execution_count": 14,
          "metadata": {},
          "output_type": "execute_result"
        },
        {
          "data": {
            "image/png": "[encoded data removed]",
            "text/plain": [
              "<Figure size 432x288 with 1 Axes>"
            ]
          },
          "metadata": {
            "needs_background": "light"
          },
          "output_type": "display_data"
        }
      ],
      "source": [
        "plt.hist(data['Price'])"
      ]
    },
    {
      "cell_type": "markdown",
      "metadata": {
        "id": "DM5x87Acqxxa"
      },
      "source": [
        "#Stock price series plot"
      ]
    },
    {
      "cell_type": "markdown",
      "metadata": {
        "id": "xoRHn_8w8Zfd"
      },
      "source": [
        "###Data Visualization"
      ]
    },
    {
      "cell_type": "code",
      "execution_count": null,
      "metadata": {
        "colab": {
          "base_uri": "https://localhost:8080/",
          "height": 295
        },
        "id": "FAu9TjC8v342",
        "outputId": "724b6744-b2dd-4c39-8de0-f0c05b619263"
      },
      "outputs": [
        {
          "data": {
            "text/plain": [
              "Text(0, 0.5, 'Stock Price')"
            ]
          },
          "execution_count": 15,
          "metadata": {},
          "output_type": "execute_result"
        },
        {
          "data": {
            "image/png": "[encoded data removed]",
            "text/plain": [
              "<Figure size 432x288 with 1 Axes>"
            ]
          },
          "metadata": {
            "needs_background": "light"
          },
          "output_type": "display_data"
        }
      ],
      "source": [
        "plt.plot(data['Date'], data[\"Price\"])\n",
        "plt.xlabel(\" Year \")\n",
        "plt.ylabel(\"Stock Price\")"
      ]
    },
    {
      "cell_type": "code",
      "execution_count": null,
      "metadata": {
        "colab": {
          "base_uri": "https://localhost:8080/",
          "height": 351
        },
        "id": "anCKWyZn_yoH",
        "outputId": "4c4bc340-ef7c-4290-f45b-884d5c8d3ca8"
      },
      "outputs": [
        {
          "name": "stderr",
          "output_type": "stream",
          "text": [
            "/opt/anaconda3/lib/python3.9/site-packages/seaborn/distributions.py:2619: FutureWarning: `distplot` is a deprecated function and will be removed in a future version. Please adapt your code to use either `displot` (a figure-level function with similar flexibility) or `histplot` (an axes-level function for histograms).\n",
            "  warnings.warn(msg, FutureWarning)\n"
          ]
        },
        {
          "data": {
            "text/plain": [
              "<AxesSubplot:xlabel='Price', ylabel='Density'>"
            ]
          },
          "execution_count": 16,
          "metadata": {},
          "output_type": "execute_result"
        },
        {
          "data": {
            "image/png": "[encoded data removed]",
            "text/plain": [
              "<Figure size 432x288 with 1 Axes>"
            ]
          },
          "metadata": {
            "needs_background": "light"
          },
          "output_type": "display_data"
        }
      ],
      "source": [
        "sns.distplot(data['Price'])"
      ]
    },
    {
      "cell_type": "markdown",
      "metadata": {
        "id": "h2xgA8Weq5Rt"
      },
      "source": [
        "#Price autocorrelation plot"
      ]
    },
    {
      "cell_type": "code",
      "execution_count": null,
      "metadata": {
        "colab": {
          "base_uri": "https://localhost:8080/",
          "height": 300
        },
        "id": "5MUwJI1NwIPw",
        "outputId": "5d6d53a9-d2e2-4cd6-8d5a-004e42fb7d4f"
      },
      "outputs": [
        {
          "data": {
            "text/plain": [
              "<AxesSubplot:xlabel='Lag', ylabel='Autocorrelation'>"
            ]
          },
          "execution_count": 17,
          "metadata": {},
          "output_type": "execute_result"
        },
        {
          "data": {
            "image/png": "[encoded data removed]",
            "text/plain": [
              "<Figure size 432x288 with 1 Axes>"
            ]
          },
          "metadata": {
            "needs_background": "light"
          },
          "output_type": "display_data"
        }
      ],
      "source": [
        "# create an autocorrelation plot\n",
        "from pandas.plotting import autocorrelation_plot\n",
        "\n",
        "autocorrelation_plot(data['Price'])"
      ]
    },
    {
      "cell_type": "markdown",
      "metadata": {
        "id": "OMdDPMGj5OM6"
      },
      "source": [
        "#Transformation of the data"
      ]
    },
    {
      "cell_type": "code",
      "execution_count": null,
      "metadata": {
        "id": "FNtsWjdE4RLq"
      },
      "outputs": [],
      "source": []
    },
    {
      "cell_type": "code",
      "execution_count": null,
      "metadata": {
        "id": "k8aOYXmuJ_5X"
      },
      "outputs": [],
      "source": [
        "# X = data.iloc[:, 2:7]\n",
        "# del X['Vol.']\n",
        "# #X del (labels = 'Vol.', axis =0)\n",
        "# y = data.iloc[:, 1]"
      ]
    },
    {
      "cell_type": "code",
      "execution_count": null,
      "metadata": {
        "id": "K4Mqt0lbrDT7"
      },
      "outputs": [],
      "source": [
        "# data = data.drop(['Date', 'Vol.'], axis= 1)"
      ]
    },
    {
      "cell_type": "code",
      "execution_count": null,
      "metadata": {
        "id": "NgKrr1AQqwS3"
      },
      "outputs": [],
      "source": [
        "# data2 = data[\"Price\"].pct_change().dropna()"
      ]
    },
    {
      "cell_type": "code",
      "execution_count": null,
      "metadata": {
        "id": "dcDR9LiA8bMW"
      },
      "outputs": [],
      "source": [
        "# def Logreturns(data):\n",
        "#   data.loc[: , \"Price\"] = np.log(data.Price) - np.log(data.Price.shift(1))\n",
        "#   return data"
      ]
    },
    {
      "cell_type": "code",
      "execution_count": null,
      "metadata": {
        "id": "GZVnxTmQu-q6"
      },
      "outputs": [],
      "source": [
        "# np.log10(data['Price']/data['Price'].shift(1))"
      ]
    },
    {
      "cell_type": "code",
      "execution_count": null,
      "metadata": {
        "id": "OOBMWy9j9jUO"
      },
      "outputs": [],
      "source": [
        "def Logreturns(data):\n",
        "  data['Price'] = np.log10(data['Price']/data['Price'].shift(1))\n",
        "  return data"
      ]
    },
    {
      "cell_type": "code",
      "execution_count": null,
      "metadata": {
        "id": "qBoBXEuD_fkO"
      },
      "outputs": [],
      "source": [
        "data2=Logreturns(data)"
      ]
    },
    {
      "cell_type": "code",
      "execution_count": null,
      "metadata": {
        "colab": {
          "base_uri": "https://localhost:8080/",
          "height": 140
        },
        "id": "sPpXsXmQmZRo",
        "outputId": "dc42516a-ac5e-41f3-cf06-afb37fe492c5"
      },
      "outputs": [
        {
          "data": {
            "text/html": [
              "<div>\n",
              "<style scoped>\n",
              "    .dataframe tbody tr th:only-of-type {\n",
              "        vertical-align: middle;\n",
              "    }\n",
              "\n",
              "    .dataframe tbody tr th {\n",
              "        vertical-align: top;\n",
              "    }\n",
              "\n",
              "    .dataframe thead th {\n",
              "        text-align: right;\n",
              "    }\n",
              "</style>\n",
              "<table border=\"1\" class=\"dataframe\">\n",
              "  <thead>\n",
              "    <tr style=\"text-align: right;\">\n",
              "      <th></th>\n",
              "      <th>Date</th>\n",
              "      <th>Price</th>\n",
              "      <th>Open</th>\n",
              "      <th>High</th>\n",
              "      <th>Low</th>\n",
              "      <th>Vol.</th>\n",
              "      <th>Change %</th>\n",
              "    </tr>\n",
              "  </thead>\n",
              "  <tbody>\n",
              "    <tr>\n",
              "      <th>0</th>\n",
              "      <td>2021-12-30</td>\n",
              "      <td>NaN</td>\n",
              "      <td>41807.10</td>\n",
              "      <td>41815.32</td>\n",
              "      <td>41753.53</td>\n",
              "      <td>359.96</td>\n",
              "      <td>0.01</td>\n",
              "    </tr>\n",
              "    <tr>\n",
              "      <th>1</th>\n",
              "      <td>2021-12-29</td>\n",
              "      <td>-0.000064</td>\n",
              "      <td>42262.85</td>\n",
              "      <td>42295.21</td>\n",
              "      <td>41745.37</td>\n",
              "      <td>180.15</td>\n",
              "      <td>-1.08</td>\n",
              "    </tr>\n",
              "    <tr>\n",
              "      <th>2</th>\n",
              "      <td>2021-12-24</td>\n",
              "      <td>0.004709</td>\n",
              "      <td>42230.48</td>\n",
              "      <td>42269.66</td>\n",
              "      <td>42217.46</td>\n",
              "      <td>111.84</td>\n",
              "      <td>0.08</td>\n",
              "    </tr>\n",
              "  </tbody>\n",
              "</table>\n",
              "</div>"
            ],
            "text/plain": [
              "        Date     Price      Open      High       Low    Vol.  Change %\n",
              "0 2021-12-30       NaN  41807.10  41815.32  41753.53  359.96      0.01\n",
              "1 2021-12-29 -0.000064  42262.85  42295.21  41745.37  180.15     -1.08\n",
              "2 2021-12-24  0.004709  42230.48  42269.66  42217.46  111.84      0.08"
            ]
          },
          "execution_count": 20,
          "metadata": {},
          "output_type": "execute_result"
        }
      ],
      "source": [
        "data2.head(3)"
      ]
    },
    {
      "cell_type": "code",
      "execution_count": null,
      "metadata": {
        "colab": {
          "base_uri": "https://localhost:8080/",
          "height": 140
        },
        "id": "urrFGyEZsPMh",
        "outputId": "aecab48b-6472-4b80-fbdd-30baef33e719"
      },
      "outputs": [
        {
          "data": {
            "text/html": [
              "<div>\n",
              "<style scoped>\n",
              "    .dataframe tbody tr th:only-of-type {\n",
              "        vertical-align: middle;\n",
              "    }\n",
              "\n",
              "    .dataframe tbody tr th {\n",
              "        vertical-align: top;\n",
              "    }\n",
              "\n",
              "    .dataframe thead th {\n",
              "        text-align: right;\n",
              "    }\n",
              "</style>\n",
              "<table border=\"1\" class=\"dataframe\">\n",
              "  <thead>\n",
              "    <tr style=\"text-align: right;\">\n",
              "      <th></th>\n",
              "      <th>Date</th>\n",
              "      <th>Price</th>\n",
              "      <th>Open</th>\n",
              "      <th>High</th>\n",
              "      <th>Low</th>\n",
              "      <th>Vol.</th>\n",
              "      <th>Change %</th>\n",
              "    </tr>\n",
              "  </thead>\n",
              "  <tbody>\n",
              "    <tr>\n",
              "      <th>0</th>\n",
              "      <td>2021-12-30</td>\n",
              "      <td>NaN</td>\n",
              "      <td>41807.10</td>\n",
              "      <td>41815.32</td>\n",
              "      <td>41753.53</td>\n",
              "      <td>359.96</td>\n",
              "      <td>0.01</td>\n",
              "    </tr>\n",
              "    <tr>\n",
              "      <th>1</th>\n",
              "      <td>2021-12-29</td>\n",
              "      <td>-0.000064</td>\n",
              "      <td>42262.85</td>\n",
              "      <td>42295.21</td>\n",
              "      <td>41745.37</td>\n",
              "      <td>180.15</td>\n",
              "      <td>-1.08</td>\n",
              "    </tr>\n",
              "    <tr>\n",
              "      <th>2</th>\n",
              "      <td>2021-12-24</td>\n",
              "      <td>0.004709</td>\n",
              "      <td>42230.48</td>\n",
              "      <td>42269.66</td>\n",
              "      <td>42217.46</td>\n",
              "      <td>111.84</td>\n",
              "      <td>0.08</td>\n",
              "    </tr>\n",
              "  </tbody>\n",
              "</table>\n",
              "</div>"
            ],
            "text/plain": [
              "        Date     Price      Open      High       Low    Vol.  Change %\n",
              "0 2021-12-30       NaN  41807.10  41815.32  41753.53  359.96      0.01\n",
              "1 2021-12-29 -0.000064  42262.85  42295.21  41745.37  180.15     -1.08\n",
              "2 2021-12-24  0.004709  42230.48  42269.66  42217.46  111.84      0.08"
            ]
          },
          "execution_count": 21,
          "metadata": {},
          "output_type": "execute_result"
        }
      ],
      "source": [
        "data.head(3)"
      ]
    },
    {
      "cell_type": "code",
      "execution_count": null,
      "metadata": {
        "id": "-8of07gNf_uI"
      },
      "outputs": [],
      "source": [
        "# def Antilog(data):\n",
        "#   data.loc[: , \"Price\"] = np.log(data.Price) - np.log(data.Price.shift(1))\n",
        "#   return data"
      ]
    },
    {
      "cell_type": "code",
      "execution_count": null,
      "metadata": {
        "id": "Nt_wI7YrgCe2"
      },
      "outputs": [],
      "source": [
        "# data3 = Antilog(data2)\n",
        "# data3.head(5)"
      ]
    },
    {
      "cell_type": "code",
      "execution_count": null,
      "metadata": {
        "colab": {
          "base_uri": "https://localhost:8080/",
          "height": 249
        },
        "id": "TEarw_uwz5mW",
        "outputId": "cd6f422c-ca53-4fe0-b2fd-8faa9c79f8df"
      },
      "outputs": [
        {
          "data": {
            "text/html": [
              "<div>\n",
              "<style scoped>\n",
              "    .dataframe tbody tr th:only-of-type {\n",
              "        vertical-align: middle;\n",
              "    }\n",
              "\n",
              "    .dataframe tbody tr th {\n",
              "        vertical-align: top;\n",
              "    }\n",
              "\n",
              "    .dataframe thead th {\n",
              "        text-align: right;\n",
              "    }\n",
              "</style>\n",
              "<table border=\"1\" class=\"dataframe\">\n",
              "  <thead>\n",
              "    <tr style=\"text-align: right;\">\n",
              "      <th></th>\n",
              "      <th>Date</th>\n",
              "      <th>year</th>\n",
              "      <th>month</th>\n",
              "      <th>day</th>\n",
              "      <th>Open</th>\n",
              "      <th>High</th>\n",
              "      <th>Low</th>\n",
              "      <th>Vol.</th>\n",
              "      <th>Change %</th>\n",
              "      <th>Price</th>\n",
              "    </tr>\n",
              "  </thead>\n",
              "  <tbody>\n",
              "    <tr>\n",
              "      <th>0</th>\n",
              "      <td>2021-12-30</td>\n",
              "      <td>2021</td>\n",
              "      <td>12</td>\n",
              "      <td>30</td>\n",
              "      <td>41807.10</td>\n",
              "      <td>41815.32</td>\n",
              "      <td>41753.53</td>\n",
              "      <td>359.96</td>\n",
              "      <td>0.01</td>\n",
              "      <td>NaN</td>\n",
              "    </tr>\n",
              "    <tr>\n",
              "      <th>1</th>\n",
              "      <td>2021-12-29</td>\n",
              "      <td>2021</td>\n",
              "      <td>12</td>\n",
              "      <td>29</td>\n",
              "      <td>42262.85</td>\n",
              "      <td>42295.21</td>\n",
              "      <td>41745.37</td>\n",
              "      <td>180.15</td>\n",
              "      <td>-1.08</td>\n",
              "      <td>-0.000064</td>\n",
              "    </tr>\n",
              "    <tr>\n",
              "      <th>2</th>\n",
              "      <td>2021-12-24</td>\n",
              "      <td>2021</td>\n",
              "      <td>12</td>\n",
              "      <td>24</td>\n",
              "      <td>42230.48</td>\n",
              "      <td>42269.66</td>\n",
              "      <td>42217.46</td>\n",
              "      <td>111.84</td>\n",
              "      <td>0.08</td>\n",
              "      <td>0.004709</td>\n",
              "    </tr>\n",
              "    <tr>\n",
              "      <th>3</th>\n",
              "      <td>2021-12-23</td>\n",
              "      <td>2021</td>\n",
              "      <td>12</td>\n",
              "      <td>23</td>\n",
              "      <td>42244.22</td>\n",
              "      <td>42263.82</td>\n",
              "      <td>42207.99</td>\n",
              "      <td>211.08</td>\n",
              "      <td>-0.03</td>\n",
              "      <td>-0.000333</td>\n",
              "    </tr>\n",
              "    <tr>\n",
              "      <th>4</th>\n",
              "      <td>2021-12-22</td>\n",
              "      <td>2021</td>\n",
              "      <td>12</td>\n",
              "      <td>22</td>\n",
              "      <td>42388.57</td>\n",
              "      <td>42390.74</td>\n",
              "      <td>42240.71</td>\n",
              "      <td>224.02</td>\n",
              "      <td>-0.34</td>\n",
              "      <td>0.000141</td>\n",
              "    </tr>\n",
              "  </tbody>\n",
              "</table>\n",
              "</div>"
            ],
            "text/plain": [
              "        Date  year  month  day      Open      High       Low    Vol.  \\\n",
              "0 2021-12-30  2021     12   30  41807.10  41815.32  41753.53  359.96   \n",
              "1 2021-12-29  2021     12   29  42262.85  42295.21  41745.37  180.15   \n",
              "2 2021-12-24  2021     12   24  42230.48  42269.66  42217.46  111.84   \n",
              "3 2021-12-23  2021     12   23  42244.22  42263.82  42207.99  211.08   \n",
              "4 2021-12-22  2021     12   22  42388.57  42390.74  42240.71  224.02   \n",
              "\n",
              "   Change %     Price  \n",
              "0      0.01       NaN  \n",
              "1     -1.08 -0.000064  \n",
              "2      0.08  0.004709  \n",
              "3     -0.03 -0.000333  \n",
              "4     -0.34  0.000141  "
            ]
          },
          "execution_count": 24,
          "metadata": {},
          "output_type": "execute_result"
        }
      ],
      "source": [
        "data2['year'] = pd.DatetimeIndex(data2['Date']).year\n",
        "data2['month'] = pd.DatetimeIndex(data2['Date']).month\n",
        "data2['day'] = pd.DatetimeIndex(data2['Date']).day\n",
        "\n",
        "data_new = data2[  [ 'Date',  'year', 'month', 'day','Open','High','Low','Vol.', 'Change %','Price']]\n",
        "data_new.head()"
      ]
    },
    {
      "cell_type": "code",
      "execution_count": null,
      "metadata": {
        "id": "6MXleYvR88yF"
      },
      "outputs": [],
      "source": [
        "data_new1 = data_new.drop(['Date', 'Vol.'], axis= 1)\n",
        "data_new1.dropna(axis= 0, inplace = True)"
      ]
    },
    {
      "cell_type": "code",
      "execution_count": null,
      "metadata": {
        "colab": {
          "base_uri": "https://localhost:8080/",
          "height": 170
        },
        "id": "pRFJu0dMefCu",
        "outputId": "c767472d-60f6-466d-fe89-d0f6ebe17406"
      },
      "outputs": [
        {
          "data": {
            "text/html": [
              "<div>\n",
              "<style scoped>\n",
              "    .dataframe tbody tr th:only-of-type {\n",
              "        vertical-align: middle;\n",
              "    }\n",
              "\n",
              "    .dataframe tbody tr th {\n",
              "        vertical-align: top;\n",
              "    }\n",
              "\n",
              "    .dataframe thead th {\n",
              "        text-align: right;\n",
              "    }\n",
              "</style>\n",
              "<table border=\"1\" class=\"dataframe\">\n",
              "  <thead>\n",
              "    <tr style=\"text-align: right;\">\n",
              "      <th></th>\n",
              "      <th>year</th>\n",
              "      <th>month</th>\n",
              "      <th>day</th>\n",
              "      <th>Open</th>\n",
              "      <th>High</th>\n",
              "      <th>Low</th>\n",
              "      <th>Change %</th>\n",
              "      <th>Price</th>\n",
              "    </tr>\n",
              "  </thead>\n",
              "  <tbody>\n",
              "    <tr>\n",
              "      <th>1</th>\n",
              "      <td>2021</td>\n",
              "      <td>12</td>\n",
              "      <td>29</td>\n",
              "      <td>42262.85</td>\n",
              "      <td>42295.21</td>\n",
              "      <td>41745.37</td>\n",
              "      <td>-1.08</td>\n",
              "      <td>-0.000064</td>\n",
              "    </tr>\n",
              "    <tr>\n",
              "      <th>2</th>\n",
              "      <td>2021</td>\n",
              "      <td>12</td>\n",
              "      <td>24</td>\n",
              "      <td>42230.48</td>\n",
              "      <td>42269.66</td>\n",
              "      <td>42217.46</td>\n",
              "      <td>0.08</td>\n",
              "      <td>0.004709</td>\n",
              "    </tr>\n",
              "    <tr>\n",
              "      <th>3</th>\n",
              "      <td>2021</td>\n",
              "      <td>12</td>\n",
              "      <td>23</td>\n",
              "      <td>42244.22</td>\n",
              "      <td>42263.82</td>\n",
              "      <td>42207.99</td>\n",
              "      <td>-0.03</td>\n",
              "      <td>-0.000333</td>\n",
              "    </tr>\n",
              "    <tr>\n",
              "      <th>4</th>\n",
              "      <td>2021</td>\n",
              "      <td>12</td>\n",
              "      <td>22</td>\n",
              "      <td>42388.57</td>\n",
              "      <td>42390.74</td>\n",
              "      <td>42240.71</td>\n",
              "      <td>-0.34</td>\n",
              "      <td>0.000141</td>\n",
              "    </tr>\n",
              "  </tbody>\n",
              "</table>\n",
              "</div>"
            ],
            "text/plain": [
              "   year  month  day      Open      High       Low  Change %     Price\n",
              "1  2021     12   29  42262.85  42295.21  41745.37     -1.08 -0.000064\n",
              "2  2021     12   24  42230.48  42269.66  42217.46      0.08  0.004709\n",
              "3  2021     12   23  42244.22  42263.82  42207.99     -0.03 -0.000333\n",
              "4  2021     12   22  42388.57  42390.74  42240.71     -0.34  0.000141"
            ]
          },
          "execution_count": 26,
          "metadata": {},
          "output_type": "execute_result"
        }
      ],
      "source": [
        "data_new1.head(4)"
      ]
    },
    {
      "cell_type": "code",
      "execution_count": null,
      "metadata": {
        "id": "fszjx9-d_7A4"
      },
      "outputs": [],
      "source": [
        "# X = data_new1.iloc[:, 4:8]\n",
        "# # del X['Vol.']\n",
        "# #X del (labels = 'Vol.', axis =0)\n",
        "# y = data_new1.iloc[:, 3]"
      ]
    },
    {
      "cell_type": "markdown",
      "metadata": {
        "id": "JZu_KkVhrhWg"
      },
      "source": [
        "#Plots after data transformation"
      ]
    },
    {
      "cell_type": "code",
      "execution_count": null,
      "metadata": {
        "colab": {
          "base_uri": "https://localhost:8080/",
          "height": 295
        },
        "id": "0IuxttINaXDx",
        "outputId": "71c67622-5fae-42ba-fa72-afefb3266116"
      },
      "outputs": [
        {
          "data": {
            "text/plain": [
              "Text(0, 0.5, 'Stock Price')"
            ]
          },
          "execution_count": 44,
          "metadata": {},
          "output_type": "execute_result"
        },
        {
          "data": {
            "image/png": "[encoded data removed]",
            "text/plain": [
              "<Figure size 432x288 with 1 Axes>"
            ]
          },
          "metadata": {
            "needs_background": "light"
          },
          "output_type": "display_data"
        }
      ],
      "source": [
        "plt.plot(data['Date'], data_new['Price'])\n",
        "plt.xlabel(\" Year \")\n",
        "plt.ylabel(\"Stock Price\")"
      ]
    },
    {
      "cell_type": "code",
      "execution_count": null,
      "metadata": {
        "colab": {
          "base_uri": "https://localhost:8080/",
          "height": 348
        },
        "id": "jgHbfo9I2I9r",
        "outputId": "1823916e-1dfc-4cc9-f97d-274f617bf74d"
      },
      "outputs": [
        {
          "name": "stderr",
          "output_type": "stream",
          "text": [
            "/opt/anaconda3/lib/python3.9/site-packages/seaborn/distributions.py:2619: FutureWarning: `distplot` is a deprecated function and will be removed in a future version. Please adapt your code to use either `displot` (a figure-level function with similar flexibility) or `histplot` (an axes-level function for histograms).\n",
            "  warnings.warn(msg, FutureWarning)\n"
          ]
        },
        {
          "data": {
            "text/plain": [
              "<AxesSubplot:xlabel='Price', ylabel='Density'>"
            ]
          },
          "execution_count": 29,
          "metadata": {},
          "output_type": "execute_result"
        },
        {
          "data": {
            "image/png": "[encoded data removed]",
            "text/plain": [
              "<Figure size 432x288 with 1 Axes>"
            ]
          },
          "metadata": {
            "needs_background": "light"
          },
          "output_type": "display_data"
        }
      ],
      "source": [
        "sns.distplot(data_new['Price'])"
      ]
    },
    {
      "cell_type": "code",
      "execution_count": null,
      "metadata": {
        "colab": {
          "base_uri": "https://localhost:8080/",
          "height": 300
        },
        "id": "tjZMD8R4vQEZ",
        "outputId": "c6ab70a9-edf6-4b9f-97bc-021a43867e3f"
      },
      "outputs": [
        {
          "data": {
            "text/plain": [
              "<AxesSubplot:xlabel='Lag', ylabel='Autocorrelation'>"
            ]
          },
          "execution_count": 30,
          "metadata": {},
          "output_type": "execute_result"
        },
        {
          "data": {
            "image/png": "[encoded data removed]",
            "text/plain": [
              "<Figure size 432x288 with 1 Axes>"
            ]
          },
          "metadata": {
            "needs_background": "light"
          },
          "output_type": "display_data"
        }
      ],
      "source": [
        "# create an autocorrelation plot after standardizing with log return function\n",
        "from pandas.plotting import autocorrelation_plot\n",
        "\n",
        "autocorrelation_plot(data_new['Price'])"
      ]
    },
    {
      "cell_type": "code",
      "execution_count": null,
      "metadata": {
        "colab": {
          "base_uri": "https://localhost:8080/",
          "height": 295
        },
        "id": "7RmgSMm-Got0",
        "outputId": "0855e8b3-f4dc-4c58-dc70-febee6c4d5ad"
      },
      "outputs": [
        {
          "data": {
            "text/plain": [
              "Text(0, 0.5, 'Stock Price')"
            ]
          },
          "execution_count": 31,
          "metadata": {},
          "output_type": "execute_result"
        },
        {
          "data": {
            "image/png": "[encoded data removed]",
            "text/plain": [
              "<Figure size 432x288 with 1 Axes>"
            ]
          },
          "metadata": {
            "needs_background": "light"
          },
          "output_type": "display_data"
        }
      ],
      "source": [
        "plt.plot(data_new['Date'], data_new['Price'])\n",
        "plt.xlabel(\" Year \")\n",
        "plt.ylabel(\"Stock Price\")"
      ]
    },
    {
      "cell_type": "markdown",
      "metadata": {
        "id": "Mo8m9cpS1Qup"
      },
      "source": [
        "Splitting of the data into training and test"
      ]
    },
    {
      "cell_type": "code",
      "execution_count": null,
      "metadata": {
        "id": "ODWNYI03B6PF"
      },
      "outputs": [],
      "source": [
        "# data3 = data2.drop(['Date', 'Vol.'], axis= 1)\n",
        "# data3.dropna(axis= 0, inplace = True)"
      ]
    },
    {
      "cell_type": "code",
      "execution_count": null,
      "metadata": {
        "id": "DNDNogNSCDTj"
      },
      "outputs": [],
      "source": [
        "# data3.head(3)"
      ]
    },
    {
      "cell_type": "code",
      "execution_count": null,
      "metadata": {
        "id": "IMZm1PYkA0qg"
      },
      "outputs": [],
      "source": [
        "# X = data_new1.iloc[:,:-1]\n",
        "# # # del X['Vol.']\n",
        "# # #X del (labels = 'Vol.', axis =0)\n",
        "# y = data_new1.iloc[:, -1]"
      ]
    },
    {
      "cell_type": "code",
      "execution_count": null,
      "metadata": {
        "id": "ec1NEQFR4piM"
      },
      "outputs": [],
      "source": [
        "n_points = len(data_new1)\n",
        "train_points = int((2/3)*n_points)+1\n",
        "X_train, X_test =data_new1.iloc[:,:-1].values[:train_points],  data_new1.iloc[:,:-1].values[train_points:  ]\n",
        "y_train, y_test =data_new1.iloc[:,0].values[:train_points  ],  data_new1.iloc[:,0].values[train_points:  ]"
      ]
    },
    {
      "cell_type": "code",
      "execution_count": null,
      "metadata": {
        "id": "4nOitInWR0ZO"
      },
      "outputs": [],
      "source": [
        "from sklearn.model_selection import train_test_split"
      ]
    },
    {
      "cell_type": "code",
      "execution_count": null,
      "metadata": {
        "id": "f1ZWgOMs9cXB"
      },
      "outputs": [],
      "source": [
        "# n_points = len(data)\n",
        "# train_points = int(2/3*n_points)+1\n",
        "# X_train, X_test =X.iloc[:,1:].values[:train_points],  X.iloc[:,1:].values[train_points:  ]\n",
        "# y_train, y_test =y.iloc[:,0].values[:train_points],  y.iloc[:,0].values[train_points:  ]"
      ]
    },
    {
      "cell_type": "code",
      "execution_count": null,
      "metadata": {
        "id": "fNQ0yVgYAWlB"
      },
      "outputs": [],
      "source": [
        "# X_train , X_test, y_train, y_test =train_test_split(X,y ,train_size=0.6, shuffle=True, random_state=0)"
      ]
    },
    {
      "cell_type": "code",
      "execution_count": null,
      "metadata": {
        "colab": {
          "base_uri": "https://localhost:8080/"
        },
        "id": "hSu8eyT24fo5",
        "outputId": "1f7fe75f-92c4-4412-fc9d-2efb1aba7a9b"
      },
      "outputs": [
        {
          "data": {
            "text/plain": [
              "((1637, 7), (818, 7), (1637,), (818,))"
            ]
          },
          "execution_count": 36,
          "metadata": {},
          "output_type": "execute_result"
        }
      ],
      "source": [
        "X_train.shape , X_test.shape, y_train.shape, y_test.shape"
      ]
    },
    {
      "cell_type": "markdown",
      "metadata": {
        "id": "bBR4EIHKr88-"
      },
      "source": [
        "#Import the required packages for model building"
      ]
    },
    {
      "cell_type": "code",
      "execution_count": null,
      "metadata": {
        "colab": {
          "base_uri": "https://localhost:8080/",
          "height": 285
        },
        "id": "93C600gUyEtW",
        "outputId": "656e92eb-290a-4c34-ed39-38c9e92f2d7f"
      },
      "outputs": [
        {
          "data": {
            "image/png": "[encoded data removed]",
            "text/plain": [
              "<Figure size 432x288 with 1 Axes>"
            ]
          },
          "metadata": {
            "needs_background": "light"
          },
          "output_type": "display_data"
        }
      ],
      "source": [
        "test_size = 1000\n",
        "\n",
        "data_new1_train = data_new1.iloc[:test_size, :-1]\n",
        "data_new1_test = data_new1.iloc[:-test_size, -1]\n",
        "\n",
        "plt.title('Airline passengers train and test sets', size=20)\n",
        "plt.plot(data_new1_train, label='Training set')\n",
        "plt.plot(data_new1_test, label='Test set', color='orange')\n",
        "plt.legend();"
      ]
    },
    {
      "cell_type": "code",
      "execution_count": null,
      "metadata": {
        "id": "IH91hmrh4iWS"
      },
      "outputs": [],
      "source": [
        "# X_train, X_test ,y_train, y_test =train_test_split(X,y,test_size=0.2, shuffle=False)"
      ]
    },
    {
      "cell_type": "code",
      "execution_count": null,
      "metadata": {
        "id": "dbdT8Vz0UdPh"
      },
      "outputs": [],
      "source": [
        "import pandas as pd\n",
        "import numpy as np\n",
        "from sklearn import model_selection\n",
        "from sklearn.linear_model import LinearRegression\n",
        "from sklearn.linear_model import Ridge\n",
        "from sklearn.linear_model import Lasso\n",
        "from sklearn.linear_model import ElasticNet\n",
        "from sklearn.metrics import r2_score\n",
        "from sklearn.metrics import mean_squared_error\n",
        "from sklearn.metrics import mean_absolute_error\n",
        "from math import sqrt"
      ]
    },
    {
      "cell_type": "markdown",
      "metadata": {
        "id": "2BqrfXbIBTy3"
      },
      "source": [
        "#Linear Regression"
      ]
    },
    {
      "cell_type": "code",
      "execution_count": null,
      "metadata": {
        "colab": {
          "base_uri": "https://localhost:8080/"
        },
        "id": "2Eq_WXHz6DCO",
        "outputId": "5042b104-5278-4595-b1ed-a3cb19a8216c"
      },
      "outputs": [
        {
          "name": "stdout",
          "output_type": "stream",
          "text": [
            "Train error : 4.701807695048647e-14\n",
            "Test Error: 7.910084585129938e-14\n",
            " Rsquare:1.0\n",
            "Rsquare:1.0\n",
            "MAE:9.722759487493123e-15\n",
            "MAE:2.5850552342567947e-14\n"
          ]
        }
      ],
      "source": [
        "lr = LinearRegression()\n",
        "lr.fit(X_train, y_train)\n",
        "pred_train_lr= lr.predict(X_train)\n",
        "print(\"Train error :\", np.sqrt(mean_squared_error(y_train,pred_train_lr)))\n",
        "pred_test_lr= lr.predict(X_test)\n",
        "print(\"Test Error:\", np.sqrt(mean_squared_error(y_test,pred_test_lr)))\n",
        "print(f' Rsquare:{r2_score(y_train, pred_train_lr)}')\n",
        "print(f'Rsquare:{r2_score(y_test, pred_test_lr)}')\n",
        "print(f'MAE:{mean_absolute_error(y_train, pred_train_lr)}')\n",
        "print(f'MAE:{mean_absolute_error(y_test, pred_test_lr)}')"
      ]
    },
    {
      "cell_type": "code",
      "execution_count": null,
      "metadata": {
        "colab": {
          "base_uri": "https://localhost:8080/"
        },
        "id": "8zYOx73Gfg9i",
        "outputId": "10db1182-a54f-4ddd-87cf-82930c9f0789"
      },
      "outputs": [
        {
          "data": {
            "text/plain": [
              "1637"
            ]
          },
          "execution_count": 40,
          "metadata": {},
          "output_type": "execute_result"
        }
      ],
      "source": [
        "len(pred_train_lr)"
      ]
    },
    {
      "cell_type": "code",
      "execution_count": null,
      "metadata": {
        "id": "dqi6Two-Yv6H"
      },
      "outputs": [],
      "source": [
        "LinearPredict = lr.predict(X_test)"
      ]
    },
    {
      "cell_type": "code",
      "execution_count": null,
      "metadata": {
        "colab": {
          "base_uri": "https://localhost:8080/",
          "height": 281
        },
        "id": "J8v4HDcZZA7x",
        "outputId": "fa1d12ab-d7a1-4e73-e736-1b42b7e8b58c"
      },
      "outputs": [
        {
          "data": {
            "text/plain": [
              "<matplotlib.legend.Legend at 0x7fad10ca69d0>"
            ]
          },
          "execution_count": 42,
          "metadata": {},
          "output_type": "execute_result"
        },
        {
          "data": {
            "image/png": "[encoded data removed]",
            "text/plain": [
              "<Figure size 432x288 with 1 Axes>"
            ]
          },
          "metadata": {
            "needs_background": "light"
          },
          "output_type": "display_data"
        }
      ],
      "source": [
        "plt.plot(LinearPredict, label='predicted')\n",
        "plt.plot(y_train, label ='actual')\n",
        "plt.legend()"
      ]
    },
    {
      "cell_type": "code",
      "execution_count": null,
      "metadata": {
        "id": "ce1pbwdx-FVU"
      },
      "outputs": [],
      "source": [
        "# LinearPredict = lr.predict(X_test)\n",
        "\n",
        "# # Plot regression against actual data\n",
        "# plt.figure(figsize=(12, 6))\n",
        "# plt.plot(X_train, y_train, 'o', label =\"Actual train value\")           # scatter plot showing actual data\n",
        "# # plt.plot(X_train, LinearPredict, 'r', linewidth=2, label= \"predicted train value\")   # regression line\n",
        "# plt.xlabel('X')\n",
        "# plt.ylabel('y')\n",
        "# plt.legend()\n",
        "# plt.title('X vs y')\n",
        "\n",
        "# plt.show()"
      ]
    },
    {
      "cell_type": "code",
      "execution_count": null,
      "metadata": {
        "id": "JzSEgxqAZXWh"
      },
      "outputs": [],
      "source": [
        "# def Antilog(data):\n",
        "#   data.loc[: , \"Price\"] = np.log(data.Price) - np.log(data.Price.shift(1))\n",
        "#   return data"
      ]
    },
    {
      "cell_type": "markdown",
      "metadata": {
        "id": "bZNxkC_M-rih"
      },
      "source": [
        "#Ridge"
      ]
    },
    {
      "cell_type": "code",
      "execution_count": null,
      "metadata": {
        "colab": {
          "base_uri": "https://localhost:8080/"
        },
        "id": "9G1hqbfK-tsC",
        "outputId": "9b313b0a-8da5-4b64-fe98-12a06e070198"
      },
      "outputs": [
        {
          "name": "stdout",
          "output_type": "stream",
          "text": [
            "Train error:  0.000590872146867252\n",
            "Test error:  0.0006173772927202886\n",
            "0.9965575406286223\n",
            "0.9966740368424968\n",
            "MAE:0.0004077427039732988\n",
            "MAE:0.00043094030198489785\n"
          ]
        }
      ],
      "source": [
        "ridge = Ridge(alpha=0.01)\n",
        "ridge.fit(X_train, y_train) \n",
        "pred_train_ridge= ridge.predict(X_train)\n",
        "print(\"Train error: \", np.sqrt(mean_squared_error(y_train,pred_train_ridge)))\n",
        "pred_test_ridge= ridge.predict(X_test)\n",
        "print(\"Test error: \",np.sqrt(mean_squared_error(y_test,pred_test_ridge))) \n",
        "print(r2_score(y_train, pred_train_ridge))\n",
        "print(r2_score(y_test, pred_test_ridge))\n",
        "print(f'MAE:{mean_absolute_error(y_train, pred_train_ridge)}')\n",
        "print(f'MAE:{mean_absolute_error(y_test, pred_test_ridge)}')"
      ]
    },
    {
      "cell_type": "markdown",
      "metadata": {
        "id": "EGIkDme6AESb"
      },
      "source": [
        "#LASSO"
      ]
    },
    {
      "cell_type": "code",
      "execution_count": null,
      "metadata": {
        "colab": {
          "base_uri": "https://localhost:8080/"
        },
        "id": "X_Q04DK2AHkh",
        "outputId": "4342607b-2cc4-4f9f-b11b-e209e7c0e3f1"
      },
      "outputs": [
        {
          "name": "stdout",
          "output_type": "stream",
          "text": [
            "Train error: 0.01005121990938642\n",
            "Test error: 0.010683022025937596\n",
            "0.0038623918132038026\n",
            "0.004126037401651073\n",
            "MAE:0.00679252565797572\n",
            "MAE:0.007298716736262277\n"
          ]
        },
        {
          "name": "stderr",
          "output_type": "stream",
          "text": [
            "/usr/local/lib/python3.7/dist-packages/sklearn/linear_model/_coordinate_descent.py:648: ConvergenceWarning: Objective did not converge. You might want to increase the number of iterations, check the scale of the features or consider increasing regularisation. Duality gap: 3.424e-05, tolerance: 1.661e-05\n",
            "  coef_, l1_reg, l2_reg, X, y, max_iter, tol, rng, random, positive\n"
          ]
        }
      ],
      "source": [
        "model_lasso = Lasso(alpha=0.01)\n",
        "model_lasso.fit(X_train, y_train) \n",
        "pred_train_lasso= model_lasso.predict(X_train)\n",
        "print(\"Train error:\",np.sqrt(mean_squared_error(y_train,pred_train_lasso)))\n",
        "pred_test_lasso= model_lasso.predict(X_test)\n",
        "print(\"Test error:\",  np.sqrt(mean_squared_error(y_test,pred_test_lasso))) \n",
        "print(r2_score(y_train, pred_train_lasso))\n",
        "print(r2_score(y_test, pred_test_lasso))\n",
        "print(f'MAE:{mean_absolute_error(y_train, pred_train_lasso)}')\n",
        "print(f'MAE:{mean_absolute_error(y_test, pred_test_lasso)}')"
      ]
    },
    {
      "cell_type": "code",
      "execution_count": null,
      "metadata": {
        "colab": {
          "base_uri": "https://localhost:8080/",
          "height": 281
        },
        "id": "SfoKqgujAP35",
        "outputId": "a5ddba91-fe60-489f-94f1-d2b2861f9f2e"
      },
      "outputs": [
        {
          "data": {
            "text/plain": [
              "<matplotlib.legend.Legend at 0x7f3214461f90>"
            ]
          },
          "execution_count": 169,
          "metadata": {},
          "output_type": "execute_result"
        },
        {
          "data": {
            "image/png": "[encoded data removed]",
            "text/plain": [
              "<Figure size 432x288 with 1 Axes>"
            ]
          },
          "metadata": {
            "needs_background": "light"
          },
          "output_type": "display_data"
        }
      ],
      "source": [
        "plt.plot(pred_train_lasso, label='predicted')\n",
        "plt.plot(y_train, label ='actual')\n",
        "plt.legend()"
      ]
    },
    {
      "cell_type": "markdown",
      "metadata": {
        "id": "mgngjQnHCF2R"
      },
      "source": [
        "#Elastic Net"
      ]
    },
    {
      "cell_type": "code",
      "execution_count": null,
      "metadata": {
        "colab": {
          "base_uri": "https://localhost:8080/"
        },
        "id": "IQWJTeDTCE_O",
        "outputId": "895efd41-81cd-4fed-9157-12b6e2397b0c"
      },
      "outputs": [
        {
          "name": "stdout",
          "output_type": "stream",
          "text": [
            "Train error:  2.8814662772684545\n",
            "Test error: 4.489074182675652\n",
            "0.9998749772783796\n",
            "0.9997970118603431\n",
            "MAE:1.6141136434519114\n",
            "MAE:2.7598038478699545\n"
          ]
        }
      ],
      "source": [
        "model_enet = ElasticNet(alpha = 0.01)\n",
        "model_enet.fit(X_train, y_train) \n",
        "pred_train_enet= model_enet.predict(X_train)\n",
        "print(\"Train error: \", np.sqrt(mean_squared_error(y_train,pred_train_enet)))\n",
        "pred_test_enet= model_enet.predict(X_test)\n",
        "print(\"Test error:\",np.sqrt(mean_squared_error(y_test,pred_test_enet)))\n",
        "print(r2_score(y_train, pred_train_enet))\n",
        "print(r2_score(y_test, pred_test_enet))\n",
        "print(f'MAE:{mean_absolute_error(y_train, pred_train_enet)}')\n",
        "print(f'MAE:{mean_absolute_error(y_test, pred_test_enet)}')"
      ]
    },
    {
      "cell_type": "code",
      "execution_count": null,
      "metadata": {
        "id": "e64CyzT2E2hH"
      },
      "outputs": [],
      "source": [
        "from sklearn.model_selection import cross_val_score\n",
        "from sklearn.model_selection import RepeatedKFold\n",
        "from sklearn.linear_model import Ridge\n",
        "# load the dataset\n",
        "url = 'https://raw.githubusercontent.com/jbrownlee/Datasets/master/housing.csv'\n",
        "dataframe = read_csv(url, header=None)\n",
        "data = dataframe.values\n",
        "X, y = data[:, :-1], data[:, -1]\n",
        "# define model\n",
        "model = Ridge(alpha=1.0)\n",
        "# define model evaluation method\n",
        "cv = RepeatedKFold(n_splits=10, n_repeats=3, random_state=1)\n",
        "# evaluate model\n",
        "scores = cross_val_score(model, X, y, scoring='neg_mean_absolute_error', cv=cv, n_jobs=-1)\n",
        "# force scores to be positive\n",
        "scores = absolute(scores)\n",
        "print('Mean MAE: %.3f (%.3f)' % (mean(scores), std(scores)))"
      ]
    },
    {
      "cell_type": "markdown",
      "metadata": {
        "id": "QkqiFHTxsd6G"
      },
      "source": [
        "# Model Improvement"
      ]
    },
    {
      "cell_type": "markdown",
      "metadata": {
        "id": "dabpUfJg_xQC"
      },
      "source": [
        "#Cross Validation"
      ]
    },
    {
      "cell_type": "code",
      "execution_count": null,
      "metadata": {
        "id": "GQ_pwVfRn4fK"
      },
      "outputs": [],
      "source": [
        "from sklearn.model_selection import KFold\n",
        "from sklearn.model_selection import cross_val_score\n",
        "from numpy import mean\n",
        "from numpy import absolute\n"
      ]
    },
    {
      "cell_type": "code",
      "execution_count": null,
      "metadata": {
        "id": "voE7J5uAAI4x"
      },
      "outputs": [],
      "source": []
    },
    {
      "cell_type": "code",
      "execution_count": null,
      "metadata": {
        "id": "GM6KO64nAlFF"
      },
      "outputs": [],
      "source": [
        "X = data_new1.iloc[:,1:]\n",
        "y = data_new1.iloc[:,0]"
      ]
    },
    {
      "cell_type": "markdown",
      "metadata": {
        "id": "22UQ6wN6MpT2"
      },
      "source": [
        "###Improved model for LASSO"
      ]
    },
    {
      "cell_type": "code",
      "execution_count": null,
      "metadata": {
        "colab": {
          "base_uri": "https://localhost:8080/"
        },
        "id": "pej2fKAoBPKl",
        "outputId": "974340c8-9bd4-4e22-8e13-a86631e3f628"
      },
      "outputs": [
        {
          "data": {
            "text/plain": [
              "2.8536100311925514"
            ]
          },
          "execution_count": 153,
          "metadata": {},
          "output_type": "execute_result"
        }
      ],
      "source": [
        "#define cross-validation method to use\n",
        "cv = KFold(n_splits=2456, random_state=None, shuffle=False)\n",
        "\n",
        "#build multiple linear regression model\n",
        "model2 = Lasso()\n",
        "\n",
        "#use k-fold CV to evaluate model\n",
        "scores = cross_val_score(model2, X, y, scoring='neg_mean_squared_error',\n",
        "                         cv=cv, n_jobs=-1)\n",
        "\n",
        "#view mean absolute error\n",
        "sqrt(mean(absolute(scores)))"
      ]
    },
    {
      "cell_type": "markdown",
      "metadata": {
        "id": "NnCVpGE6M3Th"
      },
      "source": [
        "###Improved model for Linear Regression"
      ]
    },
    {
      "cell_type": "code",
      "execution_count": null,
      "metadata": {
        "colab": {
          "base_uri": "https://localhost:8080/"
        },
        "id": "kDmN8GINBpb6",
        "outputId": "a9954314-0ca6-49cd-ad35-566d7e6cec0e"
      },
      "outputs": [
        {
          "data": {
            "text/plain": [
              "2.8506804721094245"
            ]
          },
          "execution_count": 154,
          "metadata": {},
          "output_type": "execute_result"
        }
      ],
      "source": [
        "#define cross-validation method to use\n",
        "cv = KFold(n_splits=2456, random_state=None, shuffle=False)\n",
        "\n",
        "#build multiple linear regression model\n",
        "model2 = LinearRegression()\n",
        "\n",
        "#use k-fold CV to evaluate model\n",
        "scores = cross_val_score(model2, X, y, scoring='neg_mean_squared_error',\n",
        "                         cv=cv, n_jobs=-1)\n",
        "\n",
        "#view mean absolute error\n",
        "sqrt(mean(absolute(scores)))"
      ]
    },
    {
      "cell_type": "markdown",
      "metadata": {
        "id": "Ejlm2k7AM93P"
      },
      "source": [
        "###Improved model for Rigde"
      ]
    },
    {
      "cell_type": "code",
      "execution_count": null,
      "metadata": {
        "colab": {
          "base_uri": "https://localhost:8080/"
        },
        "id": "SlKRhcBA3xgr",
        "outputId": "2c220246-340b-4c2a-c490-7dae06e916bd"
      },
      "outputs": [
        {
          "data": {
            "text/plain": [
              "2.8506709088340623"
            ]
          },
          "execution_count": 155,
          "metadata": {},
          "output_type": "execute_result"
        }
      ],
      "source": [
        "#define cross-validation method to use\n",
        "cv = KFold(n_splits=2456, random_state=None, shuffle=False)\n",
        "\n",
        "#build multiple linear regression model\n",
        "model2 = Ridge()\n",
        "\n",
        "#use k-fold CV to evaluate model\n",
        "scores = cross_val_score(model2, X, y, scoring='neg_mean_squared_error',\n",
        "                         cv=cv, n_jobs=-1)\n",
        "\n",
        "#view mean absolute error\n",
        "sqrt(mean(absolute(scores)))"
      ]
    },
    {
      "cell_type": "code",
      "execution_count": null,
      "metadata": {
        "colab": {
          "base_uri": "https://localhost:8080/"
        },
        "id": "3cH5anpjs-tT",
        "outputId": "2c4c1794-3abd-4fd7-e5f5-3783660e36cf"
      },
      "outputs": [
        {
          "data": {
            "text/plain": [
              "(array([255.97528649]), array([1.29369965e-57]))"
            ]
          },
          "execution_count": 45,
          "metadata": {},
          "output_type": "execute_result"
        }
      ],
      "source": []
    },
    {
      "cell_type": "markdown",
      "metadata": {
        "id": "3XmbUOmcK1Dj"
      },
      "source": [
        "#GARCH NN"
      ]
    },
    {
      "cell_type": "code",
      "execution_count": null,
      "metadata": {
        "id": "aGiIA5T8PWE1"
      },
      "outputs": [],
      "source": [
        "# #Import the dataset for the analysis \n",
        "# data1 = pd.read_csv(\"/content/log_data.csv\" , thousands =',')"
      ]
    },
    {
      "cell_type": "code",
      "execution_count": null,
      "metadata": {
        "colab": {
          "base_uri": "https://localhost:8080/"
        },
        "id": "mB_NfDC8sUVz",
        "outputId": "6ece3fba-7b7e-4407-8029-7ed3a6355635"
      },
      "outputs": [
        {
          "name": "stderr",
          "output_type": "stream",
          "text": [
            "/usr/local/lib/python3.7/dist-packages/statsmodels/tools/_testing.py:19: FutureWarning: pandas.util.testing is deprecated. Use the functions in the public API at pandas.testing instead.\n",
            "  import pandas.util.testing as tm\n"
          ]
        }
      ],
      "source": [
        "import statsmodels.api as sm"
      ]
    },
    {
      "cell_type": "code",
      "execution_count": null,
      "metadata": {
        "id": "Id_jzO1IsW8f"
      },
      "outputs": [],
      "source": [
        "res = sm.tsa.ARMA(data[\"Price\"], (1,1)).fit(disp=-1)"
      ]
    },
    {
      "cell_type": "code",
      "execution_count": null,
      "metadata": {
        "colab": {
          "base_uri": "https://localhost:8080/"
        },
        "id": "h5xefNPDsZSY",
        "outputId": "f10d391b-8972-4c09-c1d2-9cf75765eb8a"
      },
      "outputs": [
        {
          "data": {
            "text/plain": [
              "(array([19.86032735]), array([0.00132744]))"
            ]
          },
          "execution_count": 15,
          "metadata": {},
          "output_type": "execute_result"
        }
      ],
      "source": [
        "#perform Ljung-Box test on residuals with lag=5\n",
        "sm.stats.acorr_ljungbox(res.resid, lags=[5])"
      ]
    },
    {
      "cell_type": "code",
      "execution_count": null,
      "metadata": {
        "colab": {
          "base_uri": "https://localhost:8080/",
          "height": 494
        },
        "id": "eqCCTMxuordb",
        "outputId": "00109baa-2625-4e27-eb7c-b9b492f67a4a"
      },
      "outputs": [
        {
          "name": "stdout",
          "output_type": "stream",
          "text": [
            "Collecting arch\n",
            "  Downloading arch-5.2.0-cp37-cp37m-manylinux_2_17_x86_64.manylinux2014_x86_64.whl (902 kB)\n",
            "\u001b[?25l\r",
            "\u001b[K     |▍                               | 10 kB 24.5 MB/s eta 0:00:01\r",
            "\u001b[K     |▊                               | 20 kB 11.4 MB/s eta 0:00:01\r",
            "\u001b[K     |█                               | 30 kB 9.2 MB/s eta 0:00:01\r",
            "\u001b[K     |█▌                              | 40 kB 8.3 MB/s eta 0:00:01\r",
            "\u001b[K     |█▉                              | 51 kB 4.6 MB/s eta 0:00:01\r",
            "\u001b[K     |██▏                             | 61 kB 5.4 MB/s eta 0:00:01\r",
            "\u001b[K     |██▌                             | 71 kB 5.5 MB/s eta 0:00:01\r",
            "\u001b[K     |███                             | 81 kB 4.3 MB/s eta 0:00:01\r",
            "\u001b[K     |███▎                            | 92 kB 4.8 MB/s eta 0:00:01\r",
            "\u001b[K     |███▋                            | 102 kB 5.3 MB/s eta 0:00:01\r",
            "\u001b[K     |████                            | 112 kB 5.3 MB/s eta 0:00:01\r",
            "\u001b[K     |████▍                           | 122 kB 5.3 MB/s eta 0:00:01\r",
            "\u001b[K     |████▊                           | 133 kB 5.3 MB/s eta 0:00:01\r",
            "\u001b[K     |█████                           | 143 kB 5.3 MB/s eta 0:00:01\r",
            "\u001b[K     |█████▍                          | 153 kB 5.3 MB/s eta 0:00:01\r",
            "\u001b[K     |█████▉                          | 163 kB 5.3 MB/s eta 0:00:01\r",
            "\u001b[K     |██████▏                         | 174 kB 5.3 MB/s eta 0:00:01\r",
            "\u001b[K     |██████▌                         | 184 kB 5.3 MB/s eta 0:00:01\r",
            "\u001b[K     |███████                         | 194 kB 5.3 MB/s eta 0:00:01\r",
            "\u001b[K     |███████▎                        | 204 kB 5.3 MB/s eta 0:00:01\r",
            "\u001b[K     |███████▋                        | 215 kB 5.3 MB/s eta 0:00:01\r",
            "\u001b[K     |████████                        | 225 kB 5.3 MB/s eta 0:00:01\r",
            "\u001b[K     |████████▍                       | 235 kB 5.3 MB/s eta 0:00:01\r",
            "\u001b[K     |████████▊                       | 245 kB 5.3 MB/s eta 0:00:01\r",
            "\u001b[K     |█████████                       | 256 kB 5.3 MB/s eta 0:00:01\r",
            "\u001b[K     |█████████▍                      | 266 kB 5.3 MB/s eta 0:00:01\r",
            "\u001b[K     |█████████▉                      | 276 kB 5.3 MB/s eta 0:00:01\r",
            "\u001b[K     |██████████▏                     | 286 kB 5.3 MB/s eta 0:00:01\r",
            "\u001b[K     |██████████▌                     | 296 kB 5.3 MB/s eta 0:00:01\r",
            "\u001b[K     |██████████▉                     | 307 kB 5.3 MB/s eta 0:00:01\r",
            "\u001b[K     |███████████▎                    | 317 kB 5.3 MB/s eta 0:00:01\r",
            "\u001b[K     |███████████▋                    | 327 kB 5.3 MB/s eta 0:00:01\r",
            "\u001b[K     |████████████                    | 337 kB 5.3 MB/s eta 0:00:01\r",
            "\u001b[K     |████████████▍                   | 348 kB 5.3 MB/s eta 0:00:01\r",
            "\u001b[K     |████████████▊                   | 358 kB 5.3 MB/s eta 0:00:01\r",
            "\u001b[K     |█████████████                   | 368 kB 5.3 MB/s eta 0:00:01\r",
            "\u001b[K     |█████████████▍                  | 378 kB 5.3 MB/s eta 0:00:01\r",
            "\u001b[K     |█████████████▉                  | 389 kB 5.3 MB/s eta 0:00:01\r",
            "\u001b[K     |██████████████▏                 | 399 kB 5.3 MB/s eta 0:00:01\r",
            "\u001b[K     |██████████████▌                 | 409 kB 5.3 MB/s eta 0:00:01\r",
            "\u001b[K     |██████████████▉                 | 419 kB 5.3 MB/s eta 0:00:01\r",
            "\u001b[K     |███████████████▎                | 430 kB 5.3 MB/s eta 0:00:01\r",
            "\u001b[K     |███████████████▋                | 440 kB 5.3 MB/s eta 0:00:01\r",
            "\u001b[K     |████████████████                | 450 kB 5.3 MB/s eta 0:00:01\r",
            "\u001b[K     |████████████████▎               | 460 kB 5.3 MB/s eta 0:00:01\r",
            "\u001b[K     |████████████████▊               | 471 kB 5.3 MB/s eta 0:00:01\r",
            "\u001b[K     |█████████████████               | 481 kB 5.3 MB/s eta 0:00:01\r",
            "\u001b[K     |█████████████████▍              | 491 kB 5.3 MB/s eta 0:00:01\r",
            "\u001b[K     |█████████████████▉              | 501 kB 5.3 MB/s eta 0:00:01\r",
            "\u001b[K     |██████████████████▏             | 512 kB 5.3 MB/s eta 0:00:01\r",
            "\u001b[K     |██████████████████▌             | 522 kB 5.3 MB/s eta 0:00:01\r",
            "\u001b[K     |██████████████████▉             | 532 kB 5.3 MB/s eta 0:00:01\r",
            "\u001b[K     |███████████████████▎            | 542 kB 5.3 MB/s eta 0:00:01\r",
            "\u001b[K     |███████████████████▋            | 552 kB 5.3 MB/s eta 0:00:01\r",
            "\u001b[K     |████████████████████            | 563 kB 5.3 MB/s eta 0:00:01\r",
            "\u001b[K     |████████████████████▎           | 573 kB 5.3 MB/s eta 0:00:01\r",
            "\u001b[K     |████████████████████▊           | 583 kB 5.3 MB/s eta 0:00:01\r",
            "\u001b[K     |█████████████████████           | 593 kB 5.3 MB/s eta 0:00:01\r",
            "\u001b[K     |█████████████████████▍          | 604 kB 5.3 MB/s eta 0:00:01\r",
            "\u001b[K     |█████████████████████▊          | 614 kB 5.3 MB/s eta 0:00:01\r",
            "\u001b[K     |██████████████████████▏         | 624 kB 5.3 MB/s eta 0:00:01\r",
            "\u001b[K     |██████████████████████▌         | 634 kB 5.3 MB/s eta 0:00:01\r",
            "\u001b[K     |██████████████████████▉         | 645 kB 5.3 MB/s eta 0:00:01\r",
            "\u001b[K     |███████████████████████▎        | 655 kB 5.3 MB/s eta 0:00:01\r",
            "\u001b[K     |███████████████████████▋        | 665 kB 5.3 MB/s eta 0:00:01\r",
            "\u001b[K     |████████████████████████        | 675 kB 5.3 MB/s eta 0:00:01\r",
            "\u001b[K     |████████████████████████▎       | 686 kB 5.3 MB/s eta 0:00:01\r",
            "\u001b[K     |████████████████████████▊       | 696 kB 5.3 MB/s eta 0:00:01\r",
            "\u001b[K     |█████████████████████████       | 706 kB 5.3 MB/s eta 0:00:01\r",
            "\u001b[K     |█████████████████████████▍      | 716 kB 5.3 MB/s eta 0:00:01\r",
            "\u001b[K     |█████████████████████████▊      | 727 kB 5.3 MB/s eta 0:00:01\r",
            "\u001b[K     |██████████████████████████▏     | 737 kB 5.3 MB/s eta 0:00:01\r",
            "\u001b[K     |██████████████████████████▌     | 747 kB 5.3 MB/s eta 0:00:01\r",
            "\u001b[K     |██████████████████████████▉     | 757 kB 5.3 MB/s eta 0:00:01\r",
            "\u001b[K     |███████████████████████████▏    | 768 kB 5.3 MB/s eta 0:00:01\r",
            "\u001b[K     |███████████████████████████▋    | 778 kB 5.3 MB/s eta 0:00:01\r",
            "\u001b[K     |████████████████████████████    | 788 kB 5.3 MB/s eta 0:00:01\r",
            "\u001b[K     |████████████████████████████▎   | 798 kB 5.3 MB/s eta 0:00:01\r",
            "\u001b[K     |████████████████████████████▊   | 808 kB 5.3 MB/s eta 0:00:01\r",
            "\u001b[K     |█████████████████████████████   | 819 kB 5.3 MB/s eta 0:00:01\r",
            "\u001b[K     |█████████████████████████████▍  | 829 kB 5.3 MB/s eta 0:00:01\r",
            "\u001b[K     |█████████████████████████████▊  | 839 kB 5.3 MB/s eta 0:00:01\r",
            "\u001b[K     |██████████████████████████████▏ | 849 kB 5.3 MB/s eta 0:00:01\r",
            "\u001b[K     |██████████████████████████████▌ | 860 kB 5.3 MB/s eta 0:00:01\r",
            "\u001b[K     |██████████████████████████████▉ | 870 kB 5.3 MB/s eta 0:00:01\r",
            "\u001b[K     |███████████████████████████████▏| 880 kB 5.3 MB/s eta 0:00:01\r",
            "\u001b[K     |███████████████████████████████▋| 890 kB 5.3 MB/s eta 0:00:01\r",
            "\u001b[K     |████████████████████████████████| 901 kB 5.3 MB/s eta 0:00:01\r",
            "\u001b[K     |████████████████████████████████| 902 kB 5.3 MB/s \n",
            "\u001b[?25hRequirement already satisfied: numpy>=1.17 in /usr/local/lib/python3.7/dist-packages (from arch) (1.21.5)\n",
            "Requirement already satisfied: scipy>=1.3 in /usr/local/lib/python3.7/dist-packages (from arch) (1.4.1)\n",
            "Requirement already satisfied: pandas>=1.0 in /usr/local/lib/python3.7/dist-packages (from arch) (1.3.5)\n",
            "Collecting property-cached>=1.6.4\n",
            "  Downloading property_cached-1.6.4-py2.py3-none-any.whl (7.8 kB)\n",
            "Collecting statsmodels>=0.11\n",
            "  Downloading statsmodels-0.13.2-cp37-cp37m-manylinux_2_17_x86_64.manylinux2014_x86_64.whl (9.8 MB)\n",
            "\u001b[K     |████████████████████████████████| 9.8 MB 36.9 MB/s \n",
            "\u001b[?25hRequirement already satisfied: pytz>=2017.3 in /usr/local/lib/python3.7/dist-packages (from pandas>=1.0->arch) (2018.9)\n",
            "Requirement already satisfied: python-dateutil>=2.7.3 in /usr/local/lib/python3.7/dist-packages (from pandas>=1.0->arch) (2.8.2)\n",
            "Requirement already satisfied: six>=1.5 in /usr/local/lib/python3.7/dist-packages (from python-dateutil>=2.7.3->pandas>=1.0->arch) (1.15.0)\n",
            "Requirement already satisfied: packaging>=21.3 in /usr/local/lib/python3.7/dist-packages (from statsmodels>=0.11->arch) (21.3)\n",
            "Requirement already satisfied: patsy>=0.5.2 in /usr/local/lib/python3.7/dist-packages (from statsmodels>=0.11->arch) (0.5.2)\n",
            "Requirement already satisfied: pyparsing!=3.0.5,>=2.0.2 in /usr/local/lib/python3.7/dist-packages (from packaging>=21.3->statsmodels>=0.11->arch) (3.0.7)\n",
            "Installing collected packages: statsmodels, property-cached, arch\n",
            "  Attempting uninstall: statsmodels\n",
            "    Found existing installation: statsmodels 0.10.2\n",
            "    Uninstalling statsmodels-0.10.2:\n",
            "      Successfully uninstalled statsmodels-0.10.2\n",
            "Successfully installed arch-5.2.0 property-cached-1.6.4 statsmodels-0.13.2\n"
          ]
        },
        {
          "data": {
            "application/vnd.colab-display-data+json": {
              "pip_warning": {
                "packages": [
                  "statsmodels"
                ]
              }
            }
          },
          "metadata": {},
          "output_type": "display_data"
        }
      ],
      "source": [
        "!pip install arch"
      ]
    },
    {
      "cell_type": "code",
      "execution_count": null,
      "metadata": {
        "id": "MxkBwXsiov8f"
      },
      "outputs": [],
      "source": [
        "from arch.__future__ import reindexing"
      ]
    },
    {
      "cell_type": "code",
      "execution_count": null,
      "metadata": {
        "id": "vIQfWktQo5dm"
      },
      "outputs": [],
      "source": [
        "from arch import arch_model"
      ]
    },
    {
      "cell_type": "code",
      "execution_count": null,
      "metadata": {
        "colab": {
          "base_uri": "https://localhost:8080/",
          "height": 265
        },
        "id": "iMiwVqllZm1D",
        "outputId": "8e87efc7-96a4-4f38-a80c-4bb9162fd79b"
      },
      "outputs": [
        {
          "data": {
            "image/png": "[encoded data removed]",
            "text/plain": [
              "<Figure size 432x288 with 1 Axes>"
            ]
          },
          "metadata": {
            "needs_background": "light"
          },
          "output_type": "display_data"
        }
      ],
      "source": [
        "import datetime as dt\n",
        "\n",
        "import arch.data.sp500\n",
        "\n",
        "st = dt.datetime(2012, 1, 1)\n",
        "en = dt.datetime(2021, 1, 12)\n",
        "# data = arch.data.sp500.load()\n",
        "market = data[\"Price\"]\n",
        "returns = 100 * market.pct_change().dropna()\n",
        "ax = returns.plot()\n",
        "xlim = ax.set_xlim(returns.index.min(), returns.index.max())"
      ]
    },
    {
      "cell_type": "code",
      "execution_count": null,
      "metadata": {
        "colab": {
          "base_uri": "https://localhost:8080/"
        },
        "id": "afRsA1TpSyLU",
        "outputId": "fc612560-480a-43a1-fa4b-9f1d5cf3d848"
      },
      "outputs": [
        {
          "data": {
            "text/plain": [
              "count    2456.000000\n",
              "mean       -0.019878\n",
              "std         1.027465\n",
              "min        -8.078780\n",
              "25%        -0.474266\n",
              "50%         0.006983\n",
              "75%         0.454313\n",
              "max         5.863704\n",
              "Name: Price, dtype: float64"
            ]
          },
          "execution_count": 41,
          "metadata": {},
          "output_type": "execute_result"
        }
      ],
      "source": [
        "returns.describe()"
      ]
    },
    {
      "cell_type": "code",
      "execution_count": null,
      "metadata": {
        "id": "bhdQBC1dO_Yn"
      },
      "outputs": [],
      "source": [
        "returns.to_csv(\"log1.csv\", index= False)"
      ]
    },
    {
      "cell_type": "code",
      "execution_count": null,
      "metadata": {
        "id": "HPOLhJns2mtt"
      },
      "outputs": [],
      "source": [
        "# n_test = 10\n",
        "# train, test = returns[:-n_test], returns[-n_test:]"
      ]
    },
    {
      "cell_type": "markdown",
      "metadata": {
        "id": "ugxamzOwaHhX"
      },
      "source": [
        "GARCH with constant Mean ; distribution = Normal"
      ]
    },
    {
      "cell_type": "code",
      "execution_count": null,
      "metadata": {
        "colab": {
          "base_uri": "https://localhost:8080/"
        },
        "id": "zwMoiriaaASc",
        "outputId": "4fd4d7d8-0d53-46d5-a3b9-3599c4cd8b52"
      },
      "outputs": [
        {
          "name": "stdout",
          "output_type": "stream",
          "text": [
            "Iteration:      5,   Func. Count:     31,   Neg. LLF: 3119.7245892768724\n",
            "Optimization terminated successfully.    (Exit mode 0)\n",
            "            Current function value: 3119.670111417554\n",
            "            Iterations: 9\n",
            "            Function evaluations: 51\n",
            "            Gradient evaluations: 9\n",
            "                       Zero Mean - GARCH Model Results                        \n",
            "==============================================================================\n",
            "Dep. Variable:                  Price   R-squared:                       0.000\n",
            "Mean Model:                 Zero Mean   Adj. R-squared:                  0.000\n",
            "Vol Model:                      GARCH   Log-Likelihood:               -3119.67\n",
            "Distribution:                  Normal   AIC:                           6245.34\n",
            "Method:            Maximum Likelihood   BIC:                           6262.75\n",
            "                                        No. Observations:                 2445\n",
            "Date:                Sat, Apr 09 2022   Df Residuals:                     2445\n",
            "Time:                        10:26:33   Df Model:                            0\n",
            "                             Volatility Model                             \n",
            "==========================================================================\n",
            "                 coef    std err          t      P>|t|    95.0% Conf. Int.\n",
            "--------------------------------------------------------------------------\n",
            "omega          0.0860  3.247e-02      2.649  8.080e-03 [2.237e-02,  0.150]\n",
            "alpha[1]       0.2200  5.100e-02      4.314  1.605e-05   [  0.120,  0.320]\n",
            "beta[1]        0.7010  7.486e-02      9.364  7.661e-21   [  0.554,  0.848]\n",
            "==========================================================================\n",
            "\n",
            "Covariance estimator: robust\n"
          ]
        }
      ],
      "source": [
        "from arch import arch_model\n",
        "am = arch_model(train, vol='Garch', p=1, o=0, q=1, dist='Normal', rescale= True, mean='Zero')\n",
        "# am = arch_model(returns,dist=\"StudentsT\")\n",
        "res = am.fit(update_freq=5)\n",
        "print(res.summary())"
      ]
    },
    {
      "cell_type": "code",
      "execution_count": null,
      "metadata": {
        "colab": {
          "base_uri": "https://localhost:8080/"
        },
        "id": "d5LB0YKH2H7E",
        "outputId": "418705fc-1dbc-44b9-bf53-9f454358bd8c"
      },
      "outputs": [
        {
          "data": {
            "text/plain": [
              "<arch.univariate.base.ARCHModelForecast at 0x7fa1eb061310>"
            ]
          },
          "execution_count": 24,
          "metadata": {},
          "output_type": "execute_result"
        }
      ],
      "source": [
        "#fitting the model\n",
        "# model_fit = am.fit()\n",
        "# forecast the test set\n",
        "yhat = model_fit.forecast(horizon=n_test)\n",
        "yhat"
      ]
    },
    {
      "cell_type": "code",
      "execution_count": null,
      "metadata": {
        "id": "szjPeW6e3Smw"
      },
      "outputs": [],
      "source": [
        "# print(\"Train error: \", np.sqrt(mean_squared_error(train,yhat)))\n",
        "# pred_test_enet= model_enet.predict(X_test)\n",
        "# print(\"Test error:\",np.sqrt(mean_squared_error(y_test,pred_test_enet)))"
      ]
    },
    {
      "cell_type": "code",
      "execution_count": null,
      "metadata": {
        "id": "ya5Gn_H4Yh1t"
      },
      "outputs": [],
      "source": [
        "# bic_garch = []\n",
        "# for p in range(1, 5):\n",
        "#   for q in range(1, 5):\n",
        "#     garch = arch_model(returns, mean='zero',vol='GARCH', p=p, o=0, q=q)\\\n",
        "#             .fit(disp='off')\n",
        "#     bic_garch.append(garch.bic)\n",
        "#     if garch.bic == np.min(bic_garch):\n",
        "#       best_param = p, q\n",
        "# garch = arch_model(returns, mean='zero', vol='GARCH',\n",
        "#                 p=best_param[0], o=0, q=best_param[1])\\\n",
        "#       .fit(disp='off')\n",
        "# print(garch.summary())\n",
        "# forecast = garch.forecast(start=split_date[0])\n",
        "# forecast_garch = forecast"
      ]
    },
    {
      "cell_type": "code",
      "execution_count": null,
      "metadata": {
        "id": "ZCDIkYPLpHF7"
      },
      "outputs": [],
      "source": [
        "# forecasts_irfm = am.forecast(horizon=5)\n",
        "forecasts =res.forecast(horizon = 5, reindex = False)\n",
        "print(forecasts.variance.dropna().head())"
      ]
    },
    {
      "cell_type": "markdown",
      "metadata": {
        "id": "bRTl_W2_nVXa"
      },
      "source": [
        "GARCH with constant Mean ; distribution = Student T"
      ]
    },
    {
      "cell_type": "code",
      "execution_count": null,
      "metadata": {
        "colab": {
          "base_uri": "https://localhost:8080/"
        },
        "id": "scvAODmKm1nO",
        "outputId": "57aca568-0b81-46ac-b0fe-774e3d45af1f"
      },
      "outputs": [
        {
          "name": "stdout",
          "output_type": "stream",
          "text": [
            "Iteration:      5,   Func. Count:     35,   Neg. LLF: 2982.9874134873644\n",
            "Iteration:     10,   Func. Count:     69,   Neg. LLF: 2976.251198158484\n",
            "Iteration:     15,   Func. Count:     99,   Neg. LLF: 2975.05407942351\n",
            "Optimization terminated successfully.    (Exit mode 0)\n",
            "            Current function value: 2975.0538770571625\n",
            "            Iterations: 17\n",
            "            Function evaluations: 111\n",
            "            Gradient evaluations: 17\n",
            "                          Zero Mean - GARCH Model Results                           \n",
            "====================================================================================\n",
            "Dep. Variable:                        Price   R-squared:                       0.000\n",
            "Mean Model:                       Zero Mean   Adj. R-squared:                  0.000\n",
            "Vol Model:                            GARCH   Log-Likelihood:               -2975.05\n",
            "Distribution:      Standardized Student's t   AIC:                           5958.11\n",
            "Method:                  Maximum Likelihood   BIC:                           5981.33\n",
            "                                              No. Observations:                 2455\n",
            "Date:                      Fri, Apr 08 2022   Df Residuals:                     2455\n",
            "Time:                              13:07:24   Df Model:                            0\n",
            "                             Volatility Model                             \n",
            "==========================================================================\n",
            "                 coef    std err          t      P>|t|    95.0% Conf. Int.\n",
            "--------------------------------------------------------------------------\n",
            "omega          0.1238  3.593e-02      3.445  5.706e-04 [5.337e-02,  0.194]\n",
            "alpha[1]       0.3446  6.283e-02      5.485  4.126e-08   [  0.221,  0.468]\n",
            "beta[1]        0.6196  6.632e-02      9.342  9.435e-21   [  0.490,  0.750]\n",
            "                              Distribution                              \n",
            "========================================================================\n",
            "                 coef    std err          t      P>|t|  95.0% Conf. Int.\n",
            "------------------------------------------------------------------------\n",
            "nu             3.3938      0.248     13.686  1.227e-42 [  2.908,  3.880]\n",
            "========================================================================\n",
            "\n",
            "Covariance estimator: robust\n"
          ]
        }
      ],
      "source": [
        "am2 = arch_model(returns, vol='Garch', p=1, o=0, q=1,dist=\"StudentsT\", rescale= True, mean='Zero')\n",
        "# am = arch_model(returns,dist=\"StudentsT\")\n",
        "res = am2.fit(update_freq=5)\n",
        "print(res.summary())"
      ]
    },
    {
      "cell_type": "markdown",
      "metadata": {
        "id": "7PhcI9T_nmuN"
      },
      "source": [
        "EGARCH with Normal Distribution"
      ]
    },
    {
      "cell_type": "code",
      "execution_count": null,
      "metadata": {
        "colab": {
          "base_uri": "https://localhost:8080/"
        },
        "id": "swcdHqffnmVD",
        "outputId": "0df69427-9ee3-415e-866b-194cbf2ce29a"
      },
      "outputs": [
        {
          "name": "stdout",
          "output_type": "stream",
          "text": [
            "Iteration:      5,   Func. Count:     43,   Neg. LLF: 3112.6806161319737\n",
            "Iteration:     10,   Func. Count:     74,   Neg. LLF: 3111.045525158113\n",
            "Optimization terminated successfully.    (Exit mode 0)\n",
            "            Current function value: 3111.0455213787877\n",
            "            Iterations: 12\n",
            "            Function evaluations: 91\n",
            "            Gradient evaluations: 12\n",
            "                     Constant Mean - EGARCH Model Results                     \n",
            "==============================================================================\n",
            "Dep. Variable:                  Price   R-squared:                       0.000\n",
            "Mean Model:             Constant Mean   Adj. R-squared:                  0.000\n",
            "Vol Model:                     EGARCH   Log-Likelihood:               -3111.05\n",
            "Distribution:                  Normal   AIC:                           6230.09\n",
            "Method:            Maximum Likelihood   BIC:                           6253.30\n",
            "                                        No. Observations:                 2445\n",
            "Date:                Sat, Apr 09 2022   Df Residuals:                     2444\n",
            "Time:                        10:34:19   Df Model:                            1\n",
            "                                 Mean Model                                 \n",
            "============================================================================\n",
            "                 coef    std err          t      P>|t|      95.0% Conf. Int.\n",
            "----------------------------------------------------------------------------\n",
            "mu         5.5059e-03  1.607e-03      3.427  6.104e-04 [2.357e-03,8.655e-03]\n",
            "                               Volatility Model                              \n",
            "=============================================================================\n",
            "                 coef    std err          t      P>|t|       95.0% Conf. Int.\n",
            "-----------------------------------------------------------------------------\n",
            "omega      3.8979e-03  1.271e-02      0.307      0.759 [-2.102e-02,2.881e-02]\n",
            "alpha[1]       0.3832  6.143e-02      6.238  4.433e-10      [  0.263,  0.504]\n",
            "beta[1]        0.8996  3.298e-02     27.274 8.551e-164      [  0.835,  0.964]\n",
            "=============================================================================\n",
            "\n",
            "Covariance estimator: robust\n"
          ]
        }
      ],
      "source": [
        "from arch import arch_model\n",
        "am = arch_model(train, vol='EGarch', p=1, o=0, q=1, dist='Normal', rescale= True, mean='constant')\n",
        "# am = arch_model(returns,dist=\"StudentsT\")\n",
        "res = am.fit(update_freq=5)\n",
        "print(res.summary())"
      ]
    },
    {
      "cell_type": "markdown",
      "metadata": {
        "id": "GYsb-f7Jn0FA"
      },
      "source": [
        "EGARCH with Student T Distribution"
      ]
    },
    {
      "cell_type": "code",
      "execution_count": null,
      "metadata": {
        "colab": {
          "base_uri": "https://localhost:8080/"
        },
        "id": "9DZXU-npnz6C",
        "outputId": "581818cc-ccea-4f5d-ddec-ad259a614967"
      },
      "outputs": [
        {
          "name": "stdout",
          "output_type": "stream",
          "text": [
            "Iteration:      5,   Func. Count:     48,   Neg. LLF: 2979.0638949096847\n",
            "Iteration:     10,   Func. Count:     88,   Neg. LLF: 2964.184836811527\n",
            "Iteration:     15,   Func. Count:    125,   Neg. LLF: 2960.3109859290194\n",
            "Optimization terminated successfully.    (Exit mode 0)\n",
            "            Current function value: 2960.2721456032427\n",
            "            Iterations: 19\n",
            "            Function evaluations: 153\n",
            "            Gradient evaluations: 19\n",
            "                        Constant Mean - EGARCH Model Results                        \n",
            "====================================================================================\n",
            "Dep. Variable:                        Price   R-squared:                       0.000\n",
            "Mean Model:                   Constant Mean   Adj. R-squared:                  0.000\n",
            "Vol Model:                           EGARCH   Log-Likelihood:               -2960.27\n",
            "Distribution:      Standardized Student's t   AIC:                           5930.54\n",
            "Method:                  Maximum Likelihood   BIC:                           5959.55\n",
            "                                              No. Observations:                 2445\n",
            "Date:                      Sat, Apr 09 2022   Df Residuals:                     2444\n",
            "Time:                              10:29:55   Df Model:                            1\n",
            "                                  Mean Model                                 \n",
            "=============================================================================\n",
            "                 coef    std err          t      P>|t|       95.0% Conf. Int.\n",
            "-----------------------------------------------------------------------------\n",
            "mu             0.0185  1.347e-02      1.370      0.171 [-7.943e-03,4.484e-02]\n",
            "                              Volatility Model                              \n",
            "============================================================================\n",
            "                 coef    std err          t      P>|t|      95.0% Conf. Int.\n",
            "----------------------------------------------------------------------------\n",
            "omega          0.0491  2.363e-02      2.078  3.771e-02 [2.790e-03,9.543e-02]\n",
            "alpha[1]       0.5022  6.141e-02      8.178  2.877e-16     [  0.382,  0.623]\n",
            "beta[1]        0.8787  3.265e-02     26.911 1.636e-159     [  0.815,  0.943]\n",
            "                              Distribution                              \n",
            "========================================================================\n",
            "                 coef    std err          t      P>|t|  95.0% Conf. Int.\n",
            "------------------------------------------------------------------------\n",
            "nu             3.4125      0.250     13.630  2.640e-42 [  2.922,  3.903]\n",
            "========================================================================\n",
            "\n",
            "Covariance estimator: robust\n"
          ]
        }
      ],
      "source": [
        "am2 = arch_model(train, vol='EGarch', p=1, o=0, q=1,dist=\"StudentsT\", rescale= False, mean='constant')\n",
        "# am = arch_model(returns,dist=\"StudentsT\")\n",
        "res = am2.fit(update_freq=5)\n",
        "print(res.summary())"
      ]
    },
    {
      "cell_type": "markdown",
      "metadata": {
        "id": "dzrDJ4B0fZEB"
      },
      "source": [
        "GJR GARCH with Normal distribution"
      ]
    },
    {
      "cell_type": "code",
      "execution_count": null,
      "metadata": {
        "colab": {
          "base_uri": "https://localhost:8080/"
        },
        "id": "639YOnuUfX70",
        "outputId": "0edd770c-9e39-4696-964a-1af8e08f9e1b"
      },
      "outputs": [
        {
          "name": "stdout",
          "output_type": "stream",
          "text": [
            "                   Constant Mean - GJR-GARCH Model Results                    \n",
            "==============================================================================\n",
            "Dep. Variable:                  Price   R-squared:                       0.000\n",
            "Mean Model:             Constant Mean   Adj. R-squared:                  0.000\n",
            "Vol Model:                  GJR-GARCH   Log-Likelihood:               -3126.95\n",
            "Distribution:                  Normal   AIC:                           6263.89\n",
            "Method:            Maximum Likelihood   BIC:                           6292.92\n",
            "                                        No. Observations:                 2455\n",
            "Date:                Fri, Apr 08 2022   Df Residuals:                     2454\n",
            "Time:                        13:07:50   Df Model:                            1\n",
            "                                  Mean Model                                  \n",
            "==============================================================================\n",
            "                  coef    std err          t      P>|t|       95.0% Conf. Int.\n",
            "------------------------------------------------------------------------------\n",
            "mu         -1.3158e-04  1.766e-02 -7.452e-03      0.994 [-3.474e-02,3.448e-02]\n",
            "                             Volatility Model                             \n",
            "==========================================================================\n",
            "                 coef    std err          t      P>|t|    95.0% Conf. Int.\n",
            "--------------------------------------------------------------------------\n",
            "omega          0.0844  3.187e-02      2.649  8.076e-03 [2.195e-02,  0.147]\n",
            "alpha[1]       0.2343  5.835e-02      4.015  5.936e-05   [  0.120,  0.349]\n",
            "gamma[1]      -0.0287  5.178e-02     -0.554      0.579 [ -0.130,7.278e-02]\n",
            "beta[1]        0.7029  7.402e-02      9.496  2.177e-21   [  0.558,  0.848]\n",
            "==========================================================================\n",
            "\n",
            "Covariance estimator: robust\n"
          ]
        }
      ],
      "source": [
        "am = arch_model(returns, p=1, o=1, q=1,dist=\"Normal\")\n",
        "res = am.fit(update_freq=5, disp=\"off\")\n",
        "print(res.summary())"
      ]
    },
    {
      "cell_type": "markdown",
      "metadata": {
        "id": "MgTWHaQvoK0Y"
      },
      "source": [
        "GJR GARCH with Student T distribution"
      ]
    },
    {
      "cell_type": "code",
      "execution_count": null,
      "metadata": {
        "colab": {
          "base_uri": "https://localhost:8080/"
        },
        "id": "irzuojGjlqT0",
        "outputId": "3c3d6097-1243-4755-ff2f-f561600eedc4"
      },
      "outputs": [
        {
          "name": "stdout",
          "output_type": "stream",
          "text": [
            "                      Constant Mean - GJR-GARCH Model Results                       \n",
            "====================================================================================\n",
            "Dep. Variable:                        Price   R-squared:                       0.000\n",
            "Mean Model:                   Constant Mean   Adj. R-squared:                  0.000\n",
            "Vol Model:                        GJR-GARCH   Log-Likelihood:               -2974.08\n",
            "Distribution:      Standardized Student's t   AIC:                           5960.16\n",
            "Method:                  Maximum Likelihood   BIC:                           5995.00\n",
            "                                              No. Observations:                 2455\n",
            "Date:                      Fri, Apr 08 2022   Df Residuals:                     2454\n",
            "Time:                              13:07:57   Df Model:                            1\n",
            "                                  Mean Model                                 \n",
            "=============================================================================\n",
            "                 coef    std err          t      P>|t|       95.0% Conf. Int.\n",
            "-----------------------------------------------------------------------------\n",
            "mu             0.0174  1.375e-02      1.263      0.207 [-9.586e-03,4.433e-02]\n",
            "                             Volatility Model                             \n",
            "==========================================================================\n",
            "                 coef    std err          t      P>|t|    95.0% Conf. Int.\n",
            "--------------------------------------------------------------------------\n",
            "omega          0.1261  3.783e-02      3.333  8.601e-04 [5.193e-02,  0.200]\n",
            "alpha[1]       0.3331  6.458e-02      5.159  2.488e-07   [  0.207,  0.460]\n",
            "gamma[1]       0.0365  7.997e-02      0.456      0.648   [ -0.120,  0.193]\n",
            "beta[1]        0.6129  7.014e-02      8.739  2.356e-18   [  0.475,  0.750]\n",
            "                              Distribution                              \n",
            "========================================================================\n",
            "                 coef    std err          t      P>|t|  95.0% Conf. Int.\n",
            "------------------------------------------------------------------------\n",
            "nu             3.3889      0.248     13.688  1.193e-42 [  2.904,  3.874]\n",
            "========================================================================\n",
            "\n",
            "Covariance estimator: robust\n"
          ]
        }
      ],
      "source": [
        "am = arch_model(returns, p=1, o=1, q=1,dist=\"StudentsT\")\n",
        "res = am.fit(update_freq=5, disp=\"off\")\n",
        "print(res.summary())"
      ]
    },
    {
      "cell_type": "code",
      "execution_count": null,
      "metadata": {
        "colab": {
          "base_uri": "https://localhost:8080/"
        },
        "id": "O-paxOE_H0k0",
        "outputId": "90239e44-baf1-424d-f42c-3b7918bdf003"
      },
      "outputs": [
        {
          "name": "stdout",
          "output_type": "stream",
          "text": [
            "Iteration:      5,   Func. Count:     38,   Neg. LLF: 3135.2663226703053\n",
            "Iteration:     10,   Func. Count:     72,   Neg. LLF: 3120.033051893739\n",
            "Optimization terminated successfully.    (Exit mode 0)\n",
            "            Current function value: 3120.030178868511\n",
            "            Iterations: 13\n",
            "            Function evaluations: 91\n",
            "            Gradient evaluations: 13\n",
            "                    Constant Mean - AVGARCH Model Results                     \n",
            "==============================================================================\n",
            "Dep. Variable:                  Price   R-squared:                       0.000\n",
            "Mean Model:             Constant Mean   Adj. R-squared:                  0.000\n",
            "Vol Model:                    AVGARCH   Log-Likelihood:               -3120.03\n",
            "Distribution:                  Normal   AIC:                           6248.06\n",
            "Method:            Maximum Likelihood   BIC:                           6271.28\n",
            "                                        No. Observations:                 2455\n",
            "Date:                Sat, Apr 09 2022   Df Residuals:                     2454\n",
            "Time:                        11:18:41   Df Model:                            1\n",
            "                                  Mean Model                                 \n",
            "=============================================================================\n",
            "                 coef    std err          t      P>|t|       95.0% Conf. Int.\n",
            "-----------------------------------------------------------------------------\n",
            "mu             0.0120  1.874e-02      0.641      0.522 [-2.471e-02,4.873e-02]\n",
            "                             Volatility Model                             \n",
            "==========================================================================\n",
            "                 coef    std err          t      P>|t|    95.0% Conf. Int.\n",
            "--------------------------------------------------------------------------\n",
            "omega          0.0885  3.245e-02      2.726  6.405e-03 [2.487e-02,  0.152]\n",
            "alpha[1]       0.2127  3.980e-02      5.345  9.058e-08   [  0.135,  0.291]\n",
            "beta[1]        0.7509  6.079e-02     12.353  4.721e-35   [  0.632,  0.870]\n",
            "==========================================================================\n",
            "\n",
            "Covariance estimator: robust\n"
          ]
        }
      ],
      "source": [
        "from arch import arch_model\n",
        "am = arch_model(returns,p=1, o=0, q=1, dist='Normal', mean='constant',rescale= True, power=1.0)\n",
        "# am = arch_model(returns,dist=\"StudentsT\")\n",
        "res = am.fit(update_freq=5)\n",
        "print(res.summary())"
      ]
    },
    {
      "cell_type": "code",
      "execution_count": null,
      "metadata": {
        "colab": {
          "base_uri": "https://localhost:8080/"
        },
        "id": "o3BCJF35Jh_k",
        "outputId": "6ec0f146-3283-4e63-fb97-6b7eaa8af8e1"
      },
      "outputs": [
        {
          "name": "stdout",
          "output_type": "stream",
          "text": [
            "Iteration:      5,   Func. Count:     43,   Neg. LLF: 2989.389691948121\n",
            "Iteration:     10,   Func. Count:     83,   Neg. LLF: 2966.460126880669\n",
            "Iteration:     15,   Func. Count:    122,   Neg. LLF: 2965.394279697516\n",
            "Optimization terminated successfully.    (Exit mode 0)\n",
            "            Current function value: 2965.3942246979946\n",
            "            Iterations: 18\n",
            "            Function evaluations: 147\n",
            "            Gradient evaluations: 18\n",
            "                       Constant Mean - AVGARCH Model Results                        \n",
            "====================================================================================\n",
            "Dep. Variable:                        Price   R-squared:                       0.000\n",
            "Mean Model:                   Constant Mean   Adj. R-squared:                  0.000\n",
            "Vol Model:                          AVGARCH   Log-Likelihood:               -2965.39\n",
            "Distribution:      Standardized Student's t   AIC:                           5940.79\n",
            "Method:                  Maximum Likelihood   BIC:                           5969.82\n",
            "                                              No. Observations:                 2455\n",
            "Date:                      Sat, Apr 09 2022   Df Residuals:                     2454\n",
            "Time:                              11:18:44   Df Model:                            1\n",
            "                                 Mean Model                                 \n",
            "============================================================================\n",
            "                 coef    std err          t      P>|t|      95.0% Conf. Int.\n",
            "----------------------------------------------------------------------------\n",
            "mu             0.0205  1.320e-03     15.512  2.883e-54 [1.788e-02,2.306e-02]\n",
            "                             Volatility Model                             \n",
            "==========================================================================\n",
            "                 coef    std err          t      P>|t|    95.0% Conf. Int.\n",
            "--------------------------------------------------------------------------\n",
            "omega          0.1121  3.208e-02      3.496  4.719e-04 [4.928e-02,  0.175]\n",
            "alpha[1]       0.2922  4.019e-02      7.271  3.579e-13   [  0.213,  0.371]\n",
            "beta[1]        0.6934  5.381e-02     12.885  5.456e-38   [  0.588,  0.799]\n",
            "                              Distribution                              \n",
            "========================================================================\n",
            "                 coef    std err          t      P>|t|  95.0% Conf. Int.\n",
            "------------------------------------------------------------------------\n",
            "nu             3.4092      0.247     13.791  2.885e-43 [  2.925,  3.894]\n",
            "========================================================================\n",
            "\n",
            "Covariance estimator: robust\n"
          ]
        }
      ],
      "source": [
        "from arch import arch_model\n",
        "am = arch_model(returns,p=1, o=0, q=1, dist='StudentsT', mean='constant',rescale= True, power=1.0)\n",
        "# am = arch_model(returns,dist=\"StudentsT\")\n",
        "res = am.fit(update_freq=5)\n",
        "print(res.summary())"
      ]
    },
    {
      "cell_type": "code",
      "execution_count": null,
      "metadata": {
        "id": "CIzSXi6_8Fe8",
        "outputId": "d9f5e2ec-4209-4f76-af5d-72e3674d2d6a"
      },
      "outputs": [
        {
          "data": {
            "text/plain": [
              "(1, 2, 3, 1, 2, 3)"
            ]
          },
          "execution_count": 45,
          "metadata": {},
          "output_type": "execute_result"
        }
      ],
      "source": [
        "t=(1,2,3)\n",
        "e=(1,2,3)\n",
        "t+e"
      ]
    },
    {
      "cell_type": "code",
      "execution_count": null,
      "metadata": {
        "id": "3xqZy2CYAHIm",
        "outputId": "3f2581de-5755-44d1-a380-d42e696215f3"
      },
      "outputs": [
        {
          "data": {
            "text/plain": [
              "list[range(5, 1)]"
            ]
          },
          "execution_count": 47,
          "metadata": {},
          "output_type": "execute_result"
        }
      ],
      "source": [
        "list[range(5,1)]"
      ]
    },
    {
      "cell_type": "code",
      "execution_count": null,
      "metadata": {
        "id": "8Hm5WS7VAHIm"
      },
      "outputs": [],
      "source": []
    }
  ],
  "metadata": {
    "colab": {
      "collapsed_sections": [],
      "provenance": [],
      "include_colab_link": true
    },
    "kernelspec": {
      "display_name": "Python 3 (ipykernel)",
      "language": "python",
      "name": "python3"
    },
    "language_info": {
      "codemirror_mode": {
        "name": "ipython",
        "version": 3
      },
      "file_extension": ".py",
      "mimetype": "text/x-python",
      "name": "python",
      "nbconvert_exporter": "python",
      "pygments_lexer": "ipython3",
      "version": "3.9.7"
    }
  },
  "nbformat": 4,
  "nbformat_minor": 0
}